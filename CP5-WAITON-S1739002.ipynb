{
 "cells": [
  {
   "cell_type": "markdown",
   "id": "02083b77",
   "metadata": {},
   "source": [
    "# Checkpoint 5\n",
    "\n",
    "## Problem 1\n",
    "Create two classes, one called Linear (to model the background distribution), and a\n",
    "second one called Gaussian (to model the signal distribution). For both of them add an\n",
    "attribute mass array (to be initialised in the constructor) to hold the mass values that\n",
    "will make up the spectrum of the background and signal distributions. Add also a next()\n",
    "member function to be used for drawing random x-values (ie. corresponding to the mass)\n",
    "according to the parent f(x) distribution. For class Gaussian use the built-in method\n",
    "numpy.random.normal to draw random values. For class Linear use the “box” method\n",
    "(as discussed in previous lectures)\n",
    "\n",
    "Now create class SignalWithBackground which will return the sum of the signal (Signal)\n",
    "and background (Linear) distributions weighted by the fractions of signal and back-\n",
    "ground events\n",
    "\n",
    "Now put everything together with something like the following snippet (lots of little\n",
    "details omitted!), and plot the three distributions\n",
    "\n",
    "Full problem in PDF from notes"
   ]
  },
  {
   "cell_type": "code",
   "execution_count": 1,
   "id": "d33f29d0",
   "metadata": {},
   "outputs": [],
   "source": [
    "import numpy as np\n",
    "import scipy\n",
    "from scipy import integrate\n",
    "from scipy.special import erfinv\n",
    "from iminuit import Minuit\n",
    "import math\n",
    "import matplotlib.pyplot as plt\n"
   ]
  },
  {
   "cell_type": "code",
   "execution_count": 2,
   "id": "53a29155",
   "metadata": {},
   "outputs": [],
   "source": [
    "# Background parameters, as defined in the problem\n",
    "xmin = 0.\n",
    "xmax = 20.\n",
    "intercept = 20.\n",
    "slope = -1.\n",
    "\n",
    "# signal parameters\n",
    "mean = 10.\n",
    "sigma = 0.5\n",
    "\n",
    "# chose number of bins that is appropriate for the size of the statistics sample\n",
    "nbins = 100"
   ]
  },
  {
   "cell_type": "code",
   "execution_count": 3,
   "id": "502cabaf",
   "metadata": {},
   "outputs": [],
   "source": [
    "class Linear:\n",
    "    def __init__(self, mass, lower_lim, higher_lim, intercept, slope):\n",
    "        self.mass = mass\n",
    "        self.lower_lim = lower_lim\n",
    "        self.higher_lim = higher_lim\n",
    "        self.intercept = intercept\n",
    "        self.slope = slope\n",
    "        \n",
    "    # Evaluate method (unnormalised)\n",
    "    def evaluate(self, x):\n",
    "        return (lambda x: self.intercept + self.slope * x)(x)\n",
    "    \n",
    "    # Standard box method for creating the random distribution\n",
    "    def next(self):\n",
    "        doLoop = True\n",
    "        while(doLoop):\n",
    "            # start with uniform random number in [lolimit, hilimit]\n",
    "            x = np.random.uniform(self.lower_lim, self.higher_lim)\n",
    "            # y1 forces the linear trendline\n",
    "            y1 = self.evaluate(x)\n",
    "            # Create \n",
    "            y2 = np.random.uniform(0, self.higher_lim)\n",
    "            if (y2 < y1):\n",
    "                filtered_x = x\n",
    "                self.mass.append(filtered_x)\n",
    "                return filtered_x\n",
    "                \n",
    "\n",
    "    "
   ]
  },
  {
   "cell_type": "code",
   "execution_count": 4,
   "id": "c82dde55",
   "metadata": {},
   "outputs": [],
   "source": [
    "class Gaussian:\n",
    "    def __init__(self, mass, mean, sigma):\n",
    "        self.mass = mass\n",
    "        self.mean = mean\n",
    "        self.sigma = sigma\n",
    "        self.xmin = xmin\n",
    "        self.xmax = xmax\n",
    "        \n",
    "    def next(self):\n",
    "        # no need for box method, as np.random.normal is by default gaussian\n",
    "        y1 = np.random.normal(self.mean, self.sigma)\n",
    "        self.mass.append(y1)\n",
    "        return y1\n",
    "    \n",
    "    ## Useful for function integral, returns result of gaussian function\n",
    "    #def gaussian(self):\n",
    "    #    \n",
    "    #    return lambda x: np.exp(-np.power(x - self.mean, 2.) / (2 * np.power(self.sigma, 2.)))\n",
    "    \n",
    "    #    # Integral method required by Problem No.2\n",
    "    #def integral(self, minim, maxim):\n",
    "    #    int_val = scipy.integrate.quad(Gaussian.gaussian, minim, maxim)\n",
    "    #    return int_val\n",
    "        \n",
    "    \n",
    "    ## Integral method required by Problem No.2\n",
    "    #def integral(self):\n",
    "    #    int_val = scipy.integrate.quad(gaussian, self.xmin, self.xmax)\n",
    "    #    return int_val\n",
    "        "
   ]
  },
  {
   "cell_type": "code",
   "execution_count": 5,
   "id": "4b88e9ba",
   "metadata": {},
   "outputs": [],
   "source": [
    "class SignalWithBackground:\n",
    "    def __init__(self, mean, sigma, sig_fraction, intercept, slope, lower_lim, higher_lim):\n",
    "        self.mean = mean\n",
    "        self.sigma = sigma\n",
    "        self.sig_fraction = sig_fraction\n",
    "        self.intercept = intercept\n",
    "        self.slope = slope\n",
    "        self.xmin = lower_lim\n",
    "        self.xmax = higher_lim\n",
    "        \n",
    "        # Create the mass distribution variables\n",
    "        self.mass_sig = []\n",
    "        self.mass_bgd = []\n",
    "        self.mass = []\n",
    "        \n",
    "        # Create the connection variables to the Gaussian and Linear classes\n",
    "        # Unsure if everything needed will be passed through? Doing it anyway\n",
    "        self.background = Linear(self.mass, self.xmin, self.xmax, self.intercept, self.slope)\n",
    "        self.signal = Gaussian(self.mass, self.mean, self.sigma)\n",
    "    \n",
    "    # Draw random number form distribution, as taken from notes\n",
    "    def next(self):\n",
    "        q = np.random.uniform()\n",
    "        if ( q < self.sig_fraction):\n",
    "            # If true, draw from signal distribution\n",
    "            filtered_x = self.signal.next()\n",
    "            self.mass_sig.append(filtered_x)\n",
    "        else:\n",
    "            # If false, draw from background distribution\n",
    "            filtered_x = self.background.next()\n",
    "            self.mass_bgd.append(filtered_x)\n",
    "        \n",
    "        # Collect both together. THIS LINE ISNT NEEDED AS ITS APPLIED WITHIN BOTH LINEAR.NEXT() AND GAUSSIAN.NEXT()\n",
    "        #self.mass.append(filtered_x)\n",
    "        return filtered_x\n",
    "        "
   ]
  },
  {
   "cell_type": "code",
   "execution_count": 6,
   "id": "ef7f1ca2",
   "metadata": {},
   "outputs": [],
   "source": [
    "# Main code to generate and plot a single experiment\n",
    "def singleToy(nevents_sig = 300, nevents_bdg = 10000):\n",
    "    \n",
    "    sig_fraction = nevents_sig/(nevents_bdg + nevents_sig)\n",
    "    # Create the pdf using the above methods\n",
    "    pdf = SignalWithBackground(mean, sigma, sig_fraction, intercept, slope, xmin, xmax)\n",
    "    \n",
    "    for i in range(nevents_sig + nevents_bdg):\n",
    "        pdf.next()\n",
    "    \n",
    "    # retrieve the mass values for signal , background and their sum\n",
    "    data = pdf.mass\n",
    "    sig_data = pdf.mass_sig\n",
    "    bgd_data = pdf.mass_bgd\n",
    "    \n",
    "    # plot things on same page\n",
    "    myRange = (xmin , xmax)\n",
    "    fig, axs = plt.subplots(3,1, sharex='col')\n",
    "    axs [0].set_title(\"Signal distribution (\" + str(len(sig_data )) + \" entries)\")\n",
    "    axs [1].set_title(\"Background distribution (\" + str(len(bgd_data )) + \" entries)\")\n",
    "    axs [2].set_title(\"Total distribution (\" + str(len(data)) + \" entries)\")\n",
    "    axs [2].set_xlabel('X')\n",
    "    axs [0].hist(sig_data , bins=nbins , range=myRange)\n",
    "    axs [1].hist(bgd_data , bins = nbins)\n",
    "    axs [2].hist(data , bins = nbins)\n",
    "    # Make the figures larger\n",
    "    fig.set_figheight(15)\n",
    "    fig.set_figwidth(10)\n",
    "    fig.tight_layout()\n",
    "    plt.savefig('Example1.pdf')\n",
    "    plt.show()"
   ]
  },
  {
   "cell_type": "code",
   "execution_count": 7,
   "id": "462c24b1",
   "metadata": {},
   "outputs": [
    {
     "data": {
      "image/png": "[encoded data removed]",
      "text/plain": [
       "<Figure size 720x1080 with 3 Axes>"
      ]
     },
     "metadata": {
      "needs_background": "light"
     },
     "output_type": "display_data"
    }
   ],
   "source": [
    "# Run the above code\n",
    "singleToy()"
   ]
  },
  {
   "cell_type": "markdown",
   "id": "979a6ecb",
   "metadata": {},
   "source": [
    "Even here with approximately 300 events out of 10300, the signal can be seen at X=10 with relative certainty across multiple different random runs of singleToy(). Now lets try doubling the signal events."
   ]
  },
  {
   "cell_type": "code",
   "execution_count": 8,
   "id": "32155aef",
   "metadata": {},
   "outputs": [
    {
     "data": {
      "image/png": "[encoded data removed]",
      "text/plain": [
       "<Figure size 720x1080 with 3 Axes>"
      ]
     },
     "metadata": {
      "needs_background": "light"
     },
     "output_type": "display_data"
    }
   ],
   "source": [
    "# Testing with double the signal events\n",
    "singleToy(600, 10000)"
   ]
  },
  {
   "cell_type": "markdown",
   "id": "f3e28ea3",
   "metadata": {},
   "source": [
    "Even just doubling the number of signal events makes the peak in the centre exceptionally prominent.\n",
    "Now we'll try halving it:"
   ]
  },
  {
   "cell_type": "code",
   "execution_count": 9,
   "id": "d1c1f391",
   "metadata": {},
   "outputs": [
    {
     "data": {
      "image/png": "[encoded data removed]",
      "text/plain": [
       "<Figure size 720x1080 with 3 Axes>"
      ]
     },
     "metadata": {
      "needs_background": "light"
     },
     "output_type": "display_data"
    }
   ],
   "source": [
    "# Testing with halving the signal events\n",
    "singleToy(150, 10000)"
   ]
  },
  {
   "cell_type": "markdown",
   "id": "cfbf106f",
   "metadata": {},
   "source": [
    "Almost unnoticable within the total distribution. Now onto quantifying these observations. Estimating how likely it is to get a fluctuation as the one in the our standard 300 signal events run, in the absence of a genuine signal."
   ]
  },
  {
   "cell_type": "markdown",
   "id": "96a44901",
   "metadata": {},
   "source": [
    "## Problem 2\n",
    "\n",
    "Calculate the probability that a background-only process with λ = 10,000 can fluctuate\n",
    "to give k ≥10,300. The fastest way to do this is to employ the previously coded Gaussian\n",
    "class, by adding an integral() method, which can be easily implemented with method\n",
    "scipy.integrate.quad. You will need to take the ratio of two such integrals.\n",
    "Calculate how large the deviation is by converting the p-value to a Z-score (or number of\n",
    "standard deviations). You can use the inverse error function1, as shown in the following\n",
    "snippet:"
   ]
  },
  {
   "cell_type": "code",
   "execution_count": 10,
   "id": "7ecc6a7c",
   "metadata": {},
   "outputs": [],
   "source": [
    "# Old code, ignore\n",
    "\n",
    "#test1 = Gaussian(new_mass, new_mean, new_sigma, 0, 20000)\n",
    "#for i in range(10000): \n",
    "#    test1.next()\n",
    "    \n",
    "## Collect the definite integrals for these ranges\n",
    "#integral1 = test1.integral(0, 10000)\n",
    "#integral2 = test1.integral(0, 10300)\n",
    "\n",
    "#pvalue = integral2/integral1\n",
    "#n_sigmas = erfinv(1-pvalue) * np.sqrt(2)\n",
    "\n",
    "\n"
   ]
  },
  {
   "cell_type": "code",
   "execution_count": 11,
   "id": "b746d626",
   "metadata": {},
   "outputs": [],
   "source": [
    "# creating new gaussian with mu=10k, sig = 100 and large limits around 10k\n",
    "new_mean = 10000\n",
    "new_sigma = 100\n",
    "new_mass = []\n",
    "\n",
    "# defining a simple gaussian here\n",
    "# problem with this method is that I assume it has both tails? \n",
    "# Right now setting mu and sigma within definition, but seems wrong to me\n",
    "def gaussian(x, mu, sigma):\n",
    "    return np.exp(-np.power(x - mu, 2.) / (2 * np.power(sigma, 2.)))\n",
    "\n",
    "# Defining the method for showing P value and sigma\n",
    "def p_sig(mu, sigma, limits):\n",
    "    \n",
    "    # Allows you to pass in your own specific limits\n",
    "    limit1, limit2 = limits[0], limits[1]\n",
    "    \n",
    "    # calculate integral across entire gaussian\n",
    "    res1, err = scipy.integrate.quad(gaussian, limit1[0], limit1[1], args = (mu, sigma))\n",
    "    # calculate integral for gaussian results greater than 10300\n",
    "    res2, err2 = scipy.integrate.quad(gaussian, limit2[0], limit2[1], args = (mu, sigma))\n",
    "\n",
    "    # Calculate pvalue, and then number of sigmas\n",
    "    pvalue = res2/res1\n",
    "    n_sigmas = erfinv(1 - pvalue) * np.sqrt(2)\n",
    "    print(\"P value: {:E} \\nNumber of sigma for k = {:}: {:.2f}\".format(pvalue, limit2[0],  n_sigmas))\n",
    "\n"
   ]
  },
  {
   "cell_type": "code",
   "execution_count": 12,
   "id": "55cc2279",
   "metadata": {},
   "outputs": [
    {
     "name": "stdout",
     "output_type": "stream",
     "text": [
      "P value: 1.349898E-03 \n",
      "Number of sigma for k = 10300: 3.21\n"
     ]
    }
   ],
   "source": [
    "# Find P value and sigma using above function\n",
    "p_sig(new_mean, new_sigma, [[0, 20000],[10300, 20000]])"
   ]
  },
  {
   "cell_type": "markdown",
   "id": "55f3cd5f",
   "metadata": {},
   "source": [
    "## Problem 3\n",
    "\n",
    "First, confirm that the number of (expected) background events in the 5 < x < 15\n",
    "subregion is 50%. Then, calculate the p-value and the Z-score as in the previous problem\n",
    "for the updated λ and k values. You will notice that the deviation is more significant\n",
    "now. Why?"
   ]
  },
  {
   "cell_type": "code",
   "execution_count": 13,
   "id": "ff4e9f1b",
   "metadata": {
    "scrolled": true
   },
   "outputs": [],
   "source": [
    "# NUMERICAL PROOF\n",
    "\n",
    "# Can use simple list manipulation to collect background events quickly.\n",
    "\n",
    "# pulling from singleToy from earlier\n",
    "def splitToy(nevents_sig = 300, nevents_bdg = 10000):\n",
    "    \n",
    "    sig_fraction = nevents_sig/(nevents_bdg + nevents_sig)\n",
    "    # Create the pdf using the above methods\n",
    "    pdf = SignalWithBackground(mean, sigma, sig_fraction, intercept, slope, xmin, xmax)\n",
    "    \n",
    "    for i in range(nevents_sig + nevents_bdg):\n",
    "        pdf.next()\n",
    "    \n",
    "    # retrieve the background data\n",
    "    bgd_data = pdf.mass_bgd\n",
    "    return bgd_data\n",
    "\n",
    "\n",
    "# Do it numerically with averages, should demonstrate the point\n",
    "# Value wont be perfect but pretty close\n",
    "\n",
    "init_len = []\n",
    "half_len = []\n",
    "\n",
    "# Loop to allow for increased accuracy in final result. \n",
    "for i in range(100):\n",
    "    # Collect data, exclusively background events (and 10k of them)\n",
    "    data = splitToy(nevents_sig = 0, nevents_bdg = 10000)\n",
    "    # Collect the number of data points\n",
    "    init_len.append(len(data))\n",
    "    # Remove all data values < 5 and > 15\n",
    "    data = [x for x in data if x > 5 and x < 15]\n",
    "    # Collect the number of data points from new split data\n",
    "    half_len.append(len(data))"
   ]
  },
  {
   "cell_type": "code",
   "execution_count": 14,
   "id": "e0b0fc3d",
   "metadata": {},
   "outputs": [
    {
     "name": "stdout",
     "output_type": "stream",
     "text": [
      "Averaged background values: 10000.00\n",
      "Averaged background values for x > 5, x < 15: 5004.16\n"
     ]
    }
   ],
   "source": [
    "# Show the averages of both\n",
    "initial = np.mean(init_len)\n",
    "final = np.mean(half_len)\n",
    "    \n",
    "print(\"Averaged background values: {:.2f}\\nAveraged background values for x > 5, x < 15: {:.2f}\".format(initial, final))"
   ]
  },
  {
   "cell_type": "markdown",
   "id": "9830c177",
   "metadata": {},
   "source": [
    "As we can see here, although not perfect (due to the randomness inherent in our method) the Averaged background values will be approximately 5000, or half the total sample size.\n",
    "\n",
    "There are better (more analytical ways) of doing this, for example the integral over the background function (y=mx+c) divided by the integral for our selected region is an obvious one, but I found this to be the simplest way to do it numerically.\n",
    "\n",
    "Here is the analytical way of doing it:"
   ]
  },
  {
   "cell_type": "code",
   "execution_count": 15,
   "id": "d71132f7",
   "metadata": {},
   "outputs": [
    {
     "name": "stdout",
     "output_type": "stream",
     "text": [
      "Area of the linear function that our new subregion covers: 50.00%\n"
     ]
    }
   ],
   "source": [
    "# ANALYTICAL PROOF\n",
    "\n",
    "# Use the evaluate function within Linear class, y=mx+c\n",
    "# With this, can integrate over our entire range for the initial function shape. Then again with our limits on x\n",
    "# Then compare the two.\n",
    "\n",
    "# Just to insert\n",
    "fake_mass = []\n",
    "# Using all the values from the initial for intercept, slow, etc\n",
    "lin = Linear( fake_mass, xmin, xmax, intercept, slope)\n",
    "# Find the integral for the full function from 0 -> 20\n",
    "int_lin, err = scipy.integrate.quad(lin.evaluate, 0, 20)\n",
    "# Find second integral with our limits\n",
    "half_lin, err2 = scipy.integrate.quad(lin.evaluate, 5, 15)\n",
    "\n",
    "print(\"Area of the linear function that our new subregion covers: {:.2f}%\".format((half_lin/int_lin)*100))"
   ]
  },
  {
   "cell_type": "markdown",
   "id": "3d981726",
   "metadata": {},
   "source": [
    "As you can see here, our function now only collects half the total background events across x=5 to x=15.\n",
    "\n",
    "Now, need to calculate the p-value and Z-score with these updated values of lambda and k"
   ]
  },
  {
   "cell_type": "code",
   "execution_count": 16,
   "id": "e22ae4c9",
   "metadata": {},
   "outputs": [
    {
     "name": "stdout",
     "output_type": "stream",
     "text": [
      "P value: 1.104525E-05 \n",
      "Number of sigma for k = 5300: 4.40\n"
     ]
    }
   ],
   "source": [
    "# Using the function from earlier p_sig\n",
    "numu = 5000\n",
    "sigm = math.sqrt(numu)\n",
    "# Find P value and sigma using above function.\n",
    "# Limits, first one defines the entire function, second only applies after 5300.\n",
    "p_sig(numu, sigm, [[0, 10000],[5300, 10000]])"
   ]
  },
  {
   "cell_type": "markdown",
   "id": "908e8da3",
   "metadata": {},
   "source": [
    "The number of sigma is much larger now to reach the value of 5300.\n",
    "\n",
    "That is due to the total number of events being smaller. 300/10000 is a significantly smaller variation when compared to 300/5000. So in short, 300 events now make up a significantly larger amount of the distribution and so it becomes significantly more unlikely."
   ]
  },
  {
   "cell_type": "code",
   "execution_count": 17,
   "id": "32edb524",
   "metadata": {},
   "outputs": [],
   "source": [
    "# Old code please ignore\n",
    "\n",
    "\n",
    "# Can reuse the gaussian function from earlier\n",
    "\n",
    "# calculate integral across entire gaussian\n",
    "#numu = 5000\n",
    "#sigm = math.sqrt(numu)\n",
    "#res3, err = scipy.integrate.quad(gaussian, 0, 10000, args = (numu, sigm))\n",
    "## calculate integral for gaussian results greater than 10300\n",
    "#res4, err2 = scipy.integrate.quad(gaussian, 5300, 10000, args = (numu, sigm))\n",
    "\n",
    "## Calculate pvalue, and then number of sigmas\n",
    "#pvalue = res4/res3\n",
    "#n_sigmas = erfinv(1 - pvalue) * np.sqrt(2)\n",
    "#print(\"P value: {:E} \\nNumber of sigma for k = 10300 or greater: {:.2f}\".format(pvalue, n_sigmas))"
   ]
  },
  {
   "cell_type": "markdown",
   "id": "0f7970b8",
   "metadata": {},
   "source": [
    "## Problem 4\n",
    "\n",
    "In this example you should decrease the population of signal events to 150 (or ∼1.5%\n",
    "of the total sample). Despite having a weaker signal, the shape-based analysis provides\n",
    "a much more powerful statistical test than mere event-counting. You should carry out\n",
    "two fits on the same “data” histogram, one assuming no signal (H0), and a second one\n",
    "assuming a signal (H1) of uknown size (but with fixed mean and sigma values). In both\n",
    "fits the shape of the background distribution (slope and intercept) should be free to vary.\n",
    "Find the difference in the (log-likelihood-equivalent) χ2 between the H0 and H1 fits. Since\n",
    "the difference in the number of degress of freedom between the two models is just one\n",
    "(the size of the signal contribution), you should use this information and Wilk’s theorem\n",
    "to calculate the p-value and the Z-score (method scipy.stats.chi2.cdf can be used\n",
    "here)."
   ]
  },
  {
   "cell_type": "code",
   "execution_count": 39,
   "id": "4def3325",
   "metadata": {},
   "outputs": [],
   "source": [
    "# Will just adjust singleToy to give us the data rather than the plots\n",
    "# Main code to generate and plot a single experiment\n",
    "def singleToyData(nevents_sig = 150, nevents_bdg = 10000):\n",
    "    \n",
    "    sig_fraction = nevents_sig/(nevents_bdg + nevents_sig)\n",
    "    # Create the pdf using the above methods\n",
    "    pdf = SignalWithBackground(mean, sigma, sig_fraction, intercept, slope, xmin, xmax)\n",
    "    \n",
    "    for i in range(nevents_sig + nevents_bdg):\n",
    "        pdf.next()\n",
    "    \n",
    "    # retrieve the mass values for signal , background and their sum\n",
    "    data = pdf.mass\n",
    "    sig_data = pdf.mass_sig\n",
    "    bgd_data = pdf.mass_bgd\n",
    "    return data, sig_data, bgd_data\n",
    "\n",
    "data, sig_data, bgd_data = singleToyData(nevents_sig = 150, nevents_bdg = 10000)\n",
    "\n",
    "# To ensure we dont get any 0 values in our data, will set them to a small value.\n",
    "# This is done to avoid issues with the way we calculate chi squared later\n",
    "#data = [0 if x < 0 else x for x in data]\n",
    "#data = [1 if x == 0 else x for x in data]"
   ]
  },
  {
   "cell_type": "code",
   "execution_count": 40,
   "id": "438f4f29",
   "metadata": {},
   "outputs": [
    {
     "data": {
      "image/png": "[encoded data removed]",
      "text/plain": [
       "<Figure size 432x288 with 1 Axes>"
      ]
     },
     "metadata": {
      "needs_background": "light"
     },
     "output_type": "display_data"
    }
   ],
   "source": [
    "# Collect X and Y values for our fit:\n",
    "plt.hist(data, bins = nbins)\n",
    "ax = plt.gca()\n",
    "p = ax.patches\n",
    "\n",
    "# Heights -> y, bin_pos -> x\n",
    "heights = [patch.get_height() for patch in p]\n",
    "bin_pos = np.linspace(0, 20, nbins)\n",
    "\n",
    "# Collecting our bin sizes and the number of events we have\n",
    "widths = p[0].get_width()\n",
    "event_no = len(data)"
   ]
  },
  {
   "cell_type": "code",
   "execution_count": 41,
   "id": "fc505598",
   "metadata": {},
   "outputs": [
    {
     "data": {
      "image/png": "[encoded data removed]",
      "text/plain": [
       "<Figure size 432x288 with 1 Axes>"
      ]
     },
     "metadata": {
      "needs_background": "light"
     },
     "output_type": "display_data"
    }
   ],
   "source": [
    "# Showing out XY plot for the data\n",
    "plt.scatter(bin_pos, heights)\n",
    "plt.show()"
   ]
  },
  {
   "cell_type": "code",
   "execution_count": 42,
   "id": "61a6ee40",
   "metadata": {
    "scrolled": false
   },
   "outputs": [],
   "source": [
    "# defining a new linear function here, just for ease of use and readability\n",
    "def lin(x, m, c):\n",
    "    return m*x + c\n",
    "\n",
    "## ALL COMMENTED CODE HERE SHOULD BE IGNORED, I WAS TESTING NLL BUT IT WASN'T WORKING\n",
    "## CHOSE TO USE CHI SQUARED METHOD INSTEAD\n",
    "\n",
    "#def nll(function, y, slope, intercept):\n",
    "#    # integrate over our range\n",
    "#    y_new, err_new = scipy.integrate.quad(function, 0, intercept, args = (slope, intercept))\n",
    "#    # Normalise y values\n",
    "#    y = [q / y_new for q in y]\n",
    "#    ll = np.sum(np.log(y))\n",
    "#    return -ll\n",
    "\n",
    "\n",
    "#def nlllin(slope, intercept):\n",
    "#    # integrate over our range\n",
    "#    y_new, err_new = scipy.integrate.quad(lin, 0, 20, args = (slope, intercept))\n",
    "#    # Normalise y values\n",
    "#    y = [q / y_new for q in heights]\n",
    "#    ll = np.sum(np.log(y))\n",
    "#    return -ll\n",
    "\n",
    "## Collect the negative log likelihood with this linear\n",
    "#neg_ll = nlllin( slope, intercept)\n",
    "#print(neg_ll)\n",
    "\n"
   ]
  },
  {
   "cell_type": "code",
   "execution_count": 43,
   "id": "08e80bab",
   "metadata": {},
   "outputs": [],
   "source": [
    "##m = Minuit(nll, (lin, heights, -1, 20), name=(\"function\", \"y\", \"slope\", \"intercept\"))\n",
    "#\n",
    "## Setting up minuit\n",
    "#m = Minuit(nlllin, slope = -0.5, intercept = 15)\n",
    "#m.errors = [0.5,0.5]\n",
    "#m.errordef=0.5\n",
    "#\n",
    "#result = m.migrad()"
   ]
  },
  {
   "cell_type": "code",
   "execution_count": 44,
   "id": "ea192b9f",
   "metadata": {},
   "outputs": [],
   "source": [
    "# Taken from the notes from last week to show iminuit results\n",
    "def showIminuitResult( paramNames, theMinuit ):\n",
    "    \n",
    "    #averageList = {}\n",
    "\n",
    "    fstr = \"{0:8.4f}\"\n",
    "    for pn in paramNames :\n",
    "        val = theMinuit.values[pn]\n",
    "        err = theMinuit.errors[pn]\n",
    "        print('\\t','{:15s}'.format(pn), ':  \\t', fstr.format(val), ' +/- ', fstr.format(err))\n",
    "        #averageList.update( { pn : [ val, err ] } )\n",
    "    print('\\n')\n",
    "\n",
    "    return #averageList\n",
    "\n",
    "#showIminuitResult((\"slope\", \"intercept\"), m)"
   ]
  },
  {
   "cell_type": "markdown",
   "id": "c11efbd8",
   "metadata": {},
   "source": [
    "Creating H0 (fitting for linear background)"
   ]
  },
  {
   "cell_type": "code",
   "execution_count": 64,
   "id": "08a2beac",
   "metadata": {},
   "outputs": [],
   "source": [
    "# Calculating the chisquared as taken from the notes\n",
    "def chisquared(slope, intercept):\n",
    "    # integrate over our range\n",
    "    y_new, err_new = scipy.integrate.quad(lin, 0, 20, args = (slope, intercept))\n",
    "    # Find normalised pdf\n",
    "    x = np.linspace(0,20,nbins)\n",
    "    y_expected = [lin(x[i], slope, intercept) for i in range(nbins)]\n",
    "    # Normalise y values\n",
    "    y_expected = [q / y_new for q in y_expected]\n",
    "    #y_expected =  [widths * event_no * y_expected]\n",
    "    y_expected = [i * (widths*event_no) for i in y_expected]\n",
    "    # Nobserved --> the y value \n",
    "    y_observed = heights\n",
    "    \n",
    "    \n",
    "    # Finding our chi squared value\n",
    "    chisum = 0\n",
    "    for i in range(len(heights)):\n",
    "        chisum += y_expected[i] - y_observed[i] + y_observed[i]*np.log(y_observed[i] / y_expected[i])\n",
    "    chisqr = chisum*2\n",
    "    return chisqr\n",
    "\n",
    "\n"
   ]
  },
  {
   "cell_type": "code",
   "execution_count": 65,
   "id": "2bf0a57c",
   "metadata": {},
   "outputs": [
    {
     "name": "stdout",
     "output_type": "stream",
     "text": [
      "\t slope           :  \t  -0.4988  +/-    0.0301\n",
      "\t intercept       :  \t  10.1557  +/-    0.6136\n",
      "\n",
      "\n"
     ]
    }
   ],
   "source": [
    "# Setting up minuit\n",
    "n = Minuit(chisquared, slope = -0.5, intercept = 15)\n",
    "n.errors = [0.5,0.5]\n",
    "n.errordef=0.5\n",
    "\n",
    "result = n.migrad()\n",
    "\n",
    "showIminuitResult((\"slope\", \"intercept\"), n)\n"
   ]
  },
  {
   "cell_type": "code",
   "execution_count": 66,
   "id": "f102a41e",
   "metadata": {},
   "outputs": [
    {
     "name": "stdout",
     "output_type": "stream",
     "text": [
      "Our chi squared value is 144.24\n",
      "The number of bins we have is 100\n"
     ]
    }
   ],
   "source": [
    "# Chi squared for our value\n",
    "print(\"Our chi squared value is {:.2f}\".format(n.fval))\n",
    "print(\"The number of bins we have is {}\".format(nbins))"
   ]
  },
  {
   "cell_type": "markdown",
   "id": "35005860",
   "metadata": {},
   "source": [
    "Our chi squared value is not too bad considering our degrees of freedom in each bin.\n",
    "\n",
    "Now onto H1."
   ]
  },
  {
   "cell_type": "code",
   "execution_count": 92,
   "id": "ccd361a8",
   "metadata": {},
   "outputs": [],
   "source": [
    "# Calculating the chisquared as taken from the notes\n",
    "def chisquaredgauss(slope, intercept, F):\n",
    "    # fixed mean and sigma values\n",
    "    mu, sigma = 10, 0.5\n",
    "    # integrate over our range for our gaussian\n",
    "    yg_new, err_new = scipy.integrate.quad(gaussian, 0, 20, args = (mu, sigma))\n",
    "    \n",
    "    # Find normalised pdf\n",
    "    x = np.linspace(0,20,nbins)\n",
    "    yg_expected = [gaussian(x[i], mean, sigma) for i in range(nbins)]\n",
    "    yg_expected = [q * 1/np.sqrt(2*np.pi*sigma**2) for q in yg_expected]\n",
    "    #yg_expected = [q / yg_new for q in yg_expected]\n",
    "    yg_expected = [i * (widths*event_no) for i in yg_expected]\n",
    "    \n",
    "    # integrate over our range for the linear\n",
    "    y_new, err_new = scipy.integrate.quad(lin, 0, 20, args = (slope, intercept))\n",
    "    \n",
    "    # Find normalised pdf\n",
    "    y_expected = [lin(x[i], slope, intercept) for i in range(nbins)]\n",
    "    # Normalise y values\n",
    "    y_expected = [q / y_new for q in y_expected]\n",
    "    \n",
    "    # Nexpected --> normalised(PDF) * bin width * total no of events\n",
    "    \n",
    "    #y_expected =  [widths * event_no * y_expected]\n",
    "    y_expected = [i * (widths*event_no) for i in y_expected]\n",
    "    \n",
    "    # Collect the PDF \n",
    "    #joint1 = (y_expected * F) + yg_expected * (1-F)\n",
    "    joint1 = [i * F for i in yg_expected]\n",
    "    joint2 = [i * (1-F) for i in y_expected]\n",
    "    joint = [sum(x) for x in zip(joint1, joint2)]\n",
    "    # Nobserved --> the y value \n",
    "    y_observed = heights\n",
    "    \n",
    "    # Finding our chi squared value\n",
    "    chisum = 0\n",
    "    for i in range(len(heights)):\n",
    "        chisum += joint[i] - y_observed[i] + y_observed[i]*np.log(y_observed[i] / joint[i])\n",
    "    chisqr = chisum*2\n",
    "    return chisqr\n",
    "\n"
   ]
  },
  {
   "cell_type": "code",
   "execution_count": 93,
   "id": "6bece787",
   "metadata": {
    "scrolled": false
   },
   "outputs": [
    {
     "name": "stdout",
     "output_type": "stream",
     "text": [
      "\t slope           :  \t  -0.4970  +/-    0.0443\n",
      "\t intercept       :  \t  10.1194  +/-    0.9017\n",
      "\t F               :  \t   0.0138  +/-    0.0033\n",
      "\n",
      "\n"
     ]
    }
   ],
   "source": [
    "# Setting up minuit\n",
    "o = Minuit(chisquaredgauss, slope = -0.5, intercept = 15, F=0.04)\n",
    "o.errors = [1,1,1]\n",
    "o.errordef=1\n",
    "\n",
    "result = o.migrad()\n",
    "\n",
    "showIminuitResult((\"slope\", \"intercept\", \"F\"), o)"
   ]
  },
  {
   "cell_type": "code",
   "execution_count": 94,
   "id": "d666d891",
   "metadata": {},
   "outputs": [
    {
     "name": "stdout",
     "output_type": "stream",
     "text": [
      "Our chi squared value is 125.49\n",
      "The number of bins we have is 100\n"
     ]
    }
   ],
   "source": [
    "# Chi squared for our value\n",
    "print(\"Our chi squared value is {:.2f}\".format(o.fval))\n",
    "print(\"The number of bins we have is {}\".format(nbins))"
   ]
  },
  {
   "cell_type": "code",
   "execution_count": 95,
   "id": "291718bb",
   "metadata": {},
   "outputs": [
    {
     "name": "stdout",
     "output_type": "stream",
     "text": [
      "Different in Chi squared: 18.75\n"
     ]
    }
   ],
   "source": [
    "# Calculating the difference\n",
    "print(\"Different in Chi squared: {:.2f}\".format(n.fval - o.fval))"
   ]
  },
  {
   "cell_type": "markdown",
   "id": "225580f1",
   "metadata": {},
   "source": [
    "Our chi squared value is now lower than before. You may get values of slope and intercept that aren't exactly what was implemented before (-1, 20). This is because the PDF was normalised, so they should still be accurate in terms of their ratio."
   ]
  },
  {
   "cell_type": "code",
   "execution_count": 107,
   "id": "5d12edf4",
   "metadata": {},
   "outputs": [
    {
     "name": "stdout",
     "output_type": "stream",
     "text": [
      "-0.4988\n",
      "10.1557\n"
     ]
    },
    {
     "data": {
      "image/png": "[encoded data removed]",
      "text/plain": [
       "<Figure size 432x288 with 1 Axes>"
      ]
     },
     "metadata": {
      "needs_background": "light"
     },
     "output_type": "display_data"
    }
   ],
   "source": [
    "# plot linear fit to show that it doesnt go below zero.\n",
    "# from the iminuit visualisation function from above\n",
    "values = n.values\n",
    "fstr = \"{0:8.4f}\"\n",
    "print(float(fstr.format(values[0])))\n",
    "print(float(fstr.format(values[1])))\n",
    "mf = float(fstr.format(values[0]))\n",
    "interceptf = float(fstr.format(values[1]))\n",
    "\n",
    "# Plotting\n",
    "linear_fit = []\n",
    "x = np.linspace(0,20,nbins)\n",
    "for i in range(nbins):\n",
    "    linear_fit.append(lin(x[i], mf, interceptf))\n",
    "    \n",
    "plt.scatter(x,linear_fit)\n",
    "plt.show()"
   ]
  },
  {
   "cell_type": "markdown",
   "id": "dc8a6383",
   "metadata": {},
   "source": [
    "As we can see here, our value doesnt go below zero for our linear fit.\n",
    "\n",
    "We know that with wilkes theorem the log likelihood ratio approaches the chi squared distribution asymptotically."
   ]
  },
  {
   "cell_type": "code",
   "execution_count": 113,
   "id": "089b2520",
   "metadata": {},
   "outputs": [
    {
     "name": "stdout",
     "output_type": "stream",
     "text": [
      "P value: 1.492714E-05\n",
      "Z value: 4.33\n"
     ]
    }
   ],
   "source": [
    "from scipy import stats\n",
    "# Finding the p value and z score\n",
    "dof = 1\n",
    "chi_squared_diff = n.fval - o.fval\n",
    "# take the chi2.cdf to find the probability that one dof creates a difference in chi_squared that we get\n",
    "pval = 1-stats.chi2.cdf(chi_squared_diff, dof)\n",
    "n_sigmas = erfinv(1 - pval) * np.sqrt(2)\n",
    "print(\"P value: {:E}\\nZ value: {:.2f}\".format(pval, n_sigmas))"
   ]
  },
  {
   "cell_type": "markdown",
   "id": "435bcd96",
   "metadata": {},
   "source": [
    "This means that having a scenario where our increased parameter model fits better to the extent it does it exceedingly rare. This allows us to determine that our distribution is better explained with the inclusion of our gaussian function.\n",
    "\n",
    "So even though we can barely see by eye that the gaussian function is within the data distribution. Using this method, we can determine that such a occurence does exist within the data."
   ]
  },
  {
   "cell_type": "code",
   "execution_count": null,
   "id": "77efaf1d",
   "metadata": {},
   "outputs": [],
   "source": []
  }
 ],
 "metadata": {
  "kernelspec": {
   "display_name": "Python 3 (ipykernel)",
   "language": "python",
   "name": "python3"
  },
  "language_info": {
   "codemirror_mode": {
    "name": "ipython",
    "version": 3
   },
   "file_extension": ".py",
   "mimetype": "text/x-python",
   "name": "python",
   "nbconvert_exporter": "python",
   "pygments_lexer": "ipython3",
   "version": "3.8.10"
  }
 },
 "nbformat": 4,
 "nbformat_minor": 5
}
