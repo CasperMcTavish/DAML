{
 "cells": [
  {
   "cell_type": "code",
   "execution_count": 1,
   "id": "2935034e",
   "metadata": {},
   "outputs": [],
   "source": [
    "import numpy as np\n",
    "import matplotlib.pyplot as plt\n",
    "from iminuit import Minuit\n",
    "import scipy\n",
    "from scipy import integrate\n",
    "import math"
   ]
  },
  {
   "cell_type": "code",
   "execution_count": 2,
   "id": "97b7feca",
   "metadata": {},
   "outputs": [],
   "source": [
    "# Collect data from file\n",
    "def collect_data_float(filename):\n",
    "    with open(filename) as file:\n",
    "        lines = file.readlines()\n",
    "        lines = [line.rstrip() for line in lines]\n",
    "        # Change strings to floats\n",
    "        lines = [float(x) for x in lines]\n",
    "    return lines"
   ]
  },
  {
   "cell_type": "code",
   "execution_count": 3,
   "id": "ffb426ea",
   "metadata": {},
   "outputs": [],
   "source": [
    "# Collecting the data for our initial file\n",
    "data = collect_data_float('datafile-expresonance.txt')"
   ]
  },
  {
   "cell_type": "code",
   "execution_count": 4,
   "id": "f9416508",
   "metadata": {},
   "outputs": [],
   "source": [
    "def hist(data, title):\n",
    "    \n",
    "    # Plot histograms\n",
    "    plt.figure(figsize=(10,10))\n",
    "    plt.hist(data, bins = 100)\n",
    "        \n",
    "    plt.title(\"Histogram of \" + str(title))\n",
    "    #plt.savefig(str(data_type[Type]) + '_Full_Histogram.pdf')\n",
    "    plt.show()"
   ]
  },
  {
   "cell_type": "code",
   "execution_count": 167,
   "id": "e03603b8",
   "metadata": {},
   "outputs": [
    {
     "data": {
      "image/png": "[encoded data removed]",
      "text/plain": [
       "<Figure size 720x720 with 1 Axes>"
      ]
     },
     "metadata": {
      "needs_background": "light"
     },
     "output_type": "display_data"
    }
   ],
   "source": [
    "# Plot the data as a histogram\n",
    "hist(data, \"datafile-expresonance.txt\")"
   ]
  },
  {
   "cell_type": "markdown",
   "id": "f76a98f9",
   "metadata": {},
   "source": [
    "Visualisation of the data before fitting."
   ]
  },
  {
   "cell_type": "markdown",
   "id": "094e2112",
   "metadata": {},
   "source": [
    "### Checkpoint Part 1\n",
    "\n",
    "Fitting parameters A, M, and F with Minuit.\n",
    "\n",
    "I know the course says not to use 'code comments' as documentation of what you're doing, but I feel it will be quite derivative to describe everything in text blocks, then have code comments explain it regardless. I'll do it regardless.\n",
    "\n",
    "Define Exponential and Gaussian functions"
   ]
  },
  {
   "cell_type": "code",
   "execution_count": 6,
   "id": "bde524c9",
   "metadata": {},
   "outputs": [],
   "source": [
    "# Define the exponential\n",
    "def exponential(x, A):\n",
    "    y = np.exp(-x/A)\n",
    "    return y\n",
    "\n",
    "# Define a new gaussian\n",
    "def gaussian(x, mu):\n",
    "    # fix sigma for 0.2\n",
    "    sigma = 0.2\n",
    "    return np.exp(-np.power(x - mu, 2.) / (2 * np.power(sigma, 2.)))"
   ]
  },
  {
   "cell_type": "markdown",
   "id": "6c4bf6cc",
   "metadata": {},
   "source": [
    "Create the combined NLL function for exponential and gaussian."
   ]
  },
  {
   "cell_type": "code",
   "execution_count": 7,
   "id": "545252a6",
   "metadata": {},
   "outputs": [],
   "source": [
    "# Define a combined exponential and gaussian function for NLL\n",
    "def nll_exp_gauss(M, A, F):\n",
    "    # F is our fraction for how much of the distribution is gaussian/exponential\n",
    "    \n",
    "    # Take data\n",
    "    x = np.array(data)\n",
    "        \n",
    "    # Calculate the y\n",
    "    y = exponential(x, A)\n",
    "    # Calculate the normalisation over our exponential over range 0->10\n",
    "    norm = A * (np.exp(0) - np.exp(-10/A))\n",
    "    y_norm = y / norm\n",
    "    \n",
    "    # Calculating y for the GAUSSIAN\n",
    "    \n",
    "    # Calculate the y\n",
    "    yg = gaussian(x, M)\n",
    "    # normalise our gaussian, where 0.2 is the sigma\n",
    "    yg = yg * 1/(np.sqrt(2*np.pi*0.2**2))\n",
    "    #print(yg)\n",
    "    \n",
    "    # Take joint likelihood for the gaussian and exponential\n",
    "    joint1 = [i * (1-F) for i in yg]\n",
    "    joint2 = [i * F for i in y_norm]\n",
    "    joint = np.array([sum(x) for x in zip(joint1, joint2)])\n",
    "    \n",
    "    \n",
    "    # Take log of joint\n",
    "    y_log = np.log(joint)\n",
    "    \n",
    "    # Take negative sum\n",
    "    nll = -np.sum(y_log)\n",
    "    \n",
    "    return nll"
   ]
  },
  {
   "cell_type": "markdown",
   "id": "a50e62a7",
   "metadata": {},
   "source": [
    "Copying in a function provided by DAML course."
   ]
  },
  {
   "cell_type": "code",
   "execution_count": 8,
   "id": "0300fdb6",
   "metadata": {},
   "outputs": [],
   "source": [
    "# Taken from the notes from two weeks ago to show iminuit results\n",
    "def showIminuitResult( paramNames, theMinuit ):\n",
    "    \n",
    "    #averageList = {}\n",
    "\n",
    "    fstr = \"{0:8.4f}\"\n",
    "    for pn in paramNames :\n",
    "        val = theMinuit.values[pn]\n",
    "        err = theMinuit.errors[pn]\n",
    "        print('\\t','{:15s}'.format(pn), ':  \\t', fstr.format(val), ' +/- ', fstr.format(err))\n",
    "    print('\\n')"
   ]
  },
  {
   "cell_type": "markdown",
   "id": "314c1434",
   "metadata": {},
   "source": [
    "Create minuit object for our NLL function and fit with appropriate limits."
   ]
  },
  {
   "cell_type": "code",
   "execution_count": 9,
   "id": "02b4e0c5",
   "metadata": {},
   "outputs": [],
   "source": [
    "# Create the minuit object to calculate the fit of our function\n",
    "# over our data\n",
    "m = Minuit(nll_exp_gauss, M = 2, A = 6, F = 0.5)\n",
    "# Set errors\n",
    "m.errors = [0.5,0.5,0.1]\n",
    "# Define for NLL\n",
    "m.errordef = 0.5\n",
    "# Set limits\n",
    "m.limits = [[1,5], [3,7], [0,1]]\n",
    "\n",
    "# Fit and show results\n",
    "result = m.migrad()\n"
   ]
  },
  {
   "cell_type": "markdown",
   "id": "41776a12",
   "metadata": {},
   "source": [
    "Showing results for M, A and F;"
   ]
  },
  {
   "cell_type": "code",
   "execution_count": 10,
   "id": "946dec3a",
   "metadata": {},
   "outputs": [
    {
     "name": "stdout",
     "output_type": "stream",
     "text": [
      "\t M               :  \t   2.4985  +/-    0.0146\n",
      "\t A               :  \t   5.0079  +/-    0.0307\n",
      "\t F               :  \t   0.9796  +/-    0.0012\n",
      "\n",
      "\n"
     ]
    }
   ],
   "source": [
    "showIminuitResult((\"M\",\"A\",\"F\"), m)"
   ]
  },
  {
   "cell_type": "markdown",
   "id": "6673e342",
   "metadata": {},
   "source": [
    "Better shown results for the fitting parameters.\n",
    "* M - Gaussian Mean\n",
    "* A - Exponential Decay Constant/Lifetime\n",
    "* F - Fraction between Gaussian and Exponential (Exponential makes up most of the fraction)"
   ]
  },
  {
   "cell_type": "code",
   "execution_count": 11,
   "id": "d9032543",
   "metadata": {},
   "outputs": [
    {
     "name": "stdout",
     "output_type": "stream",
     "text": [
      "Statistical Errors for data-expresonance.txt\n",
      "KEY   -   Value Name : Value(Statistical Error)\n",
      "\n",
      "Gaussian Mean (M) : 2.499(0.015)\n",
      "Exponential Decay Constant (A) : 5.008(0.031)\n",
      "Fraction (F) : 0.9796(0.0012)\n"
     ]
    }
   ],
   "source": [
    "# {:.2} is significant digits (rounded to two)\n",
    "print(\"Statistical Errors for data-expresonance.txt\")\n",
    "print(\"KEY   -   Value Name : Value(Statistical Error)\\n\")\n",
    "print(\"Gaussian Mean (M) : {:.4}({:.2})\".format(m.values[\"M\"],m.errors[\"M\"]))\n",
    "print(\"Exponential Decay Constant (A) : {:.4}({:.2})\".format(m.values[\"A\"],m.errors[\"A\"]))\n",
    "print(\"Fraction (F) : {:.4}({:.2})\".format(m.values[\"F\"],m.errors[\"F\"]))"
   ]
  },
  {
   "cell_type": "markdown",
   "id": "c38df4b3",
   "metadata": {},
   "source": [
    "These results match almost exactly with those given in the checkpoint pdf (and are within 1 sigma of the true values), with two significant digits for the statistical errors, and 4 for the true values (seemed to be the best way to relate errors to the data).\n",
    "\n",
    "### Checkpoint Part 2\n",
    "\n",
    "Determine a systematic error on the mean of the gaussian by the \"shift\" method.\n",
    "This is by applying a different background model (polynomial 2nd order) to determine the fit for our data and comparing to our initial.\n",
    "\n",
    "So, basically do the same as part 1, but the exponential function is replaced by the polynomial, which we will define now:"
   ]
  },
  {
   "cell_type": "code",
   "execution_count": 190,
   "id": "d2424f57",
   "metadata": {},
   "outputs": [],
   "source": [
    "# Define 2nd order polynomial\n",
    "def sec_polynomial(x, a, b, c):\n",
    "    y = a + b*x + c*(x**2)\n",
    "    return y"
   ]
  },
  {
   "cell_type": "code",
   "execution_count": 217,
   "id": "9657dcba",
   "metadata": {},
   "outputs": [],
   "source": [
    "# Define a combined exponential and gaussian function for NLL\n",
    "def nll_poly_gauss(a, b, c, F, M):\n",
    "    # F is our fraction for how much of the distribution is gaussian/exponential\n",
    "    \n",
    "    # Take data\n",
    "    x = np.array(data)\n",
    "        \n",
    "    # Calculate the y for our polynomial, fix a\n",
    "    \n",
    "    y = sec_polynomial(x, a, b, c)\n",
    "    # In CP says we dont need to normalise, but currently isnt working so will try anyway\n",
    "    # Found normalisation value based on integral over range 0->10\n",
    "    norm = 10 *(a + 5*b + (100/3)*c )\n",
    "    y = y * 1/norm\n",
    "    \n",
    "    # limit y so that is cant be zero here. THIS IS REQUIRED OR ELSE CODE WONT RUN\n",
    "    y = [0 if y[i] < 0 else y[i] for i in range(len(y))]\n",
    "    \n",
    "    # Calculating y for the GAUSSIAN\n",
    "    \n",
    "    # Calculate the y\n",
    "    yg = gaussian(x, M)\n",
    "    # normalise our gaussian, where 0.2 is the sigma\n",
    "    yg = yg * 1/(np.sqrt(2*np.pi*0.2**2))\n",
    "    #print(yg)\n",
    "    \n",
    "    # Take joint likelihood for the gaussian and exponential\n",
    "    joint1 = [i * (1-F) for i in yg]\n",
    "    joint2 = [i * F for i in y]\n",
    "    joint = np.array([sum(x) for x in zip(joint1, joint2)])\n",
    "    \n",
    "    \n",
    "    # Take log of joint\n",
    "    y_log = np.log(joint)\n",
    "    \n",
    "    # Take negative sum\n",
    "    nll = -np.sum(y_log)\n",
    "    \n",
    "    return nll"
   ]
  },
  {
   "cell_type": "markdown",
   "id": "60588ada",
   "metadata": {},
   "source": [
    "Create minuit object, if b/a = -0.016 and c/a = 0.007, but a = 1, then b and c are just those values (for the starting guess). This was revised using the values ascertained below via plotting, still not perfect but better"
   ]
  },
  {
   "cell_type": "code",
   "execution_count": 220,
   "id": "ca658eb2",
   "metadata": {},
   "outputs": [],
   "source": [
    "# Create the minuit object to calculate the fit of our new function\n",
    "# over our data\n",
    "n = Minuit(nll_poly_gauss, a = 1, b = -0.1, c= 0.004, F = 0.98, M = 2.5)\n",
    "# Define for NLL\n",
    "n.errordef = 0.5\n",
    "# Set errors\n",
    "n.errors = [0.5,0.1,0.001,0.1,0.5]\n",
    "# Set limits\n",
    "n.limits = [[-5,5],[-0.2,0], [0,1], [0,1], [2,3]]\n",
    "# Fix a\n",
    "n.fixed = [True, False, False, False, False]\n",
    "\n",
    "# Fit and show results\n",
    "result = n.migrad()\n"
   ]
  },
  {
   "cell_type": "code",
   "execution_count": 221,
   "id": "32fad54c",
   "metadata": {},
   "outputs": [
    {
     "name": "stdout",
     "output_type": "stream",
     "text": [
      "\t a               :  \t   1.0000  +/-    0.5000\n",
      "\t M               :  \t   2.4943  +/-    0.0156\n",
      "\t b               :  \t  -0.1578  +/-    0.0011\n",
      "\t c               :  \t   0.0073  +/-    0.0001\n",
      "\t F               :  \t   0.9820  +/-    0.0012\n",
      "\n",
      "\n"
     ]
    }
   ],
   "source": [
    "showIminuitResult((\"a\",\"M\",\"b\",\"c\",\"F\"), n)"
   ]
  },
  {
   "cell_type": "code",
   "execution_count": 105,
   "id": "c6020991",
   "metadata": {},
   "outputs": [
    {
     "data": {
      "text/html": [
       "<table>\n",
       "    <tr>\n",
       "        <th colspan=\"5\" style=\"text-align:center\" title=\"Minimizer\"> Migrad </th>\n",
       "    </tr>\n",
       "    <tr>\n",
       "        <td colspan=\"2\" style=\"text-align:left\" title=\"Minimum value of function\"> FCN = -9.265e+04 </td>\n",
       "        <td colspan=\"3\" style=\"text-align:center\" title=\"No. of function evaluations in last call and total number\"> Nfcn = 101 </td>\n",
       "    </tr>\n",
       "    <tr>\n",
       "        <td colspan=\"2\" style=\"text-align:left\" title=\"Estimated distance to minimum and goal\"> EDM = 8.81e-06 (Goal: 0.0001) </td>\n",
       "        <td colspan=\"3\" style=\"text-align:center\" title=\"No. of gradient evaluations in last call and total number\">  </td>\n",
       "    </tr>\n",
       "    <tr>\n",
       "        <td colspan=\"2\" style=\"text-align:center;background-color:#92CCA6;color:black\"> Valid Minimum </td>\n",
       "        <td colspan=\"3\" style=\"text-align:center;background-color:#FFF79A;color:black\"> SOME Parameters at limit </td>\n",
       "    </tr>\n",
       "    <tr>\n",
       "        <td colspan=\"2\" style=\"text-align:center;background-color:#92CCA6;color:black\"> Below EDM threshold (goal x 10) </td>\n",
       "        <td colspan=\"3\" style=\"text-align:center;background-color:#92CCA6;color:black\"> Below call limit </td>\n",
       "    </tr>\n",
       "    <tr>\n",
       "        <td style=\"text-align:center;background-color:#92CCA6;color:black\"> Covariance </td>\n",
       "        <td style=\"text-align:center;background-color:#92CCA6;color:black\"> Hesse ok </td>\n",
       "        <td style=\"text-align:center;background-color:#92CCA6;color:black\" title=\"Is covariance matrix accurate?\"> Accurate </td>\n",
       "        <td style=\"text-align:center;background-color:#92CCA6;color:black\" title=\"Is covariance matrix positive definite?\"> Pos. def. </td>\n",
       "        <td style=\"text-align:center;background-color:#92CCA6;color:black\" title=\"Was positive definiteness enforced by Minuit?\"> Not forced </td>\n",
       "    </tr>\n",
       "</table><table>\n",
       "    <tr>\n",
       "        <td></td>\n",
       "        <th title=\"Variable name\"> Name </th>\n",
       "        <th title=\"Value of parameter\"> Value </th>\n",
       "        <th title=\"Hesse error\"> Hesse Error </th>\n",
       "        <th title=\"Minos lower error\"> Minos Error- </th>\n",
       "        <th title=\"Minos upper error\"> Minos Error+ </th>\n",
       "        <th title=\"Lower limit of the parameter\"> Limit- </th>\n",
       "        <th title=\"Upper limit of the parameter\"> Limit+ </th>\n",
       "        <th title=\"Is the parameter fixed in the fit\"> Fixed </th>\n",
       "    </tr>\n",
       "    <tr>\n",
       "        <th> 0 </th>\n",
       "        <td> b </td>\n",
       "        <td> 500.000e-3 </td>\n",
       "        <td> 0.005e-3 </td>\n",
       "        <td>  </td>\n",
       "        <td>  </td>\n",
       "        <td> -0.5 </td>\n",
       "        <td> 0.5 </td>\n",
       "        <td>  </td>\n",
       "    </tr>\n",
       "    <tr>\n",
       "        <th> 1 </th>\n",
       "        <td> c </td>\n",
       "        <td> 10.0000e-3 </td>\n",
       "        <td> 0.0012e-3 </td>\n",
       "        <td>  </td>\n",
       "        <td>  </td>\n",
       "        <td> -0.01 </td>\n",
       "        <td> 0.01 </td>\n",
       "        <td>  </td>\n",
       "    </tr>\n",
       "    <tr>\n",
       "        <th> 2 </th>\n",
       "        <td> F </td>\n",
       "        <td> 1000.000e-3 </td>\n",
       "        <td> 0.005e-3 </td>\n",
       "        <td>  </td>\n",
       "        <td>  </td>\n",
       "        <td> 0 </td>\n",
       "        <td> 1 </td>\n",
       "        <td>  </td>\n",
       "    </tr>\n",
       "    <tr>\n",
       "        <th> 3 </th>\n",
       "        <td> M </td>\n",
       "        <td> 2.5 </td>\n",
       "        <td> 0.5 </td>\n",
       "        <td>  </td>\n",
       "        <td>  </td>\n",
       "        <td> 2 </td>\n",
       "        <td> 3 </td>\n",
       "        <td> yes </td>\n",
       "    </tr>\n",
       "</table><table>\n",
       "    <tr>\n",
       "        <td></td>\n",
       "        <th> b </th>\n",
       "        <th> c </th>\n",
       "        <th> F </th>\n",
       "        <th> M </th>\n",
       "    </tr>\n",
       "    <tr>\n",
       "        <th> b </th>\n",
       "        <td> 4.25e-17 </td>\n",
       "        <td style=\"background-color:rgb(250,250,250);color:black\"> 7.06e-24 </td>\n",
       "        <td style=\"background-color:rgb(250,250,250);color:black\"> -8.6e-25 </td>\n",
       "        <td style=\"background-color:rgb(250,250,250);color:black\"> 0 </td>\n",
       "    </tr>\n",
       "    <tr>\n",
       "        <th> c </th>\n",
       "        <td style=\"background-color:rgb(250,250,250);color:black\"> 7.06e-24 </td>\n",
       "        <td> 6.1e-17 </td>\n",
       "        <td style=\"background-color:rgb(250,250,250);color:black\"> 5.8e-25 </td>\n",
       "        <td style=\"background-color:rgb(250,250,250);color:black\"> 0 </td>\n",
       "    </tr>\n",
       "    <tr>\n",
       "        <th> F </th>\n",
       "        <td style=\"background-color:rgb(250,250,250);color:black\"> -8.6e-25 </td>\n",
       "        <td style=\"background-color:rgb(250,250,250);color:black\"> 5.8e-25 </td>\n",
       "        <td> 6.27e-16 </td>\n",
       "        <td style=\"background-color:rgb(250,250,250);color:black\"> 0 </td>\n",
       "    </tr>\n",
       "    <tr>\n",
       "        <th> M </th>\n",
       "        <td style=\"background-color:rgb(250,250,250);color:black\"> 0 </td>\n",
       "        <td style=\"background-color:rgb(250,250,250);color:black\"> 0 </td>\n",
       "        <td style=\"background-color:rgb(250,250,250);color:black\"> 0 </td>\n",
       "        <td> 0 </td>\n",
       "    </tr>\n",
       "</table>"
      ],
      "text/plain": [
       "┌─────────────────────────────────────────────────────────────────────────┐\n",
       "│                                Migrad                                   │\n",
       "├──────────────────────────────────┬──────────────────────────────────────┤\n",
       "│ FCN = -9.265e+04                 │              Nfcn = 101              │\n",
       "│ EDM = 8.81e-06 (Goal: 0.0001)    │                                      │\n",
       "├──────────────────────────────────┼──────────────────────────────────────┤\n",
       "│          Valid Minimum           │       SOME Parameters at limit       │\n",
       "├──────────────────────────────────┼──────────────────────────────────────┤\n",
       "│ Below EDM threshold (goal x 10)  │           Below call limit           │\n",
       "├───────────────┬──────────────────┼───────────┬─────────────┬────────────┤\n",
       "│  Covariance   │     Hesse ok     │ Accurate  │  Pos. def.  │ Not forced │\n",
       "└───────────────┴──────────────────┴───────────┴─────────────┴────────────┘\n",
       "┌───┬──────┬───────────┬───────────┬────────────┬────────────┬─────────┬─────────┬───────┐\n",
       "│   │ Name │   Value   │ Hesse Err │ Minos Err- │ Minos Err+ │ Limit-  │ Limit+  │ Fixed │\n",
       "├───┼──────┼───────────┼───────────┼────────────┼────────────┼─────────┼─────────┼───────┤\n",
       "│ 0 │ b    │500.000e-3 │ 0.005e-3  │            │            │  -0.5   │   0.5   │       │\n",
       "│ 1 │ c    │10.0000e-3 │ 0.0012e-3 │            │            │  -0.01  │  0.01   │       │\n",
       "│ 2 │ F    │1000.000e-3│ 0.005e-3  │            │            │    0    │    1    │       │\n",
       "│ 3 │ M    │    2.5    │    0.5    │            │            │    2    │    3    │  yes  │\n",
       "└───┴──────┴───────────┴───────────┴────────────┴────────────┴─────────┴─────────┴───────┘\n",
       "┌───┬─────────────────────────────────────┐\n",
       "│   │        b        c        F        M │\n",
       "├───┼─────────────────────────────────────┤\n",
       "│ b │ 4.25e-17 7.06e-24 -8.6e-25        0 │\n",
       "│ c │ 7.06e-24  6.1e-17  5.8e-25        0 │\n",
       "│ F │ -8.6e-25  5.8e-25 6.27e-16        0 │\n",
       "│ M │        0        0        0        0 │\n",
       "└───┴─────────────────────────────────────┘"
      ]
     },
     "execution_count": 105,
     "metadata": {},
     "output_type": "execute_result"
    }
   ],
   "source": [
    "result"
   ]
  },
  {
   "cell_type": "markdown",
   "id": "10f53442",
   "metadata": {},
   "source": [
    "Not getting the right values, unsure how to fix.\n",
    "\n",
    "Going to plot the values of our different models, using these functions below"
   ]
  },
  {
   "cell_type": "code",
   "execution_count": 198,
   "id": "811431a0",
   "metadata": {},
   "outputs": [],
   "source": [
    "# Gauss second order polynomial plotting\n",
    "def plt_gaus_poly(x, M, b, c, F):\n",
    "\n",
    "    x = np.array(x)\n",
    "    # Calculate the y for our polynomial, fix a\n",
    "    a = 1\n",
    "    y = sec_polynomial(x, a, b, c)\n",
    "    norm = 10 *(a + 5*b + (100/3)*c )\n",
    "    #print(norm)\n",
    "    y = y * 1/norm\n",
    "\n",
    "    # Calculating y for the GAUSSIAN\n",
    "    \n",
    "    # Calculate the y\n",
    "    yg = gaussian(x, M)\n",
    "    # normalise our gaussian, where 0.2 is the sigma\n",
    "    yg = yg * 1/(np.sqrt(2*np.pi*0.2**2))\n",
    "    #print(yg)\n",
    "    \n",
    "    # Take joint likelihood for the gaussian and exponential\n",
    "    joint1 = [i * (1-F) for i in yg]\n",
    "    joint2 = [i * F for i in y]\n",
    "    joint = np.array([sum(x) for x in zip(joint1, joint2)])\n",
    "    print(\"joint: {}\".format(joint))\n",
    "    \n",
    "    # Take log of joint\n",
    "    y_log = np.log(joint)\n",
    "    print(\"log: {}\".format(y_log))\n",
    "    \n",
    "    # Take negative sum\n",
    "    nll = -np.sum(y_log)\n",
    "    print(\"nll: {}\".format(nll))\n",
    "    \n",
    "    # Plot graph\n",
    "    plt.scatter(x,joint)\n",
    "    plt.show()\n",
    "    \n",
    "    \n",
    "# Initial model plotting\n",
    "def plt_gaus_exp(x, M, A, F):\n",
    "    x = np.array(x)\n",
    "    \n",
    "    # Calculate the y\n",
    "    y = exponential(x, A)\n",
    "    # Calculate the normalisation over our exponential over range 0->10\n",
    "    norm = A * (np.exp(0) - np.exp(-10/A))\n",
    "    y_norm = y / norm\n",
    "    \n",
    "    # Calculating y for the GAUSSIAN\n",
    "    \n",
    "    # Calculate the y\n",
    "    yg = gaussian(x, M)\n",
    "    # normalise our gaussian, where 0.2 is the sigma\n",
    "    yg = yg * 1/(np.sqrt(2*np.pi*0.2**2))\n",
    "    #print(yg)\n",
    "    \n",
    "    # Take joint likelihood for the gaussian and exponential\n",
    "    joint1 = [i * (1-F) for i in yg]\n",
    "    joint2 = [i * F for i in y]\n",
    "    joint = np.array([sum(x) for x in zip(joint1, joint2)])\n",
    "    \n",
    "    print(\"joint: {}\".format(joint))\n",
    "    \n",
    "    # Take log of joint\n",
    "    y_log = np.log(joint)\n",
    "    print(\"log: {}\".format(y_log))\n",
    "    \n",
    "    # Take negative sum\n",
    "    nll = -np.sum(y_log)\n",
    "    print(\"nll: {}\".format(nll))\n",
    "    \n",
    "    # Plot graph\n",
    "    plt.scatter(x,joint)\n",
    "    plt.show()\n",
    "    \n",
    "    # Plot graph\n",
    "    plt.scatter(x,joint)\n",
    "    plt.show()"
   ]
  },
  {
   "cell_type": "markdown",
   "id": "d3434169",
   "metadata": {},
   "source": [
    "Applying these functions with their best values"
   ]
  },
  {
   "cell_type": "code",
   "execution_count": 188,
   "id": "fb72e8f5",
   "metadata": {},
   "outputs": [
    {
     "name": "stdout",
     "output_type": "stream",
     "text": [
      "joint: [0.45275712 0.78138779 0.89923474 ... 0.53165574 0.90753903 0.89133086]\n",
      "log: [-0.79239946 -0.24668372 -0.10621116 ... -0.63175911 -0.0970187\n",
      " -0.11503959]\n",
      "nll: 35843.70531749925\n"
     ]
    },
    {
     "data": {
      "image/png": "[encoded data removed]",
      "text/plain": [
       "<Figure size 432x288 with 1 Axes>"
      ]
     },
     "metadata": {
      "needs_background": "light"
     },
     "output_type": "display_data"
    },
    {
     "name": "stdout",
     "output_type": "stream",
     "text": [
      "joint: [0.20444004 0.61109868 0.82625309 ... 0.29347519 0.84136014 0.81201938]\n",
      "log: [-1.58748057 -0.49249682 -0.19085414 ... -1.22596218 -0.17273548\n",
      " -0.20823108]\n",
      "nll: 69831.28880247811\n"
     ]
    },
    {
     "data": {
      "image/png": "[encoded data removed]",
      "text/plain": [
       "<Figure size 432x288 with 1 Axes>"
      ]
     },
     "metadata": {
      "needs_background": "light"
     },
     "output_type": "display_data"
    },
    {
     "data": {
      "image/png": "[encoded data removed]",
      "text/plain": [
       "<Figure size 432x288 with 1 Axes>"
      ]
     },
     "metadata": {
      "needs_background": "light"
     },
     "output_type": "display_data"
    }
   ],
   "source": [
    "plt_gaus_poly(data, 2.5, -0.1, 0.004, 0.98)\n",
    "plt_gaus_exp(data, 2.5, 5, 0.98)"
   ]
  },
  {
   "cell_type": "markdown",
   "id": "2cc5d794",
   "metadata": {},
   "source": [
    "Using these values set above (b = -0.1, c = 0.005) I think I can go back and make the model work."
   ]
  },
  {
   "cell_type": "code",
   "execution_count": 199,
   "id": "a6b1cb90",
   "metadata": {},
   "outputs": [
    {
     "name": "stdout",
     "output_type": "stream",
     "text": [
      "joint: [0.07148797 0.15043697 0.14198443 ... 0.08394564 0.14329564 0.14073645]\n",
      "log: [-2.63822615 -1.8942111  -1.95203785 ... -2.4775858  -1.94284539\n",
      " -1.96086628]\n",
      "nll: 218368.3686565753\n"
     ]
    },
    {
     "data": {
      "image/png": "[encoded data removed]",
      "text/plain": [
       "<Figure size 432x288 with 1 Axes>"
      ]
     },
     "metadata": {
      "needs_background": "light"
     },
     "output_type": "display_data"
    },
    {
     "name": "stdout",
     "output_type": "stream",
     "text": [
      "joint: [0.08228854 0.14122623 0.12674095 ... 0.08739871 0.12775579 0.1257782 ]\n",
      "log: [-2.4975234  -1.9573922  -2.06561003 ... -2.43727476 -2.05763473\n",
      " -2.07323524]\n",
      "nll: 221861.45998512206\n"
     ]
    },
    {
     "data": {
      "image/png": "[encoded data removed]",
      "text/plain": [
       "<Figure size 432x288 with 1 Axes>"
      ]
     },
     "metadata": {
      "needs_background": "light"
     },
     "output_type": "display_data"
    },
    {
     "name": "stdout",
     "output_type": "stream",
     "text": [
      "joint: [0.1781383  0.05475476 0.00493249 ... 0.1066004  0.00451463 0.00537725]\n",
      "log: [-1.72519505 -2.90489093 -5.31191215 ... -2.23866803 -5.40043201\n",
      " -5.22557809]\n",
      "nll: 359833.86599529395\n"
     ]
    },
    {
     "data": {
      "image/png": "[encoded data removed]",
      "text/plain": [
       "<Figure size 432x288 with 1 Axes>"
      ]
     },
     "metadata": {
      "needs_background": "light"
     },
     "output_type": "display_data"
    }
   ],
   "source": [
    "plt_gaus_poly(data, 2.5, -0.1, 0.004, 0.98)\n",
    "plt_gaus_poly(data, 2.5, -0.09, 0.005, 0.98)\n",
    "plt_gaus_poly(data, 2.5, 0, 1, 0.98)"
   ]
  },
  {
   "cell_type": "markdown",
   "id": "a58e114b",
   "metadata": {},
   "source": [
    "### Checkpoint Part 3\n",
    "\n",
    "Fitting across same data, but now with a straight line background model (which is a bad model that wont fit well.)\n",
    "Same as before, but now instead of exp or poly, we use y = mx+c"
   ]
  },
  {
   "cell_type": "code",
   "execution_count": null,
   "id": "8bd1e794",
   "metadata": {},
   "outputs": [],
   "source": []
  }
 ],
 "metadata": {
  "kernelspec": {
   "display_name": "Python 3 (ipykernel)",
   "language": "python",
   "name": "python3"
  },
  "language_info": {
   "codemirror_mode": {
    "name": "ipython",
    "version": 3
   },
   "file_extension": ".py",
   "mimetype": "text/x-python",
   "name": "python",
   "nbconvert_exporter": "python",
   "pygments_lexer": "ipython3",
   "version": "3.7.11"
  }
 },
 "nbformat": 4,
 "nbformat_minor": 5
}
