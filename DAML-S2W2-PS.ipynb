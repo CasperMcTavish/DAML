{
 "cells": [
  {
   "cell_type": "markdown",
   "id": "3bc2a4fe",
   "metadata": {},
   "source": [
    "# Problem set from week 2 semester 2\n",
    "\n",
    "## Problem #1\n",
    "\n",
    "Company claims faulty rate of screen population is 5%. Test if this claim is true.\n",
    "\n",
    "100 monitors to test. $t_{cut}=9$ is maximum number of faulty monitors that we are willing to have and still accept that the manufacturer's claim is true.\n",
    "\n",
    "a) What is significance level $\\alpha$ of the chosen threshold?\n",
    "\n",
    "b) What is the probability $\\beta$ of a Type II error if the true faulty rate is 15%?\n",
    "\n",
    "use pmf from scipy.stats.binom"
   ]
  },
  {
   "cell_type": "code",
   "execution_count": 128,
   "id": "95785cf3",
   "metadata": {},
   "outputs": [],
   "source": [
    "import numpy as np\n",
    "import scipy.stats\n",
    "import matplotlib.pyplot as plt\n",
    "import scipy.integrate"
   ]
  },
  {
   "cell_type": "markdown",
   "id": "7e9bc8f7",
   "metadata": {},
   "source": [
    "SO Type-I error you can calculate $\\alpha$ at the integral of the background up to the $t_{cut}$ value."
   ]
  },
  {
   "cell_type": "code",
   "execution_count": 16,
   "id": "7cdb13a3",
   "metadata": {},
   "outputs": [
    {
     "name": "stdout",
     "output_type": "stream",
     "text": [
      "Significance Value: 2.8188%\n",
      "Probability to say these monitors arent faulty when they are.\n"
     ]
    }
   ],
   "source": [
    "n = 100\n",
    "p = 0.05\n",
    "r = [0,1,2,3,4,5,6,7,8,9]\n",
    "dist = scipy.stats.binom.pmf(r, n, p)\n",
    "# Probability that you accept the null hypothesis and its true\n",
    "sum_dist = np.sum(dist)\n",
    "\n",
    "# So 1-P to get Type I error\n",
    "null_hyp = 1-sum_dist\n",
    "\n",
    "print(\"Significance Value: {:.4f}%\".format(null_hyp*100))\n",
    "print(\"Probability to say these monitors arent faulty when they are.\")"
   ]
  },
  {
   "cell_type": "markdown",
   "id": "ae79bb12",
   "metadata": {},
   "source": [
    "And now onto B), with the Type-II error with true faulty rate of 15%\n",
    "\n",
    "H0 -> true: Probability that there isnt a fault in the computers even when there is\n",
    "\n",
    "H0 -> false: Probability that there is a fault even when there isnt"
   ]
  },
  {
   "cell_type": "code",
   "execution_count": 17,
   "id": "db408704",
   "metadata": {},
   "outputs": [
    {
     "name": "stdout",
     "output_type": "stream",
     "text": [
      "Beta: 5.5095%\n",
      "Probability to say these monitors are faulty when they aren't.\n"
     ]
    }
   ],
   "source": [
    "# faulty rate\n",
    "n = 100\n",
    "p = 0.15\n",
    "r = [0,1,2,3,4,5,6,7,8,9]\n",
    "t2_dist = scipy.stats.binom.pmf(r, n, p)\n",
    "sum_t2_dist = np.sum(t2_dist)\n",
    "# 1-P to get true value (9->100 rather than 0->9)\n",
    "h2_hyp = sum_t2_dist\n",
    "\n",
    "print(\"Beta: {:.4f}%\".format(h2_hyp*100))\n",
    "print(\"Probability to say these monitors are faulty when they aren't.\")"
   ]
  },
  {
   "cell_type": "markdown",
   "id": "65907b49",
   "metadata": {},
   "source": [
    "## Problem #2\n",
    "\n",
    "ToF system designed to separate kaons from pions consists of two scintillation counters that are a distance L = 20m apart.\n",
    "\n",
    "resolution of our scintillators is $\\sigma = 400ps$, so times reported by system follows a Gaussian distribution with mean t and width $\\sigma$"
   ]
  },
  {
   "cell_type": "code",
   "execution_count": 117,
   "id": "632009af",
   "metadata": {},
   "outputs": [],
   "source": [
    "# Setting values, setting c=1\n",
    "L = 66.6666 # ns\n",
    "sigma = 0.4 # ns\n",
    "k_mass = 493.7 # MeV\n",
    "p_mass = 139.6 # MeV\n",
    "# pion and kaon momenta\n",
    "p_momenta = 3000 # MeV\n",
    "k_momenta = 3000 # MeV\n",
    "\n",
    "\n",
    "\n",
    "# creating t function\n",
    "def t_definition(mass, momenta, L):\n",
    "    t = L * np.power(1+(mass/momenta)**2,0.5)\n",
    "    return t"
   ]
  },
  {
   "cell_type": "code",
   "execution_count": 134,
   "id": "2d9f6a3c",
   "metadata": {},
   "outputs": [],
   "source": [
    "# create gaussian class that calcs integral between arbitrary point xval and +-infinity, with two methods\n",
    "class Gaussian:\n",
    "    def __init__(self, mean, sigma, cut):\n",
    "        self.mean = mean\n",
    "        self.sigma = sigma\n",
    "        self.xmin = xmin\n",
    "        self.xmax = xmax\n",
    "        self.cut = cut\n",
    "    \n",
    "    def gauss(self, x):\n",
    "        # define the gaussian\n",
    "        y = np.exp(-np.power(x - self.mean, 2.) / (2 * np.power(self.sigma, 2.)))  *1/(np.power(2*np.pi*self.sigma, 0.5))\n",
    "        return y\n",
    "    \n",
    "    def integralAbove(self):\n",
    "        # integral above the cut\n",
    "        return scipy.integrate.quad(self.gauss, self.cut, self.xmax)[0]\n",
    "        \n",
    "        \n",
    "    def integralBelow(self):\n",
    "        return scipy.integrate.quad(self.gauss, self.xmin, self.cut)[0]"
   ]
  },
  {
   "cell_type": "code",
   "execution_count": 135,
   "id": "a9f6fe26",
   "metadata": {},
   "outputs": [],
   "source": [
    "# Set xmin and xmax here (time)\n",
    "xmin = 0\n",
    "xmax = np.inf"
   ]
  },
  {
   "cell_type": "markdown",
   "id": "a9e6f093",
   "metadata": {},
   "source": [
    "Create ROC class that calculates a_i and B_i pairs of TOF performance for distinguishing between pions and kaons for a given momentum p and an arbitrary threshold t_i cut. Use the class to produce 100 performance points evenly spaced between the average travel time for kaons and pions."
   ]
  },
  {
   "cell_type": "code",
   "execution_count": 136,
   "id": "0b878820",
   "metadata": {},
   "outputs": [],
   "source": [
    "class ROC:\n",
    "    def __init__(self, cut, mean, sigma):\n",
    "        self.cut = cut\n",
    "        self.mean = mean\n",
    "        self.sigma = sigma\n",
    "    \n",
    "    # Calculates the significance level\n",
    "    def significance(self):\n",
    "        sigval = Gaussian(self.mean, self.sigma, self.cut)\n",
    "        significance_val = sigval.integralBelow()\n",
    "        return significance_val\n",
    "    \n",
    "    # Calculate the type 2 error (beta value)\n",
    "    def beta_calc(self):\n",
    "        sigval = Gaussian(self.mean, self.sigma, self.cut)\n",
    "        beta_val = sigval.integralAbove()\n",
    "        return beta_val\n",
    "    \n",
    "    "
   ]
  },
  {
   "cell_type": "code",
   "execution_count": 137,
   "id": "f28b8b14",
   "metadata": {},
   "outputs": [
    {
     "name": "stdout",
     "output_type": "stream",
     "text": [
      "5.369567637243396\n"
     ]
    }
   ],
   "source": [
    "# testing functionality\n",
    "object = ROC(500, 700, 400)\n",
    "value = object.significance()\n",
    "print(value)"
   ]
  },
  {
   "cell_type": "code",
   "execution_count": 141,
   "id": "3885ddca",
   "metadata": {},
   "outputs": [
    {
     "name": "stdout",
     "output_type": "stream",
     "text": [
      "0.6319447679840061\n",
      "0.08694740712651344\n"
     ]
    }
   ],
   "source": [
    "# calculate mean for our object\n",
    "p_mean = t_definition(p_mass, p_momenta, L)\n",
    "k_mean = t_definition(k_mass, k_momenta, L)\n",
    "\n",
    "p_obj = ROC(68, p_mean, sigma)\n",
    "k_obj = ROC(68, k_mean, sigma)\n",
    "\n",
    "print(p_obj.significance())\n",
    "print(k_obj.beta_calc())"
   ]
  },
  {
   "cell_type": "code",
   "execution_count": 145,
   "id": "e6283327",
   "metadata": {},
   "outputs": [],
   "source": [
    "# Create graph of changing beta and alpha values within range 66 and 68\n",
    "t_space = np.linspace(66, 68, 100)\n",
    "\n",
    "p_alpha_3gev = []\n",
    "p_alpha_6gev = []\n",
    "p_alpha_9gev = []\n",
    "\n",
    "p_beta_3gev = []\n",
    "p_beta_6gev = []\n",
    "p_beta_9gev = []\n",
    "\n",
    "k_alpha_3gev = []\n",
    "k_alpha_6gev = []\n",
    "k_alpha_9gev = []\n",
    "\n",
    "k_beta_3gev = []\n",
    "k_beta_6gev = []\n",
    "k_beta_9gev = []\n",
    "\n",
    "\n",
    "# define the t values for each momenta\n",
    "\n",
    "p_mean = []\n",
    "p_mean.append(t_definition(p_mass, 3000, L))\n",
    "p_mean.append(t_definition(p_mass, 6000, L))\n",
    "p_mean.append(t_definition(p_mass, 9000, L))\n",
    "\n",
    "k_mean = []\n",
    "k_mean.append(t_definition(k_mass, 3000, L))\n",
    "k_mean.append(t_definition(k_mass, 6000, L))\n",
    "k_mean.append(t_definition(k_mass, 9000, L))\n",
    "\n",
    "for i in range(len(t_space)):\n",
    "    \n",
    "    # p loop for difference momenta\n",
    "    for j in range(len(p_mean)):\n",
    "        p_obj = ROC(t_space[i], p_mean[j], sigma)\n",
    "        # separate into correct sections\n",
    "        if j==0:\n",
    "            p_alpha_3gev.append(p_obj.significance())\n",
    "            p_beta_3gev.append(p_obj.beta_calc())\n",
    "        elif j==1:\n",
    "            p_alpha_6gev.append(p_obj.significance())\n",
    "            p_beta_6gev.append(p_obj.beta_calc())\n",
    "        elif j==2:\n",
    "            p_alpha_9gev.append(p_obj.significance())\n",
    "            p_beta_9gev.append(p_obj.beta_calc())\n",
    "        \n",
    "for i in range(len(t_space)):\n",
    "    \n",
    "    # k loop for difference momenta\n",
    "    for j in range(len(k_mean)):\n",
    "        k_obj = ROC(t_space[i], k_mean[j], sigma)\n",
    "        # separate into correct sections\n",
    "        if j==0:\n",
    "            k_alpha_3gev.append(k_obj.significance())\n",
    "            k_beta_3gev.append(k_obj.beta_calc())\n",
    "        elif j==1:\n",
    "            k_alpha_6gev.append(k_obj.significance())\n",
    "            k_beta_6gev.append(k_obj.beta_calc())\n",
    "        elif j==2:\n",
    "            k_alpha_9gev.append(k_obj.significance())\n",
    "            k_beta_9gev.append(k_obj.beta_calc())\n",
    "\n",
    "                   \n"
   ]
  },
  {
   "cell_type": "code",
   "execution_count": 146,
   "id": "4de7bead",
   "metadata": {},
   "outputs": [
    {
     "data": {
      "image/png": "[encoded data removed]",
      "text/plain": [
       "<Figure size 432x288 with 1 Axes>"
      ]
     },
     "metadata": {
      "needs_background": "light"
     },
     "output_type": "display_data"
    },
    {
     "data": {
      "image/png": "[encoded data removed]",
      "text/plain": [
       "<Figure size 432x288 with 1 Axes>"
      ]
     },
     "metadata": {
      "needs_background": "light"
     },
     "output_type": "display_data"
    },
    {
     "data": {
      "image/png": "[encoded data removed]",
      "text/plain": [
       "<Figure size 432x288 with 1 Axes>"
      ]
     },
     "metadata": {
      "needs_background": "light"
     },
     "output_type": "display_data"
    },
    {
     "data": {
      "image/png": "[encoded data removed]",
      "text/plain": [
       "<Figure size 432x288 with 1 Axes>"
      ]
     },
     "metadata": {
      "needs_background": "light"
     },
     "output_type": "display_data"
    }
   ],
   "source": [
    "# Plot the results\n",
    "plt.plot(t_space, k_alpha_3gev)\n",
    "plt.plot(t_space, k_alpha_6gev)\n",
    "plt.plot(t_space, k_alpha_9gev)\n",
    "plt.show()\n",
    "\n",
    "plt.plot(t_space, p_alpha_3gev)\n",
    "plt.plot(t_space, p_alpha_6gev)\n",
    "plt.plot(t_space, p_alpha_9gev)\n",
    "plt.show()\n",
    "\n",
    "\n",
    "\n",
    "plt.plot(t_space, k_beta_3gev)\n",
    "plt.plot(t_space, k_beta_6gev)\n",
    "plt.plot(t_space, k_beta_9gev)\n",
    "plt.show()\n",
    "\n",
    "plt.plot(t_space, p_beta_3gev)\n",
    "plt.plot(t_space, p_beta_6gev)\n",
    "plt.plot(t_space, p_beta_9gev)\n",
    "plt.show()"
   ]
  },
  {
   "cell_type": "markdown",
   "id": "74c4c1e4",
   "metadata": {},
   "source": [
    "This is with the hypothesis that it is a pion or isn't, rather than it is a pion but its a kaon, or vice versa. Need to change where the integrals are defined.\n",
    "\n",
    "So need to change it within the ROC definition. Pion is lighter than kaon. Pion is first gaussian in time then and Kaon is later, so you have a cutoff time for the pion and kaon (one side pion, one side kaon). \n",
    "\n",
    "alpha is prob of saying its a kaon when its a pion\n",
    "\n",
    "beta is prob of saying its a pion when its a kaon\n",
    "\n"
   ]
  },
  {
   "cell_type": "code",
   "execution_count": null,
   "id": "788caaf9",
   "metadata": {},
   "outputs": [],
   "source": []
  }
 ],
 "metadata": {
  "kernelspec": {
   "display_name": "Python 3 (ipykernel)",
   "language": "python",
   "name": "python3"
  },
  "language_info": {
   "codemirror_mode": {
    "name": "ipython",
    "version": 3
   },
   "file_extension": ".py",
   "mimetype": "text/x-python",
   "name": "python",
   "nbconvert_exporter": "python",
   "pygments_lexer": "ipython3",
   "version": "3.8.10"
  }
 },
 "nbformat": 4,
 "nbformat_minor": 5
}
