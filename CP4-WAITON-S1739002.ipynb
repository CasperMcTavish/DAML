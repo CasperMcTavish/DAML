{
 "cells": [
  {
   "cell_type": "code",
   "execution_count": 41,
   "id": "185a36dd",
   "metadata": {},
   "outputs": [],
   "source": [
    "# importing\n",
    "import sys\n",
    "import numpy as np\n",
    "import matplotlib.pylab as plt"
   ]
  },
  {
   "cell_type": "code",
   "execution_count": 42,
   "id": "1d801360",
   "metadata": {},
   "outputs": [],
   "source": [
    "# Muon decay, for ease of code, microseconds will be the standard\n",
    "tau = 2.2"
   ]
  },
  {
   "cell_type": "code",
   "execution_count": 43,
   "id": "4807b51c",
   "metadata": {},
   "outputs": [],
   "source": [
    "# BOX METHOD - WILL BE USING THIS\n",
    "   # Produce probability density function\n",
    "def exp_pdf(x,tau):\n",
    "    pdf_val = (1/tau)*np.exp(-x/tau)\n",
    "    return pdf_val"
   ]
  },
  {
   "cell_type": "code",
   "execution_count": 55,
   "id": "3dabd327",
   "metadata": {},
   "outputs": [],
   "source": [
    "# Create a simulation function that scales to whatever value of tau that is needed, between 0 and upper limit\n",
    "def mu_sims(runs, tau, upperlim):\n",
    "        # Create list of pdf results\n",
    "    pdf_list = []\n",
    "        # Create values for upper and lower limits required by the box random generator\n",
    "    l_limit = 0\n",
    "    h_limit = 1\n",
    "        # find f_max by taking exponent at maximum and multiplying by 1.1\n",
    "        # 1.1 chosen arbitrarily as it makes it larger than max value of f\n",
    "    f_max = exp_pdf(0,tau) * 1.1\n",
    "\n",
    "        # Create N random muon decays across 10 microseconds\n",
    "    while (len(pdf_list) < runs):\n",
    "            # generate random number within our pdf range scale between 0 and our upperlimit (of 10)\n",
    "        x1 = np.random.uniform(low = l_limit, high = h_limit*upperlim)\n",
    "            # Apply our pdf\n",
    "        y1 = exp_pdf(x1,tau)\n",
    "            # generate second random number scale between 0 and our f_max\n",
    "        y2 = np.random.uniform(low = l_limit, high = h_limit*f_max)\n",
    "\n",
    "            # Check if y2 < y1. If so, add to list\n",
    "        if (y2 < y1):\n",
    "            pdf_list.append(x1)\n",
    "        else:\n",
    "            continue;\n",
    "            \n",
    "    return pdf_list\n",
    "   \n",
    "        "
   ]
  },
  {
   "cell_type": "code",
   "execution_count": 56,
   "id": "373717fc",
   "metadata": {},
   "outputs": [
    {
     "name": "stdout",
     "output_type": "stream",
     "text": [
      "The mean for our 1000 simulated muon decays is given as 2.136us.\n",
      "This (should be) in close agreement with our tau value of 2.2us.\n"
     ]
    },
    {
     "data": {
      "image/png": "[encoded data removed]",
      "text/plain": [
       "<Figure size 432x288 with 1 Axes>"
      ]
     },
     "metadata": {
      "needs_background": "light"
     },
     "output_type": "display_data"
    }
   ],
   "source": [
    "# Run our simulation for 1000 runs\n",
    "pdf_list = mu_sims(1000, tau, 10)\n",
    "\n",
    "    # Calculate the mean which gives the estimate of tau\n",
    "print(\"The mean for our {} simulated muon decays is given as {:.3f}us.\\nThis (should be) in close agreement with our tau value of {}us.\".format(len(pdf_list),np.mean(pdf_list),tau))\n",
    "    # Print histogram of pdf_list and describe the results\n",
    "plt.title(\"Histogram of 1000 generated muon decays.\")\n",
    "plt.xlabel(\"Microseconds\")\n",
    "plt.ylabel(\"Density\")\n",
    "plt.hist(pdf_list, bins = 20, density = True)\n",
    "plt.show()"
   ]
  },
  {
   "cell_type": "code",
   "execution_count": 57,
   "id": "b86ca88a",
   "metadata": {},
   "outputs": [
    {
     "name": "stdout",
     "output_type": "stream",
     "text": [
      "The mean is given as 2.055us, which is in close agreement with our tau value.\n"
     ]
    },
    {
     "data": {
      "image/png": "[encoded data removed]",
      "text/plain": [
       "<Figure size 432x288 with 1 Axes>"
      ]
     },
     "metadata": {
      "needs_background": "light"
     },
     "output_type": "display_data"
    }
   ],
   "source": [
    "# NUMPY - THIS METHOD WONT BE USED AS I WANT TO RESTRICT WITHIN RANGE 0->10\n",
    "\n",
    "    # Use numpy to generate exponential distribution for 1000 points.\n",
    "edist = np.random.exponential(tau,1000)\n",
    "\n",
    "    # Calculate the mean which gives the estimate of tau\n",
    "print(\"The mean is given as {:.3f}us, which is in close agreement with our tau value.\".format(np.mean(edist)))\n",
    "    # Plot histogram of distribution\n",
    "plt.title(\"Histogram of 1000 generated muon decays.\")\n",
    "plt.xlabel(\"Microseconds\")\n",
    "plt.ylabel(\"Density\")\n",
    "plt.hist(edist, bins = 20, density = True)\n",
    "plt.show()"
   ]
  },
  {
   "cell_type": "markdown",
   "id": "185607be",
   "metadata": {},
   "source": [
    "## The value isn't quite the same, and as is referenced in the sheet is always a little lower than the expected value for decay.\n",
    "\n",
    "## Due to the random nature of the test, it isn't too surprising that the value isn't perfectly equal to 2.2us, but the reason for it always being lower is that the probability of achieving a lower lifetime is higher than achieving a larger one, so the probability (if it is inaccurate) will shift preferably to lower values.\n",
    "\n"
   ]
  },
  {
   "cell_type": "code",
   "execution_count": 58,
   "id": "fb8c74b2",
   "metadata": {},
   "outputs": [],
   "source": [
    "# Repeat the whole experiment 500 times and calculate the estimate of tau for each\n",
    "\n",
    "    # Tau esimate array\n",
    "tau_est = []\n",
    "\n",
    "for i in range(500):\n",
    "        # Run simulation\n",
    "    pdf_list = mu_sims(1000, tau, 10)\n",
    "        # Append to list\n",
    "    tau_est.append(np.mean(pdf_list))\n",
    "\n"
   ]
  },
  {
   "cell_type": "code",
   "execution_count": 60,
   "id": "4fadc07a",
   "metadata": {},
   "outputs": [
    {
     "data": {
      "image/png": "[encoded data removed]",
      "text/plain": [
       "<Figure size 432x288 with 1 Axes>"
      ]
     },
     "metadata": {
      "needs_background": "light"
     },
     "output_type": "display_data"
    }
   ],
   "source": [
    "# Plot \n",
    "plt.title(\"Histogram of Tau estimates for 500 experiments.\")\n",
    "plt.xlabel(\"Microseconds\")\n",
    "plt.ylabel(\"Density\")\n",
    "plt.hist(tau_est, bins = 30, density = True)\n",
    "plt.show()"
   ]
  },
  {
   "cell_type": "markdown",
   "id": "f3bd81ef",
   "metadata": {},
   "source": [
    "## What did we learn from this distribution?\n",
    "\n",
    "It appears to be gaussian in its distribution.\n",
    "Believing this, we can determine that 3 sigma from the centre is about 2.25 - 2.10 = 0.15 (This is done just by eye on this run, can be done via codeas well.), which gives a standard deviation of about 0.05. This means our results are (at a minimum) 2 sigma from the true result (assuming 2.10 is the mean) which shows a general lack of accuracy. The small value for sigma demonstrates a high precision however.\n",
    "\n",
    "## Estimating the true lifetime from any single experiment is difficult. It's clear from the above graph that at the very least we can get to within a range of 0.3 or less around the true value (from 1.9us to 2.3us) from a single experiment\n",
    "\n",
    "## METHOD BIAS\n",
    "\n"
   ]
  },
  {
   "cell_type": "code",
   "execution_count": null,
   "id": "9ee18c32",
   "metadata": {},
   "outputs": [],
   "source": []
  }
 ],
 "metadata": {
  "kernelspec": {
   "display_name": "Python 3 (ipykernel)",
   "language": "python",
   "name": "python3"
  },
  "language_info": {
   "codemirror_mode": {
    "name": "ipython",
    "version": 3
   },
   "file_extension": ".py",
   "mimetype": "text/x-python",
   "name": "python",
   "nbconvert_exporter": "python",
   "pygments_lexer": "ipython3",
   "version": "3.7.10"
  }
 },
 "nbformat": 4,
 "nbformat_minor": 5
}
