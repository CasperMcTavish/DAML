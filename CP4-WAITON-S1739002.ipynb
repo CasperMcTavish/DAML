{
 "cells": [
  {
   "cell_type": "code",
   "execution_count": 1,
   "id": "185a36dd",
   "metadata": {},
   "outputs": [],
   "source": [
    "# importing\n",
    "import sys\n",
    "import numpy as np\n",
    "import matplotlib.pylab as plt"
   ]
  },
  {
   "cell_type": "code",
   "execution_count": 2,
   "id": "1d801360",
   "metadata": {},
   "outputs": [],
   "source": [
    "# Muon decay, for ease of code, microseconds will be the standard\n",
    "tau = 2.2"
   ]
  },
  {
   "cell_type": "code",
   "execution_count": 3,
   "id": "4807b51c",
   "metadata": {},
   "outputs": [],
   "source": [
    "# BOX METHOD - WILL BE USING THIS\n",
    "   # Produce probability density function\n",
    "def exp_pdf(x,tau):\n",
    "    pdf_val = (1/tau)*np.exp(-x/tau)\n",
    "    return pdf_val"
   ]
  },
  {
   "cell_type": "code",
   "execution_count": 4,
   "id": "3dabd327",
   "metadata": {},
   "outputs": [],
   "source": [
    "# Create a simulation function that scales to whatever value of tau that is needed, between 0 and upper limit\n",
    "def mu_sims(runs, tau, upperlim):\n",
    "        # Create list of pdf results\n",
    "    pdf_list = []\n",
    "        # Create values for upper and lower limits required by the box random generator\n",
    "    l_limit = 0\n",
    "    h_limit = 1\n",
    "        # find f_max by taking exponent at maximum and multiplying by 1.1\n",
    "        # 1.1 chosen arbitrarily as it makes it larger than max value of f\n",
    "    f_max = exp_pdf(0,tau) * 1.1\n",
    "\n",
    "        # Create N random muon decays across 10 microseconds\n",
    "    while (len(pdf_list) < runs):\n",
    "            # generate random number within our pdf range scale between 0 and our upperlimit (of 10)\n",
    "        x1 = np.random.uniform(low = l_limit, high = h_limit*upperlim)\n",
    "            # Apply our pdf\n",
    "        y1 = exp_pdf(x1,tau)\n",
    "            # generate second random number scale between 0 and our f_max\n",
    "        y2 = np.random.uniform(low = l_limit, high = h_limit*f_max)\n",
    "\n",
    "            # Check if y2 < y1. If so, add to list\n",
    "        if (y2 < y1):\n",
    "            pdf_list.append(x1)\n",
    "        else:\n",
    "            continue;\n",
    "            \n",
    "    return pdf_list\n",
    "   \n",
    "        "
   ]
  },
  {
   "cell_type": "code",
   "execution_count": 5,
   "id": "373717fc",
   "metadata": {},
   "outputs": [
    {
     "name": "stdout",
     "output_type": "stream",
     "text": [
      "The mean for our 1000 simulated muon decays is given as 2.167us.\n",
      "This (should be) in close agreement with our tau value of 2.2us.\n"
     ]
    },
    {
     "data": {
      "image/png": "[encoded data removed]",
      "text/plain": [
       "<Figure size 432x288 with 1 Axes>"
      ]
     },
     "metadata": {
      "needs_background": "light"
     },
     "output_type": "display_data"
    }
   ],
   "source": [
    "# Run our simulation for 1000 runs\n",
    "pdf_list = mu_sims(1000, tau, 10)\n",
    "\n",
    "    # Calculate the mean which gives the estimate of tau\n",
    "print(\"The mean for our {} simulated muon decays is given as {:.3f}us.\\nThis (should be) in close agreement with our tau value of {}us.\".format(len(pdf_list),np.mean(pdf_list),tau))\n",
    "    # Print histogram of pdf_list and describe the results\n",
    "plt.title(\"Histogram of 1000 generated muon decays.\")\n",
    "plt.xlabel(\"Microseconds\")\n",
    "plt.ylabel(\"Density\")\n",
    "plt.hist(pdf_list, bins = 20, density = True)\n",
    "plt.show()"
   ]
  },
  {
   "cell_type": "code",
   "execution_count": 6,
   "id": "b86ca88a",
   "metadata": {},
   "outputs": [],
   "source": [
    "# NUMPY - THIS METHOD WONT BE USED AS I WANT TO RESTRICT WITHIN RANGE 0->10\n",
    "\n",
    "    # Use numpy to generate exponential distribution for 1000 points.\n",
    "##edist = np.random.exponential(tau,1000)\n",
    "\n",
    "    # Calculate the mean which gives the estimate of tau\n",
    "##print(\"The mean is given as {:.3f}us, which is in close agreement with our tau value.\".format(np.mean(edist)))\n",
    "    # Plot histogram of distribution\n",
    "##plt.title(\"Histogram of 1000 generated muon decays.\")\n",
    "##plt.xlabel(\"Microseconds\")\n",
    "##plt.ylabel(\"Density\")\n",
    "##plt.hist(edist, bins = 20, density = True)\n",
    "##plt.show()"
   ]
  },
  {
   "cell_type": "markdown",
   "id": "185607be",
   "metadata": {},
   "source": [
    "## The value isn't quite the same, and as is referenced in the sheet is always a little lower than the expected value for decay.\n",
    "\n",
    "## The reason our tau estimate is lower than expected is because we limit our exponential distribution to within 10 microseconds, so we remove the tail of the distribution (as the exponential distribution would continue to infinity) and therefore the result of shifted to smaller values.\n"
   ]
  },
  {
   "cell_type": "code",
   "execution_count": 16,
   "id": "fb8c74b2",
   "metadata": {},
   "outputs": [
    {
     "name": "stdout",
     "output_type": "stream",
     "text": [
      "500\n"
     ]
    }
   ],
   "source": [
    "# Repeat the whole experiment 500 times and calculate the estimate of tau for each\n",
    "\n",
    "    # Tau esimate array\n",
    "tau_est = []\n",
    "\n",
    "for i in range(500):\n",
    "        # Run simulation\n",
    "    pdf_list = mu_sims(1000, tau, 10)\n",
    "        # Append to list\n",
    "    tau_est.append(np.mean(pdf_list))\n",
    "\n"
   ]
  },
  {
   "cell_type": "code",
   "execution_count": 17,
   "id": "4fadc07a",
   "metadata": {},
   "outputs": [
    {
     "data": {
      "image/png": "[encoded data removed]",
      "text/plain": [
       "<Figure size 432x288 with 1 Axes>"
      ]
     },
     "metadata": {
      "needs_background": "light"
     },
     "output_type": "display_data"
    }
   ],
   "source": [
    "# Plot \n",
    "plt.title(\"Histogram of Tau estimates for 500 experiments.\")\n",
    "plt.xlabel(\"Microseconds\")\n",
    "plt.ylabel(\"Density\")\n",
    "plt.hist(tau_est, bins = 30, density = True)\n",
    "plt.show()"
   ]
  },
  {
   "cell_type": "code",
   "execution_count": 19,
   "id": "9d0ddde6",
   "metadata": {},
   "outputs": [
    {
     "name": "stdout",
     "output_type": "stream",
     "text": [
      "Mean muon lifetime estimate for single experiment: 2.089us\n",
      "Standard Deviation: 0.066us\n",
      "Bias against true lifetime: 0.111us\n",
      "Number of Sigma from true lifetime: 1.679\n",
      "Standard error on the Mean: 0.003us\n"
     ]
    }
   ],
   "source": [
    "# Calculating statistical values of importance\n",
    "    # mean\n",
    "t_mean = np.mean(tau_est)\n",
    "    # standard deviation\n",
    "t_std = np.std(tau_est)\n",
    "    # bias\n",
    "bias = tau - t_mean\n",
    "    # precision on the bias\n",
    "error_on_mean = t_std/np.sqrt(len(tau_est))\n",
    "    # sigma from mean\n",
    "sig_from_mean = bias/t_std\n",
    "\n",
    "print(\"Mean muon lifetime estimate for single experiment: {:.3f}us\\nStandard Deviation: {:.3f}us\\nBias against true lifetime: {:.3f}us\\nNumber of Sigma from true lifetime: {:.3f}\\nStandard error on the Mean: {:.3f}us\".format(t_mean,t_std,bias,sig_from_mean,error_on_mean))\n"
   ]
  },
  {
   "cell_type": "markdown",
   "id": "f3bd81ef",
   "metadata": {},
   "source": [
    "## What did we learn from this distribution?\n",
    "\n",
    "It appears to be a gaussian distribution.\n",
    "We can determine the numerical precision for one experiment to be the standard deviation of our gaussian distribution, which is calculated above (in this run, as 0.060).\n",
    "\n",
    "Our method has the bias described earlier, due to cutting off the exponential distribution at 10 microseconds. This gives us a bias in our measurements that is calculated above (in this run, as 0.112us)\n",
    "\n",
    "The precision on the bias can be taken as the standard error on the mean, and in this case is the result 0.003us."
   ]
  },
  {
   "cell_type": "code",
   "execution_count": null,
   "id": "e6d7dfc7",
   "metadata": {},
   "outputs": [],
   "source": []
  }
 ],
 "metadata": {
  "kernelspec": {
   "display_name": "Python 3 (ipykernel)",
   "language": "python",
   "name": "python3"
  },
  "language_info": {
   "codemirror_mode": {
    "name": "ipython",
    "version": 3
   },
   "file_extension": ".py",
   "mimetype": "text/x-python",
   "name": "python",
   "nbconvert_exporter": "python",
   "pygments_lexer": "ipython3",
   "version": "3.8.10"
  }
 },
 "nbformat": 4,
 "nbformat_minor": 5
}
