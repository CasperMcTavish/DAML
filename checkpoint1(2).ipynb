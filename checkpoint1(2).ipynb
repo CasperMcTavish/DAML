{
 "cells": [
  {
   "cell_type": "markdown",
   "metadata": {},
   "source": [
    "# Checkpoint 1: Neural networks and deep learning\n",
    "---\n",
    "*Responsible:* Guillermo Hamity (<ghamity@ed.ac.uk>)\n",
    "\n",
    "In this checkpoint exercise, we will use neural networks to predict the **type** of weather *given* the available ground observations. You will be using observation data from **June 2019** across all UK Met Office weather stations.\n",
    "\n",
    "### Notes on the Dataset\n",
    "* You will be using weather observation data from the UK Met Office Datapoint service\n",
    "* Ground observations are made hourly at weather stations across the length of the UK \n",
    "* The data sample covers data from June 2019\n",
    "* Data collections for each day starts at 6.30pm. All observation data is listed in one day blocks\n",
    "* The time value column refers to the number of minutes after midnight \n",
    "* `Null` values for some features are expected (e.g. Wind Gust)\n",
    "* Data import and preparation is already provided \n",
    "\n",
    "\n",
    "This week, I am not providing example notebooks like `lecture2.ipynb` and `data-science-tools.ipynb` for Unit 2, though these may still be useful to you. Instead, I am **providing the imports for all of the modules and classes that you should need.** Think of these as LEGO blocks; you have the ones you need but may look up how to \"assemble\" them.\n",
    "\n",
    "### Notes on assessment\n",
    "* Try and calculate the answers to the exercises provided. If you are unable to complete the question, describe which approach you _would_ have taken to solve the problem\n",
    "* Code must be understandable and reproducible. Before grading the notebook kernel **may** be restarted and re-run, so make sure that your code can run from start to finish without any (unintentional) errors\n",
    "* If you are unsure on how to proceed please **ask one of the TAs** during the workshop\n",
    "- Notebooks should be submitted by **10am on Friday 9 October 2021** \n",
    "- This CP exercise sheet is divided into **6 sections**, corresponding to parts of the lecture, giving a maximum of **10 marks** in total:\n",
    "\n",
    "| <p align='left'> Title                         | <p align='left'> Exercise nos. | <p align='left'> Number of marks |\n",
    "| ------------------------------------- | ----- | --- |\n",
    "| <p align='left'> 1. Conceptual questions               | <p align='left'>  1–5  | <p align='left'> 2.5 |\n",
    "| <p align='left'> 2. Data preprocessing and RandomForest                | <p align='left'>  6–9  | <p align='left'> 2.5 |\n",
    "| <p align='left'> 3. Neural networks in `scikit-learn`  | <p align='left'>  10–11 | <p align='left'> 1.5 | \n",
    "| <p align='left'> 4. Neural networks in `Keras`         | <p align='left'> 12–13 | <p align='left'> 2 |\n",
    "| <p align='left'> 5. Regularisation                     | <p align='left'> 14–15 | <p align='left'> 1.5 |\n",
    "| <p align='left'> 6. Bonus: Hyperparameter optimisation | <p align='left'> 16 | <p align='left'> 1.0 (\\*bonus\\*) |\n",
    "| <p align='left'> **Total** | | <p align='left'> **10 + 1** |\n",
    "\n",
    "- The total number of marks allocated for this CP is 10,\n",
    "    - 1 additional mark can be given (maximimally up to 10 marks in total) for \"bonus\" exercise on hyperparameter optimisation. If you are pressed for time, focus on the first five sections; those are the core ones.\n",
    "    - Half marks may be deducted for code legibility (i.e. very difficult to tell what you are doing), or for badly formated plots (i.e. no legends, axis labels etc.). The TAs will use their discression for this so comment code when applicable and keep relevant information in your plots.\n",
    "\n",
    "_Note:_ You can suppress double-printing of plots from the `plot` module by either _(a)_ adding a semicolon after the function call (_i.e._ `plot.<method>(...);`), or _(b)_ by capturing the return `pyplot.Figure` object as a variable (_i.e._ `fig = plot.<method>(...)`)."
   ]
  },
  {
   "cell_type": "markdown",
   "metadata": {},
   "source": [
    "## Preamble"
   ]
  },
  {
   "cell_type": "code",
   "execution_count": 1,
   "metadata": {},
   "outputs": [
    {
     "name": "stderr",
     "output_type": "stream",
     "text": [
      "2021-10-06 12:34:53.077054: I tensorflow/core/platform/cpu_feature_guard.cc:142] This TensorFlow binary is optimized with oneAPI Deep Neural Network Library (oneDNN) to use the following CPU instructions in performance-critical operations:  SSE4.1 SSE4.2 AVX AVX2 FMA\n",
      "To enable them in other operations, rebuild TensorFlow with the appropriate compiler flags.\n"
     ]
    }
   ],
   "source": [
    "# Standard import(s)\n",
    "import numpy as np\n",
    "import pandas as pd\n",
    "import random as rn\n",
    "import sklearn\n",
    "import tensorflow as tf\n",
    "import matplotlib.pyplot as plt\n",
    "import seaborn as sns\n",
    "import os\n",
    "%matplotlib inline\n",
    "\n",
    "# Suppress unnecessary ConvergenceWarGraph disconnected: cannot obtain value for tensor KerasTensor(type_spec=TensorSpec(shape=(None, 23), dtype=tf.float32, name='input_9'), name='input_9', description=\"created by layer 'input_9'\") at layer \"dense_12\". The following previous layers were accessed without issue: []nings and DeprecationWarnings\n",
    "import warnings\n",
    "from sklearn.exceptions import ConvergenceWarning\n",
    "warnings.filterwarnings(action='ignore', category=ConvergenceWarning)\n",
    "warnings.filterwarnings(action='ignore', category=DeprecationWarning)\n",
    "\n",
    "# Set a random seed variable to make workbook reproducible\n",
    "seed=5\n",
    "np.random.seed(seed)\n",
    "rn.seed(seed)\n",
    "os.environ['PYTHONHASHSEED']=str(seed)\n",
    "tf.compat.v1.set_random_seed(seed)\n",
    "\n",
    "# Switch off multi-threading for TensorFlow\n",
    "from tensorflow.python.keras import backend as K\n",
    "config = tf.compat.v1.ConfigProto(intra_op_parallelism_threads=1,\n",
    "                                  inter_op_parallelism_threads=1)\n",
    "sess = tf.compat.v1.Session(graph=tf.compat.v1.get_default_graph(), config=config)\n",
    "K.set_session(sess)"
   ]
  },
  {
   "cell_type": "code",
   "execution_count": 2,
   "metadata": {},
   "outputs": [
    {
     "data": {
      "text/html": [
       "<div>\n",
       "<style scoped>\n",
       "    .dataframe tbody tr th:only-of-type {\n",
       "        vertical-align: middle;\n",
       "    }\n",
       "\n",
       "    .dataframe tbody tr th {\n",
       "        vertical-align: top;\n",
       "    }\n",
       "\n",
       "    .dataframe thead th {\n",
       "        text-align: right;\n",
       "    }\n",
       "</style>\n",
       "<table border=\"1\" class=\"dataframe\">\n",
       "  <thead>\n",
       "    <tr style=\"text-align: right;\">\n",
       "      <th></th>\n",
       "      <th>StationID</th>\n",
       "      <th>StationName</th>\n",
       "      <th>Elevation</th>\n",
       "      <th>Latitude</th>\n",
       "      <th>Longitude</th>\n",
       "      <th>Date</th>\n",
       "      <th>Time</th>\n",
       "      <th>Gust</th>\n",
       "      <th>Temperature</th>\n",
       "      <th>Visibility</th>\n",
       "      <th>WindDirection</th>\n",
       "      <th>WindSpeed</th>\n",
       "      <th>Pressure</th>\n",
       "      <th>PressureTrend</th>\n",
       "      <th>DewPoint</th>\n",
       "      <th>Humidity</th>\n",
       "      <th>Type</th>\n",
       "    </tr>\n",
       "  </thead>\n",
       "  <tbody>\n",
       "    <tr>\n",
       "      <th>0</th>\n",
       "      <td>3002</td>\n",
       "      <td>BALTASOUND</td>\n",
       "      <td>15.0</td>\n",
       "      <td>60.749</td>\n",
       "      <td>-0.854</td>\n",
       "      <td>2018-05-31</td>\n",
       "      <td>1020</td>\n",
       "      <td>NaN</td>\n",
       "      <td>16.1</td>\n",
       "      <td>30000.0</td>\n",
       "      <td>E</td>\n",
       "      <td>8.0</td>\n",
       "      <td>1019.0</td>\n",
       "      <td>F</td>\n",
       "      <td>11.6</td>\n",
       "      <td>74.5</td>\n",
       "      <td>0</td>\n",
       "    </tr>\n",
       "    <tr>\n",
       "      <th>1</th>\n",
       "      <td>3002</td>\n",
       "      <td>BALTASOUND</td>\n",
       "      <td>15.0</td>\n",
       "      <td>60.749</td>\n",
       "      <td>-0.854</td>\n",
       "      <td>2018-05-31</td>\n",
       "      <td>1080</td>\n",
       "      <td>NaN</td>\n",
       "      <td>14.9</td>\n",
       "      <td>22000.0</td>\n",
       "      <td>E</td>\n",
       "      <td>8.0</td>\n",
       "      <td>1019.0</td>\n",
       "      <td>F</td>\n",
       "      <td>11.8</td>\n",
       "      <td>81.5</td>\n",
       "      <td>0</td>\n",
       "    </tr>\n",
       "    <tr>\n",
       "      <th>2</th>\n",
       "      <td>3002</td>\n",
       "      <td>BALTASOUND</td>\n",
       "      <td>15.0</td>\n",
       "      <td>60.749</td>\n",
       "      <td>-0.854</td>\n",
       "      <td>2018-05-31</td>\n",
       "      <td>1140</td>\n",
       "      <td>NaN</td>\n",
       "      <td>14.0</td>\n",
       "      <td>14000.0</td>\n",
       "      <td>E</td>\n",
       "      <td>6.0</td>\n",
       "      <td>1018.0</td>\n",
       "      <td>F</td>\n",
       "      <td>11.6</td>\n",
       "      <td>85.4</td>\n",
       "      <td>0</td>\n",
       "    </tr>\n",
       "    <tr>\n",
       "      <th>3</th>\n",
       "      <td>3002</td>\n",
       "      <td>BALTASOUND</td>\n",
       "      <td>15.0</td>\n",
       "      <td>60.749</td>\n",
       "      <td>-0.854</td>\n",
       "      <td>2018-05-31</td>\n",
       "      <td>1200</td>\n",
       "      <td>NaN</td>\n",
       "      <td>12.9</td>\n",
       "      <td>12000.0</td>\n",
       "      <td>ENE</td>\n",
       "      <td>2.0</td>\n",
       "      <td>1019.0</td>\n",
       "      <td>R</td>\n",
       "      <td>11.0</td>\n",
       "      <td>88.1</td>\n",
       "      <td>0</td>\n",
       "    </tr>\n",
       "    <tr>\n",
       "      <th>4</th>\n",
       "      <td>3002</td>\n",
       "      <td>BALTASOUND</td>\n",
       "      <td>15.0</td>\n",
       "      <td>60.749</td>\n",
       "      <td>-0.854</td>\n",
       "      <td>2018-05-31</td>\n",
       "      <td>1260</td>\n",
       "      <td>NaN</td>\n",
       "      <td>12.0</td>\n",
       "      <td>9000.0</td>\n",
       "      <td>E</td>\n",
       "      <td>2.0</td>\n",
       "      <td>1019.0</td>\n",
       "      <td>R</td>\n",
       "      <td>10.9</td>\n",
       "      <td>92.9</td>\n",
       "      <td>1</td>\n",
       "    </tr>\n",
       "  </tbody>\n",
       "</table>\n",
       "</div>"
      ],
      "text/plain": [
       "   StationID StationName  Elevation  Latitude  Longitude        Date  Time  \\\n",
       "0       3002  BALTASOUND       15.0    60.749     -0.854  2018-05-31  1020   \n",
       "1       3002  BALTASOUND       15.0    60.749     -0.854  2018-05-31  1080   \n",
       "2       3002  BALTASOUND       15.0    60.749     -0.854  2018-05-31  1140   \n",
       "3       3002  BALTASOUND       15.0    60.749     -0.854  2018-05-31  1200   \n",
       "4       3002  BALTASOUND       15.0    60.749     -0.854  2018-05-31  1260   \n",
       "\n",
       "   Gust  Temperature  Visibility WindDirection  WindSpeed  Pressure  \\\n",
       "0   NaN         16.1     30000.0             E        8.0    1019.0   \n",
       "1   NaN         14.9     22000.0             E        8.0    1019.0   \n",
       "2   NaN         14.0     14000.0             E        6.0    1018.0   \n",
       "3   NaN         12.9     12000.0           ENE        2.0    1019.0   \n",
       "4   NaN         12.0      9000.0             E        2.0    1019.0   \n",
       "\n",
       "  PressureTrend  DewPoint  Humidity  Type  \n",
       "0             F      11.6      74.5     0  \n",
       "1             F      11.8      81.5     0  \n",
       "2             F      11.6      85.4     0  \n",
       "3             R      11.0      88.1     0  \n",
       "4             R      10.9      92.9     1  "
      ]
     },
     "execution_count": 2,
     "metadata": {},
     "output_type": "execute_result"
    }
   ],
   "source": [
    "# Load in the prepared weather data\n",
    "obs = pd.read_csv('weather.csv')\n",
    "obs.head()"
   ]
  },
  {
   "cell_type": "code",
   "execution_count": 3,
   "metadata": {},
   "outputs": [
    {
     "data": {
      "text/plain": [
       "(106553, 17)"
      ]
     },
     "execution_count": 3,
     "metadata": {},
     "output_type": "execute_result"
    }
   ],
   "source": [
    "obs.shape"
   ]
  },
  {
   "cell_type": "code",
   "execution_count": 4,
   "metadata": {},
   "outputs": [
    {
     "data": {
      "text/html": [
       "<div>\n",
       "<style scoped>\n",
       "    .dataframe tbody tr th:only-of-type {\n",
       "        vertical-align: middle;\n",
       "    }\n",
       "\n",
       "    .dataframe tbody tr th {\n",
       "        vertical-align: top;\n",
       "    }\n",
       "\n",
       "    .dataframe thead th {\n",
       "        text-align: right;\n",
       "    }\n",
       "</style>\n",
       "<table border=\"1\" class=\"dataframe\">\n",
       "  <thead>\n",
       "    <tr style=\"text-align: right;\">\n",
       "      <th></th>\n",
       "      <th>StationID</th>\n",
       "      <th>Elevation</th>\n",
       "      <th>Latitude</th>\n",
       "      <th>Longitude</th>\n",
       "      <th>Time</th>\n",
       "      <th>Gust</th>\n",
       "      <th>Temperature</th>\n",
       "      <th>Visibility</th>\n",
       "      <th>WindSpeed</th>\n",
       "      <th>Pressure</th>\n",
       "      <th>DewPoint</th>\n",
       "      <th>Humidity</th>\n",
       "      <th>Type</th>\n",
       "    </tr>\n",
       "  </thead>\n",
       "  <tbody>\n",
       "    <tr>\n",
       "      <th>count</th>\n",
       "      <td>106553.000000</td>\n",
       "      <td>106553.000000</td>\n",
       "      <td>106553.000000</td>\n",
       "      <td>106553.000000</td>\n",
       "      <td>106553.000000</td>\n",
       "      <td>7703.000000</td>\n",
       "      <td>106442.000000</td>\n",
       "      <td>92662.000000</td>\n",
       "      <td>102060.000000</td>\n",
       "      <td>99530.000000</td>\n",
       "      <td>106402.000000</td>\n",
       "      <td>106397.000000</td>\n",
       "      <td>106553.00000</td>\n",
       "    </tr>\n",
       "    <tr>\n",
       "      <th>mean</th>\n",
       "      <td>6147.845636</td>\n",
       "      <td>114.466594</td>\n",
       "      <td>53.673022</td>\n",
       "      <td>-2.829034</td>\n",
       "      <td>702.914418</td>\n",
       "      <td>33.043749</td>\n",
       "      <td>14.958912</td>\n",
       "      <td>25698.164404</td>\n",
       "      <td>8.999510</td>\n",
       "      <td>1018.748337</td>\n",
       "      <td>10.348008</td>\n",
       "      <td>76.185240</td>\n",
       "      <td>0.99603</td>\n",
       "    </tr>\n",
       "    <tr>\n",
       "      <th>std</th>\n",
       "      <td>15821.503845</td>\n",
       "      <td>171.669120</td>\n",
       "      <td>2.466079</td>\n",
       "      <td>2.269594</td>\n",
       "      <td>412.057262</td>\n",
       "      <td>13.424855</td>\n",
       "      <td>4.294516</td>\n",
       "      <td>14263.873943</td>\n",
       "      <td>6.087882</td>\n",
       "      <td>6.327468</td>\n",
       "      <td>3.120565</td>\n",
       "      <td>17.208653</td>\n",
       "      <td>0.92971</td>\n",
       "    </tr>\n",
       "    <tr>\n",
       "      <th>min</th>\n",
       "      <td>3002.000000</td>\n",
       "      <td>2.000000</td>\n",
       "      <td>49.207900</td>\n",
       "      <td>-10.250000</td>\n",
       "      <td>0.000000</td>\n",
       "      <td>0.000000</td>\n",
       "      <td>-1.200000</td>\n",
       "      <td>20.000000</td>\n",
       "      <td>0.000000</td>\n",
       "      <td>976.000000</td>\n",
       "      <td>-28.200000</td>\n",
       "      <td>0.800000</td>\n",
       "      <td>0.00000</td>\n",
       "    </tr>\n",
       "    <tr>\n",
       "      <th>25%</th>\n",
       "      <td>3204.000000</td>\n",
       "      <td>20.000000</td>\n",
       "      <td>51.565000</td>\n",
       "      <td>-4.149000</td>\n",
       "      <td>360.000000</td>\n",
       "      <td>29.000000</td>\n",
       "      <td>12.000000</td>\n",
       "      <td>14000.000000</td>\n",
       "      <td>5.000000</td>\n",
       "      <td>1015.000000</td>\n",
       "      <td>8.400000</td>\n",
       "      <td>65.300000</td>\n",
       "      <td>0.00000</td>\n",
       "    </tr>\n",
       "    <tr>\n",
       "      <th>50%</th>\n",
       "      <td>3414.000000</td>\n",
       "      <td>65.000000</td>\n",
       "      <td>53.175000</td>\n",
       "      <td>-2.663000</td>\n",
       "      <td>720.000000</td>\n",
       "      <td>32.000000</td>\n",
       "      <td>14.500000</td>\n",
       "      <td>25000.000000</td>\n",
       "      <td>8.000000</td>\n",
       "      <td>1018.000000</td>\n",
       "      <td>10.500000</td>\n",
       "      <td>79.200000</td>\n",
       "      <td>1.00000</td>\n",
       "    </tr>\n",
       "    <tr>\n",
       "      <th>75%</th>\n",
       "      <td>3769.000000</td>\n",
       "      <td>132.000000</td>\n",
       "      <td>55.285000</td>\n",
       "      <td>-1.097000</td>\n",
       "      <td>1020.000000</td>\n",
       "      <td>39.000000</td>\n",
       "      <td>17.500000</td>\n",
       "      <td>35000.000000</td>\n",
       "      <td>11.000000</td>\n",
       "      <td>1024.000000</td>\n",
       "      <td>12.500000</td>\n",
       "      <td>90.000000</td>\n",
       "      <td>1.00000</td>\n",
       "    </tr>\n",
       "    <tr>\n",
       "      <th>max</th>\n",
       "      <td>99142.000000</td>\n",
       "      <td>1245.000000</td>\n",
       "      <td>60.749000</td>\n",
       "      <td>1.348000</td>\n",
       "      <td>1380.000000</td>\n",
       "      <td>105.000000</td>\n",
       "      <td>31.600000</td>\n",
       "      <td>75000.000000</td>\n",
       "      <td>81.000000</td>\n",
       "      <td>1036.000000</td>\n",
       "      <td>22.700000</td>\n",
       "      <td>100.000000</td>\n",
       "      <td>3.00000</td>\n",
       "    </tr>\n",
       "  </tbody>\n",
       "</table>\n",
       "</div>"
      ],
      "text/plain": [
       "           StationID      Elevation       Latitude      Longitude  \\\n",
       "count  106553.000000  106553.000000  106553.000000  106553.000000   \n",
       "mean     6147.845636     114.466594      53.673022      -2.829034   \n",
       "std     15821.503845     171.669120       2.466079       2.269594   \n",
       "min      3002.000000       2.000000      49.207900     -10.250000   \n",
       "25%      3204.000000      20.000000      51.565000      -4.149000   \n",
       "50%      3414.000000      65.000000      53.175000      -2.663000   \n",
       "75%      3769.000000     132.000000      55.285000      -1.097000   \n",
       "max     99142.000000    1245.000000      60.749000       1.348000   \n",
       "\n",
       "                Time         Gust    Temperature    Visibility      WindSpeed  \\\n",
       "count  106553.000000  7703.000000  106442.000000  92662.000000  102060.000000   \n",
       "mean      702.914418    33.043749      14.958912  25698.164404       8.999510   \n",
       "std       412.057262    13.424855       4.294516  14263.873943       6.087882   \n",
       "min         0.000000     0.000000      -1.200000     20.000000       0.000000   \n",
       "25%       360.000000    29.000000      12.000000  14000.000000       5.000000   \n",
       "50%       720.000000    32.000000      14.500000  25000.000000       8.000000   \n",
       "75%      1020.000000    39.000000      17.500000  35000.000000      11.000000   \n",
       "max      1380.000000   105.000000      31.600000  75000.000000      81.000000   \n",
       "\n",
       "           Pressure       DewPoint       Humidity          Type  \n",
       "count  99530.000000  106402.000000  106397.000000  106553.00000  \n",
       "mean    1018.748337      10.348008      76.185240       0.99603  \n",
       "std        6.327468       3.120565      17.208653       0.92971  \n",
       "min      976.000000     -28.200000       0.800000       0.00000  \n",
       "25%     1015.000000       8.400000      65.300000       0.00000  \n",
       "50%     1018.000000      10.500000      79.200000       1.00000  \n",
       "75%     1024.000000      12.500000      90.000000       1.00000  \n",
       "max     1036.000000      22.700000     100.000000       3.00000  "
      ]
     },
     "execution_count": 4,
     "metadata": {},
     "output_type": "execute_result"
    }
   ],
   "source": [
    "obs.describe()"
   ]
  },
  {
   "cell_type": "markdown",
   "metadata": {},
   "source": [
    "For this exercise we will use **8** input features (provided) and clean the data:"
   ]
  },
  {
   "cell_type": "code",
   "execution_count": 5,
   "metadata": {},
   "outputs": [],
   "source": [
    "# Define 8 input feature variables, 1 target variable data, and names of the 3 weather types\n",
    "features = ['Latitude', 'Elevation', 'Temperature', 'Visibility', 'WindSpeed', 'Pressure', 'Humidity', 'WindDirection']\n",
    "output   = ['Type']\n",
    "wtype    = ['Clear', 'Cloudy', 'Precip']"
   ]
  },
  {
   "cell_type": "markdown",
   "metadata": {},
   "source": [
    "Define derived dataset containing only the relevant columns and rows."
   ]
  },
  {
   "cell_type": "code",
   "execution_count": 6,
   "metadata": {},
   "outputs": [
    {
     "data": {
      "text/plain": [
       "(86313, 9)"
      ]
     },
     "execution_count": 6,
     "metadata": {},
     "output_type": "execute_result"
    }
   ],
   "source": [
    "# Reduce to feature and type columns\n",
    "dataset = obs[features + output]\n",
    "\n",
    "# Drop duplicates and null values \n",
    "dataset = dataset.drop_duplicates().dropna()\n",
    "\n",
    "# Drop unrecorded weather type\n",
    "dataset = dataset[dataset.Type != 3]\n",
    "\n",
    "# Check shape \n",
    "dataset.shape\n",
    "#dataset.head(5000)\n",
    "#print(dataset.loc[[90176]]) #THIS WAS FOR TESTING HOW THE WIND DIRECTION WORKED"
   ]
  },
  {
   "cell_type": "markdown",
   "metadata": {},
   "source": [
    "## 1. Conceptual questions (2.5 Marks)\n",
    "---\n",
    "This section covers **5** exercises on conceptual understanding of neural networks."
   ]
  },
  {
   "cell_type": "markdown",
   "metadata": {},
   "source": [
    "#### 1. Which are the most used activation functions and why do we (typically) need non-linear activation functions in neural networks? (0.5 mark)"
   ]
  },
  {
   "cell_type": "markdown",
   "metadata": {},
   "source": [
    "<span style=\"color:green\">\n",
    "The most used activation functions are:\n",
    "    \n",
    "    Sigmoid Activation, Relu, Softmax and tanh\n",
    "\n",
    "We typically need non-linear activation functions in neural networks, as without them hidden layers become useless as a composition of linear functions is just another linear function. Non-linear activation functions also allow for backpropagation (or gradient descent) while linear functions do not, as the derivative of a linear function has no relation to the input so it is useless when trying to decide which weights produce a better prediction.\n",
    "    </span>"
   ]
  },
  {
   "cell_type": "markdown",
   "metadata": {},
   "source": [
    "#### 2. Why do we need deep neural networks and which are the main differences between deep and shallow learning? (0.5 Mark)"
   ]
  },
  {
   "cell_type": "markdown",
   "metadata": {},
   "source": [
    "<span style=\"color:green\">\n",
    "- **Deep Learning** is when a neural network has at least 2 or more hidden layers, and so can exploit high dimensional data to perform feature extraction and deep combination simultaneously to get an output\n",
    "- **Shallow Learning** has less than 2 hidden layers, and generally requires manual engineering and simple algorithms to get an output.\n",
    "\n",
    "\n",
    "Deep neural networks allow for increases in performance that scale with the amount of data supplied much better than older learning algorithms, and give us the ability to exploit high-dimensional data rather than having us manually break it down into low-dimensional data. This can allow the DL-network to find relevant features that wouldn't be obvious to the user who is breaking down the high-dimensional data.\n",
    "\n",
    "*Eg: The most important features for identifying cats can be determined by a human, and then plugged into a shallow combination system for an output. While in deep learning the high-dimensional 'cat' data can be plugged in directly and important features can be determined by the network itself and used to determine an output.*\n",
    "</span>\n",
    "\n"
   ]
  },
  {
   "cell_type": "markdown",
   "metadata": {},
   "source": [
    "#### 3. Discuss the Bias-variance trade-off and its relation to underfitting and overfitting of a model. Which are the charactheristics of an ideal model?  (0.5 mark)"
   ]
  },
  {
   "cell_type": "markdown",
   "metadata": {},
   "source": [
    "<span style=\"color:green\">\n",
    "The Bias-variance trade-off is the relationship between these two factors (bias and variance) and how they correspond to either good or bad models.\n",
    "\n",
    "- Bias is a trainable parameter that shifts the activation function within a NN\n",
    "- Variance is the variability in your model's prediction, or how much your results can shift based on the given dataset\n",
    "\n",
    "An underfit model is one with high bias and low variance (so the model is inflexible and can't learn the relevant structure in the dataset). The high bias is attributed to poor performance on training data.\n",
    "\n",
    "An overfit model is one with low bias and high variance (so the model is too flexible and can learn random structures that don't represent the dataset as a whole). Overfit models show high loss on testing datasets but low loss on training datasets.\n",
    "</span>"
   ]
  },
  {
   "cell_type": "markdown",
   "metadata": {},
   "source": [
    "#### 4. Given a neural network with 4 input nodes, 2 layers with 5 nodes each, and 1 output node, what is the total number of free (trainable) parameters in the network? Does it matter which activation function(s) are used?  (0.5 mark)"
   ]
  },
  {
   "cell_type": "markdown",
   "metadata": {},
   "source": [
    "<span style=\"color:green\">\n",
    "4 input nodes, 2 hidden layers of 5, and one 1 output mode.\n",
    "\n",
    "5x4 + 5x5 + 5x1 + 5 + 5 + 1 = 61 total trainable parameters \n",
    "\n",
    "Different activation functions are suitable for specific problems and allow for better training on specific problems when compared to their counterparts. ReLU for example is appropriate for regressing non-negative energy.\n",
    "</span>"
   ]
  },
  {
   "cell_type": "markdown",
   "metadata": {},
   "source": [
    "#### 5. What are appropriate choice for _(a)_ the number of output nodes and _(b)_ output activation function(s) for each of the following tasks, and why? (0.5 mark)"
   ]
  },
  {
   "cell_type": "markdown",
   "metadata": {},
   "source": [
    "<span style=\"color:green\">\n",
    "\n",
    "1. Regression of the $x$, $y$, and $z$ coordinates of a single particle in an arbitrary coordinate system\n",
    "2. Regression of particle energy of a single particle\n",
    "3. Classification of two processes (signal vs. background)\n",
    "4. Classification among *N* classes (dog vs. cat vs. fish vs. ...)\n",
    "\n",
    "</span>"
   ]
  },
  {
   "cell_type": "markdown",
   "metadata": {},
   "source": [
    "<span style=\"color:green\">\n",
    "\n",
    "a)\n",
    "\n",
    "1. 3 output nodes, as we have x,y and z regression.\n",
    "2. 1 output node, as we only have the particle energy.\n",
    "3. 2 output nodes, for both signal and background (although I guess you could technically have one as long as p1+p2 = 1)\n",
    "4. N output nodes (probability for each different class. dog, cat, fish, etc.)\n",
    "\n",
    "b)\n",
    "\n",
    "1. Linear, as the data involves regessing (but possibly negative) quantities.\n",
    "2. ReLU, as the data is involves regressing non-negative quantities.\n",
    "3. Sigmoid, as this can be described as a binary classification probability (noise - 0, signal - 1).\n",
    "4. Softmax, as this can be described as a multiclass classification probability.\n",
    "\n",
    "</span>"
   ]
  },
  {
   "cell_type": "markdown",
   "metadata": {},
   "source": [
    "## 2. Data preprocessing and RTs (2.5 mark)\n",
    "---\n",
    "This section covers **4** exercises on data preparation, feature standardisation, and dataset splitting."
   ]
  },
  {
   "cell_type": "code",
   "execution_count": 7,
   "metadata": {},
   "outputs": [],
   "source": [
    "# Relevant import(s) for this section\n",
    "from sklearn import tree\n",
    "from sklearn.tree import DecisionTreeClassifier, plot_tree\n",
    "from sklearn.tree import export_graphviz\n",
    "from sklearn.model_selection import train_test_split # Import train_test_split function\n",
    "from sklearn import metrics # Import scikit-learn metrics module for accuracy calculation\n",
    "from sklearn import preprocessing # Import preprocessing for String-Int conversion\n",
    "from sklearn.compose import ColumnTransformer\n",
    "from sklearn.preprocessing import OneHotEncoder, StandardScaler, MinMaxScaler\n",
    "from sklearn.model_selection import train_test_split"
   ]
  },
  {
   "cell_type": "markdown",
   "metadata": {},
   "source": [
    "---\n",
    "**_Comment on target format and one-hot encoding:_** By default, the target column (`Type`) contains one integer (0, 1, or 2) for each example, the integer specifying one of three possible types of weather. However, for doing multi-class classification (which this is), we want our neural network to have one output node per class (_i.e._ 3 output nodes in this case), such that the activation of each output node is interpreted as the likelihood for a given sample being of the type in question. Therefore, the target should also be a 3-element vector for each sample; this vector should be all zeros, except for a $1$ at the index corresponding to the type in question. This is called **one-hot encoding**, and a few examples are shown below:\n",
    "\n",
    "- type = 0 $\\to$ one-hot = $[1, 0, 0]$ for 3 classes\n",
    "- type = 1 $\\to$ one-hot = $[0, 1, 0]$ for 3 classes\n",
    "- type = 2 $\\to$ one-hot = $[0, 0, 1]$ for 3 classes\n",
    "\n",
    "This is the target towards which a neural network classifier is trained: That is, ideally, for an example of type 0, the network will output a large activation ($\\approx 1$) on the first output node (interpreted as a large likelihood for the first weather type), and very small activations ($\\ll 1$) on the two other output nodes (intepreted as small likelihoods for the two other weather types); and so on.\n",
    "\n",
    "The same type of one-hot encoding can be performed for any number of target classes $N_{c}$, which just results in $N_{c}$-element target vectors with a single non-zero entry each.\n",
    "\n",
    "To be user friendly, however, `scikit-learn` allows us to use integer targets for multi-class classification — it does the one-hot encoding for us \"under the hood.\" Similarly, `keras`, _can_ also allow us to use integer targets for multi-class classification, provided we use the appropropriate loss (`sparse_categorical_crossentropy`). Otherwise (if we use `categorical_crossentropy` loss), it expects one-hot encoded targets. Which approach you choose is up to you — but now you know what goes on.\n",
    "\n",
    "---"
   ]
  },
  {
   "cell_type": "markdown",
   "metadata": {},
   "source": [
    "#### 6. Prepare the feature and target arrays (0.5 mark)\n",
    "- Randomly sample **3,500** observations per weather type (**10,500** observations in total) from `dataset` into a new `pandas.DataFrame`; call it `sample`.\n",
    "- One-hot encode the **wind direction** variable (_i.e._ $N$ to $[1, 0, \\ldots, 0]$, $NNE$ to $[0, 1, \\ldots, 0]$, _etc._ ), to allow us to input it to the neural network. The exact order of the encoding (_i.e._ which direction corresponds to which index) doesn't matter. *Hint:*\n",
    "  - *Either:* Use the scikit-learn `ColumnTransformer` with the `OneHotEncoder` applied to the `WindDirection` column, and let the remainder of the features pass through un-transformed.\n",
    "  - *Or:* Use the `OneHotEncoder` class directly on the `WindDirection` column (use `sparse=False` in the `OneHotEncoder` constructor), and then concatenate with a `numpy.array` containing the remaining features.\n",
    "- Define `numpy.arrays` named `X` and `y` containing the training features (the 7 unmodified ones plus the one-hot encoded wind directions) and target, respectively.\n",
    "- Argue whether the shapes of `X` and `y` are as expected/as they should be."
   ]
  },
  {
   "cell_type": "code",
   "execution_count": 8,
   "metadata": {},
   "outputs": [
    {
     "name": "stdout",
     "output_type": "stream",
     "text": [
      "(10500, 23) (10500,)\n"
     ]
    }
   ],
   "source": [
    "# Shuffle the dataset\n",
    "dataset = dataset.sample(frac = 1)\n",
    "\n",
    "# Setting up samples for each dataset type\n",
    "sample0 = dataset[dataset['Type'] == 0].head(3500)\n",
    "sample1 = dataset[dataset['Type'] == 1].head(3500)\n",
    "sample2 = dataset[dataset['Type'] == 2].head(3500)\n",
    "\n",
    "# Connect all 3 samples\n",
    "sample = pd.concat([sample0,sample1,sample2])\n",
    "# Then shuffle again, but I dont think it should matter\n",
    "sampe = sample.sample(frac = 1)\n",
    "\n",
    "# One-hot encode the Wind Direction\n",
    "# [1,0,...] - E, [0,1,...] - ENE. Goes anti-clockwise from East. 16 Values\n",
    "winddir = OneHotEncoder(sparse=False).fit_transform(sample['WindDirection'].values.reshape(-1,1))\n",
    "# Apply to dataframe\n",
    "\n",
    "#features2 = ['Latitude', 'Elevation', 'Temperature', 'Visibility', 'WindSpeed', 'Pressure', 'Humidity']\n",
    "# Concatenate full wind direction list into np array\n",
    "samplenp = np.concatenate((winddir,sample[features[:-1]]), axis = 1)\n",
    "\n",
    "\n",
    "\n",
    "# Create X and Y \n",
    "\n",
    "X = samplenp\n",
    "y = np.array(sample['Type'])\n",
    " \n",
    "print(X.shape,y.shape)"
   ]
  },
  {
   "cell_type": "markdown",
   "metadata": {},
   "source": [
    "<span style=\"color:green\">\n",
    "\n",
    "**Shape comments**\n",
    "The shape of X and y are (10500, 23) (10500,). The y np array is a 1d array for all of our values, which seems correct. The X shape contains each individual wind direction as a separate label (there are 16 of them), as well as all the other feature values.\n",
    "\n",
    "</span>"
   ]
  },
  {
   "cell_type": "markdown",
   "metadata": {},
   "source": [
    "#### 7. Train a Random Forest and evaluate the performance (1 mark)\n",
    "\n",
    "Decision trees work well with a mixture of features (of different scales, and bot binary and continuos), so we will train a random forest to do the job of categorisation.\n",
    "\n",
    "You are given the train test split:"
   ]
  },
  {
   "cell_type": "code",
   "execution_count": 9,
   "metadata": {},
   "outputs": [
    {
     "name": "stdout",
     "output_type": "stream",
     "text": [
      "(7350, 23) (3150, 23)\n"
     ]
    }
   ],
   "source": [
    "#Import random fosets and confusion matrix metric\n",
    "from sklearn.ensemble import RandomForestClassifier\n",
    "from sklearn.metrics import confusion_matrix\n",
    "\n",
    "# split dataset into training set and test set\n",
    "x_train, x_test, y_train, y_test = train_test_split(X, y, test_size=0.3, random_state=1) # 70% training and 30% test\n",
    "# Checking that this is 70/30\n",
    "print(x_train.shape,x_test.shape)"
   ]
  },
  {
   "cell_type": "markdown",
   "metadata": {},
   "source": [
    "1. Train a RandomForestClassifier with 1000 estimators, `gini` seperation criteria, and max depth 4.\n",
    "2. Check the overal accuaracy on the testing set"
   ]
  },
  {
   "cell_type": "code",
   "execution_count": 10,
   "metadata": {},
   "outputs": [
    {
     "name": "stdout",
     "output_type": "stream",
     "text": [
      "Accuracy Training: 0.6710204081632654\n",
      "Accuracy Testing: 0.6758730158730158\n"
     ]
    }
   ],
   "source": [
    "# Train a random forest\n",
    "rf = RandomForestClassifier(n_estimators=1000, criterion = 'gini', max_depth=4,random_state=1)\n",
    "rf.fit(x_train, y_train)\n",
    "\n",
    "# Test accuracy\n",
    "y_pred = rf.predict(x_train)\n",
    "print(\"Accuracy Training:\",metrics.accuracy_score(y_train, y_pred))\n",
    "y_pred = rf.predict(x_test)\n",
    "print(\"Accuracy Testing:\",metrics.accuracy_score(y_test, y_pred))"
   ]
  },
  {
   "cell_type": "markdown",
   "metadata": {},
   "source": [
    "3. Use the confusion_matrix method to return the confusion matrix normalised over the true lables, i.e. sum over rows should sum to 100%. Use the given colormap to plot the confusion matrix in a heatmap.\n",
    "    - Define the axis tick names to represent Clear, Cloudy or Precip\n",
    "    - Use suitable x and y axis labels\n",
    "    \n",
    "4. What are the true positive rates for clear, cloudy and perp? What is the probability that rain is forcast given that the day is clear?\n",
    "5. Which features does the random forest deem the most important?"
   ]
  },
  {
   "cell_type": "code",
   "execution_count": 11,
   "metadata": {},
   "outputs": [
    {
     "data": {
      "image/png": "[encoded data removed]",
      "text/plain": [
       "<Figure size 432x288 with 2 Axes>"
      ]
     },
     "metadata": {
      "needs_background": "light"
     },
     "output_type": "display_data"
    }
   ],
   "source": [
    "from sklearn.metrics import plot_confusion_matrix\n",
    "\n",
    "# Plot Confusion matrix\n",
    "matrix = plot_confusion_matrix(rf, x_test, y_test, cmap=plt.cm.Blues, normalize='true', display_labels=wtype)\n",
    "plt.xlabel('Predicted Weather Type')\n",
    "plt.ylabel('True Weather Type')\n",
    "plt.title(\"RandomForestClassifier Confusion Matrix\")\n",
    "plt.show()"
   ]
  },
  {
   "cell_type": "code",
   "execution_count": 12,
   "metadata": {},
   "outputs": [
    {
     "name": "stdout",
     "output_type": "stream",
     "text": [
      "True positive rates for: \n",
      " Clear -  0.73\n",
      " Cloudy - 0.47\n",
      " Precip - 0.82\n",
      "Probability that rain is forecast on a clear day: 5.68%\n"
     ]
    }
   ],
   "source": [
    "# Produce confusion matrix for printing\n",
    "confmat = confusion_matrix(y_test, y_pred, normalize='true')\n",
    "\n",
    "# Print True positive rates\n",
    "print(\"True positive rates for: \\n Clear -  \" + str(\"{:.2f}\".format(confmat[0][0])) + \"\\n Cloudy - \" + str(\"{:.2f}\".format(confmat[1][1])) + \"\\n Precip - \" + str(\"{:.2f}\".format(confmat[2][2])))\n",
    "\n",
    "# Print change of rain forecast on clear day\n",
    "print(\"Probability that rain is forecast on a clear day: \" + str(\"{:.2f}\".format(100*confmat[0][2])) + \"%\")"
   ]
  },
  {
   "cell_type": "code",
   "execution_count": 13,
   "metadata": {},
   "outputs": [
    {
     "name": "stdout",
     "output_type": "stream",
     "text": [
      "The most important feature is Pressure with a value of 0.271\n"
     ]
    },
    {
     "data": {
      "image/png": "[encoded data removed]",
      "text/plain": [
       "<Figure size 432x288 with 1 Axes>"
      ]
     },
     "metadata": {
      "needs_background": "light"
     },
     "output_type": "display_data"
    }
   ],
   "source": [
    "# Calculate the importance, and list y ticks\n",
    "importance = rf.feature_importances_\n",
    "ytix = list(range(16))+features[:-1]\n",
    "\n",
    "# Given plotting example for feature importance, modified slightly.\n",
    "plt.barh(range(23), importance)\n",
    "plt.yticks(range(23), ytix)\n",
    "plt.xlabel(\"Importance\")\n",
    "plt.ylabel(\"Features\")\n",
    "\n",
    "# Print the most important feature\n",
    "print(\"The most important feature is \" + str(ytix[np.argmax(importance)]) +  \" with a value of \" + str(\"{:.3f}\".format(np.amax(importance))))"
   ]
  },
  {
   "cell_type": "markdown",
   "metadata": {},
   "source": [
    "#### 8. Standardise the relevant features (0.5 mark)\n",
    "\n",
    "_Note:_ You shouldn't standardise the one-hot encoded wind directions; they already have the desired format. Perform a sanity check to make sure that the resulting features have the expected distributional properties (mean and standard deviation; or minimum and maximum value).\n",
    "- Hint:\n",
    "\n",
    "    - Use the scikit-learn `StandardScaler`\n",
    "    - Or use the scikit-learn `MinMaxScaler`\n",
    "\n",
    "- Perform a sanity check to make sure that the resulting features have the expected distributional properties (mean and standard deviation; or minimum and maximum value).\n",
    "    - The number of columns should match, and depending on the choice of standardisation, the last 7 columns should either have:\n",
    "      - (Using `StandardScaler`) means = 0 and standard deviations = 1; or\n",
    "      - (Using `MinMaxScaler`) min = 0, max = 1"
   ]
  },
  {
   "cell_type": "code",
   "execution_count": 14,
   "metadata": {},
   "outputs": [
    {
     "name": "stdout",
     "output_type": "stream",
     "text": [
      "1.1198540205503402e-15 0.9999999999999999\n"
     ]
    }
   ],
   "source": [
    "# Standardise the data\n",
    "scaler = StandardScaler()\n",
    "scaled_data = scaler.fit_transform(sample[features[:-1]])\n",
    "\n",
    "# Concat the wind directions to the scaled data\n",
    "scaled_fdata = np.concatenate((winddir,scaled_data), axis = 1)\n",
    "\n",
    "# Print for proof\n",
    "print(scaled_data.mean(),scaled_data.std())\n"
   ]
  },
  {
   "cell_type": "markdown",
   "metadata": {},
   "source": [
    "<span style=\"color:green\">\n",
    "\n",
    "Mean is very close to zero, the standard deviation is 1.\n",
    "    \n",
    "</span>"
   ]
  },
  {
   "cell_type": "markdown",
   "metadata": {},
   "source": [
    "#### 9. Split the dataset into a training and a testing part (0.5)\n",
    "\n",
    "Reserve **30%** of data for testing. Check whether the resulting arrays have the expected shapes."
   ]
  },
  {
   "cell_type": "code",
   "execution_count": 15,
   "metadata": {},
   "outputs": [
    {
     "name": "stdout",
     "output_type": "stream",
     "text": [
      "(7350, 23) (3150, 23) (7350,) (3150,)\n"
     ]
    }
   ],
   "source": [
    "# Split data\n",
    "Xs_train, Xs_test, ys_train, ys_test = train_test_split(scaled_fdata, y, test_size=0.3, random_state=1) \n",
    "# Print shapes, expect (7350, 23) (3150, 23) (7350,) (3150,)\n",
    "print(Xs_train.shape,Xs_test.shape,ys_train.shape,ys_test.shape)"
   ]
  },
  {
   "cell_type": "markdown",
   "metadata": {},
   "source": [
    "## 3. Neural networks in `scikit-learn` (1.5 mark)\n",
    "---\n",
    "This section covers **2** exercises on constructing and training neural networks using the `scikit-learn` library, as well as evaluating neural network performance. `scikit-learn` provide many, very easy to use ML algorithms, including neural networks. These are called `MLPClassifier` (MLP = multi-layer perceptron; a historic name for densely connected, feed-forward neural networks) when used for classification, and `MLPRegressor` when used for regression. We will focus on the former for now."
   ]
  },
  {
   "cell_type": "code",
   "execution_count": 16,
   "metadata": {},
   "outputs": [],
   "source": [
    "# Relevant import(s) for this section\n",
    "from sklearn.neural_network import MLPClassifier\n"
   ]
  },
  {
   "cell_type": "markdown",
   "metadata": {},
   "source": [
    "#### 10. Construct and train a neural network  (1 mark)\n",
    "\n",
    "- Create an `MLPClassifier` which\n",
    "    - has **1 hidden layer of 50 neurons** \n",
    "    - has **no regularization term**\n",
    "    - trains for a maximum of **100 epochs** \n",
    "    - uses a batch size of **32**\n",
    "- Fit the classifier using the standard `.fit()` member method.\n",
    "- Plot the loss function value as a function of number of epochs (0.5 of mark).\n",
    "  You can access the loss history through the `.loss_curve_` attribute of the `MLPClassifier` instance. "
   ]
  },
  {
   "cell_type": "code",
   "execution_count": 17,
   "metadata": {},
   "outputs": [],
   "source": [
    "# Fitting the MLPClassifier\n",
    "clf = MLPClassifier(hidden_layer_sizes=(50),alpha=0,max_iter=100,batch_size=32).fit(Xs_train,ys_train)"
   ]
  },
  {
   "cell_type": "code",
   "execution_count": 18,
   "metadata": {},
   "outputs": [
    {
     "data": {
      "image/png": "[encoded data removed]",
      "text/plain": [
       "<Figure size 432x288 with 1 Axes>"
      ]
     },
     "metadata": {
      "needs_background": "light"
     },
     "output_type": "display_data"
    }
   ],
   "source": [
    "# Plot loss_curve_ against epochs\n",
    "epochs = np.linspace(0,99,100)\n",
    "plt.xlabel(\"No. of Epochs\")\n",
    "plt.ylabel(\"Loss values for clf\")\n",
    "plt.title(\"Loss Curve with Epochs\")\n",
    "plt.plot(epochs,clf.loss_curve_)\n",
    "plt.show()"
   ]
  },
  {
   "cell_type": "markdown",
   "metadata": {},
   "source": [
    "#### 11. Performance evaluation (0.5 mark)\n",
    "\n",
    "- Using the testing dataset: \n",
    "    - Compute the overall accuracy for the classifier using the `MLPClassifier`'s `.score()` member method for both testing and training datasets.\n",
    "    - Compute the confusion matrix (normalised in true labels), and plot it \n",
    "- Discuss the results"
   ]
  },
  {
   "cell_type": "code",
   "execution_count": 20,
   "metadata": {},
   "outputs": [
    {
     "name": "stdout",
     "output_type": "stream",
     "text": [
      "Training Data Accuracy: 0.747\n",
      "Testing Data Accuracy: 0.705\n"
     ]
    },
    {
     "data": {
      "image/png": "[encoded data removed]",
      "text/plain": [
       "<Figure size 432x288 with 2 Axes>"
      ]
     },
     "metadata": {
      "needs_background": "light"
     },
     "output_type": "display_data"
    }
   ],
   "source": [
    "# Print overall mean accuracy\n",
    "\n",
    "print(\"Training Data Accuracy: \" + str(\"{:.3f}\".format(clf.score(Xs_train,ys_train))))\n",
    "\n",
    "print(\"Testing Data Accuracy: \" + str(\"{:.3f}\".format(clf.score(Xs_test,ys_test))))\n",
    "\n",
    "# Confusion matrix\n",
    "cmatrix = plot_confusion_matrix(clf, Xs_test, ys_test, cmap=plt.cm.Blues, normalize='true', display_labels=wtype)\n",
    "plt.xlabel('Predicted Weather Type')\n",
    "plt.ylabel('True Weather Type')\n",
    "plt.title(\"MLPClassifier Confusion Matrix\")\n",
    "plt.show()\n"
   ]
  },
  {
   "cell_type": "markdown",
   "metadata": {},
   "source": [
    "<span style=\"color:green\">\n",
    "\n",
    "# _Discussing the results_\n",
    "\n",
    "The confusion matrix for the MLPClassifier and RandomForestClassifier are very similar with the majority of the probabilities being along the diagonal in both cases (demonstrating similar learning capability for both models), although the MLPClassifier performs slightly better (total accurate predictions is slightly better for MLP).\n",
    "\n",
    "The data accuracy for MLPClassifier is concerning though, as the training data accuracy is greater than the testing data accuracy by rather large margin. This could be showing us that this model has been overtrained. \n",
    "    \n",
    "</span>"
   ]
  },
  {
   "cell_type": "markdown",
   "metadata": {},
   "source": [
    "## 4. Neural networks in `Keras` (2 marks)\n",
    "---\n",
    "This section covers **2** exercises on constructing and training neural networks using the `Keras` library. `scikit-learn` is very easy to use, but libraries like `Keras` provide a lot more flexibility, which is why we will be using these extensively in the last two units of the _'Data science tools and machine learning'_ track."
   ]
  },
  {
   "cell_type": "code",
   "execution_count": 21,
   "metadata": {},
   "outputs": [],
   "source": [
    "# Relevant import(s) for this section\n",
    "from tensorflow.python.keras.models import Model\n",
    "from tensorflow.python.keras.layers import Input, Dense"
   ]
  },
  {
   "cell_type": "markdown",
   "metadata": {},
   "source": [
    "#### 12. Construct a neural network in `Keras` (1 mark)\n",
    "\n",
    "- Create a `keras.Model` using the **Keras functional API**. The network should have:\n",
    "    - An input layer with the same number of nodes as the number of features in `X`.\n",
    "    - A single, densely connected hidden layer with **50 nodes** equipped with **ReLU activation**.\n",
    "    - A densely connected output layer with **3 nodes** (the number of types of weather we're classifying) equipped with **softmax activation**.\n",
    "- Compile the model the using the **Adam optimiser**, add `'accuracy'` as metric, and use either:\n",
    "    - `categorical_crossentropy` loss, if you have one-hot encoded the targets `y`, or\n",
    "    - `sparse_categorical_crossentropy` loss if you hare using integer-valued targets.\n",
    "- Use the `.summary()` member method to print an overview of the model you have created, explain the output."
   ]
  },
  {
   "cell_type": "code",
   "execution_count": 22,
   "metadata": {},
   "outputs": [],
   "source": [
    "# Create keras model\n",
    "inpt = Input(shape=(Xs_train.shape[1]))\n",
    "layer = Dense(50, activation='relu')(inpt)\n",
    "output = Dense(3,activation='softmax')(layer)\n",
    "kf = Model(inputs=inpt, outputs=output,name='KerasNN')"
   ]
  },
  {
   "cell_type": "code",
   "execution_count": 23,
   "metadata": {},
   "outputs": [
    {
     "name": "stdout",
     "output_type": "stream",
     "text": [
      "Model: \"KerasNN\"\n",
      "_________________________________________________________________\n",
      "Layer (type)                 Output Shape              Param #   \n",
      "=================================================================\n",
      "input_1 (InputLayer)         [(None, 23)]              0         \n",
      "_________________________________________________________________\n",
      "dense (Dense)                (None, 50)                1200      \n",
      "_________________________________________________________________\n",
      "dense_1 (Dense)              (None, 3)                 153       \n",
      "=================================================================\n",
      "Total params: 1,353\n",
      "Trainable params: 1,353\n",
      "Non-trainable params: 0\n",
      "_________________________________________________________________\n"
     ]
    }
   ],
   "source": [
    "# Compile using Adam optimiser\n",
    "kf.compile(optimizer='Adam',loss='sparse_categorical_crossentropy',metrics=[\"accuracy\"])\n",
    "\n",
    "# Summary of Model\n",
    "kf.summary()"
   ]
  },
  {
   "cell_type": "markdown",
   "metadata": {},
   "source": [
    "<span style=\"color:green\">\n",
    "\n",
    "The summary outputs the separate layers in an order (input (5), dense hidden (8), and dense output (9)).\n",
    "\n",
    "It then shows you the 'Output Shape' or nodes of each layer, which are 23, then 50, then 3 as described in the instructions.\n",
    "\n",
    "Then the free parameters are shown for each layer, in this case all parameters are free. They are calculated in the same way as in the first question. \n",
    "\n",
    "23 nodes * 50 nodes = 1150 paramaters\n",
    "\n",
    "50 nodes * 3 nodes = 150 parameters\n",
    "\n",
    "3 nodes + 50 nodes = 53 parameters\n",
    "\n",
    "1200 + 150 + 53 = *1353 free trainable parameters*\n",
    "    \n",
    "</span>"
   ]
  },
  {
   "cell_type": "markdown",
   "metadata": {},
   "source": [
    "#### 13. Train a `Keras` neural network (1 mark)\n",
    "\n",
    "- Use the `.fit()` member method to train the network on the **training dataset** for **100 epochs** with a **batch size of 32**. Use **20% of the data for validation** and make sure to have `Keras` **shuffle** the training data between epochs. Save the fit history by doing `history_mld = .....`\n",
    "- Print the classification accuracy using the `.evaluate()` member method, for both the training and testing dataset. Comment on the results.\n",
    "- Plot val_loss and loss functions from the fit history. On the same plot, plot the sklearn curve from the excercise above. Note the sklearn NN does not provide a complementary validation loss history, so only plot the training loss.\n",
    "- Comment on the results of the overall accuracy compared to the scikit-learn method."
   ]
  },
  {
   "cell_type": "code",
   "execution_count": 24,
   "metadata": {},
   "outputs": [
    {
     "name": "stderr",
     "output_type": "stream",
     "text": [
      "2021-10-06 12:36:07.705681: I tensorflow/compiler/mlir/mlir_graph_optimization_pass.cc:116] None of the MLIR optimization passes are enabled (registered 2)\n",
      "2021-10-06 12:36:07.728908: I tensorflow/core/platform/profile_utils/cpu_utils.cc:112] CPU Frequency: 3293800000 Hz\n"
     ]
    },
    {
     "name": "stdout",
     "output_type": "stream",
     "text": [
      "Epoch 1/100\n",
      "184/184 [==============================] - 1s 2ms/step - loss: 0.9615 - accuracy: 0.5095 - val_loss: 0.7636 - val_accuracy: 0.6463\n",
      "Epoch 2/100\n",
      "184/184 [==============================] - 0s 1ms/step - loss: 0.7469 - accuracy: 0.6554 - val_loss: 0.7309 - val_accuracy: 0.6585\n",
      "Epoch 3/100\n",
      "184/184 [==============================] - 0s 1ms/step - loss: 0.7004 - accuracy: 0.6738 - val_loss: 0.7217 - val_accuracy: 0.6571\n",
      "Epoch 4/100\n",
      "184/184 [==============================] - 0s 1ms/step - loss: 0.6891 - accuracy: 0.6817 - val_loss: 0.7138 - val_accuracy: 0.6673\n",
      "Epoch 5/100\n",
      "184/184 [==============================] - 0s 1ms/step - loss: 0.6725 - accuracy: 0.6885 - val_loss: 0.7112 - val_accuracy: 0.6680\n",
      "Epoch 6/100\n",
      "184/184 [==============================] - 0s 1ms/step - loss: 0.6684 - accuracy: 0.6917 - val_loss: 0.7051 - val_accuracy: 0.6707\n",
      "Epoch 7/100\n",
      "184/184 [==============================] - 0s 1ms/step - loss: 0.6572 - accuracy: 0.6969 - val_loss: 0.7022 - val_accuracy: 0.6673\n",
      "Epoch 8/100\n",
      "184/184 [==============================] - 0s 1ms/step - loss: 0.6664 - accuracy: 0.6901 - val_loss: 0.6996 - val_accuracy: 0.6721\n",
      "Epoch 9/100\n",
      "184/184 [==============================] - 0s 1ms/step - loss: 0.6509 - accuracy: 0.7074 - val_loss: 0.6998 - val_accuracy: 0.6816\n",
      "Epoch 10/100\n",
      "184/184 [==============================] - 0s 1ms/step - loss: 0.6614 - accuracy: 0.7000 - val_loss: 0.6959 - val_accuracy: 0.6769\n",
      "Epoch 11/100\n",
      "184/184 [==============================] - 0s 1ms/step - loss: 0.6573 - accuracy: 0.6925 - val_loss: 0.6984 - val_accuracy: 0.6714\n",
      "Epoch 12/100\n",
      "184/184 [==============================] - 0s 1ms/step - loss: 0.6405 - accuracy: 0.7088 - val_loss: 0.6952 - val_accuracy: 0.6741\n",
      "Epoch 13/100\n",
      "184/184 [==============================] - 0s 1ms/step - loss: 0.6396 - accuracy: 0.7107 - val_loss: 0.6962 - val_accuracy: 0.6741\n",
      "Epoch 14/100\n",
      "184/184 [==============================] - 0s 1ms/step - loss: 0.6513 - accuracy: 0.6936 - val_loss: 0.6918 - val_accuracy: 0.6714\n",
      "Epoch 15/100\n",
      "184/184 [==============================] - 0s 1ms/step - loss: 0.6306 - accuracy: 0.7108 - val_loss: 0.6962 - val_accuracy: 0.6741\n",
      "Epoch 16/100\n",
      "184/184 [==============================] - 0s 1ms/step - loss: 0.6297 - accuracy: 0.7108 - val_loss: 0.6936 - val_accuracy: 0.6755\n",
      "Epoch 17/100\n",
      "184/184 [==============================] - 0s 1ms/step - loss: 0.6307 - accuracy: 0.7089 - val_loss: 0.6916 - val_accuracy: 0.6803\n",
      "Epoch 18/100\n",
      "184/184 [==============================] - 0s 1ms/step - loss: 0.6207 - accuracy: 0.7199 - val_loss: 0.6911 - val_accuracy: 0.6755\n",
      "Epoch 19/100\n",
      "184/184 [==============================] - 0s 1ms/step - loss: 0.6242 - accuracy: 0.7161 - val_loss: 0.6892 - val_accuracy: 0.6837\n",
      "Epoch 20/100\n",
      "184/184 [==============================] - 0s 1ms/step - loss: 0.6243 - accuracy: 0.7142 - val_loss: 0.6887 - val_accuracy: 0.6803\n",
      "Epoch 21/100\n",
      "184/184 [==============================] - 0s 1ms/step - loss: 0.6317 - accuracy: 0.7106 - val_loss: 0.6878 - val_accuracy: 0.6823\n",
      "Epoch 22/100\n",
      "184/184 [==============================] - 0s 1ms/step - loss: 0.6294 - accuracy: 0.7146 - val_loss: 0.6893 - val_accuracy: 0.6782\n",
      "Epoch 23/100\n",
      "184/184 [==============================] - 0s 1ms/step - loss: 0.6252 - accuracy: 0.7146 - val_loss: 0.6884 - val_accuracy: 0.6803\n",
      "Epoch 24/100\n",
      "184/184 [==============================] - 0s 1ms/step - loss: 0.6335 - accuracy: 0.7176 - val_loss: 0.6865 - val_accuracy: 0.6884\n",
      "Epoch 25/100\n",
      "184/184 [==============================] - 0s 1ms/step - loss: 0.6166 - accuracy: 0.7240 - val_loss: 0.6894 - val_accuracy: 0.6884\n",
      "Epoch 26/100\n",
      "184/184 [==============================] - 0s 1ms/step - loss: 0.6185 - accuracy: 0.7209 - val_loss: 0.6864 - val_accuracy: 0.6816\n",
      "Epoch 27/100\n",
      "184/184 [==============================] - 0s 1ms/step - loss: 0.6189 - accuracy: 0.7228 - val_loss: 0.6845 - val_accuracy: 0.6857\n",
      "Epoch 28/100\n",
      "184/184 [==============================] - 0s 1ms/step - loss: 0.6215 - accuracy: 0.7216 - val_loss: 0.6842 - val_accuracy: 0.6871\n",
      "Epoch 29/100\n",
      "184/184 [==============================] - 0s 1ms/step - loss: 0.6173 - accuracy: 0.7180 - val_loss: 0.6849 - val_accuracy: 0.6810\n",
      "Epoch 30/100\n",
      "184/184 [==============================] - 0s 1ms/step - loss: 0.6192 - accuracy: 0.7172 - val_loss: 0.6849 - val_accuracy: 0.6837\n",
      "Epoch 31/100\n",
      "184/184 [==============================] - 0s 1ms/step - loss: 0.6244 - accuracy: 0.7204 - val_loss: 0.6850 - val_accuracy: 0.6871\n",
      "Epoch 32/100\n",
      "184/184 [==============================] - 0s 1ms/step - loss: 0.6183 - accuracy: 0.7233 - val_loss: 0.6853 - val_accuracy: 0.6769\n",
      "Epoch 33/100\n",
      "184/184 [==============================] - 0s 1ms/step - loss: 0.6029 - accuracy: 0.7331 - val_loss: 0.6826 - val_accuracy: 0.6871\n",
      "Epoch 34/100\n",
      "184/184 [==============================] - 0s 1ms/step - loss: 0.5946 - accuracy: 0.7298 - val_loss: 0.6816 - val_accuracy: 0.6898\n",
      "Epoch 35/100\n",
      "184/184 [==============================] - 0s 1ms/step - loss: 0.6028 - accuracy: 0.7301 - val_loss: 0.6815 - val_accuracy: 0.6912\n",
      "Epoch 36/100\n",
      "184/184 [==============================] - 0s 1ms/step - loss: 0.6161 - accuracy: 0.7254 - val_loss: 0.6844 - val_accuracy: 0.6857\n",
      "Epoch 37/100\n",
      "184/184 [==============================] - 0s 1ms/step - loss: 0.5980 - accuracy: 0.7303 - val_loss: 0.6856 - val_accuracy: 0.6952\n",
      "Epoch 38/100\n",
      "184/184 [==============================] - 0s 1ms/step - loss: 0.6101 - accuracy: 0.7275 - val_loss: 0.6836 - val_accuracy: 0.6891\n",
      "Epoch 39/100\n",
      "184/184 [==============================] - 0s 1ms/step - loss: 0.6092 - accuracy: 0.7283 - val_loss: 0.6866 - val_accuracy: 0.6823\n",
      "Epoch 40/100\n",
      "184/184 [==============================] - 0s 1ms/step - loss: 0.6087 - accuracy: 0.7296 - val_loss: 0.6819 - val_accuracy: 0.6952\n",
      "Epoch 41/100\n",
      "184/184 [==============================] - 0s 1ms/step - loss: 0.6039 - accuracy: 0.7233 - val_loss: 0.6845 - val_accuracy: 0.6925\n",
      "Epoch 42/100\n",
      "184/184 [==============================] - 0s 1ms/step - loss: 0.5898 - accuracy: 0.7336 - val_loss: 0.6867 - val_accuracy: 0.6864\n",
      "Epoch 43/100\n",
      "184/184 [==============================] - 0s 1ms/step - loss: 0.6186 - accuracy: 0.7218 - val_loss: 0.6800 - val_accuracy: 0.6959\n",
      "Epoch 44/100\n",
      "184/184 [==============================] - 0s 1ms/step - loss: 0.6016 - accuracy: 0.7277 - val_loss: 0.6833 - val_accuracy: 0.6912\n",
      "Epoch 45/100\n",
      "184/184 [==============================] - 0s 1ms/step - loss: 0.6003 - accuracy: 0.7360 - val_loss: 0.6837 - val_accuracy: 0.6918\n",
      "Epoch 46/100\n",
      "184/184 [==============================] - 0s 1ms/step - loss: 0.5912 - accuracy: 0.7314 - val_loss: 0.6835 - val_accuracy: 0.6891\n",
      "Epoch 47/100\n",
      "184/184 [==============================] - 0s 1ms/step - loss: 0.6040 - accuracy: 0.7214 - val_loss: 0.6840 - val_accuracy: 0.6912\n",
      "Epoch 48/100\n",
      "184/184 [==============================] - 0s 1ms/step - loss: 0.5981 - accuracy: 0.7235 - val_loss: 0.6852 - val_accuracy: 0.6946\n",
      "Epoch 49/100\n",
      "184/184 [==============================] - 0s 1ms/step - loss: 0.5930 - accuracy: 0.7301 - val_loss: 0.6831 - val_accuracy: 0.6871\n",
      "Epoch 50/100\n",
      "184/184 [==============================] - 0s 1ms/step - loss: 0.6064 - accuracy: 0.7300 - val_loss: 0.6836 - val_accuracy: 0.6918\n",
      "Epoch 51/100\n",
      "184/184 [==============================] - 0s 1ms/step - loss: 0.5941 - accuracy: 0.7357 - val_loss: 0.6847 - val_accuracy: 0.6844\n",
      "Epoch 52/100\n",
      "184/184 [==============================] - 0s 1ms/step - loss: 0.5866 - accuracy: 0.7392 - val_loss: 0.6856 - val_accuracy: 0.6905\n",
      "Epoch 53/100\n",
      "184/184 [==============================] - 0s 1ms/step - loss: 0.5687 - accuracy: 0.7501 - val_loss: 0.6867 - val_accuracy: 0.6864\n",
      "Epoch 54/100\n",
      "184/184 [==============================] - 0s 1ms/step - loss: 0.5895 - accuracy: 0.7379 - val_loss: 0.6856 - val_accuracy: 0.6898\n",
      "Epoch 55/100\n",
      "184/184 [==============================] - 0s 1ms/step - loss: 0.5973 - accuracy: 0.7391 - val_loss: 0.6856 - val_accuracy: 0.6857\n",
      "Epoch 56/100\n",
      "184/184 [==============================] - 0s 1ms/step - loss: 0.5832 - accuracy: 0.7366 - val_loss: 0.6851 - val_accuracy: 0.6918\n",
      "Epoch 57/100\n",
      "184/184 [==============================] - 0s 1ms/step - loss: 0.5880 - accuracy: 0.7397 - val_loss: 0.6904 - val_accuracy: 0.6789\n"
     ]
    },
    {
     "name": "stdout",
     "output_type": "stream",
     "text": [
      "Epoch 58/100\n",
      "184/184 [==============================] - 0s 1ms/step - loss: 0.5928 - accuracy: 0.7390 - val_loss: 0.6852 - val_accuracy: 0.6844\n",
      "Epoch 59/100\n",
      "184/184 [==============================] - 0s 1ms/step - loss: 0.5888 - accuracy: 0.7333 - val_loss: 0.6841 - val_accuracy: 0.6884\n",
      "Epoch 60/100\n",
      "184/184 [==============================] - 0s 1ms/step - loss: 0.5738 - accuracy: 0.7393 - val_loss: 0.6840 - val_accuracy: 0.6857\n",
      "Epoch 61/100\n",
      "184/184 [==============================] - 0s 1ms/step - loss: 0.5795 - accuracy: 0.7421 - val_loss: 0.6872 - val_accuracy: 0.6871\n",
      "Epoch 62/100\n",
      "184/184 [==============================] - 0s 1ms/step - loss: 0.5712 - accuracy: 0.7484 - val_loss: 0.6934 - val_accuracy: 0.6837\n",
      "Epoch 63/100\n",
      "184/184 [==============================] - 0s 1ms/step - loss: 0.5863 - accuracy: 0.7377 - val_loss: 0.6870 - val_accuracy: 0.6796\n",
      "Epoch 64/100\n",
      "184/184 [==============================] - 0s 1ms/step - loss: 0.5894 - accuracy: 0.7310 - val_loss: 0.6837 - val_accuracy: 0.6864\n",
      "Epoch 65/100\n",
      "184/184 [==============================] - 0s 1ms/step - loss: 0.5820 - accuracy: 0.7324 - val_loss: 0.6863 - val_accuracy: 0.6884\n",
      "Epoch 66/100\n",
      "184/184 [==============================] - 0s 1ms/step - loss: 0.5685 - accuracy: 0.7449 - val_loss: 0.6862 - val_accuracy: 0.6898\n",
      "Epoch 67/100\n",
      "184/184 [==============================] - 0s 1ms/step - loss: 0.5879 - accuracy: 0.7296 - val_loss: 0.6914 - val_accuracy: 0.6823\n",
      "Epoch 68/100\n",
      "184/184 [==============================] - 0s 1ms/step - loss: 0.5883 - accuracy: 0.7326 - val_loss: 0.6875 - val_accuracy: 0.6898\n",
      "Epoch 69/100\n",
      "184/184 [==============================] - 0s 1ms/step - loss: 0.5931 - accuracy: 0.7288 - val_loss: 0.6883 - val_accuracy: 0.6898\n",
      "Epoch 70/100\n",
      "184/184 [==============================] - 0s 1ms/step - loss: 0.5794 - accuracy: 0.7399 - val_loss: 0.6900 - val_accuracy: 0.6864\n",
      "Epoch 71/100\n",
      "184/184 [==============================] - 0s 1ms/step - loss: 0.5933 - accuracy: 0.7313 - val_loss: 0.6866 - val_accuracy: 0.6878\n",
      "Epoch 72/100\n",
      "184/184 [==============================] - 0s 1ms/step - loss: 0.5687 - accuracy: 0.7420 - val_loss: 0.6897 - val_accuracy: 0.6816\n",
      "Epoch 73/100\n",
      "184/184 [==============================] - 0s 1ms/step - loss: 0.5870 - accuracy: 0.7355 - val_loss: 0.6881 - val_accuracy: 0.6864\n",
      "Epoch 74/100\n",
      "184/184 [==============================] - 0s 1ms/step - loss: 0.5840 - accuracy: 0.7369 - val_loss: 0.6936 - val_accuracy: 0.6816\n",
      "Epoch 75/100\n",
      "184/184 [==============================] - 0s 1ms/step - loss: 0.5821 - accuracy: 0.7366 - val_loss: 0.6900 - val_accuracy: 0.6796\n",
      "Epoch 76/100\n",
      "184/184 [==============================] - 0s 1ms/step - loss: 0.5818 - accuracy: 0.7412 - val_loss: 0.6877 - val_accuracy: 0.6864\n",
      "Epoch 77/100\n",
      "184/184 [==============================] - 0s 1ms/step - loss: 0.5749 - accuracy: 0.7427 - val_loss: 0.6876 - val_accuracy: 0.6850\n",
      "Epoch 78/100\n",
      "184/184 [==============================] - 0s 1ms/step - loss: 0.5715 - accuracy: 0.7455 - val_loss: 0.6880 - val_accuracy: 0.6769\n",
      "Epoch 79/100\n",
      "184/184 [==============================] - 0s 1ms/step - loss: 0.5735 - accuracy: 0.7418 - val_loss: 0.6922 - val_accuracy: 0.6796\n",
      "Epoch 80/100\n",
      "184/184 [==============================] - 0s 1ms/step - loss: 0.5683 - accuracy: 0.7459 - val_loss: 0.6916 - val_accuracy: 0.6850\n",
      "Epoch 81/100\n",
      "184/184 [==============================] - 0s 1ms/step - loss: 0.5602 - accuracy: 0.7531 - val_loss: 0.6904 - val_accuracy: 0.6871\n",
      "Epoch 82/100\n",
      "184/184 [==============================] - 0s 1ms/step - loss: 0.5691 - accuracy: 0.7461 - val_loss: 0.6923 - val_accuracy: 0.6803\n",
      "Epoch 83/100\n",
      "184/184 [==============================] - 0s 1ms/step - loss: 0.5841 - accuracy: 0.7321 - val_loss: 0.6928 - val_accuracy: 0.6871\n",
      "Epoch 84/100\n",
      "184/184 [==============================] - 0s 1ms/step - loss: 0.5701 - accuracy: 0.7382 - val_loss: 0.6910 - val_accuracy: 0.6898\n",
      "Epoch 85/100\n",
      "184/184 [==============================] - 0s 1ms/step - loss: 0.5750 - accuracy: 0.7432 - val_loss: 0.6926 - val_accuracy: 0.6871\n",
      "Epoch 86/100\n",
      "184/184 [==============================] - 0s 1ms/step - loss: 0.5628 - accuracy: 0.7421 - val_loss: 0.6915 - val_accuracy: 0.6837\n",
      "Epoch 87/100\n",
      "184/184 [==============================] - 0s 1ms/step - loss: 0.5637 - accuracy: 0.7488 - val_loss: 0.7003 - val_accuracy: 0.6748\n",
      "Epoch 88/100\n",
      "184/184 [==============================] - 0s 1ms/step - loss: 0.5665 - accuracy: 0.7495 - val_loss: 0.6947 - val_accuracy: 0.6776\n",
      "Epoch 89/100\n",
      "184/184 [==============================] - 0s 1ms/step - loss: 0.5713 - accuracy: 0.7464 - val_loss: 0.6944 - val_accuracy: 0.6837\n",
      "Epoch 90/100\n",
      "184/184 [==============================] - 0s 1ms/step - loss: 0.5610 - accuracy: 0.7508 - val_loss: 0.6963 - val_accuracy: 0.6741\n",
      "Epoch 91/100\n",
      "184/184 [==============================] - 0s 1ms/step - loss: 0.5646 - accuracy: 0.7466 - val_loss: 0.6963 - val_accuracy: 0.6830\n",
      "Epoch 92/100\n",
      "184/184 [==============================] - 0s 1ms/step - loss: 0.5649 - accuracy: 0.7490 - val_loss: 0.6963 - val_accuracy: 0.6823\n",
      "Epoch 93/100\n",
      "184/184 [==============================] - 0s 1ms/step - loss: 0.5707 - accuracy: 0.7446 - val_loss: 0.6997 - val_accuracy: 0.6830\n",
      "Epoch 94/100\n",
      "184/184 [==============================] - 0s 1ms/step - loss: 0.5663 - accuracy: 0.7414 - val_loss: 0.6972 - val_accuracy: 0.6884\n",
      "Epoch 95/100\n",
      "184/184 [==============================] - 0s 1ms/step - loss: 0.5575 - accuracy: 0.7450 - val_loss: 0.6962 - val_accuracy: 0.6796\n",
      "Epoch 96/100\n",
      "184/184 [==============================] - 0s 1ms/step - loss: 0.5704 - accuracy: 0.7489 - val_loss: 0.6972 - val_accuracy: 0.6857\n",
      "Epoch 97/100\n",
      "184/184 [==============================] - 0s 1ms/step - loss: 0.5634 - accuracy: 0.7477 - val_loss: 0.6960 - val_accuracy: 0.6796\n",
      "Epoch 98/100\n",
      "184/184 [==============================] - 0s 1ms/step - loss: 0.5572 - accuracy: 0.7519 - val_loss: 0.6959 - val_accuracy: 0.6823\n",
      "Epoch 99/100\n",
      "184/184 [==============================] - 0s 1ms/step - loss: 0.5671 - accuracy: 0.7471 - val_loss: 0.6964 - val_accuracy: 0.6782\n",
      "Epoch 100/100\n",
      "184/184 [==============================] - 0s 1ms/step - loss: 0.5543 - accuracy: 0.7524 - val_loss: 0.6960 - val_accuracy: 0.6830\n"
     ]
    }
   ],
   "source": [
    "# Fitting Keras using instructions above, and save to kff\n",
    "kff = kf.fit(Xs_train,ys_train, epochs = 100, batch_size = 32, validation_split = 0.2, shuffle = True)"
   ]
  },
  {
   "cell_type": "code",
   "execution_count": 25,
   "metadata": {},
   "outputs": [
    {
     "name": "stdout",
     "output_type": "stream",
     "text": [
      "== KERAS ACCURACY AND LOSS == \n",
      "\n",
      "Test Data Accuracy & Loss\n",
      "99/99 [==============================] - 0s 718us/step - loss: 0.6662 - accuracy: 0.7070\n",
      "\n",
      "\n",
      "Training Data Accuracy & Loss\n",
      "230/230 [==============================] - 0s 773us/step - loss: 0.5833 - accuracy: 0.7389\n",
      "\n",
      "\n",
      "== SK-LEARN ACCURACY == \n",
      "\n",
      "Testing Data Accuracy: 0.705\n",
      "Training Data Accuracy: 0.747\n"
     ]
    }
   ],
   "source": [
    "# Print classification accuracy and loss (comes within the evaluate)\n",
    "print(\"== KERAS ACCURACY AND LOSS == \\n\")\n",
    "\n",
    "print(\"Test Data Accuracy & Loss\")\n",
    "stest_results = kf.evaluate(Xs_test,ys_test)\n",
    "\n",
    "print(\"\\n\")\n",
    "print(\"Training Data Accuracy & Loss\")\n",
    "strain_results = kf.evaluate(Xs_train,ys_train)\n",
    "\n",
    "# spacing\n",
    "print(\"\\n\")\n",
    "\n",
    "# Print sk-learn accuracy again.\n",
    "print(\"== SK-LEARN ACCURACY == \\n\")\n",
    "\n",
    "print(\"Testing Data Accuracy: \" + str(\"{:.3f}\".format(clf.score(Xs_test,ys_test))))\n",
    "\n",
    "print(\"Training Data Accuracy: \" + str(\"{:.3f}\".format(clf.score(Xs_train,ys_train))))"
   ]
  },
  {
   "cell_type": "markdown",
   "metadata": {},
   "source": [
    "<span style=\"color:green\">\n",
    "\n",
    "The accuracy for sklearn (at least for my random dataset) actually appears slightly better than that of Keras, although both of the results are rather very similar. This suggests that the Keras model can be improved to better train on our dataset, as currently they result in very similar loss and accuracy (as expected, considering they're using the same NN)\n",
    "    \n",
    "</span>"
   ]
  },
  {
   "cell_type": "code",
   "execution_count": 26,
   "metadata": {},
   "outputs": [
    {
     "data": {
      "image/png": "[encoded data removed]",
      "text/plain": [
       "<Figure size 432x288 with 1 Axes>"
      ]
     },
     "metadata": {
      "needs_background": "light"
     },
     "output_type": "display_data"
    }
   ],
   "source": [
    "#print(kff.history)\n",
    "# \n",
    "epochs = np.linspace(0,99,100)\n",
    "plt.xlabel(\"No. of Epochs\")\n",
    "plt.ylabel(\"Loss values\")\n",
    "plt.title(\"Loss Curve with Epochs for sklearn and Keras\")\n",
    "plt.plot(epochs,clf.loss_curve_, label = 'sklearn loss')\n",
    "plt.plot(epochs,kff.history['loss'], label = 'Keras Loss')\n",
    "plt.plot(epochs,kff.history['val_loss'], label = 'Keras Validation Loss')\n",
    "plt.legend()\n",
    "plt.show()"
   ]
  },
  {
   "cell_type": "markdown",
   "metadata": {},
   "source": [
    "<span style=\"color:green\">\n",
    "\n",
    "While the sklearn and Keras loss are quite similar over the 100 epochs, with Keras even slightly outperforming sklearn, the validation loss demonstrates that what is occurring beyond 5 or so epochs is overfitting as the loss flattens out and even increases for our test values. \n",
    "    \n",
    "</span>"
   ]
  },
  {
   "cell_type": "markdown",
   "metadata": {},
   "source": [
    "## 5. Regularisation (1.5 marks)\n",
    "---\n",
    "This section covers **2** exercises on the impact of weight regularisaton. Note that $L_{1}$- and $L_{2}$-regularisation may also be applied to the activation of intermediate layers. Also, a similar regularising effect could be achieved using **dropout** regularisation, which you are encouraged to try out, but which we won't study in this CP exercise."
   ]
  },
  {
   "cell_type": "code",
   "execution_count": 27,
   "metadata": {},
   "outputs": [],
   "source": [
    "# Relevant import(s) for this section\n",
    "from tensorflow.python.keras.regularizers import l1_l2"
   ]
  },
  {
   "cell_type": "markdown",
   "metadata": {},
   "source": [
    "#### 14. Define `Keras` model factory method (0.5 mark)\n",
    "\n",
    "- Define a python function called `big_model_fn` which takes the followng three arguments:\n",
    "    - `l1`: A float specifying the $L_{1}$ regularisation factor (default value: 0)\n",
    "    - `l2`: A float specifying the $L_{2}$ regularisation factor (default value: 0)\n",
    "    - `name`: A string, specifying the name of the model (default value: None)\n",
    "- Indside the function, you should:\n",
    "    - Construct a `Keras` model using the functional API, which has:\n",
    "        - An input layer with the same number of nodes as the number of features in `X`.\n",
    "        - **Two** densely connected hidden layer with **100 nodes** each, both equipped with **ReLU activation**.\n",
    "        - Both hidden layers should be subject to kernel regularisation (_i.e._ weight regularisation) with the regularisation factors specified as an input.\n",
    "        - A densely connected output layer with **3 nodes** (the number of types of weather we're classifying) equipped with **softmax activation**.\n",
    "        - A name given by the corresponding argument.\n",
    "    - Compile the model in the same way as in **Exercise 14.**\n",
    "- The function should return the compiled `Keras` model. \n",
    "\n",
    "The method will provide a convenient way of constructing and compiling a number of \"big\"/deep `Keras` models which differ only by their regularisation and name."
   ]
  },
  {
   "cell_type": "code",
   "execution_count": 28,
   "metadata": {},
   "outputs": [],
   "source": [
    "def big_model_fn(l1 = 0,l2 = 0,name = \"None\"):\n",
    "    \n",
    "    # Create keras model\n",
    "    binput = Input(shape=(Xs_train.shape[1],))\n",
    "    layer1 = Dense(100, activation='relu',kernel_regularizer = l1_l2(l1=l1,l2=l2))(binput)\n",
    "    layer2 = Dense(100, activation='relu',kernel_regularizer = l1_l2(l1=l1,l2=l2))(layer1)\n",
    "    output = Dense(3,activation='softmax')(layer2)\n",
    "    kf = Model(inputs=binput, outputs=output,name=name)\n",
    "    \n",
    "    # Compile using Adam optimiser\n",
    "    kf.compile(optimizer='Adam',loss='sparse_categorical_crossentropy',metrics=[\"accuracy\"])\n",
    "    return kf"
   ]
  },
  {
   "cell_type": "markdown",
   "metadata": {},
   "source": [
    "#### 15. Train \"big\" models with and without regularisation (1 mark)\n",
    "\n",
    "- Construct three \"big\" model using the factory method:\n",
    "     - One with default parameters\n",
    "     - One with `l1=0.0003` and  `name='Big model (L1-regularised)'`\n",
    "     - One with `l2=0.003`  and `name='Big model (L2-regularised)'`\n",
    "- Train each one as in **Exercise 15.**\n",
    "- Compare first the loss history of the un-regularised \"big\" model to that of the small model from **Exercise 15** using the `plot.loss()` method.\n",
    "- Then, compare the loss histories of all three \"big\" models with that of the small model.\n",
    "- Plot the loss and val loss of all 4 models and discuss the results. Target these points:\n",
    "    - Compare the performance of deep vs shallow models on the testing sets\n",
    "    - Compare the level of ovetraining (training vs testing loss)\n",
    "    - Note: Don't be alarmed if the shallow network performs slightly better that the deeper ones, this is dataset dependant."
   ]
  },
  {
   "cell_type": "code",
   "execution_count": 29,
   "metadata": {},
   "outputs": [],
   "source": [
    "# One model with default parameters\n",
    "model1 = big_model_fn()\n",
    "\n",
    "# One model with l1 = 0.0003\n",
    "model2 = big_model_fn(0.0003,0,'Big_model_L1_regularised')\n",
    "\n",
    "# One model with l2 = 0.003\n",
    "model3 = big_model_fn(0,0.003,'Big_model_L1_regularised')\n",
    "\n"
   ]
  },
  {
   "cell_type": "code",
   "execution_count": 30,
   "metadata": {},
   "outputs": [
    {
     "name": "stdout",
     "output_type": "stream",
     "text": [
      "Epoch 1/100\n",
      "184/184 [==============================] - 0s 2ms/step - loss: 0.8542 - accuracy: 0.5874 - val_loss: 0.7078 - val_accuracy: 0.6748\n",
      "Epoch 2/100\n",
      "184/184 [==============================] - 0s 1ms/step - loss: 0.6914 - accuracy: 0.6771 - val_loss: 0.6986 - val_accuracy: 0.6769\n",
      "Epoch 3/100\n",
      "184/184 [==============================] - 0s 1ms/step - loss: 0.6592 - accuracy: 0.6974 - val_loss: 0.6962 - val_accuracy: 0.6741\n",
      "Epoch 4/100\n",
      "184/184 [==============================] - 0s 1ms/step - loss: 0.6513 - accuracy: 0.7021 - val_loss: 0.6786 - val_accuracy: 0.6878\n",
      "Epoch 5/100\n",
      "184/184 [==============================] - 0s 1ms/step - loss: 0.6286 - accuracy: 0.7150 - val_loss: 0.6810 - val_accuracy: 0.6864\n",
      "Epoch 6/100\n",
      "184/184 [==============================] - 0s 1ms/step - loss: 0.6224 - accuracy: 0.7098 - val_loss: 0.6767 - val_accuracy: 0.6925\n",
      "Epoch 7/100\n",
      "184/184 [==============================] - 0s 1ms/step - loss: 0.6112 - accuracy: 0.7184 - val_loss: 0.6745 - val_accuracy: 0.6864\n",
      "Epoch 8/100\n",
      "184/184 [==============================] - 0s 1ms/step - loss: 0.6149 - accuracy: 0.7118 - val_loss: 0.6724 - val_accuracy: 0.6850\n",
      "Epoch 9/100\n",
      "184/184 [==============================] - 0s 1ms/step - loss: 0.5818 - accuracy: 0.7442 - val_loss: 0.6703 - val_accuracy: 0.6850\n",
      "Epoch 10/100\n",
      "184/184 [==============================] - 0s 1ms/step - loss: 0.5951 - accuracy: 0.7392 - val_loss: 0.6745 - val_accuracy: 0.6803\n",
      "Epoch 11/100\n",
      "184/184 [==============================] - 0s 1ms/step - loss: 0.5982 - accuracy: 0.7337 - val_loss: 0.6782 - val_accuracy: 0.6837\n",
      "Epoch 12/100\n",
      "184/184 [==============================] - 0s 1ms/step - loss: 0.5701 - accuracy: 0.7464 - val_loss: 0.6755 - val_accuracy: 0.6830\n",
      "Epoch 13/100\n",
      "184/184 [==============================] - 0s 1ms/step - loss: 0.5655 - accuracy: 0.7486 - val_loss: 0.6728 - val_accuracy: 0.6884\n",
      "Epoch 14/100\n",
      "184/184 [==============================] - 0s 1ms/step - loss: 0.5738 - accuracy: 0.7411 - val_loss: 0.6849 - val_accuracy: 0.6782\n",
      "Epoch 15/100\n",
      "184/184 [==============================] - 0s 1ms/step - loss: 0.5557 - accuracy: 0.7547 - val_loss: 0.6912 - val_accuracy: 0.6823\n",
      "Epoch 16/100\n",
      "184/184 [==============================] - 0s 1ms/step - loss: 0.5391 - accuracy: 0.7591 - val_loss: 0.6757 - val_accuracy: 0.6837\n",
      "Epoch 17/100\n",
      "184/184 [==============================] - 0s 1ms/step - loss: 0.5347 - accuracy: 0.7659 - val_loss: 0.6821 - val_accuracy: 0.6796\n",
      "Epoch 18/100\n",
      "184/184 [==============================] - 0s 1ms/step - loss: 0.5211 - accuracy: 0.7678 - val_loss: 0.6913 - val_accuracy: 0.6741\n",
      "Epoch 19/100\n",
      "184/184 [==============================] - 0s 1ms/step - loss: 0.5239 - accuracy: 0.7741 - val_loss: 0.6950 - val_accuracy: 0.6823\n",
      "Epoch 20/100\n",
      "184/184 [==============================] - 0s 1ms/step - loss: 0.5188 - accuracy: 0.7653 - val_loss: 0.6865 - val_accuracy: 0.6823\n",
      "Epoch 21/100\n",
      "184/184 [==============================] - 0s 1ms/step - loss: 0.5169 - accuracy: 0.7793 - val_loss: 0.6986 - val_accuracy: 0.6789\n",
      "Epoch 22/100\n",
      "184/184 [==============================] - 0s 1ms/step - loss: 0.5088 - accuracy: 0.7796 - val_loss: 0.6989 - val_accuracy: 0.6925\n",
      "Epoch 23/100\n",
      "184/184 [==============================] - 0s 1ms/step - loss: 0.4951 - accuracy: 0.7862 - val_loss: 0.6991 - val_accuracy: 0.6871\n",
      "Epoch 24/100\n",
      "184/184 [==============================] - 0s 1ms/step - loss: 0.5018 - accuracy: 0.7855 - val_loss: 0.7116 - val_accuracy: 0.6871\n",
      "Epoch 25/100\n",
      "184/184 [==============================] - 0s 1ms/step - loss: 0.4767 - accuracy: 0.7961 - val_loss: 0.7092 - val_accuracy: 0.6891\n",
      "Epoch 26/100\n",
      "184/184 [==============================] - 0s 1ms/step - loss: 0.4769 - accuracy: 0.7986 - val_loss: 0.7027 - val_accuracy: 0.6789\n",
      "Epoch 27/100\n",
      "184/184 [==============================] - 0s 1ms/step - loss: 0.4680 - accuracy: 0.8041 - val_loss: 0.7084 - val_accuracy: 0.6912\n",
      "Epoch 28/100\n",
      "184/184 [==============================] - 0s 1ms/step - loss: 0.4583 - accuracy: 0.8086 - val_loss: 0.7233 - val_accuracy: 0.6803\n",
      "Epoch 29/100\n",
      "184/184 [==============================] - 0s 1ms/step - loss: 0.4585 - accuracy: 0.8027 - val_loss: 0.7170 - val_accuracy: 0.6932\n",
      "Epoch 30/100\n",
      "184/184 [==============================] - 0s 1ms/step - loss: 0.4564 - accuracy: 0.8094 - val_loss: 0.7186 - val_accuracy: 0.6810\n",
      "Epoch 31/100\n",
      "184/184 [==============================] - 0s 1ms/step - loss: 0.4487 - accuracy: 0.8116 - val_loss: 0.7399 - val_accuracy: 0.6782\n",
      "Epoch 32/100\n",
      "184/184 [==============================] - 0s 1ms/step - loss: 0.4437 - accuracy: 0.8174 - val_loss: 0.7383 - val_accuracy: 0.6762\n",
      "Epoch 33/100\n",
      "184/184 [==============================] - 0s 1ms/step - loss: 0.4291 - accuracy: 0.8156 - val_loss: 0.7417 - val_accuracy: 0.6762\n",
      "Epoch 34/100\n",
      "184/184 [==============================] - 0s 1ms/step - loss: 0.4231 - accuracy: 0.8201 - val_loss: 0.7437 - val_accuracy: 0.6823\n",
      "Epoch 35/100\n",
      "184/184 [==============================] - 0s 1ms/step - loss: 0.4174 - accuracy: 0.8241 - val_loss: 0.7426 - val_accuracy: 0.6762\n",
      "Epoch 36/100\n",
      "184/184 [==============================] - 0s 1ms/step - loss: 0.4232 - accuracy: 0.8263 - val_loss: 0.7475 - val_accuracy: 0.6830\n",
      "Epoch 37/100\n",
      "184/184 [==============================] - 0s 1ms/step - loss: 0.4027 - accuracy: 0.8315 - val_loss: 0.7577 - val_accuracy: 0.6816\n",
      "Epoch 38/100\n",
      "184/184 [==============================] - 0s 1ms/step - loss: 0.4128 - accuracy: 0.8250 - val_loss: 0.7560 - val_accuracy: 0.6871\n",
      "Epoch 39/100\n",
      "184/184 [==============================] - 0s 1ms/step - loss: 0.4015 - accuracy: 0.8356 - val_loss: 0.7823 - val_accuracy: 0.6776\n",
      "Epoch 40/100\n",
      "184/184 [==============================] - 0s 1ms/step - loss: 0.4029 - accuracy: 0.8338 - val_loss: 0.7670 - val_accuracy: 0.6789\n",
      "Epoch 41/100\n",
      "184/184 [==============================] - 0s 1ms/step - loss: 0.4035 - accuracy: 0.8341 - val_loss: 0.7735 - val_accuracy: 0.6857\n",
      "Epoch 42/100\n",
      "184/184 [==============================] - 0s 1ms/step - loss: 0.3746 - accuracy: 0.8423 - val_loss: 0.7969 - val_accuracy: 0.6830\n",
      "Epoch 43/100\n",
      "184/184 [==============================] - 0s 1ms/step - loss: 0.3880 - accuracy: 0.8433 - val_loss: 0.7910 - val_accuracy: 0.6871\n",
      "Epoch 44/100\n",
      "184/184 [==============================] - 0s 1ms/step - loss: 0.3734 - accuracy: 0.8442 - val_loss: 0.7940 - val_accuracy: 0.6694\n",
      "Epoch 45/100\n",
      "184/184 [==============================] - 0s 1ms/step - loss: 0.3683 - accuracy: 0.8492 - val_loss: 0.8019 - val_accuracy: 0.6810\n",
      "Epoch 46/100\n",
      "184/184 [==============================] - 0s 1ms/step - loss: 0.3654 - accuracy: 0.8510 - val_loss: 0.8169 - val_accuracy: 0.6748\n",
      "Epoch 47/100\n",
      "184/184 [==============================] - 0s 1ms/step - loss: 0.3742 - accuracy: 0.8541 - val_loss: 0.8172 - val_accuracy: 0.6810\n",
      "Epoch 48/100\n",
      "184/184 [==============================] - 0s 1ms/step - loss: 0.3595 - accuracy: 0.8567 - val_loss: 0.8544 - val_accuracy: 0.6667\n",
      "Epoch 49/100\n",
      "184/184 [==============================] - 0s 1ms/step - loss: 0.3556 - accuracy: 0.8551 - val_loss: 0.8316 - val_accuracy: 0.6741\n",
      "Epoch 50/100\n",
      "184/184 [==============================] - 0s 1ms/step - loss: 0.3535 - accuracy: 0.8561 - val_loss: 0.8415 - val_accuracy: 0.6701\n",
      "Epoch 51/100\n",
      "184/184 [==============================] - 0s 1ms/step - loss: 0.3417 - accuracy: 0.8631 - val_loss: 0.8454 - val_accuracy: 0.6769\n",
      "Epoch 52/100\n",
      "184/184 [==============================] - 0s 1ms/step - loss: 0.3387 - accuracy: 0.8656 - val_loss: 0.8505 - val_accuracy: 0.6537\n",
      "Epoch 53/100\n",
      "184/184 [==============================] - 0s 1ms/step - loss: 0.3165 - accuracy: 0.8785 - val_loss: 0.8685 - val_accuracy: 0.6769\n",
      "Epoch 54/100\n",
      "184/184 [==============================] - 0s 1ms/step - loss: 0.3301 - accuracy: 0.8689 - val_loss: 0.8492 - val_accuracy: 0.6769\n",
      "Epoch 55/100\n",
      "184/184 [==============================] - 0s 1ms/step - loss: 0.3196 - accuracy: 0.8781 - val_loss: 0.8571 - val_accuracy: 0.6735\n",
      "Epoch 56/100\n",
      "184/184 [==============================] - 0s 1ms/step - loss: 0.3209 - accuracy: 0.8700 - val_loss: 0.8657 - val_accuracy: 0.6810\n",
      "Epoch 57/100\n",
      "184/184 [==============================] - 0s 1ms/step - loss: 0.3071 - accuracy: 0.8788 - val_loss: 0.8759 - val_accuracy: 0.6748\n"
     ]
    },
    {
     "name": "stdout",
     "output_type": "stream",
     "text": [
      "Epoch 58/100\n",
      "184/184 [==============================] - 0s 1ms/step - loss: 0.3149 - accuracy: 0.8696 - val_loss: 0.8911 - val_accuracy: 0.6816\n",
      "Epoch 59/100\n",
      "184/184 [==============================] - 0s 1ms/step - loss: 0.2996 - accuracy: 0.8853 - val_loss: 0.8892 - val_accuracy: 0.6646\n",
      "Epoch 60/100\n",
      "184/184 [==============================] - 0s 1ms/step - loss: 0.2882 - accuracy: 0.8856 - val_loss: 0.8898 - val_accuracy: 0.6680\n",
      "Epoch 61/100\n",
      "184/184 [==============================] - 0s 1ms/step - loss: 0.2885 - accuracy: 0.8913 - val_loss: 0.9191 - val_accuracy: 0.6796\n",
      "Epoch 62/100\n",
      "184/184 [==============================] - 0s 1ms/step - loss: 0.2876 - accuracy: 0.8885 - val_loss: 0.9142 - val_accuracy: 0.6707\n",
      "Epoch 63/100\n",
      "184/184 [==============================] - 0s 1ms/step - loss: 0.2859 - accuracy: 0.8896 - val_loss: 0.9394 - val_accuracy: 0.6667\n",
      "Epoch 64/100\n",
      "184/184 [==============================] - 0s 1ms/step - loss: 0.2818 - accuracy: 0.8910 - val_loss: 0.9636 - val_accuracy: 0.6721\n",
      "Epoch 65/100\n",
      "184/184 [==============================] - 0s 1ms/step - loss: 0.2895 - accuracy: 0.8888 - val_loss: 0.9439 - val_accuracy: 0.6694\n",
      "Epoch 66/100\n",
      "184/184 [==============================] - 0s 1ms/step - loss: 0.2658 - accuracy: 0.8950 - val_loss: 0.9436 - val_accuracy: 0.6687\n",
      "Epoch 67/100\n",
      "184/184 [==============================] - 0s 1ms/step - loss: 0.2733 - accuracy: 0.8950 - val_loss: 0.9680 - val_accuracy: 0.6653\n",
      "Epoch 68/100\n",
      "184/184 [==============================] - 0s 1ms/step - loss: 0.2708 - accuracy: 0.8982 - val_loss: 0.9720 - val_accuracy: 0.6748\n",
      "Epoch 69/100\n",
      "184/184 [==============================] - 0s 1ms/step - loss: 0.2727 - accuracy: 0.8937 - val_loss: 0.9737 - val_accuracy: 0.6619\n",
      "Epoch 70/100\n",
      "184/184 [==============================] - 0s 1ms/step - loss: 0.2538 - accuracy: 0.9042 - val_loss: 1.0071 - val_accuracy: 0.6748\n",
      "Epoch 71/100\n",
      "184/184 [==============================] - 0s 1ms/step - loss: 0.2592 - accuracy: 0.9006 - val_loss: 0.9956 - val_accuracy: 0.6741\n",
      "Epoch 72/100\n",
      "184/184 [==============================] - 0s 1ms/step - loss: 0.2488 - accuracy: 0.9019 - val_loss: 0.9975 - val_accuracy: 0.6558\n",
      "Epoch 73/100\n",
      "184/184 [==============================] - 0s 1ms/step - loss: 0.2588 - accuracy: 0.9027 - val_loss: 1.0108 - val_accuracy: 0.6748\n",
      "Epoch 74/100\n",
      "184/184 [==============================] - 0s 1ms/step - loss: 0.2401 - accuracy: 0.9085 - val_loss: 1.0336 - val_accuracy: 0.6714\n",
      "Epoch 75/100\n",
      "184/184 [==============================] - 0s 1ms/step - loss: 0.2398 - accuracy: 0.9148 - val_loss: 1.0537 - val_accuracy: 0.6796\n",
      "Epoch 76/100\n",
      "184/184 [==============================] - 0s 1ms/step - loss: 0.2402 - accuracy: 0.9113 - val_loss: 1.0390 - val_accuracy: 0.6660\n",
      "Epoch 77/100\n",
      "184/184 [==============================] - 0s 1ms/step - loss: 0.2357 - accuracy: 0.9121 - val_loss: 1.0663 - val_accuracy: 0.6476\n",
      "Epoch 78/100\n",
      "184/184 [==============================] - 0s 1ms/step - loss: 0.2310 - accuracy: 0.9143 - val_loss: 1.0384 - val_accuracy: 0.6673\n",
      "Epoch 79/100\n",
      "184/184 [==============================] - 0s 1ms/step - loss: 0.2275 - accuracy: 0.9145 - val_loss: 1.0621 - val_accuracy: 0.6701\n",
      "Epoch 80/100\n",
      "184/184 [==============================] - 0s 1ms/step - loss: 0.2287 - accuracy: 0.9183 - val_loss: 1.0791 - val_accuracy: 0.6599\n",
      "Epoch 81/100\n",
      "184/184 [==============================] - 0s 1ms/step - loss: 0.2223 - accuracy: 0.9196 - val_loss: 1.1035 - val_accuracy: 0.6585\n",
      "Epoch 82/100\n",
      "184/184 [==============================] - 0s 1ms/step - loss: 0.2188 - accuracy: 0.9213 - val_loss: 1.0908 - val_accuracy: 0.6694\n",
      "Epoch 83/100\n",
      "184/184 [==============================] - 0s 1ms/step - loss: 0.2239 - accuracy: 0.9151 - val_loss: 1.1398 - val_accuracy: 0.6721\n",
      "Epoch 84/100\n",
      "184/184 [==============================] - 0s 1ms/step - loss: 0.2108 - accuracy: 0.9240 - val_loss: 1.1371 - val_accuracy: 0.6667\n",
      "Epoch 85/100\n",
      "184/184 [==============================] - 0s 1ms/step - loss: 0.2155 - accuracy: 0.9209 - val_loss: 1.1239 - val_accuracy: 0.6612\n",
      "Epoch 86/100\n",
      "184/184 [==============================] - 0s 1ms/step - loss: 0.2149 - accuracy: 0.9188 - val_loss: 1.1585 - val_accuracy: 0.6544\n",
      "Epoch 87/100\n",
      "184/184 [==============================] - 0s 1ms/step - loss: 0.2061 - accuracy: 0.9280 - val_loss: 1.1370 - val_accuracy: 0.6503\n",
      "Epoch 88/100\n",
      "184/184 [==============================] - 0s 1ms/step - loss: 0.1949 - accuracy: 0.9397 - val_loss: 1.1363 - val_accuracy: 0.6626\n",
      "Epoch 89/100\n",
      "184/184 [==============================] - 0s 1ms/step - loss: 0.1923 - accuracy: 0.9312 - val_loss: 1.1570 - val_accuracy: 0.6687\n",
      "Epoch 90/100\n",
      "184/184 [==============================] - 0s 1ms/step - loss: 0.1912 - accuracy: 0.9346 - val_loss: 1.1547 - val_accuracy: 0.6667\n",
      "Epoch 91/100\n",
      "184/184 [==============================] - 0s 1ms/step - loss: 0.1899 - accuracy: 0.9350 - val_loss: 1.1719 - val_accuracy: 0.6476\n",
      "Epoch 92/100\n",
      "184/184 [==============================] - 0s 1ms/step - loss: 0.1853 - accuracy: 0.9385 - val_loss: 1.2080 - val_accuracy: 0.6524\n",
      "Epoch 93/100\n",
      "184/184 [==============================] - 0s 1ms/step - loss: 0.1868 - accuracy: 0.9383 - val_loss: 1.2027 - val_accuracy: 0.6755\n",
      "Epoch 94/100\n",
      "184/184 [==============================] - 0s 1ms/step - loss: 0.1893 - accuracy: 0.9347 - val_loss: 1.2349 - val_accuracy: 0.6633\n",
      "Epoch 95/100\n",
      "184/184 [==============================] - 0s 1ms/step - loss: 0.1866 - accuracy: 0.9374 - val_loss: 1.2380 - val_accuracy: 0.6503\n",
      "Epoch 96/100\n",
      "184/184 [==============================] - 0s 1ms/step - loss: 0.1695 - accuracy: 0.9478 - val_loss: 1.2270 - val_accuracy: 0.6660\n",
      "Epoch 97/100\n",
      "184/184 [==============================] - 0s 1ms/step - loss: 0.1759 - accuracy: 0.9422 - val_loss: 1.2536 - val_accuracy: 0.6558\n",
      "Epoch 98/100\n",
      "184/184 [==============================] - 0s 1ms/step - loss: 0.1759 - accuracy: 0.9401 - val_loss: 1.2543 - val_accuracy: 0.6565\n",
      "Epoch 99/100\n",
      "184/184 [==============================] - 0s 1ms/step - loss: 0.1665 - accuracy: 0.9450 - val_loss: 1.2490 - val_accuracy: 0.6551\n",
      "Epoch 100/100\n",
      "184/184 [==============================] - 0s 1ms/step - loss: 0.1675 - accuracy: 0.9443 - val_loss: 1.2691 - val_accuracy: 0.6537\n",
      "Epoch 1/100\n",
      "184/184 [==============================] - 1s 2ms/step - loss: 1.1392 - accuracy: 0.6156 - val_loss: 0.9525 - val_accuracy: 0.6741\n",
      "Epoch 2/100\n",
      "184/184 [==============================] - 0s 1ms/step - loss: 0.9265 - accuracy: 0.6739 - val_loss: 0.8989 - val_accuracy: 0.6762\n",
      "Epoch 3/100\n",
      "184/184 [==============================] - 0s 1ms/step - loss: 0.8553 - accuracy: 0.6912 - val_loss: 0.8653 - val_accuracy: 0.6646\n",
      "Epoch 4/100\n",
      "184/184 [==============================] - 0s 1ms/step - loss: 0.8239 - accuracy: 0.6992 - val_loss: 0.8250 - val_accuracy: 0.6850\n",
      "Epoch 5/100\n",
      "184/184 [==============================] - 0s 1ms/step - loss: 0.7842 - accuracy: 0.7019 - val_loss: 0.8100 - val_accuracy: 0.6816\n",
      "Epoch 6/100\n",
      "184/184 [==============================] - 0s 1ms/step - loss: 0.7689 - accuracy: 0.7013 - val_loss: 0.7899 - val_accuracy: 0.6918\n",
      "Epoch 7/100\n",
      "184/184 [==============================] - 0s 1ms/step - loss: 0.7492 - accuracy: 0.7062 - val_loss: 0.7800 - val_accuracy: 0.6844\n",
      "Epoch 8/100\n",
      "184/184 [==============================] - 0s 1ms/step - loss: 0.7531 - accuracy: 0.6989 - val_loss: 0.7714 - val_accuracy: 0.6891\n",
      "Epoch 9/100\n",
      "184/184 [==============================] - 0s 1ms/step - loss: 0.7234 - accuracy: 0.7208 - val_loss: 0.7647 - val_accuracy: 0.6925\n",
      "Epoch 10/100\n",
      "184/184 [==============================] - 0s 1ms/step - loss: 0.7354 - accuracy: 0.7051 - val_loss: 0.7571 - val_accuracy: 0.6905\n",
      "Epoch 11/100\n",
      "184/184 [==============================] - 0s 1ms/step - loss: 0.7300 - accuracy: 0.7010 - val_loss: 0.7587 - val_accuracy: 0.6830\n",
      "Epoch 12/100\n",
      "184/184 [==============================] - 0s 1ms/step - loss: 0.7125 - accuracy: 0.7077 - val_loss: 0.7521 - val_accuracy: 0.6837\n",
      "Epoch 13/100\n",
      "184/184 [==============================] - 0s 1ms/step - loss: 0.7078 - accuracy: 0.7148 - val_loss: 0.7436 - val_accuracy: 0.6973\n",
      "Epoch 14/100\n",
      "184/184 [==============================] - 0s 1ms/step - loss: 0.7178 - accuracy: 0.7063 - val_loss: 0.7470 - val_accuracy: 0.6844\n"
     ]
    },
    {
     "name": "stdout",
     "output_type": "stream",
     "text": [
      "Epoch 15/100\n",
      "184/184 [==============================] - 0s 1ms/step - loss: 0.6966 - accuracy: 0.7157 - val_loss: 0.7523 - val_accuracy: 0.6939\n",
      "Epoch 16/100\n",
      "184/184 [==============================] - 0s 1ms/step - loss: 0.6912 - accuracy: 0.7140 - val_loss: 0.7336 - val_accuracy: 0.6946\n",
      "Epoch 17/100\n",
      "184/184 [==============================] - 0s 1ms/step - loss: 0.6906 - accuracy: 0.7163 - val_loss: 0.7404 - val_accuracy: 0.6891\n",
      "Epoch 18/100\n",
      "184/184 [==============================] - 0s 1ms/step - loss: 0.6801 - accuracy: 0.7181 - val_loss: 0.7388 - val_accuracy: 0.6864\n",
      "Epoch 19/100\n",
      "184/184 [==============================] - 0s 1ms/step - loss: 0.6824 - accuracy: 0.7144 - val_loss: 0.7393 - val_accuracy: 0.6823\n",
      "Epoch 20/100\n",
      "184/184 [==============================] - 0s 1ms/step - loss: 0.6807 - accuracy: 0.7194 - val_loss: 0.7355 - val_accuracy: 0.6891\n",
      "Epoch 21/100\n",
      "184/184 [==============================] - 0s 1ms/step - loss: 0.6875 - accuracy: 0.7201 - val_loss: 0.7398 - val_accuracy: 0.6864\n",
      "Epoch 22/100\n",
      "184/184 [==============================] - 0s 1ms/step - loss: 0.6819 - accuracy: 0.7122 - val_loss: 0.7371 - val_accuracy: 0.6864\n",
      "Epoch 23/100\n",
      "184/184 [==============================] - 0s 1ms/step - loss: 0.6753 - accuracy: 0.7230 - val_loss: 0.7321 - val_accuracy: 0.6939\n",
      "Epoch 24/100\n",
      "184/184 [==============================] - 0s 1ms/step - loss: 0.6850 - accuracy: 0.7180 - val_loss: 0.7354 - val_accuracy: 0.6939\n",
      "Epoch 25/100\n",
      "184/184 [==============================] - 0s 1ms/step - loss: 0.6703 - accuracy: 0.7177 - val_loss: 0.7341 - val_accuracy: 0.6946\n",
      "Epoch 26/100\n",
      "184/184 [==============================] - 0s 1ms/step - loss: 0.6679 - accuracy: 0.7282 - val_loss: 0.7270 - val_accuracy: 0.6946\n",
      "Epoch 27/100\n",
      "184/184 [==============================] - 0s 1ms/step - loss: 0.6679 - accuracy: 0.7291 - val_loss: 0.7341 - val_accuracy: 0.6878\n",
      "Epoch 28/100\n",
      "184/184 [==============================] - 0s 1ms/step - loss: 0.6700 - accuracy: 0.7294 - val_loss: 0.7279 - val_accuracy: 0.6986\n",
      "Epoch 29/100\n",
      "184/184 [==============================] - 0s 1ms/step - loss: 0.6631 - accuracy: 0.7337 - val_loss: 0.7289 - val_accuracy: 0.6918\n",
      "Epoch 30/100\n",
      "184/184 [==============================] - 0s 1ms/step - loss: 0.6686 - accuracy: 0.7233 - val_loss: 0.7267 - val_accuracy: 0.6952\n",
      "Epoch 31/100\n",
      "184/184 [==============================] - 0s 1ms/step - loss: 0.6680 - accuracy: 0.7319 - val_loss: 0.7378 - val_accuracy: 0.6918\n",
      "Epoch 32/100\n",
      "184/184 [==============================] - 0s 1ms/step - loss: 0.6658 - accuracy: 0.7230 - val_loss: 0.7313 - val_accuracy: 0.6918\n",
      "Epoch 33/100\n",
      "184/184 [==============================] - 0s 1ms/step - loss: 0.6519 - accuracy: 0.7382 - val_loss: 0.7250 - val_accuracy: 0.6973\n",
      "Epoch 34/100\n",
      "184/184 [==============================] - 0s 1ms/step - loss: 0.6415 - accuracy: 0.7393 - val_loss: 0.7241 - val_accuracy: 0.6993\n",
      "Epoch 35/100\n",
      "184/184 [==============================] - 0s 1ms/step - loss: 0.6528 - accuracy: 0.7304 - val_loss: 0.7204 - val_accuracy: 0.7054\n",
      "Epoch 36/100\n",
      "184/184 [==============================] - 0s 1ms/step - loss: 0.6623 - accuracy: 0.7324 - val_loss: 0.7259 - val_accuracy: 0.6959\n",
      "Epoch 37/100\n",
      "184/184 [==============================] - 0s 1ms/step - loss: 0.6415 - accuracy: 0.7339 - val_loss: 0.7300 - val_accuracy: 0.6952\n",
      "Epoch 38/100\n",
      "184/184 [==============================] - 0s 1ms/step - loss: 0.6533 - accuracy: 0.7331 - val_loss: 0.7226 - val_accuracy: 0.6973\n",
      "Epoch 39/100\n",
      "184/184 [==============================] - 0s 1ms/step - loss: 0.6496 - accuracy: 0.7368 - val_loss: 0.7237 - val_accuracy: 0.6973\n",
      "Epoch 40/100\n",
      "184/184 [==============================] - 0s 1ms/step - loss: 0.6480 - accuracy: 0.7350 - val_loss: 0.7236 - val_accuracy: 0.7000\n",
      "Epoch 41/100\n",
      "184/184 [==============================] - 0s 1ms/step - loss: 0.6503 - accuracy: 0.7258 - val_loss: 0.7319 - val_accuracy: 0.6905\n",
      "Epoch 42/100\n",
      "184/184 [==============================] - 0s 1ms/step - loss: 0.6344 - accuracy: 0.7352 - val_loss: 0.7334 - val_accuracy: 0.6939\n",
      "Epoch 43/100\n",
      "184/184 [==============================] - 0s 1ms/step - loss: 0.6608 - accuracy: 0.7308 - val_loss: 0.7216 - val_accuracy: 0.6986\n",
      "Epoch 44/100\n",
      "184/184 [==============================] - 0s 1ms/step - loss: 0.6412 - accuracy: 0.7393 - val_loss: 0.7264 - val_accuracy: 0.7082\n",
      "Epoch 45/100\n",
      "184/184 [==============================] - 0s 1ms/step - loss: 0.6378 - accuracy: 0.7428 - val_loss: 0.7285 - val_accuracy: 0.7068\n",
      "Epoch 46/100\n",
      "184/184 [==============================] - 0s 1ms/step - loss: 0.6296 - accuracy: 0.7437 - val_loss: 0.7320 - val_accuracy: 0.6973\n",
      "Epoch 47/100\n",
      "184/184 [==============================] - 0s 1ms/step - loss: 0.6497 - accuracy: 0.7366 - val_loss: 0.7236 - val_accuracy: 0.7054\n",
      "Epoch 48/100\n",
      "184/184 [==============================] - 0s 1ms/step - loss: 0.6391 - accuracy: 0.7358 - val_loss: 0.7256 - val_accuracy: 0.6973\n",
      "Epoch 49/100\n",
      "184/184 [==============================] - 0s 1ms/step - loss: 0.6264 - accuracy: 0.7463 - val_loss: 0.7232 - val_accuracy: 0.6925\n",
      "Epoch 50/100\n",
      "184/184 [==============================] - 0s 1ms/step - loss: 0.6427 - accuracy: 0.7368 - val_loss: 0.7239 - val_accuracy: 0.6993\n",
      "Epoch 51/100\n",
      "184/184 [==============================] - 0s 1ms/step - loss: 0.6333 - accuracy: 0.7366 - val_loss: 0.7250 - val_accuracy: 0.6884\n",
      "Epoch 52/100\n",
      "184/184 [==============================] - 0s 1ms/step - loss: 0.6264 - accuracy: 0.7494 - val_loss: 0.7330 - val_accuracy: 0.6850\n",
      "Epoch 53/100\n",
      "184/184 [==============================] - 0s 1ms/step - loss: 0.6103 - accuracy: 0.7559 - val_loss: 0.7255 - val_accuracy: 0.6823\n",
      "Epoch 54/100\n",
      "184/184 [==============================] - 0s 1ms/step - loss: 0.6280 - accuracy: 0.7469 - val_loss: 0.7217 - val_accuracy: 0.7034\n",
      "Epoch 55/100\n",
      "184/184 [==============================] - 0s 1ms/step - loss: 0.6308 - accuracy: 0.7412 - val_loss: 0.7241 - val_accuracy: 0.6952\n",
      "Epoch 56/100\n",
      "184/184 [==============================] - 0s 1ms/step - loss: 0.6181 - accuracy: 0.7474 - val_loss: 0.7232 - val_accuracy: 0.6912\n",
      "Epoch 57/100\n",
      "184/184 [==============================] - 0s 1ms/step - loss: 0.6230 - accuracy: 0.7471 - val_loss: 0.7270 - val_accuracy: 0.6884\n",
      "Epoch 58/100\n",
      "184/184 [==============================] - 0s 1ms/step - loss: 0.6257 - accuracy: 0.7447 - val_loss: 0.7332 - val_accuracy: 0.6857\n",
      "Epoch 59/100\n",
      "184/184 [==============================] - 0s 1ms/step - loss: 0.6235 - accuracy: 0.7447 - val_loss: 0.7356 - val_accuracy: 0.6891\n",
      "Epoch 60/100\n",
      "184/184 [==============================] - 0s 1ms/step - loss: 0.6110 - accuracy: 0.7479 - val_loss: 0.7224 - val_accuracy: 0.6993\n",
      "Epoch 61/100\n",
      "184/184 [==============================] - 0s 1ms/step - loss: 0.6122 - accuracy: 0.7509 - val_loss: 0.7246 - val_accuracy: 0.6918\n",
      "Epoch 62/100\n",
      "184/184 [==============================] - 0s 1ms/step - loss: 0.6094 - accuracy: 0.7559 - val_loss: 0.7371 - val_accuracy: 0.6816\n",
      "Epoch 63/100\n",
      "184/184 [==============================] - 0s 1ms/step - loss: 0.6281 - accuracy: 0.7427 - val_loss: 0.7297 - val_accuracy: 0.6973\n",
      "Epoch 64/100\n",
      "184/184 [==============================] - 0s 1ms/step - loss: 0.6253 - accuracy: 0.7488 - val_loss: 0.7243 - val_accuracy: 0.6925\n",
      "Epoch 65/100\n",
      "184/184 [==============================] - 0s 1ms/step - loss: 0.6146 - accuracy: 0.7510 - val_loss: 0.7264 - val_accuracy: 0.6939\n",
      "Epoch 66/100\n",
      "184/184 [==============================] - 0s 1ms/step - loss: 0.6033 - accuracy: 0.7557 - val_loss: 0.7267 - val_accuracy: 0.6966\n",
      "Epoch 67/100\n",
      "184/184 [==============================] - 0s 1ms/step - loss: 0.6251 - accuracy: 0.7443 - val_loss: 0.7386 - val_accuracy: 0.6796\n",
      "Epoch 68/100\n",
      "184/184 [==============================] - 0s 1ms/step - loss: 0.6217 - accuracy: 0.7520 - val_loss: 0.7348 - val_accuracy: 0.6898\n",
      "Epoch 69/100\n",
      "184/184 [==============================] - 0s 1ms/step - loss: 0.6232 - accuracy: 0.7464 - val_loss: 0.7349 - val_accuracy: 0.6816\n",
      "Epoch 70/100\n",
      "184/184 [==============================] - 0s 1ms/step - loss: 0.6136 - accuracy: 0.7516 - val_loss: 0.7296 - val_accuracy: 0.6939\n",
      "Epoch 71/100\n",
      "184/184 [==============================] - 0s 1ms/step - loss: 0.6254 - accuracy: 0.7471 - val_loss: 0.7302 - val_accuracy: 0.6993\n"
     ]
    },
    {
     "name": "stdout",
     "output_type": "stream",
     "text": [
      "Epoch 72/100\n",
      "184/184 [==============================] - 0s 1ms/step - loss: 0.6040 - accuracy: 0.7565 - val_loss: 0.7323 - val_accuracy: 0.6878\n",
      "Epoch 73/100\n",
      "184/184 [==============================] - 0s 1ms/step - loss: 0.6227 - accuracy: 0.7485 - val_loss: 0.7324 - val_accuracy: 0.6857\n",
      "Epoch 74/100\n",
      "184/184 [==============================] - 0s 1ms/step - loss: 0.6135 - accuracy: 0.7496 - val_loss: 0.7375 - val_accuracy: 0.6946\n",
      "Epoch 75/100\n",
      "184/184 [==============================] - 0s 1ms/step - loss: 0.6045 - accuracy: 0.7625 - val_loss: 0.7464 - val_accuracy: 0.6810\n",
      "Epoch 76/100\n",
      "184/184 [==============================] - 0s 1ms/step - loss: 0.6096 - accuracy: 0.7629 - val_loss: 0.7382 - val_accuracy: 0.7027\n",
      "Epoch 77/100\n",
      "184/184 [==============================] - 0s 1ms/step - loss: 0.6080 - accuracy: 0.7526 - val_loss: 0.7328 - val_accuracy: 0.6864\n",
      "Epoch 78/100\n",
      "184/184 [==============================] - 0s 1ms/step - loss: 0.6032 - accuracy: 0.7646 - val_loss: 0.7342 - val_accuracy: 0.6952\n",
      "Epoch 79/100\n",
      "184/184 [==============================] - 0s 1ms/step - loss: 0.6050 - accuracy: 0.7567 - val_loss: 0.7316 - val_accuracy: 0.6898\n",
      "Epoch 80/100\n",
      "184/184 [==============================] - 0s 1ms/step - loss: 0.6045 - accuracy: 0.7609 - val_loss: 0.7355 - val_accuracy: 0.6918\n",
      "Epoch 81/100\n",
      "184/184 [==============================] - 0s 1ms/step - loss: 0.5917 - accuracy: 0.7702 - val_loss: 0.7329 - val_accuracy: 0.6952\n",
      "Epoch 82/100\n",
      "184/184 [==============================] - 0s 1ms/step - loss: 0.6030 - accuracy: 0.7675 - val_loss: 0.7445 - val_accuracy: 0.6891\n",
      "Epoch 83/100\n",
      "184/184 [==============================] - 0s 1ms/step - loss: 0.6092 - accuracy: 0.7524 - val_loss: 0.7370 - val_accuracy: 0.6912\n",
      "Epoch 84/100\n",
      "184/184 [==============================] - 0s 1ms/step - loss: 0.5922 - accuracy: 0.7676 - val_loss: 0.7354 - val_accuracy: 0.6816\n",
      "Epoch 85/100\n",
      "184/184 [==============================] - 0s 1ms/step - loss: 0.6037 - accuracy: 0.7508 - val_loss: 0.7371 - val_accuracy: 0.7014\n",
      "Epoch 86/100\n",
      "184/184 [==============================] - 0s 1ms/step - loss: 0.5962 - accuracy: 0.7642 - val_loss: 0.7382 - val_accuracy: 0.6823\n",
      "Epoch 87/100\n",
      "184/184 [==============================] - 0s 1ms/step - loss: 0.5914 - accuracy: 0.7676 - val_loss: 0.7454 - val_accuracy: 0.6823\n",
      "Epoch 88/100\n",
      "184/184 [==============================] - 0s 1ms/step - loss: 0.5877 - accuracy: 0.7702 - val_loss: 0.7416 - val_accuracy: 0.6878\n",
      "Epoch 89/100\n",
      "184/184 [==============================] - 0s 1ms/step - loss: 0.5999 - accuracy: 0.7567 - val_loss: 0.7399 - val_accuracy: 0.6857\n",
      "Epoch 90/100\n",
      "184/184 [==============================] - 0s 1ms/step - loss: 0.5928 - accuracy: 0.7749 - val_loss: 0.7420 - val_accuracy: 0.6810\n",
      "Epoch 91/100\n",
      "184/184 [==============================] - 0s 1ms/step - loss: 0.5852 - accuracy: 0.7652 - val_loss: 0.7401 - val_accuracy: 0.6952\n",
      "Epoch 92/100\n",
      "184/184 [==============================] - 0s 1ms/step - loss: 0.5872 - accuracy: 0.7732 - val_loss: 0.7395 - val_accuracy: 0.6939\n",
      "Epoch 93/100\n",
      "184/184 [==============================] - 0s 1ms/step - loss: 0.5974 - accuracy: 0.7668 - val_loss: 0.7456 - val_accuracy: 0.6946\n",
      "Epoch 94/100\n",
      "184/184 [==============================] - 0s 1ms/step - loss: 0.5872 - accuracy: 0.7717 - val_loss: 0.7379 - val_accuracy: 0.6905\n",
      "Epoch 95/100\n",
      "184/184 [==============================] - 0s 1ms/step - loss: 0.5911 - accuracy: 0.7651 - val_loss: 0.7488 - val_accuracy: 0.6884\n",
      "Epoch 96/100\n",
      "184/184 [==============================] - 0s 1ms/step - loss: 0.5918 - accuracy: 0.7752 - val_loss: 0.7511 - val_accuracy: 0.6864\n",
      "Epoch 97/100\n",
      "184/184 [==============================] - 0s 1ms/step - loss: 0.5896 - accuracy: 0.7724 - val_loss: 0.7526 - val_accuracy: 0.6803\n",
      "Epoch 98/100\n",
      "184/184 [==============================] - 0s 1ms/step - loss: 0.5783 - accuracy: 0.7775 - val_loss: 0.7457 - val_accuracy: 0.6884\n",
      "Epoch 99/100\n",
      "184/184 [==============================] - 0s 1ms/step - loss: 0.5884 - accuracy: 0.7722 - val_loss: 0.7426 - val_accuracy: 0.6925\n",
      "Epoch 100/100\n",
      "184/184 [==============================] - 0s 1ms/step - loss: 0.5802 - accuracy: 0.7723 - val_loss: 0.7442 - val_accuracy: 0.6891\n",
      "Epoch 1/100\n",
      "184/184 [==============================] - 1s 2ms/step - loss: 1.1767 - accuracy: 0.6042 - val_loss: 0.9151 - val_accuracy: 0.6823\n",
      "Epoch 2/100\n",
      "184/184 [==============================] - 0s 1ms/step - loss: 0.8749 - accuracy: 0.6794 - val_loss: 0.8303 - val_accuracy: 0.6789\n",
      "Epoch 3/100\n",
      "184/184 [==============================] - 0s 1ms/step - loss: 0.7871 - accuracy: 0.6960 - val_loss: 0.7977 - val_accuracy: 0.6687\n",
      "Epoch 4/100\n",
      "184/184 [==============================] - 0s 1ms/step - loss: 0.7564 - accuracy: 0.6932 - val_loss: 0.7634 - val_accuracy: 0.6796\n",
      "Epoch 5/100\n",
      "184/184 [==============================] - 0s 1ms/step - loss: 0.7235 - accuracy: 0.6992 - val_loss: 0.7552 - val_accuracy: 0.6837\n",
      "Epoch 6/100\n",
      "184/184 [==============================] - 0s 1ms/step - loss: 0.7183 - accuracy: 0.6932 - val_loss: 0.7418 - val_accuracy: 0.6810\n",
      "Epoch 7/100\n",
      "184/184 [==============================] - 0s 1ms/step - loss: 0.7037 - accuracy: 0.6929 - val_loss: 0.7367 - val_accuracy: 0.6878\n",
      "Epoch 8/100\n",
      "184/184 [==============================] - 0s 1ms/step - loss: 0.7113 - accuracy: 0.6891 - val_loss: 0.7337 - val_accuracy: 0.6803\n",
      "Epoch 9/100\n",
      "184/184 [==============================] - ETA: 0s - loss: 0.6823 - accuracy: 0.71 - 0s 1ms/step - loss: 0.6844 - accuracy: 0.7173 - val_loss: 0.7280 - val_accuracy: 0.6925\n",
      "Epoch 10/100\n",
      "184/184 [==============================] - 0s 1ms/step - loss: 0.7007 - accuracy: 0.7010 - val_loss: 0.7252 - val_accuracy: 0.6878\n",
      "Epoch 11/100\n",
      "184/184 [==============================] - 0s 1ms/step - loss: 0.6970 - accuracy: 0.6941 - val_loss: 0.7303 - val_accuracy: 0.6748\n",
      "Epoch 12/100\n",
      "184/184 [==============================] - 0s 1ms/step - loss: 0.6832 - accuracy: 0.6999 - val_loss: 0.7236 - val_accuracy: 0.6810\n",
      "Epoch 13/100\n",
      "184/184 [==============================] - 0s 1ms/step - loss: 0.6797 - accuracy: 0.7073 - val_loss: 0.7188 - val_accuracy: 0.6952\n",
      "Epoch 14/100\n",
      "184/184 [==============================] - 0s 1ms/step - loss: 0.6925 - accuracy: 0.6978 - val_loss: 0.7244 - val_accuracy: 0.6878\n",
      "Epoch 15/100\n",
      "184/184 [==============================] - 0s 1ms/step - loss: 0.6720 - accuracy: 0.7085 - val_loss: 0.7337 - val_accuracy: 0.6823\n",
      "Epoch 16/100\n",
      "184/184 [==============================] - 0s 1ms/step - loss: 0.6714 - accuracy: 0.7077 - val_loss: 0.7115 - val_accuracy: 0.6939\n",
      "Epoch 17/100\n",
      "184/184 [==============================] - 0s 1ms/step - loss: 0.6707 - accuracy: 0.7103 - val_loss: 0.7194 - val_accuracy: 0.6918\n",
      "Epoch 18/100\n",
      "184/184 [==============================] - 0s 1ms/step - loss: 0.6617 - accuracy: 0.7120 - val_loss: 0.7175 - val_accuracy: 0.6884\n",
      "Epoch 19/100\n",
      "184/184 [==============================] - 0s 1ms/step - loss: 0.6631 - accuracy: 0.7138 - val_loss: 0.7217 - val_accuracy: 0.6864\n",
      "Epoch 20/100\n",
      "184/184 [==============================] - 0s 1ms/step - loss: 0.6681 - accuracy: 0.7122 - val_loss: 0.7164 - val_accuracy: 0.6857\n",
      "Epoch 21/100\n",
      "184/184 [==============================] - 0s 1ms/step - loss: 0.6727 - accuracy: 0.7128 - val_loss: 0.7210 - val_accuracy: 0.6905\n",
      "Epoch 22/100\n",
      "184/184 [==============================] - 0s 1ms/step - loss: 0.6675 - accuracy: 0.7109 - val_loss: 0.7206 - val_accuracy: 0.6844\n",
      "Epoch 23/100\n",
      "184/184 [==============================] - 0s 1ms/step - loss: 0.6642 - accuracy: 0.7137 - val_loss: 0.7152 - val_accuracy: 0.6925\n",
      "Epoch 24/100\n",
      "184/184 [==============================] - 0s 1ms/step - loss: 0.6732 - accuracy: 0.7161 - val_loss: 0.7226 - val_accuracy: 0.6912\n",
      "Epoch 25/100\n",
      "184/184 [==============================] - 0s 1ms/step - loss: 0.6591 - accuracy: 0.7179 - val_loss: 0.7172 - val_accuracy: 0.6918\n",
      "Epoch 26/100\n",
      "184/184 [==============================] - 0s 1ms/step - loss: 0.6610 - accuracy: 0.7125 - val_loss: 0.7106 - val_accuracy: 0.6946\n",
      "Epoch 27/100\n",
      "184/184 [==============================] - 0s 1ms/step - loss: 0.6616 - accuracy: 0.7211 - val_loss: 0.7220 - val_accuracy: 0.6871\n",
      "Epoch 28/100\n"
     ]
    },
    {
     "name": "stdout",
     "output_type": "stream",
     "text": [
      "184/184 [==============================] - 0s 1ms/step - loss: 0.6616 - accuracy: 0.7242 - val_loss: 0.7125 - val_accuracy: 0.6966\n",
      "Epoch 29/100\n",
      "184/184 [==============================] - 0s 1ms/step - loss: 0.6564 - accuracy: 0.7304 - val_loss: 0.7182 - val_accuracy: 0.6837\n",
      "Epoch 30/100\n",
      "184/184 [==============================] - 0s 1ms/step - loss: 0.6617 - accuracy: 0.7168 - val_loss: 0.7149 - val_accuracy: 0.6918\n",
      "Epoch 31/100\n",
      "184/184 [==============================] - 0s 1ms/step - loss: 0.6614 - accuracy: 0.7238 - val_loss: 0.7248 - val_accuracy: 0.6844\n",
      "Epoch 32/100\n",
      "184/184 [==============================] - 0s 1ms/step - loss: 0.6581 - accuracy: 0.7172 - val_loss: 0.7174 - val_accuracy: 0.6891\n",
      "Epoch 33/100\n",
      "184/184 [==============================] - 0s 1ms/step - loss: 0.6452 - accuracy: 0.7330 - val_loss: 0.7123 - val_accuracy: 0.6898\n",
      "Epoch 34/100\n",
      "184/184 [==============================] - 0s 1ms/step - loss: 0.6387 - accuracy: 0.7326 - val_loss: 0.7120 - val_accuracy: 0.6932\n",
      "Epoch 35/100\n",
      "184/184 [==============================] - 0s 1ms/step - loss: 0.6483 - accuracy: 0.7250 - val_loss: 0.7090 - val_accuracy: 0.7027\n",
      "Epoch 36/100\n",
      "184/184 [==============================] - 0s 1ms/step - loss: 0.6593 - accuracy: 0.7261 - val_loss: 0.7150 - val_accuracy: 0.6946\n",
      "Epoch 37/100\n",
      "184/184 [==============================] - 0s 1ms/step - loss: 0.6415 - accuracy: 0.7250 - val_loss: 0.7203 - val_accuracy: 0.6878\n",
      "Epoch 38/100\n",
      "184/184 [==============================] - 0s 1ms/step - loss: 0.6523 - accuracy: 0.7258 - val_loss: 0.7187 - val_accuracy: 0.6912\n",
      "Epoch 39/100\n",
      "184/184 [==============================] - 0s 1ms/step - loss: 0.6496 - accuracy: 0.7341 - val_loss: 0.7149 - val_accuracy: 0.6980\n",
      "Epoch 40/100\n",
      "184/184 [==============================] - 0s 1ms/step - loss: 0.6468 - accuracy: 0.7336 - val_loss: 0.7118 - val_accuracy: 0.6946\n",
      "Epoch 41/100\n",
      "184/184 [==============================] - 0s 1ms/step - loss: 0.6487 - accuracy: 0.7254 - val_loss: 0.7192 - val_accuracy: 0.6932\n",
      "Epoch 42/100\n",
      "184/184 [==============================] - 0s 1ms/step - loss: 0.6302 - accuracy: 0.7306 - val_loss: 0.7214 - val_accuracy: 0.6905\n",
      "Epoch 43/100\n",
      "184/184 [==============================] - 0s 1ms/step - loss: 0.6556 - accuracy: 0.7261 - val_loss: 0.7201 - val_accuracy: 0.6946\n",
      "Epoch 44/100\n",
      "184/184 [==============================] - 0s 1ms/step - loss: 0.6427 - accuracy: 0.7287 - val_loss: 0.7169 - val_accuracy: 0.7007\n",
      "Epoch 45/100\n",
      "184/184 [==============================] - 0s 1ms/step - loss: 0.6370 - accuracy: 0.7381 - val_loss: 0.7214 - val_accuracy: 0.6973\n",
      "Epoch 46/100\n",
      "184/184 [==============================] - 0s 1ms/step - loss: 0.6325 - accuracy: 0.7412 - val_loss: 0.7313 - val_accuracy: 0.6939\n",
      "Epoch 47/100\n",
      "184/184 [==============================] - 0s 1ms/step - loss: 0.6517 - accuracy: 0.7277 - val_loss: 0.7155 - val_accuracy: 0.7027\n",
      "Epoch 48/100\n",
      "184/184 [==============================] - 0s 1ms/step - loss: 0.6396 - accuracy: 0.7290 - val_loss: 0.7189 - val_accuracy: 0.6966\n",
      "Epoch 49/100\n",
      "184/184 [==============================] - 0s 1ms/step - loss: 0.6304 - accuracy: 0.7326 - val_loss: 0.7206 - val_accuracy: 0.6871\n",
      "Epoch 50/100\n",
      "184/184 [==============================] - 0s 1ms/step - loss: 0.6483 - accuracy: 0.7356 - val_loss: 0.7140 - val_accuracy: 0.6946\n",
      "Epoch 51/100\n",
      "184/184 [==============================] - 0s 1ms/step - loss: 0.6334 - accuracy: 0.7349 - val_loss: 0.7159 - val_accuracy: 0.6973\n",
      "Epoch 52/100\n",
      "184/184 [==============================] - 0s 1ms/step - loss: 0.6303 - accuracy: 0.7434 - val_loss: 0.7350 - val_accuracy: 0.6769\n",
      "Epoch 53/100\n",
      "184/184 [==============================] - 0s 1ms/step - loss: 0.6086 - accuracy: 0.7533 - val_loss: 0.7183 - val_accuracy: 0.7014\n",
      "Epoch 54/100\n",
      "184/184 [==============================] - 0s 1ms/step - loss: 0.6306 - accuracy: 0.7368 - val_loss: 0.7078 - val_accuracy: 0.7041\n",
      "Epoch 55/100\n",
      "184/184 [==============================] - 0s 1ms/step - loss: 0.6301 - accuracy: 0.7505 - val_loss: 0.7153 - val_accuracy: 0.7014\n",
      "Epoch 56/100\n",
      "184/184 [==============================] - 0s 1ms/step - loss: 0.6208 - accuracy: 0.7445 - val_loss: 0.7129 - val_accuracy: 0.6952\n",
      "Epoch 57/100\n",
      "184/184 [==============================] - 0s 1ms/step - loss: 0.6254 - accuracy: 0.7401 - val_loss: 0.7241 - val_accuracy: 0.6925\n",
      "Epoch 58/100\n",
      "184/184 [==============================] - 0s 1ms/step - loss: 0.6284 - accuracy: 0.7390 - val_loss: 0.7284 - val_accuracy: 0.6891\n",
      "Epoch 59/100\n",
      "184/184 [==============================] - 0s 1ms/step - loss: 0.6268 - accuracy: 0.7381 - val_loss: 0.7220 - val_accuracy: 0.6871\n",
      "Epoch 60/100\n",
      "184/184 [==============================] - 0s 1ms/step - loss: 0.6144 - accuracy: 0.7427 - val_loss: 0.7099 - val_accuracy: 0.7020\n",
      "Epoch 61/100\n",
      "184/184 [==============================] - 0s 1ms/step - loss: 0.6196 - accuracy: 0.7491 - val_loss: 0.7151 - val_accuracy: 0.7048\n",
      "Epoch 62/100\n",
      "184/184 [==============================] - 0s 1ms/step - loss: 0.6163 - accuracy: 0.7495 - val_loss: 0.7254 - val_accuracy: 0.6816\n",
      "Epoch 63/100\n",
      "184/184 [==============================] - 0s 1ms/step - loss: 0.6249 - accuracy: 0.7464 - val_loss: 0.7215 - val_accuracy: 0.7014\n",
      "Epoch 64/100\n",
      "184/184 [==============================] - 0s 1ms/step - loss: 0.6253 - accuracy: 0.7350 - val_loss: 0.7155 - val_accuracy: 0.6980\n",
      "Epoch 65/100\n",
      "184/184 [==============================] - 0s 1ms/step - loss: 0.6194 - accuracy: 0.7387 - val_loss: 0.7184 - val_accuracy: 0.6966\n",
      "Epoch 66/100\n",
      "184/184 [==============================] - 0s 1ms/step - loss: 0.6062 - accuracy: 0.7552 - val_loss: 0.7100 - val_accuracy: 0.7020\n",
      "Epoch 67/100\n",
      "184/184 [==============================] - 0s 1ms/step - loss: 0.6297 - accuracy: 0.7398 - val_loss: 0.7216 - val_accuracy: 0.6912\n",
      "Epoch 68/100\n",
      "184/184 [==============================] - 0s 1ms/step - loss: 0.6287 - accuracy: 0.7410 - val_loss: 0.7196 - val_accuracy: 0.6912\n",
      "Epoch 69/100\n",
      "184/184 [==============================] - 0s 1ms/step - loss: 0.6304 - accuracy: 0.7330 - val_loss: 0.7163 - val_accuracy: 0.7054\n",
      "Epoch 70/100\n",
      "184/184 [==============================] - 0s 1ms/step - loss: 0.6218 - accuracy: 0.7417 - val_loss: 0.7108 - val_accuracy: 0.7102\n",
      "Epoch 71/100\n",
      "184/184 [==============================] - 0s 1ms/step - loss: 0.6269 - accuracy: 0.7388 - val_loss: 0.7196 - val_accuracy: 0.7014\n",
      "Epoch 72/100\n",
      "184/184 [==============================] - 0s 1ms/step - loss: 0.6135 - accuracy: 0.7466 - val_loss: 0.7124 - val_accuracy: 0.7027\n",
      "Epoch 73/100\n",
      "184/184 [==============================] - 0s 1ms/step - loss: 0.6277 - accuracy: 0.7410 - val_loss: 0.7157 - val_accuracy: 0.7014\n",
      "Epoch 74/100\n",
      "184/184 [==============================] - 0s 1ms/step - loss: 0.6252 - accuracy: 0.7478 - val_loss: 0.7275 - val_accuracy: 0.6898\n",
      "Epoch 75/100\n",
      "184/184 [==============================] - 0s 1ms/step - loss: 0.6141 - accuracy: 0.7510 - val_loss: 0.7475 - val_accuracy: 0.6871\n",
      "Epoch 76/100\n",
      "184/184 [==============================] - 0s 1ms/step - loss: 0.6201 - accuracy: 0.7596 - val_loss: 0.7253 - val_accuracy: 0.7041\n",
      "Epoch 77/100\n",
      "184/184 [==============================] - 0s 1ms/step - loss: 0.6172 - accuracy: 0.7470 - val_loss: 0.7203 - val_accuracy: 0.7007\n",
      "Epoch 78/100\n",
      "184/184 [==============================] - 0s 1ms/step - loss: 0.6121 - accuracy: 0.7557 - val_loss: 0.7233 - val_accuracy: 0.7061\n",
      "Epoch 79/100\n",
      "184/184 [==============================] - 0s 1ms/step - loss: 0.6119 - accuracy: 0.7584 - val_loss: 0.7230 - val_accuracy: 0.6878\n",
      "Epoch 80/100\n",
      "184/184 [==============================] - 0s 1ms/step - loss: 0.6063 - accuracy: 0.7584 - val_loss: 0.7178 - val_accuracy: 0.7095\n",
      "Epoch 81/100\n",
      "184/184 [==============================] - 0s 1ms/step - loss: 0.5930 - accuracy: 0.7575 - val_loss: 0.7244 - val_accuracy: 0.7068\n",
      "Epoch 82/100\n",
      "184/184 [==============================] - ETA: 0s - loss: 0.6055 - accuracy: 0.75 - 0s 1ms/step - loss: 0.6067 - accuracy: 0.7565 - val_loss: 0.7265 - val_accuracy: 0.7027\n",
      "Epoch 83/100\n",
      "184/184 [==============================] - 0s 1ms/step - loss: 0.6196 - accuracy: 0.7442 - val_loss: 0.7183 - val_accuracy: 0.7041\n",
      "Epoch 84/100\n",
      "184/184 [==============================] - 0s 1ms/step - loss: 0.6010 - accuracy: 0.7564 - val_loss: 0.7199 - val_accuracy: 0.7027\n"
     ]
    },
    {
     "name": "stdout",
     "output_type": "stream",
     "text": [
      "Epoch 85/100\n",
      "184/184 [==============================] - 0s 1ms/step - loss: 0.6104 - accuracy: 0.7475 - val_loss: 0.7201 - val_accuracy: 0.7095\n",
      "Epoch 86/100\n",
      "184/184 [==============================] - 0s 1ms/step - loss: 0.6034 - accuracy: 0.7580 - val_loss: 0.7430 - val_accuracy: 0.6925\n",
      "Epoch 87/100\n",
      "184/184 [==============================] - 0s 1ms/step - loss: 0.5934 - accuracy: 0.7577 - val_loss: 0.7270 - val_accuracy: 0.6973\n",
      "Epoch 88/100\n",
      "184/184 [==============================] - 0s 1ms/step - loss: 0.5987 - accuracy: 0.7601 - val_loss: 0.7275 - val_accuracy: 0.6959\n",
      "Epoch 89/100\n",
      "184/184 [==============================] - 0s 1ms/step - loss: 0.6126 - accuracy: 0.7499 - val_loss: 0.7258 - val_accuracy: 0.6932\n",
      "Epoch 90/100\n",
      "184/184 [==============================] - 0s 1ms/step - loss: 0.5982 - accuracy: 0.7652 - val_loss: 0.7230 - val_accuracy: 0.7007\n",
      "Epoch 91/100\n",
      "184/184 [==============================] - 0s 1ms/step - loss: 0.5975 - accuracy: 0.7610 - val_loss: 0.7245 - val_accuracy: 0.6986\n",
      "Epoch 92/100\n",
      "184/184 [==============================] - 0s 1ms/step - loss: 0.5968 - accuracy: 0.7597 - val_loss: 0.7256 - val_accuracy: 0.6844\n",
      "Epoch 93/100\n",
      "184/184 [==============================] - 0s 1ms/step - loss: 0.6044 - accuracy: 0.7630 - val_loss: 0.7287 - val_accuracy: 0.7075\n",
      "Epoch 94/100\n",
      "184/184 [==============================] - 0s 1ms/step - loss: 0.5982 - accuracy: 0.7602 - val_loss: 0.7195 - val_accuracy: 0.7014\n",
      "Epoch 95/100\n",
      "184/184 [==============================] - 0s 1ms/step - loss: 0.5925 - accuracy: 0.7603 - val_loss: 0.7350 - val_accuracy: 0.6884\n",
      "Epoch 96/100\n",
      "184/184 [==============================] - 0s 1ms/step - loss: 0.5990 - accuracy: 0.7649 - val_loss: 0.7502 - val_accuracy: 0.6844\n",
      "Epoch 97/100\n",
      "184/184 [==============================] - 0s 1ms/step - loss: 0.6079 - accuracy: 0.7609 - val_loss: 0.7356 - val_accuracy: 0.6898\n",
      "Epoch 98/100\n",
      "184/184 [==============================] - 0s 1ms/step - loss: 0.5883 - accuracy: 0.7683 - val_loss: 0.7290 - val_accuracy: 0.6980\n",
      "Epoch 99/100\n",
      "184/184 [==============================] - 0s 1ms/step - loss: 0.5955 - accuracy: 0.7730 - val_loss: 0.7255 - val_accuracy: 0.7048\n",
      "Epoch 100/100\n",
      "184/184 [==============================] - 0s 1ms/step - loss: 0.5889 - accuracy: 0.7630 - val_loss: 0.7245 - val_accuracy: 0.7014\n"
     ]
    }
   ],
   "source": [
    "# Training as is shown in exercise 15\n",
    "\n",
    "hist1 = model1.fit(Xs_train,ys_train, epochs = 100, batch_size = 32, validation_split = 0.2, shuffle = True)\n",
    "hist2 = model2.fit(Xs_train,ys_train, epochs = 100, batch_size = 32, validation_split = 0.2, shuffle = True)\n",
    "hist3 = model3.fit(Xs_train,ys_train, epochs = 100, batch_size = 32, validation_split = 0.2, shuffle = True)\n"
   ]
  },
  {
   "cell_type": "code",
   "execution_count": 31,
   "metadata": {},
   "outputs": [
    {
     "data": {
      "image/png": "[encoded data removed]",
      "text/plain": [
       "<Figure size 432x288 with 1 Axes>"
      ]
     },
     "metadata": {
      "needs_background": "light"
     },
     "output_type": "display_data"
    }
   ],
   "source": [
    "# Big and small model plotting\n",
    "epochs = np.linspace(0,99,100)\n",
    "plt.xlabel(\"No. of Epochs\")\n",
    "plt.ylabel(\"Loss values\")\n",
    "plt.title(\"Loss Curve with Epochs for big and small model\")\n",
    "\n",
    "plt.plot(epochs,kff.history['loss'], label = 'Small Model Keras Loss')\n",
    "plt.plot(epochs,kff.history['val_loss'], label = 'Small Model Keras Validation Loss')\n",
    "\n",
    "plt.plot(epochs,hist1.history['loss'], label = 'Big Model Keras Loss')\n",
    "plt.plot(epochs,hist1.history['val_loss'], label = 'Big Model Keras Validation Loss')\n",
    "\n",
    "plt.legend()\n",
    "plt.show()\n"
   ]
  },
  {
   "cell_type": "markdown",
   "metadata": {},
   "source": [
    "<span style=\"color:green\">\n",
    "\n",
    "Big model is clearly overtraining here, as the validation loss is skyrocketing. Comparatively, the small model shows this a lot less but still plateaus after 10 or less epochs. On such a scale it almost looks like its underfitting. \n",
    "    \n",
    "</span>"
   ]
  },
  {
   "cell_type": "code",
   "execution_count": 32,
   "metadata": {},
   "outputs": [
    {
     "data": {
      "image/png": "[encoded data removed]",
      "text/plain": [
       "<Figure size 576x432 with 1 Axes>"
      ]
     },
     "metadata": {
      "needs_background": "light"
     },
     "output_type": "display_data"
    }
   ],
   "source": [
    "# Plot 3 Big models\n",
    "epochs = np.linspace(0,99,100)\n",
    "plt.figure(figsize=(8,6))\n",
    "plt.xlabel(\"No. of Epochs\")\n",
    "plt.ylabel(\"Loss values\")\n",
    "plt.title(\"Loss Curve with Epochs for 3 big models\")\n",
    "\n",
    "# unreg'd model\n",
    "plt.plot(epochs,hist1.history['loss'], label = 'Unreg Big Model Keras Loss')\n",
    "plt.plot(epochs,hist1.history['val_loss'], label = 'Unreg Big Model Keras Validation Loss')\n",
    "\n",
    "# big model l1 reg\n",
    "plt.plot(epochs,hist2.history['loss'], label = 'l1=0.0003 Big Model Keras Loss')\n",
    "plt.plot(epochs,hist2.history['val_loss'], label = 'l1=0.0003 Big Model Keras Validation Loss')\n",
    "\n",
    "# big model l2 reg\n",
    "plt.plot(epochs,hist3.history['loss'], label = 'l2=0.003 Big Model Keras Loss')\n",
    "plt.plot(epochs,hist3.history['val_loss'], label = 'l2=0.003 Big Model Keras Validation Loss',color = 'c')\n",
    "plt.ylim(0,1.5)\n",
    "\n",
    "\n",
    "plt.legend()\n",
    "plt.show()\n"
   ]
  },
  {
   "cell_type": "markdown",
   "metadata": {},
   "source": [
    "<span style=\"color:green\">\n",
    "\n",
    "Showing all big 3 models. The unregularised model has a validation loss that skyrockets which is a telltale sign of overtraining. Comparatively the l1 and l2 models have plateauing/slightly rising validation losses, with the models showing decreased loss over the epochs but a relatively small increase in validation loss.\n",
    "    \n",
    "</span>"
   ]
  },
  {
   "cell_type": "code",
   "execution_count": 33,
   "metadata": {},
   "outputs": [
    {
     "data": {
      "image/png": "[encoded data removed]",
      "text/plain": [
       "<Figure size 864x720 with 1 Axes>"
      ]
     },
     "metadata": {
      "needs_background": "light"
     },
     "output_type": "display_data"
    }
   ],
   "source": [
    "# Plot all 4 Models\n",
    "epochs = np.linspace(0,99,100)\n",
    "plt.figure(figsize=(12,10))\n",
    "plt.xlabel(\"No. of Epochs\")\n",
    "plt.ylabel(\"Loss values\")\n",
    "plt.title(\"Loss Curve with Epochs for 3 big models\")\n",
    "\n",
    "# small model\n",
    "plt.plot(epochs,kff.history['loss'], label = 'Small Model Keras Loss', color = 'b')\n",
    "plt.plot(epochs,kff.history['val_loss'], label = 'Small Model Keras Validation Loss', color = 'r')\n",
    "\n",
    "# unreg'd model\n",
    "plt.plot(epochs,hist1.history['loss'], label = 'Unreg Big Model Keras Loss', color = 'g')\n",
    "plt.plot(epochs,hist1.history['val_loss'], label = 'Unreg Big Model Keras Validation Loss', color = 'c')\n",
    "\n",
    "# big model l1 reg\n",
    "plt.plot(epochs,hist2.history['loss'], label = 'l1=0.0003 Big Model Keras Loss', color = 'y')\n",
    "plt.plot(epochs,hist2.history['val_loss'], label = 'l1=0.0003 Big Model Keras Validation Loss', color = 'm')\n",
    "\n",
    "# big model l2 reg\n",
    "plt.plot(epochs,hist3.history['loss'], label = 'l2=0.003 Big Model Keras Loss', color = 'k')\n",
    "plt.plot(epochs,hist3.history['val_loss'], label = 'l2=0.003 Big Model Keras Validation Loss', color = 'lime')\n",
    "plt.ylim(0,1.5)\n",
    "\n",
    "plt.legend()\n",
    "plt.show()\n"
   ]
  },
  {
   "cell_type": "markdown",
   "metadata": {},
   "source": [
    "<span style=\"color:green\">\n",
    "\n",
    "__Comparing the Loss of the 4 models__\n",
    "\n",
    "Comparing the loss of the 4 models without considering the validation creates a very different picture. Initially it appears that the unregularised big model is the best due to its continued decrease in loss, but this will be explained in the over/undertraining model section. The small model has the next best loss, followed by the l1=0.0003 model and last the l2=0.003 model.\n",
    "\n",
    "__Over/Undertraining in the Models__\n",
    "\n",
    "Comparing all of the models, you can see that the small model experiences overtraining as the red bar (validation loss) starts to increase beyond 10 or so epochs.\n",
    "\n",
    "The unregularised big model shows excessive overtraining, as the validation loss increases massively beyond 5 or so epochs. This is also shown in the continued decrease in standard loss, showing significant *overtraining* on the training data, more so than the small model.\n",
    "\n",
    "The l1=0.0003 model shows relatively good results in comparison to the unregularised big model, with the standard loss decreasing and the validation loss appearing to increase slightly across 100 epochs. Even so, when compared to the small model its validation loss is larger and appears to climb faster showing that this model is still being *overtrained* more than the small model, but less than the unregularised model.\n",
    "\n",
    "The l2=0.003 model shows similar issues to the l1 model, with high validation loss that plateaus/rises slowly when compared to the small model. This, just like the l1 model shows signs of *overtraining*, although still less significant than the unregularised model.\n",
    "\n",
    "__Comparing Deep and Shallow Learning__\n",
    "\n",
    "Compared to the deep learning (the big models), the shallow learning (small model) method shows rather good results in comparison to its counterparts. It still has issues beyond 10 or so epochs as the network is being overtrained, but even so the validation loss is lowest for the small model for most of the runtime with a smaller gradient than the deep learning method's validation loss. The only time the small model is beaten is in the first 20 epochs, where the unregularised model has a lower validation loss, but this very quickly skyrockets. All the big model methods have larger issues than the small model that causes their validation loss, standard loss or in some cases both loss types to be larger than the small model.\n",
    "\n",
    "This makes the small model appear (in 100 epochs at least) to be the best method for our dataset. It appears (based on the graphs) that beyond 100 epochs the l1 and l2 models would have lower loss than the small model, but their validation loss is still higher.\n",
    "    \n",
    "</span>"
   ]
  },
  {
   "cell_type": "markdown",
   "metadata": {},
   "source": [
    "## 6. Bonus: Hyperparameter optimisation (1\\*bonus\\* mark)\n",
    "---"
   ]
  },
  {
   "cell_type": "markdown",
   "metadata": {},
   "source": [
    "This section covers **1** exercise on the on hyperparameter optimisation. "
   ]
  },
  {
   "cell_type": "code",
   "execution_count": 34,
   "metadata": {},
   "outputs": [],
   "source": [
    "# Relevant import(s) for this section\n",
    "from sklearn.model_selection import GridSearchCV, cross_val_score"
   ]
  },
  {
   "cell_type": "markdown",
   "metadata": {},
   "source": [
    "---\n",
    "_**Comment on simplified hyperparameter optimisation example:**_ You will try to perform a simple optimisation using a grid search\n",
    "\n",
    "For convenience, we will be using the `scikit-learn` `MLPClassifier` as our base class, but the same principles apply to just about any ML model constructed in any framework. Just as in the examples in the lecture, we will restrict the hyperparameter space to just two dimensions:\n",
    "\n",
    "* the number of hidden layers, `nb_layers`, and\n",
    "* the number of nodes per hidden layer, `nb_nodes_per_layer`, which is taken to be the same for all hidden layers for simplicity.\n",
    "\n",
    "Since the `scikit-learn` neural network classifier class doesn't support these two hyperparameters by default, provided is a simple wrapper class, that works exactly like `MLPClassifier`, it just takes the two parameters above as arguments in the constructor. Don't worry about understanding it in detail. This allows us to call "
   ]
  },
  {
   "cell_type": "code",
   "execution_count": 37,
   "metadata": {},
   "outputs": [],
   "source": [
    "class MLPClassifierWrapper(MLPClassifier):\n",
    "    \"\"\"\n",
    "    Wrapper around `sklearn.neural_network.MLPClassifier` with a convenient set \n",
    "    of properties (nb_layers and nb_nodes_per_layer) suitable for hyperparameter \n",
    "    optimisation exercises.\n",
    "    \n",
    "    Arguments:\n",
    "        nb_layers: Integer, number of hidden layers\n",
    "        nb_nodes_per_layer: Number of nodes per hidden layer, taken to be the \n",
    "            same for all for convenience.\n",
    "    \"\"\"\n",
    "\n",
    "    def __init__ (self, nb_layers=1, nb_nodes_per_layer=100, **kwargs):\n",
    "        \n",
    "        # Member variables\n",
    "        self._nb_layers = nb_layers\n",
    "        self._nb_nodes_per_layer = nb_nodes_per_layer  \n",
    "        \n",
    "        # Call base class (`MLPClassifier`) constructor\n",
    "        super(MLPClassifierWrapper, self).__init__(**kwargs)\n",
    "        \n",
    "        # Trigger `_set_architecture`\n",
    "        self._set_architecture()\n",
    "        return\n",
    "\n",
    "    @property\n",
    "    def nb_layers(self):\n",
    "        return self._nb_layers\n",
    "    \n",
    "    @property\n",
    "    def nb_nodes_per_layer(self):\n",
    "        return self._nb_nodes_per_layer \n",
    "\n",
    "    @nb_layers.setter\n",
    "    def nb_layers(self, value):\n",
    "        self._nb_layers = value\n",
    "        self._set_architecture()\n",
    "        return\n",
    "    \n",
    "    @nb_nodes_per_layer.setter\n",
    "    def nb_nodes_per_layer(self, value):\n",
    "        self._nb_nodes_per_layer = value\n",
    "        self._set_architecture()\n",
    "        return\n",
    "    \n",
    "    def _set_architecture (self):\n",
    "        \"\"\"\n",
    "        Sets the `hidden_layer_sizes` parameter of the base `MLPClassifier` \n",
    "        class, based on the two custom parameters we have chosen.\n",
    "        \"\"\"\n",
    "        \n",
    "        self.hidden_layer_sizes = tuple([self._nb_nodes_per_layer for _ in range(self._nb_layers)])\n",
    "        return\n",
    "    pass"
   ]
  },
  {
   "cell_type": "markdown",
   "metadata": {},
   "source": [
    "---"
   ]
  },
  {
   "cell_type": "markdown",
   "metadata": {},
   "source": [
    "#### 16. Perform a grid search (1 mark)\n",
    "\n",
    "- Construct a python `dict` called `param_grid` which specifies the hyperparameter configurations to try for each parameter dimension. That is, it should have\n",
    "    - `\"nb_layers\"` and `\"nb_nodes_per_layer\"` as keys, and\n",
    "    - lists of integers as values, corresponding to the values of each parameter you want to try out (_e.g._ [1, 2, ...])\n",
    "- Choose a reasonable set of values for each parameter; about a handful for each.\n",
    "- Use the `GridSearchCV` class to perform _**3**_**-fold** cross validation (CV) optimisation of the validation **accuracy**\n",
    "    - Hint: You can use the `n_jobs=...` argument to enable multi-processing, thereby speeding up the optimisation, at the expense of reproducibility.\n",
    "- The base classifier should be an instance of `MLPClassifierWrapper` set to train for **100 epochs**.\n",
    "- Present the results:\n",
    "    - Print the best parameter configuration found. GridSearchCV has a public member which stores this. Read doc.\n",
    "    - Print the mean and standard deviation of the test scores for the best configuration found. (_Hint:_ These can be found in the `.cv_results_` attribute)\n",
    "    - Plot the optimisation results using the `plot.optimisation` method.\n",
    "- Discuss the results. What would happen if the best result is foundon the edge of the parameter grid?"
   ]
  },
  {
   "cell_type": "code",
   "execution_count": 38,
   "metadata": {},
   "outputs": [
    {
     "data": {
      "text/plain": [
       "GridSearchCV(cv=3, estimator=MLPClassifierWrapper(), n_jobs=-1,\n",
       "             param_grid={'nb_layers': [5, 3, 1, 7, 9],\n",
       "                         'nb_nodes_per_layer': [2, 4, 10, 50, 25]},\n",
       "             scoring='accuracy')"
      ]
     },
     "execution_count": 38,
     "metadata": {},
     "output_type": "execute_result"
    }
   ],
   "source": [
    "# Create dictionary\n",
    "param_grid = {\"nb_layers\":[5,3,1,7,9],\"nb_nodes_per_layer\":[2,4,10,50,25]}\n",
    "\n",
    "#cls = MLPClassifier(hidden_layer_sizes=(50),alpha=0,max_iter=100,batch_size=32).fit(Xs_train,ys_train)\n",
    "\n",
    "# 3-fold cross validation\n",
    "gridsearchCV = GridSearchCV(MLPClassifierWrapper(max_iter=100),param_grid,n_jobs=-1,cv = 3,scoring='accuracy')\n",
    "\n",
    "# Fito to standardised data\n",
    "gridsearchCV.fit(Xs_train,ys_train)\n",
    "\n",
    "#baseclf = MLPClassifierWrapper(max_iter=100).fit(Xs_train,ys_train)\n",
    "\n"
   ]
  },
  {
   "cell_type": "code",
   "execution_count": 102,
   "metadata": {},
   "outputs": [
    {
     "name": "stdout",
     "output_type": "stream",
     "text": [
      "Best Parameters\n",
      "{'nb_layers': 1, 'nb_nodes_per_layer': 25}\n",
      "\n",
      "\n",
      "Mean of the test scores for the best parameters\n",
      "0.6900680272108843\n",
      "\n",
      "\n",
      "Standard deviation of the test scores for the best parameters\n",
      "0.010882652928338106\n"
     ]
    }
   ],
   "source": [
    "# Find index for best parameters\n",
    "index = gridsearchCV.best_index_\n",
    "\n",
    "# Print best parameters\n",
    "print(\"Best Parameters\")\n",
    "print(gridsearchCV.best_params_)\n",
    "print(\"\\n\")\n",
    "\n",
    "# Print mean and STD for best parameters\n",
    "print(\"Mean of the test scores for the best parameters\")\n",
    "print(gridsearchCV.cv_results_['mean_test_score'][index])\n",
    "print(\"\\n\")\n",
    "print(\"Standard deviation of the test scores for the best parameters\")\n",
    "print(gridsearchCV.cv_results_['std_test_score'][index])\n",
    "\n"
   ]
  },
  {
   "cell_type": "markdown",
   "metadata": {},
   "source": [
    "<span style=\"color:green\">\n",
    "\n",
    "# Discussing the results.\n",
    "\n",
    "The results give a reasonable set of parameters to choose, with one layer and 25 nodes per layer. The mean accuracy for our best set of parameters is quite high with 0.69 and it has a low standard deviation of 0.011.\n",
    "\n",
    "The issue with finding the edge of the parameter grid is found with one layer being the lower edge. Sadly this can't be fixed as you can't have less than one layer. However, if the upper edge was found as the best parameter (lets say, 9 layers), it allows us to assume that even larger values should be tested for the layers, as it could be possible that there is increasing accuracy and better parameters with larger and larger layers.\n",
    "    \n",
    "</span>"
   ]
  },
  {
   "cell_type": "code",
   "execution_count": null,
   "metadata": {},
   "outputs": [],
   "source": []
  }
 ],
 "metadata": {
  "kernelspec": {
   "display_name": "Python 3 (ipykernel)",
   "language": "python",
   "name": "python3"
  },
  "language_info": {
   "codemirror_mode": {
    "name": "ipython",
    "version": 3
   },
   "file_extension": ".py",
   "mimetype": "text/x-python",
   "name": "python",
   "nbconvert_exporter": "python",
   "pygments_lexer": "ipython3",
   "version": "3.8.10"
  }
 },
 "nbformat": 4,
 "nbformat_minor": 2
}
