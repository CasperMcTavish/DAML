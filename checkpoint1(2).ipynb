{
 "cells": [
  {
   "cell_type": "markdown",
   "metadata": {},
   "source": [
    "# Checkpoint 1: Neural networks and deep learning\n",
    "---\n",
    "*Responsible:* Guillermo Hamity (<ghamity@ed.ac.uk>)\n",
    "\n",
    "In this checkpoint exercise, we will use neural networks to predict the **type** of weather *given* the available ground observations. You will be using observation data from **June 2019** across all UK Met Office weather stations.\n",
    "\n",
    "### Notes on the Dataset\n",
    "* You will be using weather observation data from the UK Met Office Datapoint service\n",
    "* Ground observations are made hourly at weather stations across the length of the UK \n",
    "* The data sample covers data from June 2019\n",
    "* Data collections for each day starts at 6.30pm. All observation data is listed in one day blocks\n",
    "* The time value column refers to the number of minutes after midnight \n",
    "* `Null` values for some features are expected (e.g. Wind Gust)\n",
    "* Data import and preparation is already provided \n",
    "\n",
    "\n",
    "This week, I am not providing example notebooks like `lecture2.ipynb` and `data-science-tools.ipynb` for Unit 2, though these may still be useful to you. Instead, I am **providing the imports for all of the modules and classes that you should need.** Think of these as LEGO blocks; you have the ones you need but may look up how to \"assemble\" them.\n",
    "\n",
    "### Notes on assessment\n",
    "* Try and calculate the answers to the exercises provided. If you are unable to complete the question, describe which approach you _would_ have taken to solve the problem\n",
    "* Code must be understandable and reproducible. Before grading the notebook kernel **may** be restarted and re-run, so make sure that your code can run from start to finish without any (unintentional) errors\n",
    "* If you are unsure on how to proceed please **ask one of the TAs** during the workshop\n",
    "- Notebooks should be submitted by **10am on Friday 9 October 2021** \n",
    "- This CP exercise sheet is divided into **6 sections**, corresponding to parts of the lecture, giving a maximum of **10 marks** in total:\n",
    "\n",
    "| <p align='left'> Title                         | <p align='left'> Exercise nos. | <p align='left'> Number of marks |\n",
    "| ------------------------------------- | ----- | --- |\n",
    "| <p align='left'> 1. Conceptual questions               | <p align='left'>  1–5  | <p align='left'> 2.5 |\n",
    "| <p align='left'> 2. Data preprocessing and RandomForest                | <p align='left'>  6–9  | <p align='left'> 2.5 |\n",
    "| <p align='left'> 3. Neural networks in `scikit-learn`  | <p align='left'>  10–11 | <p align='left'> 1.5 | \n",
    "| <p align='left'> 4. Neural networks in `Keras`         | <p align='left'> 12–13 | <p align='left'> 2 |\n",
    "| <p align='left'> 5. Regularisation                     | <p align='left'> 14–15 | <p align='left'> 1.5 |\n",
    "| <p align='left'> 6. Bonus: Hyperparameter optimisation | <p align='left'> 16 | <p align='left'> 1.0 (\\*bonus\\*) |\n",
    "| <p align='left'> **Total** | | <p align='left'> **10 + 1** |\n",
    "\n",
    "- The total number of marks allocated for this CP is 10,\n",
    "    - 1 additional mark can be given (maximimally up to 10 marks in total) for \"bonus\" exercise on hyperparameter optimisation. If you are pressed for time, focus on the first five sections; those are the core ones.\n",
    "    - Half marks may be deducted for code legibility (i.e. very difficult to tell what you are doing), or for badly formated plots (i.e. no legends, axis labels etc.). The TAs will use their discression for this so comment code when applicable and keep relevant information in your plots.\n",
    "\n",
    "_Note:_ You can suppress double-printing of plots from the `plot` module by either _(a)_ adding a semicolon after the function call (_i.e._ `plot.<method>(...);`), or _(b)_ by capturing the return `pyplot.Figure` object as a variable (_i.e._ `fig = plot.<method>(...)`)."
   ]
  },
  {
   "cell_type": "markdown",
   "metadata": {},
   "source": [
    "## Preamble"
   ]
  },
  {
   "cell_type": "code",
   "execution_count": 5,
   "metadata": {},
   "outputs": [],
   "source": [
    "# Standard import(s)\n",
    "import numpy as np\n",
    "import pandas as pd\n",
    "import random as rn\n",
    "import sklearn\n",
    "import tensorflow as tf\n",
    "import matplotlib.pyplot as plt\n",
    "import seaborn as sns\n",
    "import os\n",
    "%matplotlib inline\n",
    "\n",
    "# Suppress unnecessary ConvergenceWarGraph disconnected: cannot obtain value for tensor KerasTensor(type_spec=TensorSpec(shape=(None, 23), dtype=tf.float32, name='input_9'), name='input_9', description=\"created by layer 'input_9'\") at layer \"dense_12\". The following previous layers were accessed without issue: []nings and DeprecationWarnings\n",
    "import warnings\n",
    "from sklearn.exceptions import ConvergenceWarning\n",
    "warnings.filterwarnings(action='ignore', category=ConvergenceWarning)\n",
    "warnings.filterwarnings(action='ignore', category=DeprecationWarning)\n",
    "\n",
    "# Set a random seed variable to make workbook reproducible\n",
    "seed=5\n",
    "np.random.seed(seed)\n",
    "rn.seed(seed)\n",
    "os.environ['PYTHONHASHSEED']=str(seed)\n",
    "tf.compat.v1.set_random_seed(seed)\n",
    "\n",
    "# Switch off multi-threading for TensorFlow\n",
    "from tensorflow.python.keras import backend as K\n",
    "config = tf.compat.v1.ConfigProto(intra_op_parallelism_threads=1,\n",
    "                                  inter_op_parallelism_threads=1)\n",
    "sess = tf.compat.v1.Session(graph=tf.compat.v1.get_default_graph(), config=config)\n",
    "K.set_session(sess)"
   ]
  },
  {
   "cell_type": "code",
   "execution_count": 6,
   "metadata": {},
   "outputs": [
    {
     "data": {
      "text/html": [
       "<div>\n",
       "<style scoped>\n",
       "    .dataframe tbody tr th:only-of-type {\n",
       "        vertical-align: middle;\n",
       "    }\n",
       "\n",
       "    .dataframe tbody tr th {\n",
       "        vertical-align: top;\n",
       "    }\n",
       "\n",
       "    .dataframe thead th {\n",
       "        text-align: right;\n",
       "    }\n",
       "</style>\n",
       "<table border=\"1\" class=\"dataframe\">\n",
       "  <thead>\n",
       "    <tr style=\"text-align: right;\">\n",
       "      <th></th>\n",
       "      <th>StationID</th>\n",
       "      <th>StationName</th>\n",
       "      <th>Elevation</th>\n",
       "      <th>Latitude</th>\n",
       "      <th>Longitude</th>\n",
       "      <th>Date</th>\n",
       "      <th>Time</th>\n",
       "      <th>Gust</th>\n",
       "      <th>Temperature</th>\n",
       "      <th>Visibility</th>\n",
       "      <th>WindDirection</th>\n",
       "      <th>WindSpeed</th>\n",
       "      <th>Pressure</th>\n",
       "      <th>PressureTrend</th>\n",
       "      <th>DewPoint</th>\n",
       "      <th>Humidity</th>\n",
       "      <th>Type</th>\n",
       "    </tr>\n",
       "  </thead>\n",
       "  <tbody>\n",
       "    <tr>\n",
       "      <th>0</th>\n",
       "      <td>3002</td>\n",
       "      <td>BALTASOUND</td>\n",
       "      <td>15.0</td>\n",
       "      <td>60.749</td>\n",
       "      <td>-0.854</td>\n",
       "      <td>2018-05-31</td>\n",
       "      <td>1020</td>\n",
       "      <td>NaN</td>\n",
       "      <td>16.1</td>\n",
       "      <td>30000.0</td>\n",
       "      <td>E</td>\n",
       "      <td>8.0</td>\n",
       "      <td>1019.0</td>\n",
       "      <td>F</td>\n",
       "      <td>11.6</td>\n",
       "      <td>74.5</td>\n",
       "      <td>0</td>\n",
       "    </tr>\n",
       "    <tr>\n",
       "      <th>1</th>\n",
       "      <td>3002</td>\n",
       "      <td>BALTASOUND</td>\n",
       "      <td>15.0</td>\n",
       "      <td>60.749</td>\n",
       "      <td>-0.854</td>\n",
       "      <td>2018-05-31</td>\n",
       "      <td>1080</td>\n",
       "      <td>NaN</td>\n",
       "      <td>14.9</td>\n",
       "      <td>22000.0</td>\n",
       "      <td>E</td>\n",
       "      <td>8.0</td>\n",
       "      <td>1019.0</td>\n",
       "      <td>F</td>\n",
       "      <td>11.8</td>\n",
       "      <td>81.5</td>\n",
       "      <td>0</td>\n",
       "    </tr>\n",
       "    <tr>\n",
       "      <th>2</th>\n",
       "      <td>3002</td>\n",
       "      <td>BALTASOUND</td>\n",
       "      <td>15.0</td>\n",
       "      <td>60.749</td>\n",
       "      <td>-0.854</td>\n",
       "      <td>2018-05-31</td>\n",
       "      <td>1140</td>\n",
       "      <td>NaN</td>\n",
       "      <td>14.0</td>\n",
       "      <td>14000.0</td>\n",
       "      <td>E</td>\n",
       "      <td>6.0</td>\n",
       "      <td>1018.0</td>\n",
       "      <td>F</td>\n",
       "      <td>11.6</td>\n",
       "      <td>85.4</td>\n",
       "      <td>0</td>\n",
       "    </tr>\n",
       "    <tr>\n",
       "      <th>3</th>\n",
       "      <td>3002</td>\n",
       "      <td>BALTASOUND</td>\n",
       "      <td>15.0</td>\n",
       "      <td>60.749</td>\n",
       "      <td>-0.854</td>\n",
       "      <td>2018-05-31</td>\n",
       "      <td>1200</td>\n",
       "      <td>NaN</td>\n",
       "      <td>12.9</td>\n",
       "      <td>12000.0</td>\n",
       "      <td>ENE</td>\n",
       "      <td>2.0</td>\n",
       "      <td>1019.0</td>\n",
       "      <td>R</td>\n",
       "      <td>11.0</td>\n",
       "      <td>88.1</td>\n",
       "      <td>0</td>\n",
       "    </tr>\n",
       "    <tr>\n",
       "      <th>4</th>\n",
       "      <td>3002</td>\n",
       "      <td>BALTASOUND</td>\n",
       "      <td>15.0</td>\n",
       "      <td>60.749</td>\n",
       "      <td>-0.854</td>\n",
       "      <td>2018-05-31</td>\n",
       "      <td>1260</td>\n",
       "      <td>NaN</td>\n",
       "      <td>12.0</td>\n",
       "      <td>9000.0</td>\n",
       "      <td>E</td>\n",
       "      <td>2.0</td>\n",
       "      <td>1019.0</td>\n",
       "      <td>R</td>\n",
       "      <td>10.9</td>\n",
       "      <td>92.9</td>\n",
       "      <td>1</td>\n",
       "    </tr>\n",
       "  </tbody>\n",
       "</table>\n",
       "</div>"
      ],
      "text/plain": [
       "   StationID StationName  Elevation  Latitude  Longitude        Date  Time  \\\n",
       "0       3002  BALTASOUND       15.0    60.749     -0.854  2018-05-31  1020   \n",
       "1       3002  BALTASOUND       15.0    60.749     -0.854  2018-05-31  1080   \n",
       "2       3002  BALTASOUND       15.0    60.749     -0.854  2018-05-31  1140   \n",
       "3       3002  BALTASOUND       15.0    60.749     -0.854  2018-05-31  1200   \n",
       "4       3002  BALTASOUND       15.0    60.749     -0.854  2018-05-31  1260   \n",
       "\n",
       "   Gust  Temperature  Visibility WindDirection  WindSpeed  Pressure  \\\n",
       "0   NaN         16.1     30000.0             E        8.0    1019.0   \n",
       "1   NaN         14.9     22000.0             E        8.0    1019.0   \n",
       "2   NaN         14.0     14000.0             E        6.0    1018.0   \n",
       "3   NaN         12.9     12000.0           ENE        2.0    1019.0   \n",
       "4   NaN         12.0      9000.0             E        2.0    1019.0   \n",
       "\n",
       "  PressureTrend  DewPoint  Humidity  Type  \n",
       "0             F      11.6      74.5     0  \n",
       "1             F      11.8      81.5     0  \n",
       "2             F      11.6      85.4     0  \n",
       "3             R      11.0      88.1     0  \n",
       "4             R      10.9      92.9     1  "
      ]
     },
     "execution_count": 6,
     "metadata": {},
     "output_type": "execute_result"
    }
   ],
   "source": [
    "# Load in the prepared weather data\n",
    "obs = pd.read_csv('weather.csv')\n",
    "obs.head()"
   ]
  },
  {
   "cell_type": "code",
   "execution_count": 7,
   "metadata": {},
   "outputs": [
    {
     "data": {
      "text/plain": [
       "(106553, 17)"
      ]
     },
     "execution_count": 7,
     "metadata": {},
     "output_type": "execute_result"
    }
   ],
   "source": [
    "obs.shape"
   ]
  },
  {
   "cell_type": "code",
   "execution_count": 8,
   "metadata": {},
   "outputs": [
    {
     "data": {
      "text/html": [
       "<div>\n",
       "<style scoped>\n",
       "    .dataframe tbody tr th:only-of-type {\n",
       "        vertical-align: middle;\n",
       "    }\n",
       "\n",
       "    .dataframe tbody tr th {\n",
       "        vertical-align: top;\n",
       "    }\n",
       "\n",
       "    .dataframe thead th {\n",
       "        text-align: right;\n",
       "    }\n",
       "</style>\n",
       "<table border=\"1\" class=\"dataframe\">\n",
       "  <thead>\n",
       "    <tr style=\"text-align: right;\">\n",
       "      <th></th>\n",
       "      <th>StationID</th>\n",
       "      <th>Elevation</th>\n",
       "      <th>Latitude</th>\n",
       "      <th>Longitude</th>\n",
       "      <th>Time</th>\n",
       "      <th>Gust</th>\n",
       "      <th>Temperature</th>\n",
       "      <th>Visibility</th>\n",
       "      <th>WindSpeed</th>\n",
       "      <th>Pressure</th>\n",
       "      <th>DewPoint</th>\n",
       "      <th>Humidity</th>\n",
       "      <th>Type</th>\n",
       "    </tr>\n",
       "  </thead>\n",
       "  <tbody>\n",
       "    <tr>\n",
       "      <th>count</th>\n",
       "      <td>106553.000000</td>\n",
       "      <td>106553.000000</td>\n",
       "      <td>106553.000000</td>\n",
       "      <td>106553.000000</td>\n",
       "      <td>106553.000000</td>\n",
       "      <td>7703.000000</td>\n",
       "      <td>106442.000000</td>\n",
       "      <td>92662.000000</td>\n",
       "      <td>102060.000000</td>\n",
       "      <td>99530.000000</td>\n",
       "      <td>106402.000000</td>\n",
       "      <td>106397.000000</td>\n",
       "      <td>106553.00000</td>\n",
       "    </tr>\n",
       "    <tr>\n",
       "      <th>mean</th>\n",
       "      <td>6147.845636</td>\n",
       "      <td>114.466594</td>\n",
       "      <td>53.673022</td>\n",
       "      <td>-2.829034</td>\n",
       "      <td>702.914418</td>\n",
       "      <td>33.043749</td>\n",
       "      <td>14.958912</td>\n",
       "      <td>25698.164404</td>\n",
       "      <td>8.999510</td>\n",
       "      <td>1018.748337</td>\n",
       "      <td>10.348008</td>\n",
       "      <td>76.185240</td>\n",
       "      <td>0.99603</td>\n",
       "    </tr>\n",
       "    <tr>\n",
       "      <th>std</th>\n",
       "      <td>15821.503845</td>\n",
       "      <td>171.669120</td>\n",
       "      <td>2.466079</td>\n",
       "      <td>2.269594</td>\n",
       "      <td>412.057262</td>\n",
       "      <td>13.424855</td>\n",
       "      <td>4.294516</td>\n",
       "      <td>14263.873943</td>\n",
       "      <td>6.087882</td>\n",
       "      <td>6.327468</td>\n",
       "      <td>3.120565</td>\n",
       "      <td>17.208653</td>\n",
       "      <td>0.92971</td>\n",
       "    </tr>\n",
       "    <tr>\n",
       "      <th>min</th>\n",
       "      <td>3002.000000</td>\n",
       "      <td>2.000000</td>\n",
       "      <td>49.207900</td>\n",
       "      <td>-10.250000</td>\n",
       "      <td>0.000000</td>\n",
       "      <td>0.000000</td>\n",
       "      <td>-1.200000</td>\n",
       "      <td>20.000000</td>\n",
       "      <td>0.000000</td>\n",
       "      <td>976.000000</td>\n",
       "      <td>-28.200000</td>\n",
       "      <td>0.800000</td>\n",
       "      <td>0.00000</td>\n",
       "    </tr>\n",
       "    <tr>\n",
       "      <th>25%</th>\n",
       "      <td>3204.000000</td>\n",
       "      <td>20.000000</td>\n",
       "      <td>51.565000</td>\n",
       "      <td>-4.149000</td>\n",
       "      <td>360.000000</td>\n",
       "      <td>29.000000</td>\n",
       "      <td>12.000000</td>\n",
       "      <td>14000.000000</td>\n",
       "      <td>5.000000</td>\n",
       "      <td>1015.000000</td>\n",
       "      <td>8.400000</td>\n",
       "      <td>65.300000</td>\n",
       "      <td>0.00000</td>\n",
       "    </tr>\n",
       "    <tr>\n",
       "      <th>50%</th>\n",
       "      <td>3414.000000</td>\n",
       "      <td>65.000000</td>\n",
       "      <td>53.175000</td>\n",
       "      <td>-2.663000</td>\n",
       "      <td>720.000000</td>\n",
       "      <td>32.000000</td>\n",
       "      <td>14.500000</td>\n",
       "      <td>25000.000000</td>\n",
       "      <td>8.000000</td>\n",
       "      <td>1018.000000</td>\n",
       "      <td>10.500000</td>\n",
       "      <td>79.200000</td>\n",
       "      <td>1.00000</td>\n",
       "    </tr>\n",
       "    <tr>\n",
       "      <th>75%</th>\n",
       "      <td>3769.000000</td>\n",
       "      <td>132.000000</td>\n",
       "      <td>55.285000</td>\n",
       "      <td>-1.097000</td>\n",
       "      <td>1020.000000</td>\n",
       "      <td>39.000000</td>\n",
       "      <td>17.500000</td>\n",
       "      <td>35000.000000</td>\n",
       "      <td>11.000000</td>\n",
       "      <td>1024.000000</td>\n",
       "      <td>12.500000</td>\n",
       "      <td>90.000000</td>\n",
       "      <td>1.00000</td>\n",
       "    </tr>\n",
       "    <tr>\n",
       "      <th>max</th>\n",
       "      <td>99142.000000</td>\n",
       "      <td>1245.000000</td>\n",
       "      <td>60.749000</td>\n",
       "      <td>1.348000</td>\n",
       "      <td>1380.000000</td>\n",
       "      <td>105.000000</td>\n",
       "      <td>31.600000</td>\n",
       "      <td>75000.000000</td>\n",
       "      <td>81.000000</td>\n",
       "      <td>1036.000000</td>\n",
       "      <td>22.700000</td>\n",
       "      <td>100.000000</td>\n",
       "      <td>3.00000</td>\n",
       "    </tr>\n",
       "  </tbody>\n",
       "</table>\n",
       "</div>"
      ],
      "text/plain": [
       "           StationID      Elevation       Latitude      Longitude  \\\n",
       "count  106553.000000  106553.000000  106553.000000  106553.000000   \n",
       "mean     6147.845636     114.466594      53.673022      -2.829034   \n",
       "std     15821.503845     171.669120       2.466079       2.269594   \n",
       "min      3002.000000       2.000000      49.207900     -10.250000   \n",
       "25%      3204.000000      20.000000      51.565000      -4.149000   \n",
       "50%      3414.000000      65.000000      53.175000      -2.663000   \n",
       "75%      3769.000000     132.000000      55.285000      -1.097000   \n",
       "max     99142.000000    1245.000000      60.749000       1.348000   \n",
       "\n",
       "                Time         Gust    Temperature    Visibility      WindSpeed  \\\n",
       "count  106553.000000  7703.000000  106442.000000  92662.000000  102060.000000   \n",
       "mean      702.914418    33.043749      14.958912  25698.164404       8.999510   \n",
       "std       412.057262    13.424855       4.294516  14263.873943       6.087882   \n",
       "min         0.000000     0.000000      -1.200000     20.000000       0.000000   \n",
       "25%       360.000000    29.000000      12.000000  14000.000000       5.000000   \n",
       "50%       720.000000    32.000000      14.500000  25000.000000       8.000000   \n",
       "75%      1020.000000    39.000000      17.500000  35000.000000      11.000000   \n",
       "max      1380.000000   105.000000      31.600000  75000.000000      81.000000   \n",
       "\n",
       "           Pressure       DewPoint       Humidity          Type  \n",
       "count  99530.000000  106402.000000  106397.000000  106553.00000  \n",
       "mean    1018.748337      10.348008      76.185240       0.99603  \n",
       "std        6.327468       3.120565      17.208653       0.92971  \n",
       "min      976.000000     -28.200000       0.800000       0.00000  \n",
       "25%     1015.000000       8.400000      65.300000       0.00000  \n",
       "50%     1018.000000      10.500000      79.200000       1.00000  \n",
       "75%     1024.000000      12.500000      90.000000       1.00000  \n",
       "max     1036.000000      22.700000     100.000000       3.00000  "
      ]
     },
     "execution_count": 8,
     "metadata": {},
     "output_type": "execute_result"
    }
   ],
   "source": [
    "obs.describe()"
   ]
  },
  {
   "cell_type": "markdown",
   "metadata": {},
   "source": [
    "For this exercise we will use **8** input features (provided) and clean the data:"
   ]
  },
  {
   "cell_type": "code",
   "execution_count": 9,
   "metadata": {},
   "outputs": [],
   "source": [
    "# Define 8 input feature variables, 1 target variable data, and names of the 3 weather types\n",
    "features = ['Latitude', 'Elevation', 'Temperature', 'Visibility', 'WindSpeed', 'Pressure', 'Humidity', 'WindDirection']\n",
    "output   = ['Type']\n",
    "wtype    = ['Clear', 'Cloudy', 'Precip']"
   ]
  },
  {
   "cell_type": "markdown",
   "metadata": {},
   "source": [
    "Define derived dataset containing only the relevant columns and rows."
   ]
  },
  {
   "cell_type": "code",
   "execution_count": 10,
   "metadata": {},
   "outputs": [
    {
     "name": "stdout",
     "output_type": "stream",
     "text": [
      "       Latitude  Elevation  Temperature  Visibility  WindSpeed  Pressure  \\\n",
      "90176    53.174       10.0         20.4     23000.0       11.0    1027.0   \n",
      "\n",
      "       Humidity WindDirection  Type  \n",
      "90176      56.2           SSE     0  \n"
     ]
    }
   ],
   "source": [
    "# Reduce to feature and type columns\n",
    "dataset = obs[features + output]\n",
    "\n",
    "# Drop duplicates and null values \n",
    "dataset = dataset.drop_duplicates().dropna()\n",
    "\n",
    "# Drop unrecorded weather type\n",
    "dataset = dataset[dataset.Type != 3]\n",
    "\n",
    "# Check shape \n",
    "dataset.shape\n",
    "#dataset.head(5000)\n",
    "print(dataset.loc[[90176]])"
   ]
  },
  {
   "cell_type": "markdown",
   "metadata": {},
   "source": [
    "## 1. Conceptual questions (2.5 Marks)\n",
    "---\n",
    "This section covers **5** exercises on conceptual understanding of neural networks."
   ]
  },
  {
   "cell_type": "markdown",
   "metadata": {},
   "source": [
    "#### 1. Which are the most used activation functions and why do we (typically) need non-linear activation functions in neural networks? (0.5 mark)"
   ]
  },
  {
   "cell_type": "markdown",
   "metadata": {},
   "source": [
    "The most used activation functions are:\n",
    "    \n",
    "    Sigmoid Activation, Relu, Softmax and tanh\n",
    "\n",
    "We typically need non-linear activation functions in neural networks, as without them hidden layers become useless as a composition of linear functions is just another linear function. Non-linear activation functions also allow for backpropagation (or gradient descent) while linear functions do not, as the derivative of a linear function has no relation to the input so it useless when trying to decide which weights produce a better prediction."
   ]
  },
  {
   "cell_type": "markdown",
   "metadata": {},
   "source": [
    "#### 2. Why do we need deep neural networks and which are the main differences between deep and shallow learning? (0.5 Mark)"
   ]
  },
  {
   "cell_type": "markdown",
   "metadata": {},
   "source": [
    "- **Deep Learning** is when a neural network has at least 2 or more hidden layers, and so can exploit high dimensional data to perform feature extraction and deep combination simultaneously to get an output\n",
    "- **Shallow Learning** has less than 2 hidden layers, and generally requires manual engineering and simple algorithms to get an output.\n",
    "\n",
    "\n",
    "Deep neural networks allow for increases in performance that scale with the amount of data supplied much better than older learning algorithms, and give us the ability to exploit high-dimensional data rather than having us manually break it down into low-dimensional data. This can allow the DL-network to find relevant features that wouldn't be obvious to the user who is breaking down the high-dimensional data.\n",
    "\n",
    "*Eg: The most important features for identifying cats can be determined by a human, and then plugged into a shallow combination system for an output. While in deep learning the high-dimensional 'cat' data can be plugged in directly and important features can be determined by the network itself and used to determine an output.*\n",
    "\n",
    "\n"
   ]
  },
  {
   "cell_type": "markdown",
   "metadata": {},
   "source": [
    "#### 3. Discuss the Bias-variance trade-off and its relation to underfitting and overfitting of a model. Which are the charactheristics of an ideal model?  (0.5 mark)"
   ]
  },
  {
   "cell_type": "markdown",
   "metadata": {},
   "source": [
    "The Bias-variance trade-off is the relationship between these two factors (bias and variance) and how they correspond to either good or bad models.\n",
    "\n",
    "- Bias is a trainable parameter that shifts the activation function within a NN\n",
    "- Variance is the variability in your model's prediction, or how much your results can shift based on the given dataset\n",
    "\n",
    "An underfit model is one with high bias and low variance (so the model is inflexible and can't learn the relevant structure in the dataset). The high bias is attributed to poor performance on training data.\n",
    "\n",
    "An overfit model is one with low bias and high variance (so the model is too flexible and can learn random structures that don't represent the dataset as a whole). Overfit models show high loss on testing datasets but low loss on training datasets."
   ]
  },
  {
   "cell_type": "markdown",
   "metadata": {},
   "source": [
    "#### 4. Given a neural network with 4 input nodes, 2 layers with 5 nodes each, and 1 output node, what is the total number of free (trainable) parameters in the network? Does it matter which activation function(s) are used?  (0.5 mark)"
   ]
  },
  {
   "cell_type": "markdown",
   "metadata": {},
   "source": [
    "4 input nodes, 2 hidden layers of 5, and one 1 output mode.\n",
    "\n",
    "5x4 + 5x5 + 5x1 + 5 + 5 + 1 = 61 total trainable parameters \n",
    "\n",
    "*__But this includes the input and output, is this correct?__*\n",
    "\n",
    "Different activation functions are suitable for specific problems and allow for better training on specific problems when compared to their counterparts. ReLU for example is appropriate for regressing non-negative energy."
   ]
  },
  {
   "cell_type": "markdown",
   "metadata": {},
   "source": [
    "#### 5. What are appropriate choice for _(a)_ the number of output nodes and _(b)_ output activation function(s) for each of the following tasks, and why? (0.5 mark)"
   ]
  },
  {
   "cell_type": "markdown",
   "metadata": {},
   "source": [
    "1. Regression of the $x$, $y$, and $z$ coordinates of a single particle in an arbitrary coordinate system\n",
    "2. Regression of particle energy of a single particle\n",
    "3. Classification of two processes (signal vs. background)\n",
    "4. Classification among *N* classes (dog vs. cat vs. fish vs. ...)"
   ]
  },
  {
   "cell_type": "markdown",
   "metadata": {},
   "source": [
    "a)\n",
    "\n",
    "1. 3 output nodes, as we have x,y and z regression.\n",
    "2. 1 output node, as we only have the particle energy.\n",
    "3. 2 output nodes, for both signal and background (although I guess you could technically have one as long as p1+p2 = 1)\n",
    "4. N output nodes (probability for each different class. dog, cat, fish, etc.)\n",
    "\n",
    "b)\n",
    "\n",
    "1. Linear, as the data involves regessing (but possibly negative) quantities. *__(ASK ABOUT THIS)__*\n",
    "2. ReLU, as the data is involves regressing non-negative quantities.\n",
    "3. Sigmoid, as this can be described as a binary classification probability (noise - 0, signal - 1).\n",
    "4. Softmax, as this can be described as a multiclass classification probability.\n",
    "\n"
   ]
  },
  {
   "cell_type": "markdown",
   "metadata": {},
   "source": [
    "## 2. Data preprocessing and RTs (2.5 mark)\n",
    "---\n",
    "This section covers **4** exercises on data preparation, feature standardisation, and dataset splitting."
   ]
  },
  {
   "cell_type": "code",
   "execution_count": 11,
   "metadata": {},
   "outputs": [],
   "source": [
    "# Relevant import(s) for this section\n",
    "from sklearn import tree\n",
    "from sklearn.tree import DecisionTreeClassifier, plot_tree\n",
    "from sklearn.tree import export_graphviz\n",
    "from sklearn.model_selection import train_test_split # Import train_test_split function\n",
    "from sklearn import metrics # Import scikit-learn metrics module for accuracy calculation\n",
    "from sklearn import preprocessing # Import preprocessing for String-Int conversion\n",
    "from sklearn.compose import ColumnTransformer\n",
    "from sklearn.preprocessing import OneHotEncoder, StandardScaler, MinMaxScaler\n",
    "from sklearn.model_selection import train_test_split"
   ]
  },
  {
   "cell_type": "markdown",
   "metadata": {},
   "source": [
    "---\n",
    "**_Comment on target format and one-hot encoding:_** By default, the target column (`Type`) contains one integer (0, 1, or 2) for each example, the integer specifying one of three possible types of weather. However, for doing multi-class classification (which this is), we want our neural network to have one output node per class (_i.e._ 3 output nodes in this case), such that the activation of each output node is interpreted as the likelihood for a given sample being of the type in question. Therefore, the target should also be a 3-element vector for each sample; this vector should be all zeros, except for a $1$ at the index corresponding to the type in question. This is called **one-hot encoding**, and a few examples are shown below:\n",
    "\n",
    "- type = 0 $\\to$ one-hot = $[1, 0, 0]$ for 3 classes\n",
    "- type = 1 $\\to$ one-hot = $[0, 1, 0]$ for 3 classes\n",
    "- type = 2 $\\to$ one-hot = $[0, 0, 1]$ for 3 classes\n",
    "\n",
    "This is the target towards which a neural network classifier is trained: That is, ideally, for an example of type 0, the network will output a large activation ($\\approx 1$) on the first output node (interpreted as a large likelihood for the first weather type), and very small activations ($\\ll 1$) on the two other output nodes (intepreted as small likelihoods for the two other weather types); and so on.\n",
    "\n",
    "The same type of one-hot encoding can be performed for any number of target classes $N_{c}$, which just results in $N_{c}$-element target vectors with a single non-zero entry each.\n",
    "\n",
    "To be user friendly, however, `scikit-learn` allows us to use integer targets for multi-class classification — it does the one-hot encoding for us \"under the hood.\" Similarly, `keras`, _can_ also allow us to use integer targets for multi-class classification, provided we use the appropropriate loss (`sparse_categorical_crossentropy`). Otherwise (if we use `categorical_crossentropy` loss), it expects one-hot encoded targets. Which approach you choose is up to you — but now you know what goes on.\n",
    "\n",
    "---"
   ]
  },
  {
   "cell_type": "markdown",
   "metadata": {},
   "source": [
    "#### 6. Prepare the feature and target arrays (0.5 mark)\n",
    "- Randomly sample **3,500** observations per weather type (**10,500** observations in total) from `dataset` into a new `pandas.DataFrame`; call it `sample`.\n",
    "- One-hot encode the **wind direction** variable (_i.e._ $N$ to $[1, 0, \\ldots, 0]$, $NNE$ to $[0, 1, \\ldots, 0]$, _etc._ ), to allow us to input it to the neural network. The exact order of the encoding (_i.e._ which direction corresponds to which index) doesn't matter. *Hint:*\n",
    "  - *Either:* Use the scikit-learn `ColumnTransformer` with the `OneHotEncoder` applied to the `WindDirection` column, and let the remainder of the features pass through un-transformed.\n",
    "  - *Or:* Use the `OneHotEncoder` class directly on the `WindDirection` column (use `sparse=False` in the `OneHotEncoder` constructor), and then concatenate with a `numpy.array` containing the remaining features.\n",
    "- Define `numpy.arrays` named `X` and `y` containing the training features (the 7 unmodified ones plus the one-hot encoded wind directions) and target, respectively.\n",
    "- Argue whether the shapes of `X` and `y` are as expected/as they should be."
   ]
  },
  {
   "cell_type": "code",
   "execution_count": 64,
   "metadata": {},
   "outputs": [
    {
     "name": "stdout",
     "output_type": "stream",
     "text": [
      "(10500, 23) (10500,)\n"
     ]
    }
   ],
   "source": [
    "# Shuffle the dataset\n",
    "dataset = dataset.sample(frac = 1)\n",
    "\n",
    "# Setting up samples for each dataset type\n",
    "sample0 = dataset[dataset['Type'] == 0].head(3500)\n",
    "sample1 = dataset[dataset['Type'] == 1].head(3500)\n",
    "sample2 = dataset[dataset['Type'] == 2].head(3500)\n",
    "\n",
    "# Connect all 3 samples\n",
    "sample = pd.concat([sample0,sample1,sample2])\n",
    "\n",
    "\n",
    "# One-hot encode the Wind Direction\n",
    "# [1,0,...] - E, [0,1,...] - ENE. Goes anti-clockwise from East. 16 Values\n",
    "winddir = OneHotEncoder(sparse=False).fit_transform(sample['WindDirection'].values.reshape(-1,1))\n",
    "# Apply to dataframe\n",
    "\n",
    "#features2 = ['Latitude', 'Elevation', 'Temperature', 'Visibility', 'WindSpeed', 'Pressure', 'Humidity']\n",
    "# Concatenate full wind direction list into np array\n",
    "samplenp = np.concatenate((winddir,sample[features[:-1]]), axis = 1)\n",
    "\n",
    "# Other way but creates different shape\n",
    "##sample['WindDirection'] = winddir.tolist()\n",
    "\n",
    "\n",
    "# Convert to numpy array\n",
    "##samplenp = sample.to_numpy()\n",
    "\n",
    "\n",
    "#print(samplenp)\n",
    "#sample.head()\n",
    "\n",
    "# Create X and Y (THIS ARRAY COMES OUT WRONG THOUGH, DOESNT WORK WITH RANDOM FORESTS)\n",
    "##X = np.array(sample[features])\n",
    "##y = np.array(sample['Type'])\n",
    "X = samplenp\n",
    "y = np.array(sample['Type'])\n",
    " \n",
    "print(X.shape,y.shape)"
   ]
  },
  {
   "cell_type": "markdown",
   "metadata": {},
   "source": [
    "The shape of X and y are (10500, 23) (10500,). The y np array is a 1d array for all of our values, which seems correct. The X shape contains each individual direction as a separate label, as well as all the other feature values.\n",
    "\n",
    "**OUTDATED, NEED TO ASK ABOUT THIS**\n",
    "*Shapes of X and y are (10500, 8) and (10500,) respectively.\n",
    "This means that the list of wind direction values within the X np array is seen as 'one' value. Which is to be expected from our method. The y np array is a 1d array for all of our values, which seems correct.*\n"
   ]
  },
  {
   "cell_type": "markdown",
   "metadata": {},
   "source": [
    "#### 7. Train a Random Forest and evaluate the performance (1 mark)\n",
    "\n",
    "Decision trees work well with a mixture of features (of different scales, and bot binary and continuos), so we will train a random forest to do the job of categorisation.\n",
    "\n",
    "You are given the train test split:"
   ]
  },
  {
   "cell_type": "code",
   "execution_count": 65,
   "metadata": {},
   "outputs": [
    {
     "name": "stdout",
     "output_type": "stream",
     "text": [
      "(7350, 23) (3150, 23)\n"
     ]
    }
   ],
   "source": [
    "#Import random fosets and confusion matrix metric\n",
    "from sklearn.ensemble import RandomForestClassifier\n",
    "from sklearn.metrics import confusion_matrix\n",
    "\n",
    "# split dataset into training set and test set\n",
    "x_train, x_test, y_train, y_test = train_test_split(X, y, test_size=0.3, random_state=1) # 70% training and 30% test\n",
    "print(x_train.shape,x_test.shape)"
   ]
  },
  {
   "cell_type": "markdown",
   "metadata": {},
   "source": [
    "1. Train a RandomForestClassifier with 1000 estimators, `gini` seperation criteria, and max depth 4.\n",
    "2. Check the overal accuaracy on the testing set"
   ]
  },
  {
   "cell_type": "code",
   "execution_count": 66,
   "metadata": {},
   "outputs": [
    {
     "name": "stdout",
     "output_type": "stream",
     "text": [
      "Accuracy Training: 0.6723809523809524\n",
      "Accuracy Testing: 0.6752380952380952\n"
     ]
    }
   ],
   "source": [
    "# Train a random forest\n",
    "rf = RandomForestClassifier(n_estimators=1000, criterion = 'gini', max_depth=4,random_state=1)\n",
    "rf.fit(x_train, y_train)\n",
    "\n",
    "# Test accuracy\n",
    "y_pred = rf.predict(x_train)\n",
    "print(\"Accuracy Training:\",metrics.accuracy_score(y_train, y_pred))\n",
    "y_pred = rf.predict(x_test)\n",
    "print(\"Accuracy Testing:\",metrics.accuracy_score(y_test, y_pred))"
   ]
  },
  {
   "cell_type": "markdown",
   "metadata": {},
   "source": [
    "3. Use the confusion_matrix method to return the confusion matrix normalised over the true lables, i.e. sum over rows should sum to 100%. Use the given colormap to plot the confusion matrix in a heatmap.\n",
    "    - Define the axis tick names to represent Clear, Cloudy or Precip\n",
    "    - Use suitable x and y axis labels\n",
    "    \n",
    "4. What are the true positive rates for clear, cloudy and perp? What is the probability that rain is forcast given that the day is clear?\n",
    "5. Which features does the random forest deem the most important?"
   ]
  },
  {
   "cell_type": "code",
   "execution_count": 114,
   "metadata": {},
   "outputs": [
    {
     "data": {
      "image/png": "[encoded data removed]",
      "text/plain": [
       "<Figure size 432x288 with 2 Axes>"
      ]
     },
     "metadata": {
      "needs_background": "light"
     },
     "output_type": "display_data"
    }
   ],
   "source": [
    "from sklearn.metrics import plot_confusion_matrix\n",
    "# Plot Confusion matrix\n",
    "matrix = plot_confusion_matrix(rf, x_test, y_test, cmap=plt.cm.Blues, normalize='true', display_labels=wtype)\n",
    "plt.xlabel('Predicted Weather Type')\n",
    "plt.ylabel('True Weather Type')\n",
    "plt.title(\"RandomForestClassifier Confusion Matrix\")\n",
    "plt.show()"
   ]
  },
  {
   "cell_type": "code",
   "execution_count": 105,
   "metadata": {},
   "outputs": [
    {
     "name": "stdout",
     "output_type": "stream",
     "text": [
      "True positive rates for: \n",
      " Clear -  0.75\n",
      " Cloudy - 0.47\n",
      " Precip - 0.81\n",
      "Probability that rain is forecast on a clear day: 5.11%\n"
     ]
    }
   ],
   "source": [
    "# Produce confusion matrix for printing\n",
    "confmat = confusion_matrix(y_test, y_pred, normalize='true')\n",
    "\n",
    "# Print True positive rates\n",
    "print(\"True positive rates for: \\n Clear -  \" + str(\"{:.2f}\".format(confmat[0][0])) + \"\\n Cloudy - \" + str(\"{:.2f}\".format(confmat[1][1])) + \"\\n Precip - \" + str(\"{:.2f}\".format(confmat[2][2])))\n",
    "\n",
    "# Print change of rain forecast on clear day\n",
    "print(\"Probability that rain is forecast on a clear day: \" + str(\"{:.2f}\".format(100*confmat[0][2])) + \"%\")"
   ]
  },
  {
   "cell_type": "code",
   "execution_count": 106,
   "metadata": {},
   "outputs": [
    {
     "name": "stdout",
     "output_type": "stream",
     "text": [
      "The most important feature is Pressure with a value of 0.264\n"
     ]
    },
    {
     "data": {
      "image/png": "[encoded data removed]",
      "text/plain": [
       "<Figure size 432x288 with 1 Axes>"
      ]
     },
     "metadata": {
      "needs_background": "light"
     },
     "output_type": "display_data"
    }
   ],
   "source": [
    "# Calculate the importance, and list y ticks\n",
    "importance = rf.feature_importances_\n",
    "ytix = list(range(16))+features[:-1]\n",
    "\n",
    "# Given plotting example for feature importance\n",
    "plt.barh(range(23), importance)\n",
    "plt.yticks(range(23), ytix)\n",
    "plt.xlabel(\"Importance\")\n",
    "plt.ylabel(\"Features\")\n",
    "# Print the most important feature\n",
    "print(\"The most important feature is \" + str(ytix[np.argmax(importance)]) +  \" with a value of \" + str(\"{:.3f}\".format(np.amax(importance))))"
   ]
  },
  {
   "cell_type": "markdown",
   "metadata": {},
   "source": [
    "#### 8. Standardise the relevant features (0.5 mark)\n",
    "\n",
    "_Note:_ You shouldn't standardise the one-hot encoded wind directions; they already have the desired format. Perform a sanity check to make sure that the resulting features have the expected distributional properties (mean and standard deviation; or minimum and maximum value).\n",
    "- Hint:\n",
    "\n",
    "    - Use the scikit-learn `StandardScaler`\n",
    "    - Or use the scikit-learn `MinMaxScaler`\n",
    "\n",
    "- Perform a sanity check to make sure that the resulting features have the expected distributional properties (mean and standard deviation; or minimum and maximum value).\n",
    "    - The number of columns should match, and depending on the choice of standardisation, the last 7 columns should either have:\n",
    "      - (Using `StandardScaler`) means = 0 and standard deviations = 1; or\n",
    "      - (Using `MinMaxScaler`) min = 0, max = 1"
   ]
  },
  {
   "cell_type": "code",
   "execution_count": 107,
   "metadata": {},
   "outputs": [
    {
     "name": "stdout",
     "output_type": "stream",
     "text": [
      "-1.6086300847684445e-16 1.0\n"
     ]
    }
   ],
   "source": [
    "# Standardise the data\n",
    "scaler = StandardScaler()\n",
    "scaled_data = scaler.fit_transform(sample[features[:-1]])\n",
    "# Print for proof\n",
    "print(scaled_data.mean(),scaled_data.std())\n",
    "\n",
    "# Concat the wind directions to the scaled data\n",
    "scaled_fdata = np.concatenate((winddir,scaled_data), axis = 1)\n"
   ]
  },
  {
   "cell_type": "markdown",
   "metadata": {},
   "source": [
    "#### 9. Split the dataset into a training and a testing part (0.5)\n",
    "\n",
    "Reserve **30%** of data for testing. Check whether the resulting arrays have the expected shapes."
   ]
  },
  {
   "cell_type": "code",
   "execution_count": 108,
   "metadata": {},
   "outputs": [
    {
     "name": "stdout",
     "output_type": "stream",
     "text": [
      "(7350, 23) (3150, 23) (7350,) (3150,)\n"
     ]
    }
   ],
   "source": [
    "# Split data\n",
    "Xs_train, Xs_test, ys_train, ys_test = train_test_split(scaled_fdata, y, test_size=0.3, random_state=1) \n",
    "# Print shapes, expect (7350, 23) (3150, 23) (7350,) (3150,)\n",
    "print(Xs_train.shape,Xs_test.shape,ys_train.shape,ys_test.shape)"
   ]
  },
  {
   "cell_type": "markdown",
   "metadata": {},
   "source": [
    "## 3. Neural networks in `scikit-learn` (1.5 mark)\n",
    "---\n",
    "This section covers **2** exercises on constructing and training neural networks using the `scikit-learn` library, as well as evaluating neural network performance. `scikit-learn` provide many, very easy to use ML algorithms, including neural networks. These are called `MLPClassifier` (MLP = multi-layer perceptron; a historic name for densely connected, feed-forward neural networks) when used for classification, and `MLPRegressor` when used for regression. We will focus on the former for now."
   ]
  },
  {
   "cell_type": "code",
   "execution_count": 109,
   "metadata": {},
   "outputs": [],
   "source": [
    "# Relevant import(s) for this section\n",
    "from sklearn.neural_network import MLPClassifier\n"
   ]
  },
  {
   "cell_type": "markdown",
   "metadata": {},
   "source": [
    "#### 10. Construct and train a neural network  (1 mark)\n",
    "\n",
    "- Create an `MLPClassifier` which\n",
    "    - has **1 hidden layer of 50 neurons** \n",
    "    - has **no regularization term**\n",
    "    - trains for a maximum of **100 epochs** \n",
    "    - uses a batch size of **32**\n",
    "- Fit the classifier using the standard `.fit()` member method.\n",
    "- Plot the loss function value as a function of number of epochs (0.5 of mark).\n",
    "  You can access the loss history through the `.loss_curve_` attribute of the `MLPClassifier` instance. "
   ]
  },
  {
   "cell_type": "code",
   "execution_count": 110,
   "metadata": {},
   "outputs": [],
   "source": [
    "# Fitting the MLPClassifier\n",
    "clf = MLPClassifier(hidden_layer_sizes=(50),alpha=0,max_iter=100,batch_size=32).fit(Xs_train,ys_train)"
   ]
  },
  {
   "cell_type": "code",
   "execution_count": 152,
   "metadata": {},
   "outputs": [
    {
     "data": {
      "image/png": "[encoded data removed]",
      "text/plain": [
       "<Figure size 432x288 with 1 Axes>"
      ]
     },
     "metadata": {
      "needs_background": "light"
     },
     "output_type": "display_data"
    }
   ],
   "source": [
    "# Plot loss_curve_ against epochs\n",
    "epochs = np.linspace(0,99,100)\n",
    "plt.xlabel(\"No. of Epochs\")\n",
    "plt.ylabel(\"Loss values for clf\")\n",
    "plt.title(\"Loss Curve with Epochs\")\n",
    "plt.plot(epochs,clf.loss_curve_)\n",
    "plt.show()"
   ]
  },
  {
   "cell_type": "markdown",
   "metadata": {},
   "source": [
    "#### 11. Performance evaluation (0.5 mark)\n",
    "\n",
    "- Using the testing dataset: \n",
    "    - Compute the overall accuracy for the classifier using the `MLPClassifier`'s `.score()` member method for both testing and training datasets.\n",
    "    - Compute the confusion matrix (normalised in true labels), and plot it \n",
    "- Discuss the results"
   ]
  },
  {
   "cell_type": "code",
   "execution_count": 113,
   "metadata": {},
   "outputs": [
    {
     "name": "stdout",
     "output_type": "stream",
     "text": [
      "Training Data Accuracy: 0.755\n",
      "Testing Data Accuracy: 0.688\n"
     ]
    },
    {
     "data": {
      "image/png": "[encoded data removed]",
      "text/plain": [
       "<Figure size 432x288 with 2 Axes>"
      ]
     },
     "metadata": {
      "needs_background": "light"
     },
     "output_type": "display_data"
    }
   ],
   "source": [
    "# Print overall mean accuracy\n",
    "\n",
    "print(\"Training Data Accuracy: \" + str(\"{:.3f}\".format(clf.score(Xs_train,ys_train))))\n",
    "\n",
    "print(\"Testing Data Accuracy: \" + str(\"{:.3f}\".format(clf.score(Xs_test,ys_test))))\n",
    "\n",
    "# Confusion matrix\n",
    "cmatrix = plot_confusion_matrix(clf, Xs_test, ys_test, cmap=plt.cm.Blues, normalize='true', display_labels=wtype)\n",
    "plt.xlabel('Predicted Weather Type')\n",
    "plt.ylabel('True Weather Type')\n",
    "plt.title(\"MLPClassifier Confusion Matrix\")\n",
    "plt.show()\n"
   ]
  },
  {
   "cell_type": "markdown",
   "metadata": {},
   "source": [
    "# _Discussing the results_\n",
    "\n",
    "The confusion matrix for the MLPClassifier and RandomForestClassifier are very similar with the majority of the probabilities being along the diagonal in both cases (demonstrating similar learning capability for both models), although the MLPClassifier performs slightly better (total accurate predictions is slightly better for MLP).\n",
    "\n",
    "The data accuracy for MLPClassifier is concerning though, as the training data accuracy is greater than the testing data accuracy by rather large margin. This could be showing us that this model has been overtrained. "
   ]
  },
  {
   "cell_type": "markdown",
   "metadata": {},
   "source": [
    "## 4. Neural networks in `Keras` (2 marks)\n",
    "---\n",
    "This section covers **2** exercises on constructing and training neural networks using the `Keras` library. `scikit-learn` is very easy to use, but libraries like `Keras` provide a lot more flexibility, which is why we will be using these extensively in the last two units of the _'Data science tools and machine learning'_ track."
   ]
  },
  {
   "cell_type": "code",
   "execution_count": 166,
   "metadata": {},
   "outputs": [],
   "source": [
    "# Relevant import(s) for this section\n",
    "from tensorflow.python.keras.models import Model\n",
    "from tensorflow.python.keras.layers import Input, Dense"
   ]
  },
  {
   "cell_type": "markdown",
   "metadata": {},
   "source": [
    "#### 12. Construct a neural network in `Keras` (1 mark)\n",
    "\n",
    "- Create a `keras.Model` using the **Keras functional API**. The network should have:\n",
    "    - An input layer with the same number of nodes as the number of features in `X`.\n",
    "    - A single, densely connected hidden layer with **50 nodes** equipped with **ReLU activation**.\n",
    "    - A densely connected output layer with **3 nodes** (the number of types of weather we're classifying) equipped with **softmax activation**.\n",
    "- Compile the model the using the **Adam optimiser**, add `'accuracy'` as metric, and use either:\n",
    "    - `categorical_crossentropy` loss, if you have one-hot encoded the targets `y`, or\n",
    "    - `sparse_categorical_crossentropy` loss if you hare using integer-valued targets.\n",
    "- Use the `.summary()` member method to print an overview of the model you have created, explain the output."
   ]
  },
  {
   "cell_type": "code",
   "execution_count": 167,
   "metadata": {},
   "outputs": [],
   "source": [
    "# Create keras model\n",
    "inpt = Input(shape=(Xs_train.shape[1]))\n",
    "layer = Dense(50, activation='relu')(inpt)\n",
    "output = Dense(3,activation='softmax')(layer)\n",
    "kf = Model(inputs=inpt, outputs=output,name='KerasNN')"
   ]
  },
  {
   "cell_type": "code",
   "execution_count": 168,
   "metadata": {},
   "outputs": [
    {
     "name": "stdout",
     "output_type": "stream",
     "text": [
      "Model: \"KerasNN\"\n",
      "_________________________________________________________________\n",
      "Layer (type)                 Output Shape              Param #   \n",
      "=================================================================\n",
      "input_6 (InputLayer)         [(None, 23)]              0         \n",
      "_________________________________________________________________\n",
      "dense_10 (Dense)             (None, 50)                1200      \n",
      "_________________________________________________________________\n",
      "dense_11 (Dense)             (None, 3)                 153       \n",
      "=================================================================\n",
      "Total params: 1,353\n",
      "Trainable params: 1,353\n",
      "Non-trainable params: 0\n",
      "_________________________________________________________________\n"
     ]
    }
   ],
   "source": [
    "# Compile using Adam optimiser\n",
    "kf.compile(optimizer='Adam',loss='sparse_categorical_crossentropy',metrics=[\"accuracy\"])\n",
    "\n",
    "# Summary of Model\n",
    "kf.summary()"
   ]
  },
  {
   "cell_type": "markdown",
   "metadata": {},
   "source": [
    "The summary outputs the separate layers in an order (input (5), dense hidden (8), and dense output (9)).\n",
    "\n",
    "It then shows you the 'Output Shape' or nodes of each layer, which are 23, then 50, then 3 as described in the instructions.\n",
    "\n",
    "Then the free parameters are shown for each layer, in this case all parameters are free."
   ]
  },
  {
   "cell_type": "markdown",
   "metadata": {},
   "source": [
    "#### 13. Train a `Keras` neural network (1 mark)\n",
    "\n",
    "- Use the `.fit()` member method to train the network on the **training dataset** for **100 epochs** with a **batch size of 32**. Use **20% of the data for validation** and make sure to have `Keras` **shuffle** the training data between epochs. Save the fit history by doing `history_mld = .....`\n",
    "- Print the classification accuracy using the `.evaluate()` member method, for both the training and testing dataset. Comment on the results.\n",
    "- Plot val_loss and loss functions from the fit history. On the same plot, plot the sklearn curve from the excercise above. Note the sklearn NN does not provide a complementary validation loss history, so only plot the training loss.\n",
    "- Comment on the results of the overall accuracy compared to the scikit-learn method."
   ]
  },
  {
   "cell_type": "code",
   "execution_count": 169,
   "metadata": {},
   "outputs": [
    {
     "name": "stdout",
     "output_type": "stream",
     "text": [
      "Epoch 1/100\n",
      "184/184 [==============================] - 0s 1ms/step - loss: 0.9859 - accuracy: 0.4764 - val_loss: 0.7530 - val_accuracy: 0.6422\n",
      "Epoch 2/100\n",
      "184/184 [==============================] - 0s 920us/step - loss: 0.7341 - accuracy: 0.6653 - val_loss: 0.7032 - val_accuracy: 0.6701\n",
      "Epoch 3/100\n",
      "184/184 [==============================] - 0s 977us/step - loss: 0.6958 - accuracy: 0.6784 - val_loss: 0.6894 - val_accuracy: 0.6810\n",
      "Epoch 4/100\n",
      "184/184 [==============================] - 0s 891us/step - loss: 0.6950 - accuracy: 0.6838 - val_loss: 0.6844 - val_accuracy: 0.6844\n",
      "Epoch 5/100\n",
      "184/184 [==============================] - 0s 1ms/step - loss: 0.6660 - accuracy: 0.7008 - val_loss: 0.6822 - val_accuracy: 0.6844\n",
      "Epoch 6/100\n",
      "184/184 [==============================] - 0s 941us/step - loss: 0.6670 - accuracy: 0.6995 - val_loss: 0.6749 - val_accuracy: 0.6939\n",
      "Epoch 7/100\n",
      "184/184 [==============================] - 0s 1ms/step - loss: 0.6692 - accuracy: 0.6891 - val_loss: 0.6763 - val_accuracy: 0.6857\n",
      "Epoch 8/100\n",
      "184/184 [==============================] - 0s 840us/step - loss: 0.6488 - accuracy: 0.7151 - val_loss: 0.6708 - val_accuracy: 0.6905\n",
      "Epoch 9/100\n",
      "184/184 [==============================] - 0s 731us/step - loss: 0.6547 - accuracy: 0.7085 - val_loss: 0.6706 - val_accuracy: 0.6939\n",
      "Epoch 10/100\n",
      "184/184 [==============================] - 0s 712us/step - loss: 0.6422 - accuracy: 0.7158 - val_loss: 0.6699 - val_accuracy: 0.6925\n",
      "Epoch 11/100\n",
      "184/184 [==============================] - 0s 725us/step - loss: 0.6516 - accuracy: 0.7043 - val_loss: 0.6693 - val_accuracy: 0.6918\n",
      "Epoch 12/100\n",
      "184/184 [==============================] - 0s 755us/step - loss: 0.6517 - accuracy: 0.7082 - val_loss: 0.6698 - val_accuracy: 0.6912\n",
      "Epoch 13/100\n",
      "184/184 [==============================] - 0s 699us/step - loss: 0.6453 - accuracy: 0.7056 - val_loss: 0.6686 - val_accuracy: 0.6878\n",
      "Epoch 14/100\n",
      "184/184 [==============================] - 0s 725us/step - loss: 0.6363 - accuracy: 0.7163 - val_loss: 0.6701 - val_accuracy: 0.6905\n",
      "Epoch 15/100\n",
      "184/184 [==============================] - 0s 814us/step - loss: 0.6315 - accuracy: 0.7158 - val_loss: 0.6748 - val_accuracy: 0.6932\n",
      "Epoch 16/100\n",
      "184/184 [==============================] - 0s 860us/step - loss: 0.6374 - accuracy: 0.7145 - val_loss: 0.6703 - val_accuracy: 0.6884\n",
      "Epoch 17/100\n",
      "184/184 [==============================] - 0s 803us/step - loss: 0.6271 - accuracy: 0.7269 - val_loss: 0.6711 - val_accuracy: 0.6905\n",
      "Epoch 18/100\n",
      "184/184 [==============================] - 0s 716us/step - loss: 0.6203 - accuracy: 0.7300 - val_loss: 0.6723 - val_accuracy: 0.6857\n",
      "Epoch 19/100\n",
      "184/184 [==============================] - 0s 758us/step - loss: 0.6407 - accuracy: 0.7147 - val_loss: 0.6675 - val_accuracy: 0.6905\n",
      "Epoch 20/100\n",
      "184/184 [==============================] - 0s 820us/step - loss: 0.6343 - accuracy: 0.7219 - val_loss: 0.6681 - val_accuracy: 0.6966\n",
      "Epoch 21/100\n",
      "184/184 [==============================] - 0s 720us/step - loss: 0.6304 - accuracy: 0.7164 - val_loss: 0.6665 - val_accuracy: 0.6925\n",
      "Epoch 22/100\n",
      "184/184 [==============================] - 0s 726us/step - loss: 0.6270 - accuracy: 0.7204 - val_loss: 0.6693 - val_accuracy: 0.6891\n",
      "Epoch 23/100\n",
      "184/184 [==============================] - 0s 715us/step - loss: 0.6113 - accuracy: 0.7313 - val_loss: 0.6663 - val_accuracy: 0.6871\n",
      "Epoch 24/100\n",
      "184/184 [==============================] - 0s 761us/step - loss: 0.6268 - accuracy: 0.7192 - val_loss: 0.6679 - val_accuracy: 0.6884\n",
      "Epoch 25/100\n",
      "184/184 [==============================] - 0s 942us/step - loss: 0.6132 - accuracy: 0.7303 - val_loss: 0.6686 - val_accuracy: 0.6939\n",
      "Epoch 26/100\n",
      "184/184 [==============================] - 0s 825us/step - loss: 0.6249 - accuracy: 0.7274 - val_loss: 0.6681 - val_accuracy: 0.6959\n",
      "Epoch 27/100\n",
      "184/184 [==============================] - 0s 702us/step - loss: 0.6106 - accuracy: 0.7276 - val_loss: 0.6665 - val_accuracy: 0.6973\n",
      "Epoch 28/100\n",
      "184/184 [==============================] - 0s 712us/step - loss: 0.6190 - accuracy: 0.7338 - val_loss: 0.6711 - val_accuracy: 0.6925\n",
      "Epoch 29/100\n",
      "184/184 [==============================] - 0s 690us/step - loss: 0.6169 - accuracy: 0.7255 - val_loss: 0.6708 - val_accuracy: 0.6932\n",
      "Epoch 30/100\n",
      "184/184 [==============================] - 0s 704us/step - loss: 0.6077 - accuracy: 0.7286 - val_loss: 0.6720 - val_accuracy: 0.6980\n",
      "Epoch 31/100\n",
      "184/184 [==============================] - 0s 711us/step - loss: 0.6125 - accuracy: 0.7283 - val_loss: 0.6702 - val_accuracy: 0.6966\n",
      "Epoch 32/100\n",
      "184/184 [==============================] - 0s 731us/step - loss: 0.6241 - accuracy: 0.7341 - val_loss: 0.6757 - val_accuracy: 0.6932\n",
      "Epoch 33/100\n",
      "184/184 [==============================] - 0s 714us/step - loss: 0.6207 - accuracy: 0.7285 - val_loss: 0.6702 - val_accuracy: 0.6898\n",
      "Epoch 34/100\n",
      "184/184 [==============================] - 0s 690us/step - loss: 0.6085 - accuracy: 0.7303 - val_loss: 0.6720 - val_accuracy: 0.6939\n",
      "Epoch 35/100\n",
      "184/184 [==============================] - 0s 692us/step - loss: 0.5927 - accuracy: 0.7371 - val_loss: 0.6704 - val_accuracy: 0.6973\n",
      "Epoch 36/100\n",
      "184/184 [==============================] - 0s 719us/step - loss: 0.6176 - accuracy: 0.7217 - val_loss: 0.6706 - val_accuracy: 0.6925\n",
      "Epoch 37/100\n",
      "184/184 [==============================] - 0s 724us/step - loss: 0.5996 - accuracy: 0.7333 - val_loss: 0.6740 - val_accuracy: 0.6939\n",
      "Epoch 38/100\n",
      "184/184 [==============================] - 0s 732us/step - loss: 0.6068 - accuracy: 0.7263 - val_loss: 0.6695 - val_accuracy: 0.6918\n",
      "Epoch 39/100\n",
      "184/184 [==============================] - 0s 732us/step - loss: 0.6001 - accuracy: 0.7352 - val_loss: 0.6754 - val_accuracy: 0.6912\n",
      "Epoch 40/100\n",
      "184/184 [==============================] - 0s 713us/step - loss: 0.6004 - accuracy: 0.7398 - val_loss: 0.6722 - val_accuracy: 0.6912\n",
      "Epoch 41/100\n",
      "184/184 [==============================] - 0s 698us/step - loss: 0.6118 - accuracy: 0.7212 - val_loss: 0.6741 - val_accuracy: 0.6905\n",
      "Epoch 42/100\n",
      "184/184 [==============================] - 0s 710us/step - loss: 0.6046 - accuracy: 0.7285 - val_loss: 0.6715 - val_accuracy: 0.6959\n",
      "Epoch 43/100\n",
      "184/184 [==============================] - 0s 687us/step - loss: 0.6084 - accuracy: 0.7267 - val_loss: 0.6722 - val_accuracy: 0.6939\n",
      "Epoch 44/100\n",
      "184/184 [==============================] - 0s 678us/step - loss: 0.5926 - accuracy: 0.7370 - val_loss: 0.6754 - val_accuracy: 0.6912\n",
      "Epoch 45/100\n",
      "184/184 [==============================] - 0s 699us/step - loss: 0.5959 - accuracy: 0.7392 - val_loss: 0.6730 - val_accuracy: 0.6980\n",
      "Epoch 46/100\n",
      "184/184 [==============================] - 0s 702us/step - loss: 0.5888 - accuracy: 0.7403 - val_loss: 0.6717 - val_accuracy: 0.6939\n",
      "Epoch 47/100\n",
      "184/184 [==============================] - 0s 851us/step - loss: 0.6036 - accuracy: 0.7278 - val_loss: 0.6700 - val_accuracy: 0.6925\n",
      "Epoch 48/100\n",
      "184/184 [==============================] - 0s 893us/step - loss: 0.5797 - accuracy: 0.7474 - val_loss: 0.6736 - val_accuracy: 0.6973\n",
      "Epoch 49/100\n",
      "184/184 [==============================] - 0s 853us/step - loss: 0.5795 - accuracy: 0.7436 - val_loss: 0.6714 - val_accuracy: 0.6959\n",
      "Epoch 50/100\n",
      "184/184 [==============================] - 0s 878us/step - loss: 0.5992 - accuracy: 0.7371 - val_loss: 0.6734 - val_accuracy: 0.6905\n",
      "Epoch 51/100\n",
      "184/184 [==============================] - 0s 895us/step - loss: 0.5981 - accuracy: 0.7427 - val_loss: 0.6750 - val_accuracy: 0.6912\n",
      "Epoch 52/100\n",
      "184/184 [==============================] - 0s 884us/step - loss: 0.5874 - accuracy: 0.7355 - val_loss: 0.6764 - val_accuracy: 0.6925\n",
      "Epoch 53/100\n",
      "184/184 [==============================] - 0s 855us/step - loss: 0.5771 - accuracy: 0.7457 - val_loss: 0.6715 - val_accuracy: 0.6946\n",
      "Epoch 54/100\n",
      "184/184 [==============================] - 0s 843us/step - loss: 0.5937 - accuracy: 0.7337 - val_loss: 0.6717 - val_accuracy: 0.6959\n",
      "Epoch 55/100\n",
      "184/184 [==============================] - 0s 751us/step - loss: 0.6019 - accuracy: 0.7309 - val_loss: 0.6748 - val_accuracy: 0.6912\n",
      "Epoch 56/100\n",
      "184/184 [==============================] - 0s 729us/step - loss: 0.5814 - accuracy: 0.7462 - val_loss: 0.6755 - val_accuracy: 0.6946\n",
      "Epoch 57/100\n"
     ]
    },
    {
     "name": "stdout",
     "output_type": "stream",
     "text": [
      "184/184 [==============================] - 0s 728us/step - loss: 0.5676 - accuracy: 0.7535 - val_loss: 0.6775 - val_accuracy: 0.6952\n",
      "Epoch 58/100\n",
      "184/184 [==============================] - 0s 720us/step - loss: 0.5918 - accuracy: 0.7422 - val_loss: 0.6790 - val_accuracy: 0.6884\n",
      "Epoch 59/100\n",
      "184/184 [==============================] - 0s 801us/step - loss: 0.5804 - accuracy: 0.7485 - val_loss: 0.6853 - val_accuracy: 0.6837\n",
      "Epoch 60/100\n",
      "184/184 [==============================] - 0s 782us/step - loss: 0.5815 - accuracy: 0.7457 - val_loss: 0.6766 - val_accuracy: 0.6918\n",
      "Epoch 61/100\n",
      "184/184 [==============================] - 0s 731us/step - loss: 0.5808 - accuracy: 0.7435 - val_loss: 0.6718 - val_accuracy: 0.6959\n",
      "Epoch 62/100\n",
      "184/184 [==============================] - 0s 821us/step - loss: 0.5706 - accuracy: 0.7509 - val_loss: 0.6791 - val_accuracy: 0.6952\n",
      "Epoch 63/100\n",
      "184/184 [==============================] - 0s 727us/step - loss: 0.5740 - accuracy: 0.7481 - val_loss: 0.6772 - val_accuracy: 0.6959\n",
      "Epoch 64/100\n",
      "184/184 [==============================] - 0s 750us/step - loss: 0.5658 - accuracy: 0.7527 - val_loss: 0.6777 - val_accuracy: 0.6946\n",
      "Epoch 65/100\n",
      "184/184 [==============================] - 0s 732us/step - loss: 0.5858 - accuracy: 0.7389 - val_loss: 0.6764 - val_accuracy: 0.6939\n",
      "Epoch 66/100\n",
      "184/184 [==============================] - 0s 704us/step - loss: 0.5743 - accuracy: 0.7434 - val_loss: 0.6779 - val_accuracy: 0.6939\n",
      "Epoch 67/100\n",
      "184/184 [==============================] - 0s 760us/step - loss: 0.5844 - accuracy: 0.7465 - val_loss: 0.6806 - val_accuracy: 0.6912\n",
      "Epoch 68/100\n",
      "184/184 [==============================] - 0s 746us/step - loss: 0.5658 - accuracy: 0.7510 - val_loss: 0.6781 - val_accuracy: 0.6973\n",
      "Epoch 69/100\n",
      "184/184 [==============================] - 0s 818us/step - loss: 0.5816 - accuracy: 0.7445 - val_loss: 0.6847 - val_accuracy: 0.6946\n",
      "Epoch 70/100\n",
      "184/184 [==============================] - 0s 884us/step - loss: 0.5836 - accuracy: 0.7407 - val_loss: 0.6847 - val_accuracy: 0.6891\n",
      "Epoch 71/100\n",
      "184/184 [==============================] - 0s 835us/step - loss: 0.5665 - accuracy: 0.7524 - val_loss: 0.6739 - val_accuracy: 0.6952\n",
      "Epoch 72/100\n",
      "184/184 [==============================] - 0s 882us/step - loss: 0.5867 - accuracy: 0.7520 - val_loss: 0.6806 - val_accuracy: 0.6959\n",
      "Epoch 73/100\n",
      "184/184 [==============================] - 0s 738us/step - loss: 0.5838 - accuracy: 0.7399 - val_loss: 0.6793 - val_accuracy: 0.6884\n",
      "Epoch 74/100\n",
      "184/184 [==============================] - 0s 706us/step - loss: 0.5866 - accuracy: 0.7429 - val_loss: 0.6767 - val_accuracy: 0.6884\n",
      "Epoch 75/100\n",
      "184/184 [==============================] - 0s 786us/step - loss: 0.5654 - accuracy: 0.7505 - val_loss: 0.6774 - val_accuracy: 0.6973\n",
      "Epoch 76/100\n",
      "184/184 [==============================] - 0s 720us/step - loss: 0.5745 - accuracy: 0.7523 - val_loss: 0.6753 - val_accuracy: 0.6973\n",
      "Epoch 77/100\n",
      "184/184 [==============================] - 0s 682us/step - loss: 0.5842 - accuracy: 0.7484 - val_loss: 0.6767 - val_accuracy: 0.6932\n",
      "Epoch 78/100\n",
      "184/184 [==============================] - 0s 733us/step - loss: 0.5620 - accuracy: 0.7491 - val_loss: 0.6780 - val_accuracy: 0.6925\n",
      "Epoch 79/100\n",
      "184/184 [==============================] - 0s 795us/step - loss: 0.5785 - accuracy: 0.7452 - val_loss: 0.6767 - val_accuracy: 0.6932\n",
      "Epoch 80/100\n",
      "184/184 [==============================] - 0s 744us/step - loss: 0.5633 - accuracy: 0.7496 - val_loss: 0.6744 - val_accuracy: 0.6925\n",
      "Epoch 81/100\n",
      "184/184 [==============================] - 0s 811us/step - loss: 0.5747 - accuracy: 0.7448 - val_loss: 0.6791 - val_accuracy: 0.6918\n",
      "Epoch 82/100\n",
      "184/184 [==============================] - 0s 753us/step - loss: 0.5833 - accuracy: 0.7453 - val_loss: 0.6757 - val_accuracy: 0.6973\n",
      "Epoch 83/100\n",
      "184/184 [==============================] - 0s 703us/step - loss: 0.5740 - accuracy: 0.7486 - val_loss: 0.6805 - val_accuracy: 0.6905\n",
      "Epoch 84/100\n",
      "184/184 [==============================] - 0s 754us/step - loss: 0.5596 - accuracy: 0.7574 - val_loss: 0.6781 - val_accuracy: 0.7007\n",
      "Epoch 85/100\n",
      "184/184 [==============================] - 0s 789us/step - loss: 0.5471 - accuracy: 0.7593 - val_loss: 0.6783 - val_accuracy: 0.6959\n",
      "Epoch 86/100\n",
      "184/184 [==============================] - 0s 729us/step - loss: 0.5559 - accuracy: 0.7560 - val_loss: 0.6814 - val_accuracy: 0.6939\n",
      "Epoch 87/100\n",
      "184/184 [==============================] - 0s 742us/step - loss: 0.5529 - accuracy: 0.7636 - val_loss: 0.6835 - val_accuracy: 0.6898\n",
      "Epoch 88/100\n",
      "184/184 [==============================] - 0s 741us/step - loss: 0.5529 - accuracy: 0.7617 - val_loss: 0.6814 - val_accuracy: 0.6959\n",
      "Epoch 89/100\n",
      "184/184 [==============================] - 0s 703us/step - loss: 0.5712 - accuracy: 0.7535 - val_loss: 0.6819 - val_accuracy: 0.6898\n",
      "Epoch 90/100\n",
      "184/184 [==============================] - 0s 781us/step - loss: 0.5573 - accuracy: 0.7675 - val_loss: 0.6841 - val_accuracy: 0.6959\n",
      "Epoch 91/100\n",
      "184/184 [==============================] - 0s 750us/step - loss: 0.5731 - accuracy: 0.7544 - val_loss: 0.6796 - val_accuracy: 0.6925\n",
      "Epoch 92/100\n",
      "184/184 [==============================] - 0s 724us/step - loss: 0.5610 - accuracy: 0.7638 - val_loss: 0.6829 - val_accuracy: 0.6891\n",
      "Epoch 93/100\n",
      "184/184 [==============================] - 0s 713us/step - loss: 0.5654 - accuracy: 0.7540 - val_loss: 0.6797 - val_accuracy: 0.6932\n",
      "Epoch 94/100\n",
      "184/184 [==============================] - 0s 709us/step - loss: 0.5777 - accuracy: 0.7507 - val_loss: 0.6811 - val_accuracy: 0.6925\n",
      "Epoch 95/100\n",
      "184/184 [==============================] - 0s 780us/step - loss: 0.5595 - accuracy: 0.7545 - val_loss: 0.6799 - val_accuracy: 0.6966\n",
      "Epoch 96/100\n",
      "184/184 [==============================] - 0s 804us/step - loss: 0.5505 - accuracy: 0.7523 - val_loss: 0.6803 - val_accuracy: 0.6966\n",
      "Epoch 97/100\n",
      "184/184 [==============================] - 0s 745us/step - loss: 0.5523 - accuracy: 0.7566 - val_loss: 0.6783 - val_accuracy: 0.6952\n",
      "Epoch 98/100\n",
      "184/184 [==============================] - 0s 698us/step - loss: 0.5499 - accuracy: 0.7597 - val_loss: 0.6818 - val_accuracy: 0.6959\n",
      "Epoch 99/100\n",
      "184/184 [==============================] - 0s 711us/step - loss: 0.5687 - accuracy: 0.7578 - val_loss: 0.6817 - val_accuracy: 0.6952\n",
      "Epoch 100/100\n",
      "184/184 [==============================] - 0s 758us/step - loss: 0.5693 - accuracy: 0.7510 - val_loss: 0.6830 - val_accuracy: 0.6952\n"
     ]
    }
   ],
   "source": [
    "# Fitting Keras using instructions above, and save to kff\n",
    "kff = kf.fit(Xs_train,ys_train, epochs = 100, batch_size = 32, validation_split = 0.2, shuffle = True)"
   ]
  },
  {
   "cell_type": "code",
   "execution_count": 170,
   "metadata": {},
   "outputs": [
    {
     "name": "stdout",
     "output_type": "stream",
     "text": [
      "Test Data Accuracy & Loss\n",
      "99/99 [==============================] - 0s 557us/step - loss: 0.6889 - accuracy: 0.6930\n",
      "\n",
      "\n",
      "Training Data Accuracy & Loss\n",
      "230/230 [==============================] - 0s 431us/step - loss: 0.5796 - accuracy: 0.7472\n"
     ]
    }
   ],
   "source": [
    "# Print classification accuracy and loss (comes within the evaluate)\n",
    "print(\"Test Data Accuracy & Loss\")\n",
    "stest_results = kf.evaluate(Xs_test,ys_test)\n",
    "\n",
    "print(\"\\n\")\n",
    "print(\"Training Data Accuracy & Loss\")\n",
    "strain_results = kf.evaluate(Xs_train,ys_train)\n"
   ]
  },
  {
   "cell_type": "code",
   "execution_count": 171,
   "metadata": {},
   "outputs": [
    {
     "data": {
      "image/png": "[encoded data removed]",
      "text/plain": [
       "<Figure size 432x288 with 1 Axes>"
      ]
     },
     "metadata": {
      "needs_background": "light"
     },
     "output_type": "display_data"
    }
   ],
   "source": [
    "#print(kff.history)\n",
    "# \n",
    "epochs = np.linspace(0,99,100)\n",
    "plt.xlabel(\"No. of Epochs\")\n",
    "plt.ylabel(\"Loss values\")\n",
    "plt.title(\"Loss Curve with Epochs for sklearn and Keras\")\n",
    "plt.plot(epochs,clf.loss_curve_, label = 'sklearn loss')\n",
    "plt.plot(epochs,kff.history['loss'], label = 'Keras Loss')\n",
    "plt.plot(epochs,kff.history['val_loss'], label = 'Keras Validation Loss')\n",
    "plt.legend()\n",
    "plt.show()"
   ]
  },
  {
   "cell_type": "markdown",
   "metadata": {},
   "source": [
    "While the sklearn and Keras loss are quite similar over the 100 epochs, with Keras even slightly outperforming sklearn, the validation loss demonstrates that what is most likely occurring beyond 5 or so epochs is purely overfitting as the loss flattens out and even increases for out test values."
   ]
  },
  {
   "cell_type": "markdown",
   "metadata": {},
   "source": [
    "## 5. Regularisation (1.5 marks)\n",
    "---\n",
    "This section covers **2** exercises on the impact of weight regularisaton. Note that $L_{1}$- and $L_{2}$-regularisation may also be applied to the activation of intermediate layers. Also, a similar regularising effect could be achieved using **dropout** regularisation, which you are encouraged to try out, but which we won't study in this CP exercise."
   ]
  },
  {
   "cell_type": "code",
   "execution_count": 183,
   "metadata": {},
   "outputs": [],
   "source": [
    "# Relevant import(s) for this section\n",
    "from tensorflow.python.keras.regularizers import l1_l2"
   ]
  },
  {
   "cell_type": "markdown",
   "metadata": {},
   "source": [
    "#### 14. Define `Keras` model factory method (0.5 mark)\n",
    "\n",
    "- Define a python function called `big_model_fn` which takes the followng three arguments:\n",
    "    - `l1`: A float specifying the $L_{1}$ regularisation factor (default value: 0)\n",
    "    - `l2`: A float specifying the $L_{2}$ regularisation factor (default value: 0)\n",
    "    - `name`: A string, specifying the name of the model (default value: None)\n",
    "- Indside the function, you should:\n",
    "    - Construct a `Keras` model using the functional API, which has:\n",
    "        - An input layer with the same number of nodes as the number of features in `X`.\n",
    "        - **Two** densely connected hidden layer with **100 nodes** each, both equipped with **ReLU activation**.\n",
    "        - Both hidden layers should be subject to kernel regularisation (_i.e._ weight regularisation) with the regularisation factors specified as an input.\n",
    "        - A densely connected output layer with **3 nodes** (the number of types of weather we're classifying) equipped with **softmax activation**.\n",
    "        - A name given by the corresponding argument.\n",
    "    - Compile the model in the same way as in **Exercise 14.**\n",
    "- The function should return the compiled `Keras` model. \n",
    "\n",
    "The method will provide a convenient way of constructing and compiling a number of \"big\"/deep `Keras` models which differ only by their regularisation and name."
   ]
  },
  {
   "cell_type": "code",
   "execution_count": 186,
   "metadata": {},
   "outputs": [],
   "source": [
    "def big_model_fn(l1 = 0,l2 = 0,name = \"None\"):\n",
    "    \n",
    "    # Create keras model\n",
    "    binput = Input(shape=(Xs_train.shape[1],))\n",
    "    layer1 = Dense(100, activation='relu',kernel_regularizer = l1_l2(l1=l1,l2=l2))(binput)\n",
    "    layer2 = Dense(100, activation='relu',kernel_regularizer = l1_l2(l1=l1,l2=l2))(layer1)\n",
    "    output = Dense(3,activation='softmax')(layer2)\n",
    "    kf = Model(inputs=binput, outputs=output,name=name)\n",
    "    \n",
    "    # Compile using Adam optimiser\n",
    "    kf.compile(optimizer='Adam',loss='sparse_categorical_crossentropy',metrics=[\"accuracy\"])\n",
    "    return kf"
   ]
  },
  {
   "cell_type": "markdown",
   "metadata": {},
   "source": [
    "#### 15. Train \"big\" models with and without regularisation (1 mark)\n",
    "\n",
    "- Construct three \"big\" model using the factory method:\n",
    "     - One with default parameters\n",
    "     - One with `l1=0.0003` and  `name='Big model (L1-regularised)'`\n",
    "     - One with `l2=0.003`  and `name='Big model (L2-regularised)'`\n",
    "- Train each one as in **Exercise 15.**\n",
    "- Compare first the loss history of the un-regularised \"big\" model to that of the small model from **Exercise 15** using the `plot.loss()` method.\n",
    "- Then, compare the loss histories of all three \"big\" models with that of the small model.\n",
    "- Plot the loss and val loss of all 4 models and discuss the results. Target these points:\n",
    "    - Compare the performance of deep vs shallow models on the testing sets\n",
    "    - Compare the level of ovetraining (training vs testing loss)\n",
    "    - Note: Don't be alarmed if the shallow network performs slightly better that the deeper ones, this is dataset dependant."
   ]
  },
  {
   "cell_type": "code",
   "execution_count": 192,
   "metadata": {},
   "outputs": [],
   "source": [
    "# One model with default parameters\n",
    "model1 = big_model_fn()\n",
    "\n",
    "# One model with l1 = 0.0003\n",
    "model2 = big_model_fn(0.0003,0,'Big_model_L1_regularised')\n",
    "\n",
    "# One model with l2 = 0.003\n",
    "model3 = big_model_fn(0.003,0,'Big_model_L1_regularised')\n",
    "\n"
   ]
  },
  {
   "cell_type": "code",
   "execution_count": 193,
   "metadata": {},
   "outputs": [
    {
     "name": "stdout",
     "output_type": "stream",
     "text": [
      "Epoch 1/100\n",
      "184/184 [==============================] - 0s 1ms/step - loss: 0.8739 - accuracy: 0.5712 - val_loss: 0.7009 - val_accuracy: 0.6735\n",
      "Epoch 2/100\n",
      "184/184 [==============================] - 0s 940us/step - loss: 0.6742 - accuracy: 0.6884 - val_loss: 0.6772 - val_accuracy: 0.6850\n",
      "Epoch 3/100\n",
      "184/184 [==============================] - 0s 976us/step - loss: 0.6559 - accuracy: 0.6926 - val_loss: 0.6656 - val_accuracy: 0.7014\n",
      "Epoch 4/100\n",
      "184/184 [==============================] - 0s 1ms/step - loss: 0.6549 - accuracy: 0.7039 - val_loss: 0.6762 - val_accuracy: 0.6918\n",
      "Epoch 5/100\n",
      "184/184 [==============================] - 0s 1ms/step - loss: 0.6232 - accuracy: 0.7245 - val_loss: 0.6621 - val_accuracy: 0.6986\n",
      "Epoch 6/100\n",
      "184/184 [==============================] - 0s 921us/step - loss: 0.6173 - accuracy: 0.7245 - val_loss: 0.6587 - val_accuracy: 0.7027\n",
      "Epoch 7/100\n",
      "184/184 [==============================] - 0s 906us/step - loss: 0.6168 - accuracy: 0.7211 - val_loss: 0.6610 - val_accuracy: 0.7007\n",
      "Epoch 8/100\n",
      "184/184 [==============================] - 0s 855us/step - loss: 0.5908 - accuracy: 0.7457 - val_loss: 0.6568 - val_accuracy: 0.7000\n",
      "Epoch 9/100\n",
      "184/184 [==============================] - 0s 862us/step - loss: 0.5966 - accuracy: 0.7384 - val_loss: 0.6583 - val_accuracy: 0.7129\n",
      "Epoch 10/100\n",
      "184/184 [==============================] - 0s 873us/step - loss: 0.5706 - accuracy: 0.7582 - val_loss: 0.6601 - val_accuracy: 0.7041\n",
      "Epoch 11/100\n",
      "184/184 [==============================] - 0s 873us/step - loss: 0.5805 - accuracy: 0.7410 - val_loss: 0.6620 - val_accuracy: 0.7027\n",
      "Epoch 12/100\n",
      "184/184 [==============================] - 0s 854us/step - loss: 0.5777 - accuracy: 0.7504 - val_loss: 0.6620 - val_accuracy: 0.7034\n",
      "Epoch 13/100\n",
      "184/184 [==============================] - 0s 864us/step - loss: 0.5604 - accuracy: 0.7509 - val_loss: 0.6780 - val_accuracy: 0.7007\n",
      "Epoch 14/100\n",
      "184/184 [==============================] - 0s 846us/step - loss: 0.5624 - accuracy: 0.7512 - val_loss: 0.6842 - val_accuracy: 0.6952\n",
      "Epoch 15/100\n",
      "184/184 [==============================] - 0s 877us/step - loss: 0.5432 - accuracy: 0.7707 - val_loss: 0.6749 - val_accuracy: 0.7007\n",
      "Epoch 16/100\n",
      "184/184 [==============================] - 0s 1ms/step - loss: 0.5424 - accuracy: 0.7673 - val_loss: 0.6712 - val_accuracy: 0.6973\n",
      "Epoch 17/100\n",
      "184/184 [==============================] - 0s 1ms/step - loss: 0.5276 - accuracy: 0.7793 - val_loss: 0.6809 - val_accuracy: 0.6939\n",
      "Epoch 18/100\n",
      "184/184 [==============================] - 0s 940us/step - loss: 0.5308 - accuracy: 0.7768 - val_loss: 0.6851 - val_accuracy: 0.6857\n",
      "Epoch 19/100\n",
      "184/184 [==============================] - 0s 865us/step - loss: 0.5326 - accuracy: 0.7800 - val_loss: 0.7105 - val_accuracy: 0.6714\n",
      "Epoch 20/100\n",
      "184/184 [==============================] - 0s 1ms/step - loss: 0.5273 - accuracy: 0.7747 - val_loss: 0.6783 - val_accuracy: 0.6986\n",
      "Epoch 21/100\n",
      "184/184 [==============================] - 0s 1ms/step - loss: 0.5181 - accuracy: 0.7782 - val_loss: 0.6913 - val_accuracy: 0.6891\n",
      "Epoch 22/100\n",
      "184/184 [==============================] - 0s 1ms/step - loss: 0.5192 - accuracy: 0.7776 - val_loss: 0.6754 - val_accuracy: 0.6973\n",
      "Epoch 23/100\n",
      "184/184 [==============================] - 0s 808us/step - loss: 0.4851 - accuracy: 0.7972 - val_loss: 0.7084 - val_accuracy: 0.6932\n",
      "Epoch 24/100\n",
      "184/184 [==============================] - 0s 732us/step - loss: 0.4949 - accuracy: 0.7854 - val_loss: 0.6866 - val_accuracy: 0.6932\n",
      "Epoch 25/100\n",
      "184/184 [==============================] - 0s 733us/step - loss: 0.4795 - accuracy: 0.8002 - val_loss: 0.6937 - val_accuracy: 0.6946\n",
      "Epoch 26/100\n",
      "184/184 [==============================] - 0s 712us/step - loss: 0.4856 - accuracy: 0.7907 - val_loss: 0.6963 - val_accuracy: 0.6810\n",
      "Epoch 27/100\n",
      "184/184 [==============================] - 0s 711us/step - loss: 0.4605 - accuracy: 0.8088 - val_loss: 0.6953 - val_accuracy: 0.6939\n",
      "Epoch 28/100\n",
      "184/184 [==============================] - 0s 741us/step - loss: 0.4666 - accuracy: 0.8090 - val_loss: 0.6913 - val_accuracy: 0.6891\n",
      "Epoch 29/100\n",
      "184/184 [==============================] - 0s 742us/step - loss: 0.4658 - accuracy: 0.8037 - val_loss: 0.6939 - val_accuracy: 0.6993\n",
      "Epoch 30/100\n",
      "184/184 [==============================] - 0s 771us/step - loss: 0.4590 - accuracy: 0.8066 - val_loss: 0.7013 - val_accuracy: 0.6884\n",
      "Epoch 31/100\n",
      "184/184 [==============================] - 0s 728us/step - loss: 0.4533 - accuracy: 0.8080 - val_loss: 0.7050 - val_accuracy: 0.6966\n",
      "Epoch 32/100\n",
      "184/184 [==============================] - 0s 706us/step - loss: 0.4458 - accuracy: 0.8185 - val_loss: 0.7359 - val_accuracy: 0.6884\n",
      "Epoch 33/100\n",
      "184/184 [==============================] - 0s 710us/step - loss: 0.4472 - accuracy: 0.8180 - val_loss: 0.7052 - val_accuracy: 0.6878\n",
      "Epoch 34/100\n",
      "184/184 [==============================] - 0s 694us/step - loss: 0.4316 - accuracy: 0.8154 - val_loss: 0.7258 - val_accuracy: 0.7048\n",
      "Epoch 35/100\n",
      "184/184 [==============================] - 0s 700us/step - loss: 0.4162 - accuracy: 0.8289 - val_loss: 0.7222 - val_accuracy: 0.6871\n",
      "Epoch 36/100\n",
      "184/184 [==============================] - 0s 702us/step - loss: 0.4301 - accuracy: 0.8212 - val_loss: 0.7394 - val_accuracy: 0.6946\n",
      "Epoch 37/100\n",
      "184/184 [==============================] - 0s 733us/step - loss: 0.4052 - accuracy: 0.8346 - val_loss: 0.7295 - val_accuracy: 0.6871\n",
      "Epoch 38/100\n",
      "184/184 [==============================] - 0s 736us/step - loss: 0.4173 - accuracy: 0.8324 - val_loss: 0.7280 - val_accuracy: 0.6932\n",
      "Epoch 39/100\n",
      "184/184 [==============================] - 0s 714us/step - loss: 0.4007 - accuracy: 0.8367 - val_loss: 0.7466 - val_accuracy: 0.6871\n",
      "Epoch 40/100\n",
      "184/184 [==============================] - 0s 732us/step - loss: 0.4001 - accuracy: 0.8367 - val_loss: 0.7358 - val_accuracy: 0.6850\n",
      "Epoch 41/100\n",
      "184/184 [==============================] - 0s 764us/step - loss: 0.4020 - accuracy: 0.8337 - val_loss: 0.7645 - val_accuracy: 0.7014\n",
      "Epoch 42/100\n",
      "184/184 [==============================] - 0s 830us/step - loss: 0.3948 - accuracy: 0.8428 - val_loss: 0.7520 - val_accuracy: 0.6912\n",
      "Epoch 43/100\n",
      "184/184 [==============================] - 0s 813us/step - loss: 0.3984 - accuracy: 0.8386 - val_loss: 0.7503 - val_accuracy: 0.6946\n",
      "Epoch 44/100\n",
      "184/184 [==============================] - 0s 819us/step - loss: 0.3740 - accuracy: 0.8569 - val_loss: 0.7819 - val_accuracy: 0.6789\n",
      "Epoch 45/100\n",
      "184/184 [==============================] - 0s 834us/step - loss: 0.3827 - accuracy: 0.8437 - val_loss: 0.7767 - val_accuracy: 0.6939\n",
      "Epoch 46/100\n",
      "184/184 [==============================] - 0s 803us/step - loss: 0.3625 - accuracy: 0.8533 - val_loss: 0.7858 - val_accuracy: 0.6803\n",
      "Epoch 47/100\n",
      "184/184 [==============================] - 0s 722us/step - loss: 0.3795 - accuracy: 0.8544 - val_loss: 0.7839 - val_accuracy: 0.6755\n",
      "Epoch 48/100\n",
      "184/184 [==============================] - 0s 714us/step - loss: 0.3573 - accuracy: 0.8696 - val_loss: 0.7710 - val_accuracy: 0.6884\n",
      "Epoch 49/100\n",
      "184/184 [==============================] - 0s 734us/step - loss: 0.3472 - accuracy: 0.8582 - val_loss: 0.7890 - val_accuracy: 0.6803\n",
      "Epoch 50/100\n",
      "184/184 [==============================] - 0s 706us/step - loss: 0.3593 - accuracy: 0.8572 - val_loss: 0.8062 - val_accuracy: 0.6844\n",
      "Epoch 51/100\n",
      "184/184 [==============================] - 0s 733us/step - loss: 0.3332 - accuracy: 0.8651 - val_loss: 0.8016 - val_accuracy: 0.6823\n",
      "Epoch 52/100\n",
      "184/184 [==============================] - 0s 711us/step - loss: 0.3433 - accuracy: 0.8666 - val_loss: 0.8058 - val_accuracy: 0.6776\n",
      "Epoch 53/100\n",
      "184/184 [==============================] - 0s 720us/step - loss: 0.3345 - accuracy: 0.8716 - val_loss: 0.7860 - val_accuracy: 0.6796\n",
      "Epoch 54/100\n",
      "184/184 [==============================] - 0s 727us/step - loss: 0.3352 - accuracy: 0.8678 - val_loss: 0.8191 - val_accuracy: 0.6864\n",
      "Epoch 55/100\n",
      "184/184 [==============================] - 0s 700us/step - loss: 0.3394 - accuracy: 0.8704 - val_loss: 0.8217 - val_accuracy: 0.6803\n",
      "Epoch 56/100\n",
      "184/184 [==============================] - 0s 710us/step - loss: 0.3160 - accuracy: 0.8777 - val_loss: 0.8313 - val_accuracy: 0.6714\n",
      "Epoch 57/100\n"
     ]
    },
    {
     "name": "stdout",
     "output_type": "stream",
     "text": [
      "184/184 [==============================] - 0s 732us/step - loss: 0.3124 - accuracy: 0.8811 - val_loss: 0.8286 - val_accuracy: 0.6755\n",
      "Epoch 58/100\n",
      "184/184 [==============================] - 0s 714us/step - loss: 0.3292 - accuracy: 0.8696 - val_loss: 0.8659 - val_accuracy: 0.6776\n",
      "Epoch 59/100\n",
      "184/184 [==============================] - 0s 701us/step - loss: 0.3168 - accuracy: 0.8780 - val_loss: 0.8425 - val_accuracy: 0.6714\n",
      "Epoch 60/100\n",
      "184/184 [==============================] - 0s 737us/step - loss: 0.3066 - accuracy: 0.8817 - val_loss: 0.8554 - val_accuracy: 0.6748\n",
      "Epoch 61/100\n",
      "184/184 [==============================] - 0s 768us/step - loss: 0.3148 - accuracy: 0.8783 - val_loss: 0.8477 - val_accuracy: 0.6830\n",
      "Epoch 62/100\n",
      "184/184 [==============================] - 0s 728us/step - loss: 0.2993 - accuracy: 0.8834 - val_loss: 0.8685 - val_accuracy: 0.6769\n",
      "Epoch 63/100\n",
      "184/184 [==============================] - 0s 743us/step - loss: 0.2921 - accuracy: 0.8890 - val_loss: 0.8627 - val_accuracy: 0.6707\n",
      "Epoch 64/100\n",
      "184/184 [==============================] - 0s 706us/step - loss: 0.2849 - accuracy: 0.8895 - val_loss: 0.8743 - val_accuracy: 0.6721\n",
      "Epoch 65/100\n",
      "184/184 [==============================] - 0s 708us/step - loss: 0.2908 - accuracy: 0.8870 - val_loss: 0.8806 - val_accuracy: 0.6789\n",
      "Epoch 66/100\n",
      "184/184 [==============================] - 0s 741us/step - loss: 0.2848 - accuracy: 0.8882 - val_loss: 0.8953 - val_accuracy: 0.6830\n",
      "Epoch 67/100\n",
      "184/184 [==============================] - 0s 722us/step - loss: 0.2830 - accuracy: 0.8869 - val_loss: 0.9045 - val_accuracy: 0.6776\n",
      "Epoch 68/100\n",
      "184/184 [==============================] - 0s 739us/step - loss: 0.2733 - accuracy: 0.9008 - val_loss: 0.9079 - val_accuracy: 0.6687\n",
      "Epoch 69/100\n",
      "184/184 [==============================] - 0s 711us/step - loss: 0.2721 - accuracy: 0.8983 - val_loss: 0.9172 - val_accuracy: 0.6769\n",
      "Epoch 70/100\n",
      "184/184 [==============================] - 0s 708us/step - loss: 0.2801 - accuracy: 0.8874 - val_loss: 0.9316 - val_accuracy: 0.6707\n",
      "Epoch 71/100\n",
      "184/184 [==============================] - 0s 741us/step - loss: 0.2693 - accuracy: 0.8935 - val_loss: 0.9135 - val_accuracy: 0.6633\n",
      "Epoch 72/100\n",
      "184/184 [==============================] - 0s 712us/step - loss: 0.2740 - accuracy: 0.8926 - val_loss: 0.9283 - val_accuracy: 0.6721\n",
      "Epoch 73/100\n",
      "184/184 [==============================] - 0s 904us/step - loss: 0.2666 - accuracy: 0.9020 - val_loss: 0.9468 - val_accuracy: 0.6803\n",
      "Epoch 74/100\n",
      "184/184 [==============================] - 0s 749us/step - loss: 0.2656 - accuracy: 0.8985 - val_loss: 0.9453 - val_accuracy: 0.6776\n",
      "Epoch 75/100\n",
      "184/184 [==============================] - 0s 861us/step - loss: 0.2505 - accuracy: 0.9084 - val_loss: 0.9483 - val_accuracy: 0.6653\n",
      "Epoch 76/100\n",
      "184/184 [==============================] - 0s 890us/step - loss: 0.2501 - accuracy: 0.9092 - val_loss: 0.9611 - val_accuracy: 0.6565\n",
      "Epoch 77/100\n",
      "184/184 [==============================] - 0s 796us/step - loss: 0.2460 - accuracy: 0.9151 - val_loss: 0.9486 - val_accuracy: 0.6721\n",
      "Epoch 78/100\n",
      "184/184 [==============================] - 0s 807us/step - loss: 0.2285 - accuracy: 0.9196 - val_loss: 0.9790 - val_accuracy: 0.6755\n",
      "Epoch 79/100\n",
      "184/184 [==============================] - 0s 871us/step - loss: 0.2560 - accuracy: 0.9045 - val_loss: 0.9711 - val_accuracy: 0.6646\n",
      "Epoch 80/100\n",
      "184/184 [==============================] - 0s 834us/step - loss: 0.2281 - accuracy: 0.9182 - val_loss: 0.9742 - val_accuracy: 0.6728\n",
      "Epoch 81/100\n",
      "184/184 [==============================] - 0s 834us/step - loss: 0.2418 - accuracy: 0.9147 - val_loss: 0.9913 - val_accuracy: 0.6673\n",
      "Epoch 82/100\n",
      "184/184 [==============================] - 0s 790us/step - loss: 0.2320 - accuracy: 0.9150 - val_loss: 0.9908 - val_accuracy: 0.6816\n",
      "Epoch 83/100\n",
      "184/184 [==============================] - 0s 830us/step - loss: 0.2240 - accuracy: 0.9200 - val_loss: 1.0092 - val_accuracy: 0.6755\n",
      "Epoch 84/100\n",
      "184/184 [==============================] - 0s 827us/step - loss: 0.2314 - accuracy: 0.9086 - val_loss: 1.0189 - val_accuracy: 0.6782\n",
      "Epoch 85/100\n",
      "184/184 [==============================] - 0s 840us/step - loss: 0.2209 - accuracy: 0.9216 - val_loss: 1.0293 - val_accuracy: 0.6673\n",
      "Epoch 86/100\n",
      "184/184 [==============================] - 0s 958us/step - loss: 0.2189 - accuracy: 0.9193 - val_loss: 1.0618 - val_accuracy: 0.6646\n",
      "Epoch 87/100\n",
      "184/184 [==============================] - 0s 855us/step - loss: 0.2123 - accuracy: 0.9201 - val_loss: 1.0367 - val_accuracy: 0.6728\n",
      "Epoch 88/100\n",
      "184/184 [==============================] - 0s 919us/step - loss: 0.2077 - accuracy: 0.9259 - val_loss: 1.0589 - val_accuracy: 0.6599\n",
      "Epoch 89/100\n",
      "184/184 [==============================] - 0s 781us/step - loss: 0.2088 - accuracy: 0.9290 - val_loss: 1.0676 - val_accuracy: 0.6660\n",
      "Epoch 90/100\n",
      "184/184 [==============================] - 0s 826us/step - loss: 0.2084 - accuracy: 0.9214 - val_loss: 1.0841 - val_accuracy: 0.6776\n",
      "Epoch 91/100\n",
      "184/184 [==============================] - 0s 805us/step - loss: 0.2025 - accuracy: 0.9344 - val_loss: 1.0625 - val_accuracy: 0.6707\n",
      "Epoch 92/100\n",
      "184/184 [==============================] - 0s 893us/step - loss: 0.2015 - accuracy: 0.9273 - val_loss: 1.0671 - val_accuracy: 0.6578\n",
      "Epoch 93/100\n",
      "184/184 [==============================] - 0s 860us/step - loss: 0.2135 - accuracy: 0.9216 - val_loss: 1.1382 - val_accuracy: 0.6721\n",
      "Epoch 94/100\n",
      "184/184 [==============================] - 0s 975us/step - loss: 0.2056 - accuracy: 0.9271 - val_loss: 1.0978 - val_accuracy: 0.6755\n",
      "Epoch 95/100\n",
      "184/184 [==============================] - 0s 954us/step - loss: 0.1810 - accuracy: 0.9391 - val_loss: 1.1217 - val_accuracy: 0.6626\n",
      "Epoch 96/100\n",
      "184/184 [==============================] - 0s 1ms/step - loss: 0.1835 - accuracy: 0.9377 - val_loss: 1.1146 - val_accuracy: 0.6687\n",
      "Epoch 97/100\n",
      "184/184 [==============================] - 0s 1ms/step - loss: 0.1855 - accuracy: 0.9337 - val_loss: 1.1041 - val_accuracy: 0.6701\n",
      "Epoch 98/100\n",
      "184/184 [==============================] - 0s 959us/step - loss: 0.1793 - accuracy: 0.9399 - val_loss: 1.1101 - val_accuracy: 0.6707\n",
      "Epoch 99/100\n",
      "184/184 [==============================] - 0s 814us/step - loss: 0.1890 - accuracy: 0.9352 - val_loss: 1.1835 - val_accuracy: 0.6755\n",
      "Epoch 100/100\n",
      "184/184 [==============================] - 0s 773us/step - loss: 0.2041 - accuracy: 0.9202 - val_loss: 1.1641 - val_accuracy: 0.6639\n",
      "Epoch 1/100\n",
      "184/184 [==============================] - 0s 1ms/step - loss: 1.1503 - accuracy: 0.6015 - val_loss: 0.9711 - val_accuracy: 0.6673\n",
      "Epoch 2/100\n",
      "184/184 [==============================] - 0s 776us/step - loss: 0.9258 - accuracy: 0.6851 - val_loss: 0.8934 - val_accuracy: 0.6939\n",
      "Epoch 3/100\n",
      "184/184 [==============================] - 0s 720us/step - loss: 0.8695 - accuracy: 0.6914 - val_loss: 0.8463 - val_accuracy: 0.6946\n",
      "Epoch 4/100\n",
      "184/184 [==============================] - 0s 735us/step - loss: 0.8408 - accuracy: 0.6953 - val_loss: 0.8292 - val_accuracy: 0.6966\n",
      "Epoch 5/100\n",
      "184/184 [==============================] - 0s 736us/step - loss: 0.7913 - accuracy: 0.7077 - val_loss: 0.7961 - val_accuracy: 0.6952\n",
      "Epoch 6/100\n",
      "184/184 [==============================] - 0s 864us/step - loss: 0.7754 - accuracy: 0.7055 - val_loss: 0.7785 - val_accuracy: 0.6966\n",
      "Epoch 7/100\n",
      "184/184 [==============================] - 0s 818us/step - loss: 0.7675 - accuracy: 0.7045 - val_loss: 0.7708 - val_accuracy: 0.7007\n",
      "Epoch 8/100\n",
      "184/184 [==============================] - 0s 983us/step - loss: 0.7367 - accuracy: 0.7221 - val_loss: 0.7537 - val_accuracy: 0.6959\n",
      "Epoch 9/100\n",
      "184/184 [==============================] - 0s 905us/step - loss: 0.7387 - accuracy: 0.7043 - val_loss: 0.7504 - val_accuracy: 0.7041\n",
      "Epoch 10/100\n",
      "184/184 [==============================] - 0s 975us/step - loss: 0.7159 - accuracy: 0.7194 - val_loss: 0.7443 - val_accuracy: 0.7014\n",
      "Epoch 11/100\n",
      "184/184 [==============================] - 0s 966us/step - loss: 0.7259 - accuracy: 0.7040 - val_loss: 0.7397 - val_accuracy: 0.7041\n",
      "Epoch 12/100\n",
      "184/184 [==============================] - 0s 862us/step - loss: 0.7246 - accuracy: 0.7078 - val_loss: 0.7387 - val_accuracy: 0.6993\n",
      "Epoch 13/100\n"
     ]
    },
    {
     "name": "stdout",
     "output_type": "stream",
     "text": [
      "184/184 [==============================] - 0s 858us/step - loss: 0.7129 - accuracy: 0.7082 - val_loss: 0.7397 - val_accuracy: 0.7007\n",
      "Epoch 14/100\n",
      "184/184 [==============================] - 0s 918us/step - loss: 0.7126 - accuracy: 0.7051 - val_loss: 0.7461 - val_accuracy: 0.7027\n",
      "Epoch 15/100\n",
      "184/184 [==============================] - 0s 893us/step - loss: 0.6968 - accuracy: 0.7252 - val_loss: 0.7364 - val_accuracy: 0.7000\n",
      "Epoch 16/100\n",
      "184/184 [==============================] - 0s 1ms/step - loss: 0.7018 - accuracy: 0.7179 - val_loss: 0.7222 - val_accuracy: 0.7082\n",
      "Epoch 17/100\n",
      "184/184 [==============================] - 0s 857us/step - loss: 0.6919 - accuracy: 0.7183 - val_loss: 0.7252 - val_accuracy: 0.7048\n",
      "Epoch 18/100\n",
      "184/184 [==============================] - 0s 1ms/step - loss: 0.6847 - accuracy: 0.7273 - val_loss: 0.7314 - val_accuracy: 0.6932\n",
      "Epoch 19/100\n",
      "184/184 [==============================] - 0s 881us/step - loss: 0.7006 - accuracy: 0.7249 - val_loss: 0.7371 - val_accuracy: 0.6952\n",
      "Epoch 20/100\n",
      "184/184 [==============================] - 0s 1ms/step - loss: 0.6933 - accuracy: 0.7251 - val_loss: 0.7244 - val_accuracy: 0.7014\n",
      "Epoch 21/100\n",
      "184/184 [==============================] - 0s 888us/step - loss: 0.6902 - accuracy: 0.7187 - val_loss: 0.7131 - val_accuracy: 0.7075\n",
      "Epoch 22/100\n",
      "184/184 [==============================] - 0s 1ms/step - loss: 0.6870 - accuracy: 0.7233 - val_loss: 0.7092 - val_accuracy: 0.7116\n",
      "Epoch 23/100\n",
      "184/184 [==============================] - 0s 829us/step - loss: 0.6669 - accuracy: 0.7341 - val_loss: 0.7186 - val_accuracy: 0.7048\n",
      "Epoch 24/100\n",
      "184/184 [==============================] - 0s 1ms/step - loss: 0.6873 - accuracy: 0.7169 - val_loss: 0.7122 - val_accuracy: 0.7041\n",
      "Epoch 25/100\n",
      "184/184 [==============================] - 0s 1ms/step - loss: 0.6690 - accuracy: 0.7236 - val_loss: 0.7132 - val_accuracy: 0.7048\n",
      "Epoch 26/100\n",
      "184/184 [==============================] - 0s 940us/step - loss: 0.6796 - accuracy: 0.7207 - val_loss: 0.7089 - val_accuracy: 0.7054\n",
      "Epoch 27/100\n",
      "184/184 [==============================] - 0s 977us/step - loss: 0.6648 - accuracy: 0.7282 - val_loss: 0.7090 - val_accuracy: 0.7034\n",
      "Epoch 28/100\n",
      "184/184 [==============================] - 0s 842us/step - loss: 0.6702 - accuracy: 0.7342 - val_loss: 0.7116 - val_accuracy: 0.7034\n",
      "Epoch 29/100\n",
      "184/184 [==============================] - 0s 1ms/step - loss: 0.6675 - accuracy: 0.7277 - val_loss: 0.7135 - val_accuracy: 0.7048\n",
      "Epoch 30/100\n",
      "184/184 [==============================] - 0s 863us/step - loss: 0.6595 - accuracy: 0.7296 - val_loss: 0.7134 - val_accuracy: 0.7041\n",
      "Epoch 31/100\n",
      "184/184 [==============================] - 0s 828us/step - loss: 0.6675 - accuracy: 0.7340 - val_loss: 0.7073 - val_accuracy: 0.7068\n",
      "Epoch 32/100\n",
      "184/184 [==============================] - 0s 833us/step - loss: 0.6695 - accuracy: 0.7416 - val_loss: 0.7277 - val_accuracy: 0.6973\n",
      "Epoch 33/100\n",
      "184/184 [==============================] - 0s 893us/step - loss: 0.6693 - accuracy: 0.7304 - val_loss: 0.7044 - val_accuracy: 0.7007\n",
      "Epoch 34/100\n",
      "184/184 [==============================] - 0s 880us/step - loss: 0.6572 - accuracy: 0.7339 - val_loss: 0.7127 - val_accuracy: 0.7102\n",
      "Epoch 35/100\n",
      "184/184 [==============================] - 0s 905us/step - loss: 0.6475 - accuracy: 0.7402 - val_loss: 0.7044 - val_accuracy: 0.7034\n",
      "Epoch 36/100\n",
      "184/184 [==============================] - 0s 1ms/step - loss: 0.6650 - accuracy: 0.7291 - val_loss: 0.7129 - val_accuracy: 0.7075\n",
      "Epoch 37/100\n",
      "184/184 [==============================] - 0s 943us/step - loss: 0.6527 - accuracy: 0.7381 - val_loss: 0.7045 - val_accuracy: 0.7034\n",
      "Epoch 38/100\n",
      "184/184 [==============================] - 0s 978us/step - loss: 0.6569 - accuracy: 0.7339 - val_loss: 0.6997 - val_accuracy: 0.7095\n",
      "Epoch 39/100\n",
      "184/184 [==============================] - 0s 1ms/step - loss: 0.6436 - accuracy: 0.7470 - val_loss: 0.7138 - val_accuracy: 0.7048\n",
      "Epoch 40/100\n",
      "184/184 [==============================] - 0s 1ms/step - loss: 0.6487 - accuracy: 0.7377 - val_loss: 0.7049 - val_accuracy: 0.7143\n",
      "Epoch 41/100\n",
      "184/184 [==============================] - 0s 1ms/step - loss: 0.6580 - accuracy: 0.7288 - val_loss: 0.7202 - val_accuracy: 0.7000\n",
      "Epoch 42/100\n",
      "184/184 [==============================] - 0s 1ms/step - loss: 0.6512 - accuracy: 0.7375 - val_loss: 0.7021 - val_accuracy: 0.7068\n",
      "Epoch 43/100\n",
      "184/184 [==============================] - 0s 1ms/step - loss: 0.6579 - accuracy: 0.7335 - val_loss: 0.7050 - val_accuracy: 0.7007\n",
      "Epoch 44/100\n",
      "184/184 [==============================] - 0s 1ms/step - loss: 0.6347 - accuracy: 0.7479 - val_loss: 0.7188 - val_accuracy: 0.6986\n",
      "Epoch 45/100\n",
      "184/184 [==============================] - 0s 1ms/step - loss: 0.6379 - accuracy: 0.7521 - val_loss: 0.7155 - val_accuracy: 0.7041\n",
      "Epoch 46/100\n",
      "184/184 [==============================] - 0s 1ms/step - loss: 0.6355 - accuracy: 0.7487 - val_loss: 0.7056 - val_accuracy: 0.7034\n",
      "Epoch 47/100\n",
      "184/184 [==============================] - 0s 1ms/step - loss: 0.6532 - accuracy: 0.7284 - val_loss: 0.7019 - val_accuracy: 0.6966\n",
      "Epoch 48/100\n",
      "184/184 [==============================] - 0s 1ms/step - loss: 0.6250 - accuracy: 0.7581 - val_loss: 0.7119 - val_accuracy: 0.7041\n",
      "Epoch 49/100\n",
      "184/184 [==============================] - 0s 850us/step - loss: 0.6209 - accuracy: 0.7580 - val_loss: 0.7064 - val_accuracy: 0.7000\n",
      "Epoch 50/100\n",
      "184/184 [==============================] - 0s 844us/step - loss: 0.6398 - accuracy: 0.7521 - val_loss: 0.7012 - val_accuracy: 0.7082\n",
      "Epoch 51/100\n",
      "184/184 [==============================] - 0s 896us/step - loss: 0.6343 - accuracy: 0.7503 - val_loss: 0.7114 - val_accuracy: 0.7027\n",
      "Epoch 52/100\n",
      "184/184 [==============================] - 0s 861us/step - loss: 0.6280 - accuracy: 0.7445 - val_loss: 0.7150 - val_accuracy: 0.7007\n",
      "Epoch 53/100\n",
      "184/184 [==============================] - 0s 873us/step - loss: 0.6158 - accuracy: 0.7628 - val_loss: 0.6997 - val_accuracy: 0.7061\n",
      "Epoch 54/100\n",
      "184/184 [==============================] - 0s 882us/step - loss: 0.6361 - accuracy: 0.7429 - val_loss: 0.7077 - val_accuracy: 0.7075\n",
      "Epoch 55/100\n",
      "184/184 [==============================] - 0s 837us/step - loss: 0.6431 - accuracy: 0.7402 - val_loss: 0.7067 - val_accuracy: 0.7007\n",
      "Epoch 56/100\n",
      "184/184 [==============================] - 0s 854us/step - loss: 0.6259 - accuracy: 0.7535 - val_loss: 0.7108 - val_accuracy: 0.7054\n",
      "Epoch 57/100\n",
      "184/184 [==============================] - 0s 937us/step - loss: 0.6023 - accuracy: 0.7676 - val_loss: 0.7081 - val_accuracy: 0.7014\n",
      "Epoch 58/100\n",
      "184/184 [==============================] - 0s 825us/step - loss: 0.6260 - accuracy: 0.7579 - val_loss: 0.7120 - val_accuracy: 0.6966\n",
      "Epoch 59/100\n",
      "184/184 [==============================] - 0s 972us/step - loss: 0.6187 - accuracy: 0.7606 - val_loss: 0.7242 - val_accuracy: 0.6823\n",
      "Epoch 60/100\n",
      "184/184 [==============================] - 0s 935us/step - loss: 0.6176 - accuracy: 0.7582 - val_loss: 0.7115 - val_accuracy: 0.6973\n",
      "Epoch 61/100\n",
      "184/184 [==============================] - 0s 850us/step - loss: 0.6203 - accuracy: 0.7520 - val_loss: 0.7139 - val_accuracy: 0.6973\n",
      "Epoch 62/100\n",
      "184/184 [==============================] - 0s 847us/step - loss: 0.6101 - accuracy: 0.7639 - val_loss: 0.7162 - val_accuracy: 0.6966\n",
      "Epoch 63/100\n",
      "184/184 [==============================] - 0s 809us/step - loss: 0.6204 - accuracy: 0.7600 - val_loss: 0.7169 - val_accuracy: 0.7014\n",
      "Epoch 64/100\n",
      "184/184 [==============================] - 0s 811us/step - loss: 0.5994 - accuracy: 0.7676 - val_loss: 0.7126 - val_accuracy: 0.6952\n",
      "Epoch 65/100\n",
      "184/184 [==============================] - 0s 867us/step - loss: 0.6177 - accuracy: 0.7655 - val_loss: 0.7177 - val_accuracy: 0.6993\n",
      "Epoch 66/100\n",
      "184/184 [==============================] - 0s 837us/step - loss: 0.6124 - accuracy: 0.7578 - val_loss: 0.7120 - val_accuracy: 0.7020\n",
      "Epoch 67/100\n",
      "184/184 [==============================] - 0s 857us/step - loss: 0.6207 - accuracy: 0.7580 - val_loss: 0.7174 - val_accuracy: 0.6939\n",
      "Epoch 68/100\n",
      "184/184 [==============================] - 0s 828us/step - loss: 0.5999 - accuracy: 0.7687 - val_loss: 0.7195 - val_accuracy: 0.7007\n",
      "Epoch 69/100\n"
     ]
    },
    {
     "name": "stdout",
     "output_type": "stream",
     "text": [
      "184/184 [==============================] - 0s 877us/step - loss: 0.6141 - accuracy: 0.7595 - val_loss: 0.7249 - val_accuracy: 0.7027\n",
      "Epoch 70/100\n",
      "184/184 [==============================] - 0s 841us/step - loss: 0.6146 - accuracy: 0.7665 - val_loss: 0.7275 - val_accuracy: 0.6959\n",
      "Epoch 71/100\n",
      "184/184 [==============================] - 0s 834us/step - loss: 0.6032 - accuracy: 0.7643 - val_loss: 0.7098 - val_accuracy: 0.6986\n",
      "Epoch 72/100\n",
      "184/184 [==============================] - 0s 871us/step - loss: 0.6232 - accuracy: 0.7587 - val_loss: 0.7163 - val_accuracy: 0.7007\n",
      "Epoch 73/100\n",
      "184/184 [==============================] - 0s 846us/step - loss: 0.6160 - accuracy: 0.7568 - val_loss: 0.7179 - val_accuracy: 0.7027\n",
      "Epoch 74/100\n",
      "184/184 [==============================] - 0s 839us/step - loss: 0.6123 - accuracy: 0.7563 - val_loss: 0.7184 - val_accuracy: 0.7007\n",
      "Epoch 75/100\n",
      "184/184 [==============================] - 0s 837us/step - loss: 0.5984 - accuracy: 0.7618 - val_loss: 0.7178 - val_accuracy: 0.6986\n",
      "Epoch 76/100\n",
      "184/184 [==============================] - 0s 845us/step - loss: 0.6042 - accuracy: 0.7705 - val_loss: 0.7165 - val_accuracy: 0.7054\n",
      "Epoch 77/100\n",
      "184/184 [==============================] - 0s 859us/step - loss: 0.6123 - accuracy: 0.7623 - val_loss: 0.7173 - val_accuracy: 0.7014\n",
      "Epoch 78/100\n",
      "184/184 [==============================] - 0s 841us/step - loss: 0.5906 - accuracy: 0.7687 - val_loss: 0.7209 - val_accuracy: 0.7102\n",
      "Epoch 79/100\n",
      "184/184 [==============================] - 0s 924us/step - loss: 0.6066 - accuracy: 0.7672 - val_loss: 0.7240 - val_accuracy: 0.6966\n",
      "Epoch 80/100\n",
      "184/184 [==============================] - 0s 973us/step - loss: 0.5889 - accuracy: 0.7715 - val_loss: 0.7094 - val_accuracy: 0.7082\n",
      "Epoch 81/100\n",
      "184/184 [==============================] - 0s 1000us/step - loss: 0.6065 - accuracy: 0.7705 - val_loss: 0.7223 - val_accuracy: 0.6986\n",
      "Epoch 82/100\n",
      "184/184 [==============================] - 0s 1ms/step - loss: 0.6110 - accuracy: 0.7647 - val_loss: 0.7247 - val_accuracy: 0.7048\n",
      "Epoch 83/100\n",
      "184/184 [==============================] - 0s 1ms/step - loss: 0.5992 - accuracy: 0.7720 - val_loss: 0.7320 - val_accuracy: 0.6891\n",
      "Epoch 84/100\n",
      "184/184 [==============================] - 0s 958us/step - loss: 0.5817 - accuracy: 0.7842 - val_loss: 0.7272 - val_accuracy: 0.7014\n",
      "Epoch 85/100\n",
      "184/184 [==============================] - 0s 1ms/step - loss: 0.5826 - accuracy: 0.7738 - val_loss: 0.7266 - val_accuracy: 0.6952\n",
      "Epoch 86/100\n",
      "184/184 [==============================] - 0s 926us/step - loss: 0.5829 - accuracy: 0.7737 - val_loss: 0.7412 - val_accuracy: 0.6993\n",
      "Epoch 87/100\n",
      "184/184 [==============================] - 0s 843us/step - loss: 0.5827 - accuracy: 0.7775 - val_loss: 0.7338 - val_accuracy: 0.7020\n",
      "Epoch 88/100\n",
      "184/184 [==============================] - 0s 831us/step - loss: 0.5798 - accuracy: 0.7800 - val_loss: 0.7347 - val_accuracy: 0.6898\n",
      "Epoch 89/100\n",
      "184/184 [==============================] - 0s 853us/step - loss: 0.5961 - accuracy: 0.7723 - val_loss: 0.7427 - val_accuracy: 0.6973\n",
      "Epoch 90/100\n",
      "184/184 [==============================] - 0s 856us/step - loss: 0.5898 - accuracy: 0.7785 - val_loss: 0.7380 - val_accuracy: 0.6952\n",
      "Epoch 91/100\n",
      "184/184 [==============================] - 0s 866us/step - loss: 0.5944 - accuracy: 0.7731 - val_loss: 0.7288 - val_accuracy: 0.7027\n",
      "Epoch 92/100\n",
      "184/184 [==============================] - 0s 835us/step - loss: 0.5809 - accuracy: 0.7799 - val_loss: 0.7339 - val_accuracy: 0.6993\n",
      "Epoch 93/100\n",
      "184/184 [==============================] - 0s 881us/step - loss: 0.5913 - accuracy: 0.7792 - val_loss: 0.7385 - val_accuracy: 0.6912\n",
      "Epoch 94/100\n",
      "184/184 [==============================] - 0s 853us/step - loss: 0.6051 - accuracy: 0.7672 - val_loss: 0.7351 - val_accuracy: 0.7027\n",
      "Epoch 95/100\n",
      "184/184 [==============================] - 0s 834us/step - loss: 0.5758 - accuracy: 0.7827 - val_loss: 0.7311 - val_accuracy: 0.6939\n",
      "Epoch 96/100\n",
      "184/184 [==============================] - 0s 867us/step - loss: 0.5729 - accuracy: 0.7826 - val_loss: 0.7245 - val_accuracy: 0.7027\n",
      "Epoch 97/100\n",
      "184/184 [==============================] - 0s 830us/step - loss: 0.5759 - accuracy: 0.7790 - val_loss: 0.7289 - val_accuracy: 0.6966\n",
      "Epoch 98/100\n",
      "184/184 [==============================] - 0s 841us/step - loss: 0.5692 - accuracy: 0.7909 - val_loss: 0.7377 - val_accuracy: 0.6993\n",
      "Epoch 99/100\n",
      "184/184 [==============================] - 0s 872us/step - loss: 0.5876 - accuracy: 0.7742 - val_loss: 0.7511 - val_accuracy: 0.6959\n",
      "Epoch 100/100\n",
      "184/184 [==============================] - 0s 947us/step - loss: 0.5868 - accuracy: 0.7877 - val_loss: 0.7481 - val_accuracy: 0.7075\n",
      "Epoch 1/100\n",
      "184/184 [==============================] - 0s 1ms/step - loss: 3.2901 - accuracy: 0.5952 - val_loss: 1.2646 - val_accuracy: 0.6633\n",
      "Epoch 2/100\n",
      "184/184 [==============================] - 0s 864us/step - loss: 1.1115 - accuracy: 0.6638 - val_loss: 0.9094 - val_accuracy: 0.6735\n",
      "Epoch 3/100\n",
      "184/184 [==============================] - 0s 847us/step - loss: 0.8939 - accuracy: 0.6627 - val_loss: 0.8440 - val_accuracy: 0.6694\n",
      "Epoch 4/100\n",
      "184/184 [==============================] - 0s 862us/step - loss: 0.8472 - accuracy: 0.6640 - val_loss: 0.8198 - val_accuracy: 0.6701\n",
      "Epoch 5/100\n",
      "184/184 [==============================] - 0s 838us/step - loss: 0.8050 - accuracy: 0.6796 - val_loss: 0.7937 - val_accuracy: 0.6796\n",
      "Epoch 6/100\n",
      "184/184 [==============================] - 0s 857us/step - loss: 0.7949 - accuracy: 0.6775 - val_loss: 0.7775 - val_accuracy: 0.6776\n",
      "Epoch 7/100\n",
      "184/184 [==============================] - 0s 862us/step - loss: 0.7854 - accuracy: 0.6781 - val_loss: 0.7677 - val_accuracy: 0.6830\n",
      "Epoch 8/100\n",
      "184/184 [==============================] - 0s 822us/step - loss: 0.7625 - accuracy: 0.6901 - val_loss: 0.7615 - val_accuracy: 0.6782\n",
      "Epoch 9/100\n",
      "184/184 [==============================] - 0s 840us/step - loss: 0.7681 - accuracy: 0.6873 - val_loss: 0.7598 - val_accuracy: 0.6871\n",
      "Epoch 10/100\n",
      "184/184 [==============================] - 0s 955us/step - loss: 0.7493 - accuracy: 0.6903 - val_loss: 0.7550 - val_accuracy: 0.6755\n",
      "Epoch 11/100\n",
      "184/184 [==============================] - 0s 977us/step - loss: 0.7610 - accuracy: 0.6703 - val_loss: 0.7537 - val_accuracy: 0.6823\n",
      "Epoch 12/100\n",
      "184/184 [==============================] - 0s 869us/step - loss: 0.7537 - accuracy: 0.6809 - val_loss: 0.7505 - val_accuracy: 0.6728\n",
      "Epoch 13/100\n",
      "184/184 [==============================] - 0s 856us/step - loss: 0.7580 - accuracy: 0.6724 - val_loss: 0.7483 - val_accuracy: 0.6816\n",
      "Epoch 14/100\n",
      "184/184 [==============================] - 0s 826us/step - loss: 0.7502 - accuracy: 0.6842 - val_loss: 0.7481 - val_accuracy: 0.6844\n",
      "Epoch 15/100\n",
      "184/184 [==============================] - 0s 1ms/step - loss: 0.7416 - accuracy: 0.6862 - val_loss: 0.7518 - val_accuracy: 0.6857\n",
      "Epoch 16/100\n",
      "184/184 [==============================] - 0s 1ms/step - loss: 0.7526 - accuracy: 0.6801 - val_loss: 0.7414 - val_accuracy: 0.6830\n",
      "Epoch 17/100\n",
      "184/184 [==============================] - 0s 1ms/step - loss: 0.7371 - accuracy: 0.6827 - val_loss: 0.7428 - val_accuracy: 0.6782\n",
      "Epoch 18/100\n",
      "184/184 [==============================] - 0s 1ms/step - loss: 0.7271 - accuracy: 0.6922 - val_loss: 0.7407 - val_accuracy: 0.6782\n",
      "Epoch 19/100\n",
      "184/184 [==============================] - 0s 1ms/step - loss: 0.7498 - accuracy: 0.6803 - val_loss: 0.7402 - val_accuracy: 0.6878\n",
      "Epoch 20/100\n",
      "184/184 [==============================] - 0s 810us/step - loss: 0.7446 - accuracy: 0.6922 - val_loss: 0.7378 - val_accuracy: 0.6891\n",
      "Epoch 21/100\n",
      "184/184 [==============================] - 0s 848us/step - loss: 0.7390 - accuracy: 0.6862 - val_loss: 0.7361 - val_accuracy: 0.6789\n",
      "Epoch 22/100\n",
      "184/184 [==============================] - 0s 831us/step - loss: 0.7343 - accuracy: 0.6832 - val_loss: 0.7363 - val_accuracy: 0.6891\n",
      "Epoch 23/100\n",
      "184/184 [==============================] - 0s 841us/step - loss: 0.7265 - accuracy: 0.6922 - val_loss: 0.7359 - val_accuracy: 0.6789\n",
      "Epoch 24/100\n",
      "184/184 [==============================] - 0s 900us/step - loss: 0.7463 - accuracy: 0.6719 - val_loss: 0.7337 - val_accuracy: 0.6769\n",
      "Epoch 25/100\n"
     ]
    },
    {
     "name": "stdout",
     "output_type": "stream",
     "text": [
      "184/184 [==============================] - 0s 1ms/step - loss: 0.7266 - accuracy: 0.6858 - val_loss: 0.7352 - val_accuracy: 0.6796\n",
      "Epoch 26/100\n",
      "184/184 [==============================] - 0s 1ms/step - loss: 0.7439 - accuracy: 0.6790 - val_loss: 0.7342 - val_accuracy: 0.6803\n",
      "Epoch 27/100\n",
      "184/184 [==============================] - 0s 2ms/step - loss: 0.7320 - accuracy: 0.6842 - val_loss: 0.7313 - val_accuracy: 0.6769\n",
      "Epoch 28/100\n",
      "184/184 [==============================] - 0s 1ms/step - loss: 0.7398 - accuracy: 0.6902 - val_loss: 0.7393 - val_accuracy: 0.6789\n",
      "Epoch 29/100\n",
      "184/184 [==============================] - 0s 928us/step - loss: 0.7435 - accuracy: 0.6795 - val_loss: 0.7379 - val_accuracy: 0.6789\n",
      "Epoch 30/100\n",
      "184/184 [==============================] - 0s 919us/step - loss: 0.7269 - accuracy: 0.6877 - val_loss: 0.7312 - val_accuracy: 0.6830\n",
      "Epoch 31/100\n",
      "184/184 [==============================] - 0s 890us/step - loss: 0.7441 - accuracy: 0.6732 - val_loss: 0.7314 - val_accuracy: 0.6796\n",
      "Epoch 32/100\n",
      "184/184 [==============================] - 0s 955us/step - loss: 0.7471 - accuracy: 0.6803 - val_loss: 0.7417 - val_accuracy: 0.6884\n",
      "Epoch 33/100\n",
      "184/184 [==============================] - 0s 1ms/step - loss: 0.7441 - accuracy: 0.6878 - val_loss: 0.7319 - val_accuracy: 0.6810\n",
      "Epoch 34/100\n",
      "184/184 [==============================] - 0s 868us/step - loss: 0.7347 - accuracy: 0.6833 - val_loss: 0.7319 - val_accuracy: 0.6816\n",
      "Epoch 35/100\n",
      "184/184 [==============================] - 0s 851us/step - loss: 0.7216 - accuracy: 0.6949 - val_loss: 0.7305 - val_accuracy: 0.6844\n",
      "Epoch 36/100\n",
      "184/184 [==============================] - 0s 1ms/step - loss: 0.7350 - accuracy: 0.6844 - val_loss: 0.7331 - val_accuracy: 0.6871\n",
      "Epoch 37/100\n",
      "184/184 [==============================] - 0s 1ms/step - loss: 0.7281 - accuracy: 0.6879 - val_loss: 0.7302 - val_accuracy: 0.6810\n",
      "Epoch 38/100\n",
      "184/184 [==============================] - 0s 1ms/step - loss: 0.7416 - accuracy: 0.6782 - val_loss: 0.7286 - val_accuracy: 0.6837\n",
      "Epoch 39/100\n",
      "184/184 [==============================] - 0s 854us/step - loss: 0.7245 - accuracy: 0.6975 - val_loss: 0.7288 - val_accuracy: 0.6803\n",
      "Epoch 40/100\n",
      "184/184 [==============================] - 0s 813us/step - loss: 0.7231 - accuracy: 0.6942 - val_loss: 0.7310 - val_accuracy: 0.6789\n",
      "Epoch 41/100\n",
      "184/184 [==============================] - 0s 900us/step - loss: 0.7477 - accuracy: 0.6646 - val_loss: 0.7310 - val_accuracy: 0.6741\n",
      "Epoch 42/100\n",
      "184/184 [==============================] - 0s 907us/step - loss: 0.7330 - accuracy: 0.6839 - val_loss: 0.7279 - val_accuracy: 0.6844\n",
      "Epoch 43/100\n",
      "184/184 [==============================] - 0s 878us/step - loss: 0.7377 - accuracy: 0.6806 - val_loss: 0.7285 - val_accuracy: 0.6837\n",
      "Epoch 44/100\n",
      "184/184 [==============================] - 0s 832us/step - loss: 0.7281 - accuracy: 0.6904 - val_loss: 0.7309 - val_accuracy: 0.6789\n",
      "Epoch 45/100\n",
      "184/184 [==============================] - 0s 882us/step - loss: 0.7309 - accuracy: 0.6919 - val_loss: 0.7316 - val_accuracy: 0.6803\n",
      "Epoch 46/100\n",
      "184/184 [==============================] - 0s 864us/step - loss: 0.7278 - accuracy: 0.6933 - val_loss: 0.7283 - val_accuracy: 0.6776\n",
      "Epoch 47/100\n",
      "184/184 [==============================] - 0s 852us/step - loss: 0.7320 - accuracy: 0.6800 - val_loss: 0.7279 - val_accuracy: 0.6803\n",
      "Epoch 48/100\n",
      "184/184 [==============================] - 0s 1ms/step - loss: 0.7134 - accuracy: 0.6897 - val_loss: 0.7282 - val_accuracy: 0.6871\n",
      "Epoch 49/100\n",
      "184/184 [==============================] - 0s 931us/step - loss: 0.7255 - accuracy: 0.6911 - val_loss: 0.7260 - val_accuracy: 0.6741\n",
      "Epoch 50/100\n",
      "184/184 [==============================] - 0s 828us/step - loss: 0.7311 - accuracy: 0.6836 - val_loss: 0.7289 - val_accuracy: 0.6748\n",
      "Epoch 51/100\n",
      "184/184 [==============================] - 0s 861us/step - loss: 0.7371 - accuracy: 0.6742 - val_loss: 0.7263 - val_accuracy: 0.6810\n",
      "Epoch 52/100\n",
      "184/184 [==============================] - 0s 851us/step - loss: 0.7270 - accuracy: 0.6863 - val_loss: 0.7285 - val_accuracy: 0.6857\n",
      "Epoch 53/100\n",
      "184/184 [==============================] - 0s 849us/step - loss: 0.7192 - accuracy: 0.6887 - val_loss: 0.7267 - val_accuracy: 0.6837\n",
      "Epoch 54/100\n",
      "184/184 [==============================] - 0s 841us/step - loss: 0.7302 - accuracy: 0.6756 - val_loss: 0.7267 - val_accuracy: 0.6735\n",
      "Epoch 55/100\n",
      "184/184 [==============================] - 0s 957us/step - loss: 0.7393 - accuracy: 0.6810 - val_loss: 0.7249 - val_accuracy: 0.6803\n",
      "Epoch 56/100\n",
      "184/184 [==============================] - 0s 1ms/step - loss: 0.7241 - accuracy: 0.6775 - val_loss: 0.7259 - val_accuracy: 0.6803\n",
      "Epoch 57/100\n",
      "184/184 [==============================] - 0s 991us/step - loss: 0.7072 - accuracy: 0.6973 - val_loss: 0.7309 - val_accuracy: 0.6925\n",
      "Epoch 58/100\n",
      "184/184 [==============================] - 0s 1ms/step - loss: 0.7333 - accuracy: 0.6853 - val_loss: 0.7260 - val_accuracy: 0.6844\n",
      "Epoch 59/100\n",
      "184/184 [==============================] - 0s 1ms/step - loss: 0.7170 - accuracy: 0.6921 - val_loss: 0.7290 - val_accuracy: 0.6776\n",
      "Epoch 60/100\n",
      "184/184 [==============================] - 0s 995us/step - loss: 0.7229 - accuracy: 0.6861 - val_loss: 0.7275 - val_accuracy: 0.6857\n",
      "Epoch 61/100\n",
      "184/184 [==============================] - 0s 1ms/step - loss: 0.7307 - accuracy: 0.6813 - val_loss: 0.7251 - val_accuracy: 0.6844\n",
      "Epoch 62/100\n",
      "184/184 [==============================] - 0s 1ms/step - loss: 0.7178 - accuracy: 0.6968 - val_loss: 0.7268 - val_accuracy: 0.6878\n",
      "Epoch 63/100\n",
      "184/184 [==============================] - 0s 1ms/step - loss: 0.7295 - accuracy: 0.6778 - val_loss: 0.7262 - val_accuracy: 0.6844\n",
      "Epoch 64/100\n",
      "184/184 [==============================] - 0s 898us/step - loss: 0.7116 - accuracy: 0.6881 - val_loss: 0.7253 - val_accuracy: 0.6782\n",
      "Epoch 65/100\n",
      "184/184 [==============================] - 0s 892us/step - loss: 0.7302 - accuracy: 0.6877 - val_loss: 0.7252 - val_accuracy: 0.6816\n",
      "Epoch 66/100\n",
      "184/184 [==============================] - 0s 739us/step - loss: 0.7223 - accuracy: 0.6926 - val_loss: 0.7265 - val_accuracy: 0.6816\n",
      "Epoch 67/100\n",
      "184/184 [==============================] - 0s 763us/step - loss: 0.7409 - accuracy: 0.6735 - val_loss: 0.7242 - val_accuracy: 0.6830\n",
      "Epoch 68/100\n",
      "184/184 [==============================] - 0s 800us/step - loss: 0.7198 - accuracy: 0.6884 - val_loss: 0.7251 - val_accuracy: 0.6735\n",
      "Epoch 69/100\n",
      "184/184 [==============================] - 0s 1ms/step - loss: 0.7323 - accuracy: 0.6829 - val_loss: 0.7285 - val_accuracy: 0.6816\n",
      "Epoch 70/100\n",
      "184/184 [==============================] - 0s 1ms/step - loss: 0.7312 - accuracy: 0.6710 - val_loss: 0.7261 - val_accuracy: 0.6816\n",
      "Epoch 71/100\n",
      "184/184 [==============================] - 0s 944us/step - loss: 0.7214 - accuracy: 0.6852 - val_loss: 0.7253 - val_accuracy: 0.6844\n",
      "Epoch 72/100\n",
      "184/184 [==============================] - 0s 866us/step - loss: 0.7448 - accuracy: 0.6740 - val_loss: 0.7244 - val_accuracy: 0.6850\n",
      "Epoch 73/100\n",
      "184/184 [==============================] - 0s 962us/step - loss: 0.7403 - accuracy: 0.6756 - val_loss: 0.7255 - val_accuracy: 0.6796\n",
      "Epoch 74/100\n",
      "184/184 [==============================] - 0s 1ms/step - loss: 0.7287 - accuracy: 0.6840 - val_loss: 0.7248 - val_accuracy: 0.6871\n",
      "Epoch 75/100\n",
      "184/184 [==============================] - 0s 882us/step - loss: 0.7171 - accuracy: 0.6894 - val_loss: 0.7247 - val_accuracy: 0.6857\n",
      "Epoch 76/100\n",
      "184/184 [==============================] - 0s 847us/step - loss: 0.7286 - accuracy: 0.6865 - val_loss: 0.7248 - val_accuracy: 0.6830\n",
      "Epoch 77/100\n",
      "184/184 [==============================] - 0s 884us/step - loss: 0.7363 - accuracy: 0.6786 - val_loss: 0.7228 - val_accuracy: 0.6830\n",
      "Epoch 78/100\n",
      "184/184 [==============================] - 0s 878us/step - loss: 0.7231 - accuracy: 0.6839 - val_loss: 0.7228 - val_accuracy: 0.6803\n",
      "Epoch 79/100\n",
      "184/184 [==============================] - 0s 822us/step - loss: 0.7392 - accuracy: 0.6768 - val_loss: 0.7248 - val_accuracy: 0.6755\n",
      "Epoch 80/100\n",
      "184/184 [==============================] - 0s 893us/step - loss: 0.7116 - accuracy: 0.6958 - val_loss: 0.7238 - val_accuracy: 0.6837\n",
      "Epoch 81/100\n"
     ]
    },
    {
     "name": "stdout",
     "output_type": "stream",
     "text": [
      "184/184 [==============================] - 0s 977us/step - loss: 0.7257 - accuracy: 0.6775 - val_loss: 0.7232 - val_accuracy: 0.6789\n",
      "Epoch 82/100\n",
      "184/184 [==============================] - 0s 872us/step - loss: 0.7357 - accuracy: 0.6823 - val_loss: 0.7218 - val_accuracy: 0.6844\n",
      "Epoch 83/100\n",
      "184/184 [==============================] - 0s 841us/step - loss: 0.7306 - accuracy: 0.6867 - val_loss: 0.7249 - val_accuracy: 0.6776\n",
      "Epoch 84/100\n",
      "184/184 [==============================] - 0s 864us/step - loss: 0.7147 - accuracy: 0.6943 - val_loss: 0.7234 - val_accuracy: 0.6803\n",
      "Epoch 85/100\n",
      "184/184 [==============================] - 0s 820us/step - loss: 0.7075 - accuracy: 0.6952 - val_loss: 0.7222 - val_accuracy: 0.6755\n",
      "Epoch 86/100\n",
      "184/184 [==============================] - 0s 818us/step - loss: 0.7062 - accuracy: 0.6974 - val_loss: 0.7254 - val_accuracy: 0.6898\n",
      "Epoch 87/100\n",
      "184/184 [==============================] - 0s 848us/step - loss: 0.7132 - accuracy: 0.6966 - val_loss: 0.7232 - val_accuracy: 0.6810\n",
      "Epoch 88/100\n",
      "184/184 [==============================] - 0s 868us/step - loss: 0.7165 - accuracy: 0.6856 - val_loss: 0.7225 - val_accuracy: 0.6796\n",
      "Epoch 89/100\n",
      "184/184 [==============================] - 0s 844us/step - loss: 0.7325 - accuracy: 0.6847 - val_loss: 0.7270 - val_accuracy: 0.6762\n",
      "Epoch 90/100\n",
      "184/184 [==============================] - 0s 881us/step - loss: 0.7109 - accuracy: 0.6914 - val_loss: 0.7233 - val_accuracy: 0.6857\n",
      "Epoch 91/100\n",
      "184/184 [==============================] - 0s 838us/step - loss: 0.7406 - accuracy: 0.6759 - val_loss: 0.7217 - val_accuracy: 0.6816\n",
      "Epoch 92/100\n",
      "184/184 [==============================] - 0s 899us/step - loss: 0.7231 - accuracy: 0.6796 - val_loss: 0.7251 - val_accuracy: 0.6918\n",
      "Epoch 93/100\n",
      "184/184 [==============================] - 0s 858us/step - loss: 0.7259 - accuracy: 0.6889 - val_loss: 0.7219 - val_accuracy: 0.6789\n",
      "Epoch 94/100\n",
      "184/184 [==============================] - 0s 819us/step - loss: 0.7394 - accuracy: 0.6815 - val_loss: 0.7209 - val_accuracy: 0.6789\n",
      "Epoch 95/100\n",
      "184/184 [==============================] - 0s 836us/step - loss: 0.7254 - accuracy: 0.6810 - val_loss: 0.7224 - val_accuracy: 0.6823\n",
      "Epoch 96/100\n",
      "184/184 [==============================] - 0s 843us/step - loss: 0.7198 - accuracy: 0.6902 - val_loss: 0.7232 - val_accuracy: 0.6884\n",
      "Epoch 97/100\n",
      "184/184 [==============================] - 0s 1ms/step - loss: 0.7180 - accuracy: 0.6753 - val_loss: 0.7219 - val_accuracy: 0.6884\n",
      "Epoch 98/100\n",
      "184/184 [==============================] - 0s 1ms/step - loss: 0.7157 - accuracy: 0.6859 - val_loss: 0.7223 - val_accuracy: 0.6782\n",
      "Epoch 99/100\n",
      "184/184 [==============================] - 0s 1ms/step - loss: 0.7294 - accuracy: 0.6807 - val_loss: 0.7232 - val_accuracy: 0.6864\n",
      "Epoch 100/100\n",
      "184/184 [==============================] - 0s 1ms/step - loss: 0.7269 - accuracy: 0.6858 - val_loss: 0.7213 - val_accuracy: 0.6769\n"
     ]
    }
   ],
   "source": [
    "# Training as is shown in exercise 15\n",
    "\n",
    "hist1 = model1.fit(Xs_train,ys_train, epochs = 100, batch_size = 32, validation_split = 0.2, shuffle = True)\n",
    "hist2 = model2.fit(Xs_train,ys_train, epochs = 100, batch_size = 32, validation_split = 0.2, shuffle = True)\n",
    "hist3 = model3.fit(Xs_train,ys_train, epochs = 100, batch_size = 32, validation_split = 0.2, shuffle = True)\n"
   ]
  },
  {
   "cell_type": "code",
   "execution_count": 194,
   "metadata": {},
   "outputs": [
    {
     "data": {
      "image/png": "[encoded data removed]",
      "text/plain": [
       "<Figure size 432x288 with 1 Axes>"
      ]
     },
     "metadata": {
      "needs_background": "light"
     },
     "output_type": "display_data"
    }
   ],
   "source": [
    "# Big and small model plotting\n",
    "epochs = np.linspace(0,99,100)\n",
    "plt.xlabel(\"No. of Epochs\")\n",
    "plt.ylabel(\"Loss values\")\n",
    "plt.title(\"Loss Curve with Epochs for big and small model\")\n",
    "\n",
    "plt.plot(epochs,kff.history['loss'], label = 'Small Model Keras Loss')\n",
    "plt.plot(epochs,kff.history['val_loss'], label = 'Small Model Keras Validation Loss')\n",
    "\n",
    "plt.plot(epochs,hist1.history['loss'], label = 'Big Model Keras Loss')\n",
    "plt.plot(epochs,hist1.history['val_loss'], label = 'Big Model Keras Validation Loss')\n",
    "\n",
    "plt.legend()\n",
    "plt.show()\n"
   ]
  },
  {
   "cell_type": "code",
   "execution_count": 209,
   "metadata": {},
   "outputs": [
    {
     "data": {
      "image/png": "[encoded data removed]",
      "text/plain": [
       "<Figure size 576x432 with 1 Axes>"
      ]
     },
     "metadata": {
      "needs_background": "light"
     },
     "output_type": "display_data"
    }
   ],
   "source": [
    "# Plot 3 Big models\n",
    "epochs = np.linspace(0,99,100)\n",
    "plt.figure(figsize=(8,6))\n",
    "plt.xlabel(\"No. of Epochs\")\n",
    "plt.ylabel(\"Loss values\")\n",
    "plt.title(\"Loss Curve with Epochs for 3 big models\")\n",
    "\n",
    "# unreg'd model\n",
    "plt.plot(epochs,hist1.history['loss'], label = 'Unreg Big Model Keras Loss')\n",
    "plt.plot(epochs,hist1.history['val_loss'], label = 'Unreg Big Model Keras Validation Loss')\n",
    "\n",
    "# big model l1 reg\n",
    "plt.plot(epochs,hist2.history['loss'], label = 'l1=0.0003 Big Model Keras Loss')\n",
    "plt.plot(epochs,hist2.history['val_loss'], label = 'l1=0.0003 Big Model Keras Validation Loss')\n",
    "\n",
    "# big model l2 reg\n",
    "plt.plot(epochs,hist3.history['loss'], label = 'l2=0.003 Big Model Keras Loss')\n",
    "plt.plot(epochs,hist3.history['val_loss'], label = 'l2=0.003 Big Model Keras Validation Loss',color = 'c')\n",
    "\n",
    "\n",
    "plt.legend()\n",
    "plt.show()\n"
   ]
  },
  {
   "cell_type": "code",
   "execution_count": 211,
   "metadata": {},
   "outputs": [
    {
     "data": {
      "image/png": "[encoded data removed]",
      "text/plain": [
       "<Figure size 864x720 with 1 Axes>"
      ]
     },
     "metadata": {
      "needs_background": "light"
     },
     "output_type": "display_data"
    }
   ],
   "source": [
    "# Plot all 4 Models\n",
    "epochs = np.linspace(0,99,100)\n",
    "plt.figure(figsize=(12,10))\n",
    "plt.xlabel(\"No. of Epochs\")\n",
    "plt.ylabel(\"Loss values\")\n",
    "plt.title(\"Loss Curve with Epochs for 3 big models\")\n",
    "\n",
    "# small model\n",
    "plt.plot(epochs,kff.history['loss'], label = 'Small Model Keras Loss', color = 'b')\n",
    "plt.plot(epochs,kff.history['val_loss'], label = 'Small Model Keras Validation Loss', color = 'r')\n",
    "\n",
    "# unreg'd model\n",
    "plt.plot(epochs,hist1.history['loss'], label = 'Unreg Big Model Keras Loss', color = 'g')\n",
    "plt.plot(epochs,hist1.history['val_loss'], label = 'Unreg Big Model Keras Validation Loss', color = 'c')\n",
    "\n",
    "# big model l1 reg\n",
    "plt.plot(epochs,hist2.history['loss'], label = 'l1=0.0003 Big Model Keras Loss', color = 'y')\n",
    "plt.plot(epochs,hist2.history['val_loss'], label = 'l1=0.0003 Big Model Keras Validation Loss', color = 'm')\n",
    "\n",
    "# big model l2 reg\n",
    "plt.plot(epochs,hist3.history['loss'], label = 'l2=0.003 Big Model Keras Loss', color = 'k')\n",
    "plt.plot(epochs,hist3.history['val_loss'], label = 'l2=0.003 Big Model Keras Validation Loss', color = 'lime')\n",
    "\n",
    "\n",
    "plt.legend()\n",
    "plt.show()\n"
   ]
  },
  {
   "cell_type": "markdown",
   "metadata": {},
   "source": [
    "# EXPLANING THE DIFFERENCES IN ALL 4 MODELS\n",
    "Basically regularisation good, removes overtuning, small model overtuned, big model also very overtuned, l2 and l1 methods better but still overtuned\n"
   ]
  },
  {
   "cell_type": "markdown",
   "metadata": {},
   "source": [
    "## 6. Bonus: Hyperparameter optimisation (1\\*bonus\\* mark)\n",
    "---"
   ]
  },
  {
   "cell_type": "markdown",
   "metadata": {},
   "source": [
    "This section covers **1** exercise on the on hyperparameter optimisation. "
   ]
  },
  {
   "cell_type": "code",
   "execution_count": 38,
   "metadata": {},
   "outputs": [],
   "source": [
    "# Relevant import(s) for this section\n",
    "from sklearn.model_selection import GridSearchCV, cross_val_score"
   ]
  },
  {
   "cell_type": "markdown",
   "metadata": {},
   "source": [
    "---\n",
    "_**Comment on simplified hyperparameter optimisation example:**_ You will try to perform a simple optimisation using a grid search\n",
    "\n",
    "For convenience, we will be using the `scikit-learn` `MLPClassifier` as our base class, but the same principles apply to just about any ML model constructed in any framework. Just as in the examples in the lecture, we will restrict the hyperparameter space to just two dimensions:\n",
    "\n",
    "* the number of hidden layers, `nb_layers`, and\n",
    "* the number of nodes per hidden layer, `nb_nodes_per_layer`, which is taken to be the same for all hidden layers for simplicity.\n",
    "\n",
    "Since the `scikit-learn` neural network classifier class doesn't support these two hyperparameters by default, provided is a simple wrapper class, that works exactly like `MLPClassifier`, it just takes the two parameters above as arguments in the constructor. Don't worry about understanding it in detail. This allows us to call "
   ]
  },
  {
   "cell_type": "code",
   "execution_count": 39,
   "metadata": {},
   "outputs": [],
   "source": [
    "class MLPClassifierWrapper(MLPClassifier):\n",
    "    \"\"\"\n",
    "    Wrapper around `sklearn.neural_network.MLPClassifier` with a convenient set \n",
    "    of properties (nb_layers and nb_nodes_per_layer) suitable for hyperparameter \n",
    "    optimisation exercises.\n",
    "    \n",
    "    Arguments:\n",
    "        nb_layers: Integer, number of hidden layers\n",
    "        nb_nodes_per_layer: Number of nodes per hidden layer, taken to be the \n",
    "            same for all for convenience.\n",
    "    \"\"\"\n",
    "\n",
    "    def __init__ (self, nb_layers=1, nb_nodes_per_layer=100, **kwargs):\n",
    "        \n",
    "        # Member variables\n",
    "        self._nb_layers = nb_layers\n",
    "        self._nb_nodes_per_layer = nb_nodes_per_layer  \n",
    "        \n",
    "        # Call base class (`MLPClassifier`) constructor\n",
    "        super(MLPClassifierWrapper, self).__init__(**kwargs)\n",
    "        \n",
    "        # Trigger `_set_architecture`\n",
    "        self._set_architecture()\n",
    "        return\n",
    "\n",
    "    @property\n",
    "    def nb_layers(self):\n",
    "        return self._nb_layers\n",
    "    \n",
    "    @property\n",
    "    def nb_nodes_per_layer(self):\n",
    "        return self._nb_nodes_per_layer \n",
    "\n",
    "    @nb_layers.setter\n",
    "    def nb_layers(self, value):\n",
    "        self._nb_layers = value\n",
    "        self._set_architecture()\n",
    "        return\n",
    "    \n",
    "    @nb_nodes_per_layer.setter\n",
    "    def nb_nodes_per_layer(self, value):\n",
    "        self._nb_nodes_per_layer = value\n",
    "        self._set_architecture()\n",
    "        return\n",
    "    \n",
    "    def _set_architecture (self):\n",
    "        \"\"\"\n",
    "        Sets the `hidden_layer_sizes` parameter of the base `MLPClassifier` \n",
    "        class, based on the two custom parameters we have chosen.\n",
    "        \"\"\"\n",
    "        \n",
    "        self.hidden_layer_sizes = tuple([self._nb_nodes_per_layer for _ in range(self._nb_layers)])\n",
    "        return\n",
    "    pass"
   ]
  },
  {
   "cell_type": "markdown",
   "metadata": {},
   "source": [
    "---"
   ]
  },
  {
   "cell_type": "markdown",
   "metadata": {},
   "source": [
    "#### 16. Perform a grid search (1 mark)\n",
    "\n",
    "- Construct a python `dict` called `param_grid` which specifies the hyperparameter configurations to try for each parameter dimension. That is, it should have\n",
    "    - `\"nb_layers\"` and `\"nb_nodes_per_layer\"` as keys, and\n",
    "    - lists of integers as values, corresponding to the values of each parameter you want to try out (_e.g._ [1, 2, ...])\n",
    "- Choose a reasonable set of values for each parameter; about a handful for each.\n",
    "- Use the `GridSearchCV` class to perform _**3**_**-fold** cross validation (CV) optimisation of the validation **accuracy**\n",
    "    - Hint: You can use the `n_jobs=...` argument to enable multi-processing, thereby speeding up the optimisation, at the expense of reproducibility.\n",
    "- The base classifier should be an instance of `MLPClassifierWrapper` set to train for **100 epochs**.\n",
    "- Present the results:\n",
    "    - Print the best parameter configuration found. GridSearchCV has a public member which stores this. Read doc.\n",
    "    - Print the mean and standard deviation of the test scores for the best configuration found. (_Hint:_ These can be found in the `.cv_results_` attribute)\n",
    "    - Plot the optimisation results using the `plot.optimisation` method.\n",
    "- Discuss the results. What would happen if the best result is foundon the edge of the parameter grid?"
   ]
  }
 ],
 "metadata": {
  "kernelspec": {
   "display_name": "Python 3 (ipykernel)",
   "language": "python",
   "name": "python3"
  },
  "language_info": {
   "codemirror_mode": {
    "name": "ipython",
    "version": 3
   },
   "file_extension": ".py",
   "mimetype": "text/x-python",
   "name": "python",
   "nbconvert_exporter": "python",
   "pygments_lexer": "ipython3",
   "version": "3.8.10"
  }
 },
 "nbformat": 4,
 "nbformat_minor": 2
}
