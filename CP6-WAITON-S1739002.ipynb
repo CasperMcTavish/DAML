{
 "cells": [
  {
   "cell_type": "code",
   "execution_count": 16,
   "id": "eb12e105",
   "metadata": {},
   "outputs": [],
   "source": [
    "import numpy as np\n",
    "import matplotlib.pyplot as plt\n",
    "from iminuit import Minuit\n",
    "import scipy\n",
    "from scipy import integrate"
   ]
  },
  {
   "cell_type": "code",
   "execution_count": 17,
   "id": "615a9598",
   "metadata": {},
   "outputs": [],
   "source": [
    "# Collect data from file\n",
    "def collect_data_float(filename):\n",
    "    with open(filename) as file:\n",
    "        lines = file.readlines()\n",
    "        lines = [line.rstrip() for line in lines]\n",
    "        # Change strings to floats\n",
    "        lines = [float(x) for x in lines]\n",
    "    return lines\n",
    "\n"
   ]
  },
  {
   "cell_type": "code",
   "execution_count": 18,
   "id": "144ca456",
   "metadata": {},
   "outputs": [],
   "source": [
    "data = collect_data_float('datafile-exp.txt')"
   ]
  },
  {
   "cell_type": "code",
   "execution_count": 19,
   "id": "34d45919",
   "metadata": {},
   "outputs": [
    {
     "name": "stdout",
     "output_type": "stream",
     "text": [
      "4.30037022522614\n",
      "10000\n",
      "<class 'float'>\n"
     ]
    }
   ],
   "source": [
    "print(data[0])\n",
    "print(len(data))\n",
    "print(type(data[0]))"
   ]
  },
  {
   "cell_type": "code",
   "execution_count": 20,
   "id": "18d217d5",
   "metadata": {},
   "outputs": [],
   "source": [
    "# Convert the data to float, as currently its in string\n",
    "# That has been put into the function to make sure I dont have to repeat code later\n",
    "#data = [float(x) for x in data]"
   ]
  },
  {
   "cell_type": "code",
   "execution_count": 21,
   "id": "146371b9",
   "metadata": {},
   "outputs": [
    {
     "name": "stdout",
     "output_type": "stream",
     "text": [
      "<class 'float'>\n"
     ]
    }
   ],
   "source": [
    "print(type(data[0]))"
   ]
  },
  {
   "cell_type": "code",
   "execution_count": 22,
   "id": "b5f176a0",
   "metadata": {},
   "outputs": [],
   "source": [
    "def hist(data, title):\n",
    "    \n",
    "    # Plot histograms\n",
    "    plt.figure(figsize=(10,10))\n",
    "    plt.hist(data, bins = 100)\n",
    "        \n",
    "    plt.title(\"Histogram of \" + str(title))\n",
    "    #plt.savefig(str(data_type[Type]) + '_Full_Histogram.pdf')\n",
    "    plt.show()"
   ]
  },
  {
   "cell_type": "code",
   "execution_count": 23,
   "id": "b680fc75",
   "metadata": {},
   "outputs": [
    {
     "data": {
      "image/png": "[encoded data removed]",
      "text/plain": [
       "<Figure size 720x720 with 1 Axes>"
      ]
     },
     "metadata": {
      "needs_background": "light"
     },
     "output_type": "display_data"
    }
   ],
   "source": [
    "hist(data, \"datafile-exp.txt\")"
   ]
  },
  {
   "cell_type": "code",
   "execution_count": 24,
   "id": "c005006c",
   "metadata": {},
   "outputs": [],
   "source": [
    "# Maximum likelihood fit\n",
    "\n",
    "# Define the exponential\n",
    "def exponential(x, lifetime):\n",
    "    y = (1/lifetime) * np.exp(-x/lifetime)\n",
    "    return y\n",
    "    \n",
    "\n",
    "# Define the maximum likelihood fitting method\n",
    "def nll(lifetime):\n",
    "    \n",
    "    # Create list\n",
    "    y = []\n",
    "    \n",
    "    # Give data points\n",
    "    x = data\n",
    "    counter = 0\n",
    "    # loop to collect all y values\n",
    "    for i in range(len(x)):\n",
    "        #print(x[i], lifetime)\n",
    "        y_i = exponential(x[i], lifetime)\n",
    "        #print(y_i)\n",
    "        l_y_i = np.log(y_i)\n",
    "        y.append(y_i)\n",
    "\n",
    "        \n",
    "    \n",
    "    # Normalise\n",
    "        \n",
    "    # integrate over our range for the linear\n",
    "    y_new, err_new = scipy.integrate.quad(exponential, 0, 10, args = (lifetime))\n",
    "    # Normalise y values\n",
    "    y_norm = [i / y_new for i in y]\n",
    "        \n",
    "    # nll\n",
    "    nll = -np.sum(y_norm)\n",
    "    \n",
    "    return nll"
   ]
  },
  {
   "cell_type": "code",
   "execution_count": 25,
   "id": "06857fd0",
   "metadata": {},
   "outputs": [],
   "source": [
    "# Taken from the notes from last week to show iminuit results\n",
    "def showIminuitResult( paramNames, theMinuit ):\n",
    "    \n",
    "    #averageList = {}\n",
    "\n",
    "    fstr = \"{0:8.4f}\"\n",
    "    for pn in paramNames :\n",
    "        val = theMinuit.values[pn]\n",
    "        err = theMinuit.errors[pn]\n",
    "        print('\\t','{:15s}'.format(pn), ':  \\t', fstr.format(val), ' +/- ', fstr.format(err))\n",
    "    print('\\n')\n"
   ]
  },
  {
   "cell_type": "code",
   "execution_count": 26,
   "id": "af031f86",
   "metadata": {},
   "outputs": [
    {
     "name": "stderr",
     "output_type": "stream",
     "text": [
      "/tmp/ipykernel_85886/1661381024.py:23: RuntimeWarning: invalid value encountered in log\n",
      "  l_y_i = np.log(y_i)\n",
      "/tmp/ipykernel_85886/1661381024.py:5: RuntimeWarning: overflow encountered in exp\n",
      "  y = (1/lifetime) * np.exp(-x/lifetime)\n",
      "/tmp/ipykernel_85886/1661381024.py:5: RuntimeWarning: overflow encountered in double_scalars\n",
      "  y = (1/lifetime) * np.exp(-x/lifetime)\n",
      "/tmp/ipykernel_85886/1661381024.py:33: RuntimeWarning: invalid value encountered in double_scalars\n",
      "  y_norm = [i / y_new for i in y]\n"
     ]
    },
    {
     "name": "stdout",
     "output_type": "stream",
     "text": [
      "\t lifetime        :  \t   0.0529  +/-    0.0032\n",
      "\n",
      "\n"
     ]
    }
   ],
   "source": [
    "m = Minuit(nll, lifetime = 3)\n",
    "m.errors = 0.5\n",
    "m.errordef = 0.5\n",
    "\n",
    "# Fit and show results\n",
    "result = m.migrad()\n",
    "\n",
    "showIminuitResult((\"lifetime\",), m)"
   ]
  },
  {
   "cell_type": "code",
   "execution_count": 12,
   "id": "e7a562a8",
   "metadata": {},
   "outputs": [],
   "source": [
    "del data"
   ]
  },
  {
   "cell_type": "code",
   "execution_count": null,
   "id": "8a1b51cc",
   "metadata": {},
   "outputs": [],
   "source": []
  }
 ],
 "metadata": {
  "kernelspec": {
   "display_name": "Python 3 (ipykernel)",
   "language": "python",
   "name": "python3"
  },
  "language_info": {
   "codemirror_mode": {
    "name": "ipython",
    "version": 3
   },
   "file_extension": ".py",
   "mimetype": "text/x-python",
   "name": "python",
   "nbconvert_exporter": "python",
   "pygments_lexer": "ipython3",
   "version": "3.8.10"
  }
 },
 "nbformat": 4,
 "nbformat_minor": 5
}
