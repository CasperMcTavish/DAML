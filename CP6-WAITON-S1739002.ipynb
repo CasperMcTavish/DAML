{
 "cells": [
  {
   "cell_type": "code",
   "execution_count": 1,
   "id": "eb12e105",
   "metadata": {},
   "outputs": [],
   "source": [
    "import numpy as np\n",
    "import matplotlib.pyplot as plt\n",
    "from iminuit import Minuit\n",
    "import scipy\n",
    "from scipy import integrate"
   ]
  },
  {
   "cell_type": "code",
   "execution_count": 2,
   "id": "615a9598",
   "metadata": {},
   "outputs": [],
   "source": [
    "# Collect data from file\n",
    "def collect_data_float(filename):\n",
    "    with open(filename) as file:\n",
    "        lines = file.readlines()\n",
    "        lines = [line.rstrip() for line in lines]\n",
    "        # Change strings to floats\n",
    "        lines = [float(x) for x in lines]\n",
    "    return lines\n",
    "\n"
   ]
  },
  {
   "cell_type": "code",
   "execution_count": 3,
   "id": "144ca456",
   "metadata": {},
   "outputs": [],
   "source": [
    "# Collecting the data for our initial file\n",
    "data = collect_data_float('datafile-exp.txt')"
   ]
  },
  {
   "cell_type": "code",
   "execution_count": 4,
   "id": "34d45919",
   "metadata": {},
   "outputs": [
    {
     "name": "stdout",
     "output_type": "stream",
     "text": [
      "4.30037022522614\n",
      "10000\n",
      "<class 'float'>\n"
     ]
    }
   ],
   "source": [
    "# Printing the different data characteristics, to ensure there wont be an issue\n",
    "# when running it\n",
    "print(data[0])\n",
    "print(len(data))\n",
    "print(type(data[0]))"
   ]
  },
  {
   "cell_type": "code",
   "execution_count": 5,
   "id": "18d217d5",
   "metadata": {},
   "outputs": [],
   "source": [
    "# Convert the data to float, as currently its in string\n",
    "# That has been put into the function to make sure I dont have to repeat code later\n",
    "#data = [float(x) for x in data]"
   ]
  },
  {
   "cell_type": "code",
   "execution_count": 6,
   "id": "b5f176a0",
   "metadata": {},
   "outputs": [],
   "source": [
    "def hist(data, title):\n",
    "    \n",
    "    # Plot histograms\n",
    "    plt.figure(figsize=(10,10))\n",
    "    plt.hist(data, bins = 100)\n",
    "        \n",
    "    plt.title(\"Histogram of \" + str(title))\n",
    "    #plt.savefig(str(data_type[Type]) + '_Full_Histogram.pdf')\n",
    "    plt.show()"
   ]
  },
  {
   "cell_type": "code",
   "execution_count": 7,
   "id": "b680fc75",
   "metadata": {},
   "outputs": [
    {
     "data": {
      "image/png": "[encoded data removed]",
      "text/plain": [
       "<Figure size 720x720 with 1 Axes>"
      ]
     },
     "metadata": {
      "needs_background": "light"
     },
     "output_type": "display_data"
    }
   ],
   "source": [
    "# Plot the data as a histogram\n",
    "hist(data, \"datafile-exp.txt\")"
   ]
  },
  {
   "cell_type": "markdown",
   "id": "80348c80",
   "metadata": {},
   "source": [
    "This is a histogram plot for our data as provided in file 'datafile-exp.txt'. It shows an exponential decay."
   ]
  },
  {
   "cell_type": "code",
   "execution_count": 9,
   "id": "c005006c",
   "metadata": {},
   "outputs": [],
   "source": [
    "# Producing the Maximum likelihood fit functions for this data\n",
    "\n",
    "# Define the exponential\n",
    "def exponential(x, lifetime):\n",
    "    y = np.exp(-x/lifetime)\n",
    "    return y\n",
    "    \n",
    "\n",
    "# Define the maximum likelihood fitting method\n",
    "def nll(lifetime):\n",
    "    \n",
    "    # Create list\n",
    "    y = []\n",
    "    \n",
    "    # Give data points\n",
    "    x = np.array(data)\n",
    "\n",
    "    # Calculate the y\n",
    "    y = exponential(x, lifetime)\n",
    "    \n",
    "    # Calculate the normalisation over our exponential range of 0->10\n",
    "    norm = lifetime * (np.exp(0) - np.exp(-10/lifetime))\n",
    "    # Apply normalisation to our data\n",
    "    y_norm = y / norm\n",
    "    \n",
    "    # Apply log\n",
    "    y_res = np.log(y_norm)\n",
    "    \n",
    "    # sum and apply negative to get nll\n",
    "    nll = -np.sum(y_res)\n",
    "    \n",
    "    return nll"
   ]
  },
  {
   "cell_type": "markdown",
   "id": "bf2a4fec",
   "metadata": {},
   "source": [
    "The normalisation is from the notes for an exponential across a specific range:\n",
    "\n",
    "$\\int_{thigh}^{tlow} exp(-\\frac{t}{\\tau})) = \\tau \\times \\left [ exp(-\\frac{t_{tlow}}{\\tau})) - exp(-\\frac{t_{thigh}}{\\tau})) \\right ]$\n",
    "\n",
    "Where we set tlow to 0 and thigh to 10"
   ]
  },
  {
   "cell_type": "code",
   "execution_count": 10,
   "id": "06857fd0",
   "metadata": {},
   "outputs": [],
   "source": [
    "# Taken from the notes from two weeks ago to show iminuit results\n",
    "def showIminuitResult( paramNames, theMinuit ):\n",
    "    \n",
    "    #averageList = {}\n",
    "\n",
    "    fstr = \"{0:8.4f}\"\n",
    "    for pn in paramNames :\n",
    "        val = theMinuit.values[pn]\n",
    "        err = theMinuit.errors[pn]\n",
    "        print('\\t','{:15s}'.format(pn), ':  \\t', fstr.format(val), ' +/- ', fstr.format(err))\n",
    "    print('\\n')\n"
   ]
  },
  {
   "cell_type": "code",
   "execution_count": 11,
   "id": "af031f86",
   "metadata": {},
   "outputs": [
    {
     "name": "stdout",
     "output_type": "stream",
     "text": [
      "\t lifetime        :  \t   2.2043  +/-    0.0250\n",
      "\n",
      "\n"
     ]
    }
   ],
   "source": [
    "# Create the minuit object to calculate the fit of our exponential function\n",
    "# over our data\n",
    "m = Minuit(nll, lifetime = 2)\n",
    "m.errors = 0.5\n",
    "m.errordef = 0.5\n",
    "\n",
    "# Fit and show results\n",
    "result = m.migrad()\n",
    "\n",
    "showIminuitResult((\"lifetime\",), m)"
   ]
  },
  {
   "cell_type": "code",
   "execution_count": 12,
   "id": "74b4d226",
   "metadata": {},
   "outputs": [
    {
     "name": "stdout",
     "output_type": "stream",
     "text": [
      "Lifetime value: \n",
      "[2.204334094034168]\n",
      "Lifetime error: \n",
      "[0.02504301368724254]\n"
     ]
    }
   ],
   "source": [
    "print(\"Lifetime value: \")\n",
    "print(str(m.values[\"lifetime\",]))\n",
    "print(\"Lifetime error: \")\n",
    "print(str(m.errors[\"lifetime\",]))"
   ]
  },
  {
   "cell_type": "markdown",
   "id": "ee366885",
   "metadata": {},
   "source": [
    "This result is in good agreement with the true value of 2.2 for the lifetime."
   ]
  },
  {
   "cell_type": "markdown",
   "id": "c5ddc49a",
   "metadata": {},
   "source": [
    "## Task 2\n",
    "### datafile-expresonance.txt"
   ]
  },
  {
   "cell_type": "code",
   "execution_count": 13,
   "id": "74a47984",
   "metadata": {},
   "outputs": [],
   "source": [
    "data_expr = collect_data_float('datafile-expresonance.txt')"
   ]
  },
  {
   "cell_type": "code",
   "execution_count": 14,
   "id": "23a05f8c",
   "metadata": {},
   "outputs": [
    {
     "data": {
      "image/png": "[encoded data removed]",
      "text/plain": [
       "<Figure size 720x720 with 1 Axes>"
      ]
     },
     "metadata": {
      "needs_background": "light"
     },
     "output_type": "display_data"
    }
   ],
   "source": [
    "hist(data_expr, \"datafile-expresonance.txt\")"
   ]
  },
  {
   "cell_type": "markdown",
   "id": "538d9d5f",
   "metadata": {},
   "source": [
    "This is the histogram plot for our second data sample, with the gaussian distribution clearly prevalent in our exponential decay."
   ]
  },
  {
   "cell_type": "code",
   "execution_count": 21,
   "id": "9eb4ffad",
   "metadata": {},
   "outputs": [],
   "source": [
    "# We will reuse the previous exponential parameter with lifetime\n",
    "\n",
    "# Define a new gaussian\n",
    "def gaussian(x, mu):\n",
    "    # fix sigma for 0.2, should sigma be 0.1? We're considering \n",
    "    sigma = 0.2\n",
    "    return np.exp(-np.power(x - mu, 2.) / (2 * np.power(sigma, 2.)))\n",
    "\n",
    "\n",
    "# Define a combined exponential and gaussian function for NLL\n",
    "def nll_exp_gauss(mu, lifetime, F):\n",
    "    # F is our fraction for how much of the distribution is gaussian/exponential\n",
    "    \n",
    "    # Take data\n",
    "    x = np.array(data_expr)\n",
    "    \n",
    "    # Calculating y for the EXPONENT\n",
    "    \n",
    "    # Calculate the y\n",
    "    y = exponential(x, lifetime)\n",
    "    # Calculate the normalisation over our exponential over range 0->10\n",
    "    norm = lifetime * (np.exp(0) - np.exp(-10/lifetime))\n",
    "    y_norm = y / norm\n",
    "    \n",
    "    # Calculating y for the GAUSSIAN\n",
    "    \n",
    "    # Calculate the y\n",
    "    yg = gaussian(x, mu)\n",
    "    # normalise our gaussian, where 0.2 is the sigma\n",
    "    yg = yg * 1/(np.sqrt(2*np.pi*0.2**2))\n",
    "    #print(yg)\n",
    "    \n",
    "    # Take joint likelihood for the gaussian and exponential\n",
    "    joint1 = [i * (1-F) for i in yg]\n",
    "    joint2 = [i * F for i in y_norm]\n",
    "    joint = np.array([sum(x) for x in zip(joint1, joint2)])\n",
    "    \n",
    "    \n",
    "    # Take log of joint\n",
    "    y_log = np.log(joint)\n",
    "    \n",
    "    # Take negative sum\n",
    "    nll = -np.sum(y_log)\n",
    "    \n",
    "    return nll\n",
    "    "
   ]
  },
  {
   "cell_type": "markdown",
   "id": "770564a6",
   "metadata": {},
   "source": [
    "Here we get our combined likelihood using the individual likelihoods multiplied by a fraction and added to one another for the Gaussian and Exponential:\n",
    "\n",
    "$L_{total} = (F)L_{exp} + (1-F)L_{gaussian}$\n",
    "\n",
    "Where the fraction is one of the parameters controlled by the minimiser.\n",
    "We normalise the exponential the same way as before, and here we normalise the gaussian in the default form:\n",
    "\n",
    "$ Normalised = Gaussian \\times \\frac{1}{\\sqrt{2\\pi\\sigma^2}} $\n",
    "\n",
    "This works just fine over our limited range even when this is technically a normalisation across 0 to infinity"
   ]
  },
  {
   "cell_type": "code",
   "execution_count": 22,
   "id": "f0e814aa",
   "metadata": {},
   "outputs": [
    {
     "name": "stdout",
     "output_type": "stream",
     "text": [
      "\t mu              :  \t   2.4998  +/-    0.0118\n",
      "\t lifetime        :  \t   5.0429  +/-    0.1027\n",
      "\t F               :  \t   0.9029  +/-    0.0045\n",
      "\n",
      "\n"
     ]
    }
   ],
   "source": [
    "# Create the minuit object, with initial guesses\n",
    "n = Minuit(nll_exp_gauss, mu = 2, lifetime = 2, F = 0.8)\n",
    "# Take the 'first step' to be 0.5 for each value\n",
    "n.errors = [0.5, 0.5, 0.5]\n",
    "# Define for NLL\n",
    "n.errordef = 0.5\n",
    "# Set limits\n",
    "n.limits = [[1,9], [0, 10], [0, 1]]\n",
    "\n",
    "# Fit and show results\n",
    "result = n.migrad()\n",
    "\n",
    "# Show results\n",
    "showIminuitResult((\"mu\", \"lifetime\", \"F\"), n)"
   ]
  },
  {
   "cell_type": "markdown",
   "id": "302e1a1e",
   "metadata": {},
   "source": [
    "So we get results that agree quite well with the true results for mu, lifetime and F (2.5, 5.0, and 0.9). This shows that our method works as expected for the data."
   ]
  },
  {
   "cell_type": "code",
   "execution_count": 23,
   "id": "511a607b",
   "metadata": {},
   "outputs": [
    {
     "data": {
      "text/html": [
       "<table>\n",
       "    <tr>\n",
       "        <td></td>\n",
       "        <th> mu </th>\n",
       "        <th> lifetime </th>\n",
       "        <th> F </th>\n",
       "    </tr>\n",
       "    <tr>\n",
       "        <th> mu </th>\n",
       "        <td> 1 </td>\n",
       "        <td style=\"background-color:rgb(246,246,250);color:black\"> -0.0346 </td>\n",
       "        <td style=\"background-color:rgb(250,248,248);color:black\"> 0.0158 </td>\n",
       "    </tr>\n",
       "    <tr>\n",
       "        <th> lifetime </th>\n",
       "        <td style=\"background-color:rgb(246,246,250);color:black\"> -0.0346 </td>\n",
       "        <td> 1 </td>\n",
       "        <td style=\"background-color:rgb(237,237,250);color:black\"> -0.0968 </td>\n",
       "    </tr>\n",
       "    <tr>\n",
       "        <th> F </th>\n",
       "        <td style=\"background-color:rgb(250,248,248);color:black\"> 0.0158 </td>\n",
       "        <td style=\"background-color:rgb(237,237,250);color:black\"> -0.0968 </td>\n",
       "        <td> 1 </td>\n",
       "    </tr>\n",
       "</table>"
      ],
      "text/plain": [
       "┌──────────┬────────────────────────────┐\n",
       "│          │       mu lifetime        F │\n",
       "├──────────┼────────────────────────────┤\n",
       "│       mu │        1  -0.0346   0.0158 │\n",
       "│ lifetime │  -0.0346        1  -0.0968 │\n",
       "│        F │   0.0158  -0.0968        1 │\n",
       "└──────────┴────────────────────────────┘"
      ]
     },
     "execution_count": 23,
     "metadata": {},
     "output_type": "execute_result"
    }
   ],
   "source": [
    "# Correlation between the different elements. Purely for review.\n",
    "n.covariance.correlation()"
   ]
  },
  {
   "cell_type": "markdown",
   "id": "b30ec1d0",
   "metadata": {},
   "source": []
  }
 ],
 "metadata": {
  "kernelspec": {
   "display_name": "Python 3 (ipykernel)",
   "language": "python",
   "name": "python3"
  },
  "language_info": {
   "codemirror_mode": {
    "name": "ipython",
    "version": 3
   },
   "file_extension": ".py",
   "mimetype": "text/x-python",
   "name": "python",
   "nbconvert_exporter": "python",
   "pygments_lexer": "ipython3",
   "version": "3.8.10"
  }
 },
 "nbformat": 4,
 "nbformat_minor": 5
}
