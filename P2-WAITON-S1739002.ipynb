{
 "cells": [
  {
   "cell_type": "markdown",
   "id": "a9894f62",
   "metadata": {},
   "source": [
    "# DAML Project 2\n",
    "\n",
    "Importing relevant libraries and useful functions (from notes)"
   ]
  },
  {
   "cell_type": "code",
   "execution_count": 1,
   "id": "4e40152e",
   "metadata": {},
   "outputs": [],
   "source": [
    "import numpy as np\n",
    "import matplotlib.pyplot as plt\n",
    "import sys\n",
    "from iminuit import Minuit\n",
    "import iminuit\n",
    "import scipy\n",
    "from scipy import integrate"
   ]
  },
  {
   "cell_type": "code",
   "execution_count": 2,
   "id": "2b2a0c1c",
   "metadata": {},
   "outputs": [],
   "source": [
    "# Taken from the notes from many weeks ago to show iminuit results\n",
    "def showIminuitResult( paramNames, theMinuit ):\n",
    "    \n",
    "    #averageList = {}\n",
    "\n",
    "    fstr = \"{0:8.4f}\"\n",
    "    for pn in paramNames :\n",
    "        val = theMinuit.values[pn]\n",
    "        err = theMinuit.errors[pn]\n",
    "        print('\\t','{:15s}'.format(pn), ':  \\t', fstr.format(val), ' +/- ', fstr.format(err))\n",
    "    print('\\n')"
   ]
  },
  {
   "cell_type": "markdown",
   "id": "31616ef5",
   "metadata": {},
   "source": [
    "## Part 1: Estimating statisical precision\n",
    "\n",
    "Use the method of pseudo-experiments (toy Monte Carlo) to determine the expected statistical\n",
    "precision with which one could measure each of the parameters with (i) 10,000 events and (ii)\n",
    "100,000 events. Assume perfect detector-resolution/perfect time measurements.\n",
    "\n",
    "The equation given for the relevant decay X -> D has the following PDF:\n",
    "P proportional to (1 + Vsin(deltaM * t)) * exp(-t/tau) \n",
    "\n",
    "Can just make P = RHS and determine normalisation factor. Do this within a range of 0 to 10, rather than 1 to infinity, as the exponential component makes results beyond 10 mostly irrelevant (and the normalisation becomes a bit more difficult).\n",
    "\n",
    "We need to build up the montecarlo simulation method to allow for precision determination in each of the parameters, tau, V and deltaM."
   ]
  },
  {
   "cell_type": "code",
   "execution_count": 3,
   "id": "ef10aa97",
   "metadata": {},
   "outputs": [],
   "source": [
    "# Setting nominal values\n",
    "tau = 1.5\n",
    "V = 0.1\n",
    "deltaM = 20.0"
   ]
  },
  {
   "cell_type": "code",
   "execution_count": 4,
   "id": "3df98fdb",
   "metadata": {},
   "outputs": [],
   "source": [
    "# define normalised probability density function\n",
    "\n",
    "def decay_pdf(t, tau, V, deltaM):\n",
    "    # calculated normalisation from range 0 to 10 for our probability equation\n",
    "    # broke it up into parts, because otherwise it looks like a mess, and is really hard to read\n",
    "    numerator = deltaM**2 * tau**2 + 1\n",
    "    outer_denom = tau* np.exp(-10/tau)\n",
    "    inner_denom = (deltaM**2 * tau**2 + V*deltaM*tau + 1)*np.exp(10/tau) - deltaM**2*tau**2 - V*deltaM*np.cos(10*deltaM)-V*np.sin(10*deltaM)-1\n",
    "    norm = numerator/(outer_denom*inner_denom)\n",
    "    # apply normalisation to pdf and return it\n",
    "    pdf_val = norm*(1+V*np.sin(deltaM*t))*np.exp(-t/tau)\n",
    "    return pdf_val"
   ]
  },
  {
   "cell_type": "code",
   "execution_count": 5,
   "id": "3445fec6",
   "metadata": {},
   "outputs": [
    {
     "data": {
      "image/png": "[encoded data removed]",
      "text/plain": [
       "<Figure size 432x288 with 1 Axes>"
      ]
     },
     "metadata": {
      "needs_background": "light"
     },
     "output_type": "display_data"
    }
   ],
   "source": [
    "# Visualise the function (and to check its correct)\n",
    "x_coords = np.linspace(0,10,num=1000)\n",
    "y_coords = decay_pdf(x_coords, tau, V, deltaM)\n",
    "\n",
    "plt.plot(x_coords,y_coords)\n",
    "plt.show()"
   ]
  },
  {
   "cell_type": "markdown",
   "id": "e7c79e9c",
   "metadata": {},
   "source": [
    "Plugged directly into desmos as well, looks exactly like this with the correct parameters.\n",
    "\n",
    "Now create a box method for our PDF to create a random distribution of our function:"
   ]
  },
  {
   "cell_type": "code",
   "execution_count": 6,
   "id": "6d9cddbe",
   "metadata": {},
   "outputs": [],
   "source": [
    "# Create a simulation function that scales to whatever value of values are needed, between 0 and upper limit\n",
    "def box_sim(runs, tau, V, deltaM, upperlim):\n",
    "        # Create list of pdf results\n",
    "    pdf_list = []\n",
    "        # Create values for upper and lower limits required by the box random generator\n",
    "    l_limit = 0\n",
    "    h_limit = 1\n",
    "        # find f_max by taking exponent at maximum and multiplying by 1.1\n",
    "        # 1.1 chosen arbitrarily as it makes it larger than max value of f\n",
    "        # This could cause issues at larger V, which defines the sinusoidal amplitude.\n",
    "        # So if the true 'max' value from the sinusoid is larger than 110% of the initial exponent position\n",
    "        # This shouldnt come up here though as our V is small\n",
    "    f_max = decay_pdf(0,tau, V, deltaM) * 1.1\n",
    "\n",
    "        # Create N random muon decays across 10 microseconds\n",
    "    while (len(pdf_list) < runs):\n",
    "            # generate random number within our pdf range scale between 0 and our upperlimit (of 10)\n",
    "        x1 = np.random.uniform(low = l_limit, high = h_limit*upperlim)\n",
    "            # Apply our pdf\n",
    "        y1 = decay_pdf(x1,tau, V, deltaM)\n",
    "            # generate second random number scale between 0 and our f_max\n",
    "        y2 = np.random.uniform(low = l_limit, high = h_limit*f_max)\n",
    "\n",
    "            # Check if y2 < y1. If so, add to list\n",
    "        if (y2 < y1):\n",
    "            pdf_list.append(x1)\n",
    "        else:\n",
    "            continue;\n",
    "            \n",
    "    return pdf_list\n",
    "   \n",
    "        \n",
    "\n"
   ]
  },
  {
   "cell_type": "markdown",
   "id": "34c3cabf",
   "metadata": {},
   "source": [
    "Define the nll function for our PDF, and use minuit to fit our pdf function to our box-method data. The number of events will change the statistical precision given, but the statistical uncertainty given by minuit will give us the expected statistical precision we can measure each of our parameters with."
   ]
  },
  {
   "cell_type": "code",
   "execution_count": 7,
   "id": "506afd2a",
   "metadata": {},
   "outputs": [],
   "source": [
    "def nll_decay(tau, V, deltaM):\n",
    "    \n",
    "    # Take data, will need to define this before calling the function, which will be done if you run through the notebook linearly\n",
    "    x = np.array(pdf_list)\n",
    "    \n",
    "    # calculate the pdf value, already normalised\n",
    "    y = decay_pdf(x, tau, V, deltaM)\n",
    "    \n",
    "    # limit y so that is cant be zero here\n",
    "    y = [10e-4 if y[i] <= 0 else y[i] for i in range(len(y))]\n",
    "    \n",
    "    # take log of y\n",
    "    y_log = np.log(y)\n",
    "    \n",
    "    # take negative sum\n",
    "    nll_sum = -np.sum(y_log)\n",
    "    \n",
    "    return nll_sum"
   ]
  },
  {
   "cell_type": "markdown",
   "id": "a3cd60f0",
   "metadata": {},
   "source": [
    "Generating 10,000 event PDF data"
   ]
  },
  {
   "cell_type": "code",
   "execution_count": 8,
   "id": "36baf241",
   "metadata": {},
   "outputs": [],
   "source": [
    "# Run sim with upperlimit of 10, to create a starter 'PDF' for the \n",
    "pdf_list = box_sim(10000, tau, V, deltaM, 10)\n"
   ]
  },
  {
   "cell_type": "code",
   "execution_count": 9,
   "id": "fa076e24",
   "metadata": {},
   "outputs": [],
   "source": [
    "# defining the plotting function used throughout the code\n",
    "def plot_hist(title, pdf_list):\n",
    "    # Print histogram of pdf_list and describe the results\n",
    "    plt.title(title)\n",
    "    plt.xlabel(\"Time (no unit)\")\n",
    "    plt.ylabel(\"Density\")\n",
    "    plt.hist(pdf_list, bins = 200, density = True)\n",
    "    plt.show()\n",
    "    "
   ]
  },
  {
   "cell_type": "code",
   "execution_count": 10,
   "id": "ac4f4dc1",
   "metadata": {},
   "outputs": [
    {
     "data": {
      "image/png": "[encoded data removed]",
      "text/plain": [
       "<Figure size 432x288 with 1 Axes>"
      ]
     },
     "metadata": {
      "needs_background": "light"
     },
     "output_type": "display_data"
    }
   ],
   "source": [
    "# and plotting our data\n",
    "plot_hist(\"Histogram of 10000 generated X->D decays.\", pdf_list)"
   ]
  },
  {
   "cell_type": "markdown",
   "id": "25cd2a5e",
   "metadata": {},
   "source": [
    "Now to use minuit with the nll to determine the parameters from this PDF. Creating a basic minuit function that will be used throughout the code:"
   ]
  },
  {
   "cell_type": "code",
   "execution_count": 11,
   "id": "5f0545ab",
   "metadata": {},
   "outputs": [],
   "source": [
    "# Minuit automated function\n",
    "def minuit_process(nll):\n",
    "\n",
    "    # hardcode the errors, errordef, limits and parameter guess vals as they will be the same across the entire project\n",
    "    m = Minuit(nll, tau = 1, V = 0.5, deltaM = 21)\n",
    "    # Set errors\n",
    "    m.errors = [1,1,2]\n",
    "    # Define for NLL\n",
    "    m.errordef = 0.5\n",
    "    # Set limits\n",
    "    m.limits = [[0,3], [0,2], [10,30]]\n",
    "    \n",
    "    # Fit and return fit\n",
    "    result = m.migrad()\n",
    "    \n",
    "    return result\n",
    "\n"
   ]
  },
  {
   "cell_type": "code",
   "execution_count": 12,
   "id": "bd2a5f8b",
   "metadata": {},
   "outputs": [
    {
     "name": "stdout",
     "output_type": "stream",
     "text": [
      "\t tau             :  \t   1.5091  +/-    0.0156\n",
      "\t V               :  \t   0.1051  +/-    0.0141\n",
      "\t deltaM          :  \t  19.9499  +/-    0.0562\n",
      "\n",
      "\n"
     ]
    }
   ],
   "source": [
    "# Apply minuit and show results\n",
    "m = minuit_process(nll_decay)\n",
    "showIminuitResult((\"tau\",\"V\",\"deltaM\"), m)"
   ]
  },
  {
   "cell_type": "markdown",
   "id": "b788d9b8",
   "metadata": {},
   "source": [
    "And giving the statistical precision for our main parameters:"
   ]
  },
  {
   "cell_type": "code",
   "execution_count": 13,
   "id": "9fb44b5e",
   "metadata": {},
   "outputs": [
    {
     "name": "stdout",
     "output_type": "stream",
     "text": [
      "Statistical Errors for 10000 events\n",
      "KEY   -   Value Name : Value(Expected statistical precision/error)\n",
      "\n",
      "Lifetime parameter (Tau) : 1.509(0.016)\n",
      "Matter/A-Matter asymm parameter (V) : 0.1051(0.014)\n",
      "Mass difference parameter (deltaM) : 19.95(0.056)\n"
     ]
    }
   ],
   "source": [
    "# Reformatting this\n",
    "# {:.2} is significant digits (rounded to two)\n",
    "print(\"Statistical Errors for 10000 events\")\n",
    "print(\"KEY   -   Value Name : Value(Expected statistical precision/error)\\n\")\n",
    "print(\"Lifetime parameter (Tau) : {:.4}({:.2})\".format(m.values[\"tau\"],m.errors[\"tau\"]))\n",
    "print(\"Matter/A-Matter asymm parameter (V) : {:.4}({:.2})\".format(m.values[\"V\"],m.errors[\"V\"]))\n",
    "print(\"Mass difference parameter (deltaM) : {:.4}({:.2})\".format(m.values[\"deltaM\"],m.errors[\"deltaM\"]))\n",
    "\n"
   ]
  },
  {
   "cell_type": "markdown",
   "id": "4cca2a77",
   "metadata": {},
   "source": [
    "This shows the statistical precision of our 10000 event run for our three parameters (the brackets are the statistical precision).\n",
    "\n",
    "Our true fit values are quite close to the true values as well, within 2 sigma (on this run at least).\n",
    "\n",
    "Now to do the same for 100000 events, we dont need to consider the pdf_list as it is always updated before the fit is run"
   ]
  },
  {
   "cell_type": "code",
   "execution_count": 14,
   "id": "22832a1f",
   "metadata": {},
   "outputs": [
    {
     "data": {
      "image/png": "[encoded data removed]",
      "text/plain": [
       "<Figure size 432x288 with 1 Axes>"
      ]
     },
     "metadata": {
      "needs_background": "light"
     },
     "output_type": "display_data"
    }
   ],
   "source": [
    "# 100,000 events\n",
    "# Run sim with upperlimit of 10, to create a starter 'PDF' for the exponential\n",
    "pdf_list = box_sim(100000, tau, V, deltaM, 10)\n",
    "\n",
    "\n",
    "# plot histogram\n",
    "plot_hist(\"Histogram of 100000 generated X->D decays.\", pdf_list)\n"
   ]
  },
  {
   "cell_type": "code",
   "execution_count": 15,
   "id": "6ca12cfd",
   "metadata": {},
   "outputs": [
    {
     "name": "stdout",
     "output_type": "stream",
     "text": [
      "\t tau             :  \t   1.4961  +/-    0.0049\n",
      "\t V               :  \t   0.0991  +/-    0.0045\n",
      "\t deltaM          :  \t  20.0159  +/-    0.0228\n",
      "\n",
      "\n"
     ]
    }
   ],
   "source": [
    "# Apply minuit and show results\n",
    "n = minuit_process(nll_decay)\n",
    "showIminuitResult((\"tau\",\"V\",\"deltaM\"), n)"
   ]
  },
  {
   "cell_type": "markdown",
   "id": "81831f3c",
   "metadata": {},
   "source": [
    "And giving the statistical precision for our main parameters:"
   ]
  },
  {
   "cell_type": "code",
   "execution_count": 16,
   "id": "327f02eb",
   "metadata": {},
   "outputs": [
    {
     "name": "stdout",
     "output_type": "stream",
     "text": [
      "Statistical Errors for 100000 events\n",
      "KEY   -   Value Name : Value(Expected statistical precision/error)\n",
      "\n",
      "Lifetime parameter (Tau) : 1.496(0.0049)\n",
      "Matter/A-Matter asymm parameter (V) : 0.0991(0.0045)\n",
      "Mass difference parameter (deltaM) : 20.02(0.023)\n"
     ]
    }
   ],
   "source": [
    "# Reformatting this\n",
    "\n",
    "# {:.2} is significant digits (rounded to two)\n",
    "print(\"Statistical Errors for 100000 events\")\n",
    "print(\"KEY   -   Value Name : Value(Expected statistical precision/error)\\n\")\n",
    "print(\"Lifetime parameter (Tau) : {:.4}({:.2})\".format(n.values[\"tau\"],n.errors[\"tau\"]))\n",
    "print(\"Matter/A-Matter asymm parameter (V) : {:.4}({:.2})\".format(n.values[\"V\"],n.errors[\"V\"]))\n",
    "print(\"Mass difference parameter (deltaM) : {:.4}({:.2})\".format(n.values[\"deltaM\"],n.errors[\"deltaM\"]))\n"
   ]
  },
  {
   "cell_type": "markdown",
   "id": "6fef6362",
   "metadata": {},
   "source": [
    "So comparing the 10,000 and 100,000 statistical precision:"
   ]
  },
  {
   "cell_type": "code",
   "execution_count": 17,
   "id": "67a92013",
   "metadata": {},
   "outputs": [
    {
     "name": "stdout",
     "output_type": "stream",
     "text": [
      "Statistical precision for 10,000 and 100,000\n",
      "Tau (10,000): 0.016       Tau (100,000): 0.0049\n",
      "V (10,000): 0.014         V (100,000): 0.0045\n",
      "deltaM (10,000): 0.056    deltaM (100,000): 0.023\n"
     ]
    }
   ],
   "source": [
    "print(\"Statistical precision for 10,000 and 100,000\")\n",
    "print(\"Tau (10,000): {:.2}       Tau (100,000): {:.2}\".format(m.errors[\"tau\"],n.errors[\"tau\"]))\n",
    "print(\"V (10,000): {:.2}         V (100,000): {:.2}\".format(m.errors[\"V\"],n.errors[\"V\"]))\n",
    "print(\"deltaM (10,000): {:.2}    deltaM (100,000): {:.2}\".format(m.errors[\"deltaM\"],n.errors[\"deltaM\"]))"
   ]
  },
  {
   "cell_type": "markdown",
   "id": "707660cc",
   "metadata": {},
   "source": [
    "So we can see here (understandably) that the more events we include, the better the statistical precision (the smaller the uncertainty given by the statistical error inherent in our data distribution).\n",
    "\n",
    "Understandably, this statistical precision is able to change due to the random nature of our data production method. A way to solve this would be to run the 10,000 events multiple times to determine the standard deviation of our many runs and use this as a statistical uncertainty to compare to the 100,000 event runs. This is done below"
   ]
  },
  {
   "cell_type": "markdown",
   "id": "7706fb4e",
   "metadata": {},
   "source": [
    "# WARNING, IF YOU RUN THE FUNCTION ABOVE, BE PREPARED FOR INCREDIBLY LONG RUNTIMES. \n",
    "\n",
    "On my home computer, the 10000 events process 10 times took a minute or so, the 100,000 events will take even longer (on i7-9700K CPU, so this is no small feat). So you've been warned.\n"
   ]
  },
  {
   "cell_type": "code",
   "execution_count": 25,
   "id": "8b26174e",
   "metadata": {},
   "outputs": [
    {
     "name": "stdout",
     "output_type": "stream",
     "text": [
      "0\n",
      "Averages and Standard deviation (Statistical Errors) for 10000 events with 25 iterations.\n",
      "KEY   -   Value Name : Value(Expected statistical precision/error)\n",
      "\n",
      "Lifetime parameter (Tau) : 1.501(0.015)\n",
      "Matter/A-Matter asymm parameter (V) : 0.1007(0.022)\n",
      "Mass difference parameter (deltaM) : 20.09(0.29)\n",
      "1\n",
      "Averages and Standard deviation (Statistical Errors) for 100000 events with 25 iterations.\n",
      "KEY   -   Value Name : Value(Expected statistical precision/error)\n",
      "\n",
      "Lifetime parameter (Tau) : 1.5(0.0039)\n",
      "Matter/A-Matter asymm parameter (V) : 0.101(0.0044)\n",
      "Mass difference parameter (deltaM) : 20.01(0.015)\n"
     ]
    }
   ],
   "source": [
    "# Taking 10000 and 100000 events, running each 100 times\n",
    "events = [10000,100000]\n",
    "for j in range(2):\n",
    "    # create precision and value list\n",
    "    print(j)\n",
    "    tau_av = []\n",
    "    V_av = []\n",
    "    deltaM_av = []\n",
    "    tau_prec_av = []\n",
    "    V_prec_av = []\n",
    "    deltaM_prec_av = []\n",
    "\n",
    "    # For number of loops, 25 times\n",
    "    for i in range(25):\n",
    "        # produce data then fit it and append it\n",
    "\n",
    "        # tau, V and deltaM are given outside of the function\n",
    "        pdf_list = box_sim(events[j], tau, V, deltaM, 10)\n",
    "        minui = minuit_process(nll_decay)\n",
    "\n",
    "        errs = minui.errors\n",
    "        vals = minui.values\n",
    "\n",
    "        # data\n",
    "        tau_av.append(vals[\"tau\"])\n",
    "        V_av.append(vals[\"V\"])\n",
    "        deltaM_av.append(vals[\"deltaM\"])\n",
    "\n",
    "        # errors\n",
    "        tau_prec_av.append(errs[\"tau\"])\n",
    "        V_prec_av.append(errs[\"V\"])\n",
    "        deltaM_prec_av.append(errs[\"deltaM\"])\n",
    "\n",
    "\n",
    "    # Average data and errors\n",
    "    tau_average = np.mean(tau_av)\n",
    "    V_average = np.mean(V_av)\n",
    "    deltaM_average = np.mean(deltaM_av)\n",
    "\n",
    "    # Take mean values of minuit errors\n",
    "    #tau_prec_average = np.mean(tau_prec_av)\n",
    "    #V_prec_average = np.mean(V_prec_av)\n",
    "    #deltaM_prec_average = np.mean(deltaM_prec_av)\n",
    "    \n",
    "    # Take standard deviation of our lists to give us statistical errors\n",
    "    tau_stdev = np.std(tau_av)\n",
    "    V_stdev = np.std(V_av)\n",
    "    deltaM_stdev = np.std(deltaM_av)\n",
    "\n",
    "    # print results and return\n",
    "\n",
    "    # {:.2} is significant digits (rounded to two)\n",
    "    print(\"Averages and Standard deviation (Statistical Errors) for \" + str(events[j]) + \" events with 25 iterations.\")\n",
    "    print(\"KEY   -   Value Name : Value(Expected statistical precision/error)\\n\")\n",
    "    print(\"Lifetime parameter (Tau) : {:.4}({:.2})\".format(tau_average,tau_stdev))\n",
    "    print(\"Matter/A-Matter asymm parameter (V) : {:.4}({:.2})\".format(V_average,V_stdev))\n",
    "    print(\"Mass difference parameter (deltaM) : {:.4}({:.2})\".format(deltaM_average,deltaM_stdev))\n",
    "\n",
    "    # save the relevant data\n",
    "    if (j==0):\n",
    "        events_10k_data = [tau_average, V_average, deltaM_average, tau_stdev, V_stdev, deltaM_stdev, tau_av, V_av, deltaM_av]\n",
    "    else:\n",
    "        events_100k_data = [tau_average, V_average, deltaM_average, tau_stdev, V_stdev, deltaM_stdev, tau_av, V_av, deltaM_av]\n",
    "    \n",
    "    \n",
    "    "
   ]
  },
  {
   "cell_type": "markdown",
   "id": "6e283d96",
   "metadata": {},
   "source": [
    "So as we can see here, when running for 100,000 events, the statistical error/standard deviation is significantly smaller over 25 runs than our 10,000 event runs. This is understandable considering that more events is equivalent to a distribution more accurate to the true PDF. Our values also get closer to the true values for our 100,000 events runs"
   ]
  },
  {
   "cell_type": "markdown",
   "id": "433a0421",
   "metadata": {},
   "source": [
    "## Part 2: Estimating possible bias due to time resolution\n",
    "\n",
    "Decay time is measured with random error and standard deviation of $\\sigma = f\\times \\tau$ where f is some fraction.\n",
    "\n",
    "If true decay time is $t_{true}$, then it is actually measured as t where t is distributed around $t_{true}$ with Gaussian probability distribution and standard deviation $\\sigma$\n",
    "\n",
    "So first task is determining the bias introduced to the measurement of each of the parameters when the data is subject to the resolution effect, but this is not included in the PDF used for fitting the parameters.\n",
    "\n",
    "So rewrite the box method including this gaussian time dependence, and create two separate PDFs. One with the gaussian noise and one without it. We will fit these and determine the bias between them."
   ]
  },
  {
   "cell_type": "code",
   "execution_count": 37,
   "id": "eb9dd744",
   "metadata": {},
   "outputs": [],
   "source": [
    "# gets a value around a certain mu within the gaussian distribution\n",
    "def gaussian(mu, sig):\n",
    "    value = np.random.normal(mu, sig, 1)\n",
    "    return value[0]\n",
    "    "
   ]
  },
  {
   "cell_type": "code",
   "execution_count": 38,
   "id": "ae0a522a",
   "metadata": {},
   "outputs": [],
   "source": [
    "# Create a simulation function that scales to whatever value of values are needed, between 0 and upper limit\n",
    "def box_sim_gauss(runs, tau, V, deltaM, upperlim):\n",
    "        # Create list of pdf results\n",
    "    pdf_list = []\n",
    "        # Create values for upper and lower limits required by the box random generator\n",
    "    l_limit = 0\n",
    "    h_limit = 1\n",
    "        # find f_max by taking exponent at maximum and multiplying by 1.1\n",
    "        # 1.1 chosen arbitrarily as it makes it larger than max value of f\n",
    "    f_max = decay_pdf(0,tau, V, deltaM) * 1.1\n",
    "\n",
    "        # Create N random muon decays across 10 microseconds\n",
    "    while (len(pdf_list) < runs):\n",
    "            # generate random number within our pdf range scale between 0 and our upperlimit (of 10)\n",
    "        x1 = np.random.uniform(low = l_limit, high = h_limit*upperlim)\n",
    "            # Apply our pdf\n",
    "        y1 = decay_pdf(x1,tau, V, deltaM)\n",
    "            # generate second random number scale between 0 and our f_max\n",
    "        y2 = np.random.uniform(low = l_limit, high = h_limit*f_max)\n",
    "\n",
    "            # Check if y2 < y1. If so, add to list.\n",
    "        if (y2 < y1):\n",
    "            \n",
    "            # Time resolution stuff was initially here, but instead we'll make a \"apply gaussian to data\" function\n",
    "            # find sigma\n",
    "            #sigma = fraction * tau\n",
    "            # find point around x1 (the mu) within sigma\n",
    "            #x1 = gaussian(x1, sigma)\n",
    "            \n",
    "            pdf_list.append(x1)\n",
    "        else:\n",
    "            continue;\n",
    "            \n",
    "    return pdf_list\n",
    "   \n",
    "    \n",
    "# create new data set with noise\n",
    "def noise_adder(pdf_list, fraction):\n",
    "    pdf_list_noise = []\n",
    "    sigma = fraction * tau\n",
    "    # apply gaussian effect to each data sample\n",
    "    for k in range(len(pdf_list)):\n",
    "        pdf_list_noise.append(gaussian(pdf_list[k], sigma))\n",
    "        \n",
    "    # return noise list\n",
    "    return pdf_list_noise\n"
   ]
  },
  {
   "cell_type": "markdown",
   "id": "83906732",
   "metadata": {},
   "source": [
    "Generating new data for our f = 0.01 values"
   ]
  },
  {
   "cell_type": "code",
   "execution_count": 39,
   "id": "4a9abf7a",
   "metadata": {},
   "outputs": [
    {
     "data": {
      "image/png": "[encoded data removed]",
      "text/plain": [
       "<Figure size 432x288 with 1 Axes>"
      ]
     },
     "metadata": {
      "needs_background": "light"
     },
     "output_type": "display_data"
    },
    {
     "data": {
      "image/png": "[encoded data removed]",
      "text/plain": [
       "<Figure size 432x288 with 1 Axes>"
      ]
     },
     "metadata": {
      "needs_background": "light"
     },
     "output_type": "display_data"
    }
   ],
   "source": [
    "# Generate new data with our box_sim_gauss function, f = 0.01\n",
    "pdf_list = box_sim_gauss(10000, tau, V, deltaM, 10)\n",
    "pdf_list_noise = noise_adder(pdf_list, 0.01)\n",
    "# plot histograms\n",
    "plot_hist(\"Histogram of 100000 generated X->D decays\", pdf_list)\n",
    "plot_hist(\"Histogram of 100000 generated X->D decays with gaussian error f = 0.01\", pdf_list_noise)\n"
   ]
  },
  {
   "cell_type": "markdown",
   "id": "2339d1e1",
   "metadata": {},
   "source": [
    "Fit using our previous NLL function and minuit onto this new data, and then onto the gaussian noise data"
   ]
  },
  {
   "cell_type": "code",
   "execution_count": 40,
   "id": "9297245f",
   "metadata": {},
   "outputs": [
    {
     "name": "stdout",
     "output_type": "stream",
     "text": [
      "\t tau             :  \t   1.4997  +/-    0.0155\n",
      "\t V               :  \t   0.1189  +/-    0.0142\n",
      "\t deltaM          :  \t  19.9094  +/-    0.0547\n",
      "\n",
      "\n"
     ]
    }
   ],
   "source": [
    "# Apply minuit and show results for normal data\n",
    "o = minuit_process(nll_decay)\n",
    "showIminuitResult((\"tau\",\"V\",\"deltaM\"), o)\n"
   ]
  },
  {
   "cell_type": "code",
   "execution_count": 41,
   "id": "9a104851",
   "metadata": {},
   "outputs": [
    {
     "name": "stdout",
     "output_type": "stream",
     "text": [
      "\t tau             :  \t   1.4991  +/-    0.0154\n",
      "\t V               :  \t   0.1109  +/-    0.0142\n",
      "\t deltaM          :  \t  19.8930  +/-    0.0609\n",
      "\n",
      "\n"
     ]
    }
   ],
   "source": [
    "# Apply minuit and show results for gaussian error data\n",
    "# reset the pdf_list\n",
    "pdf_list = pdf_list_noise\n",
    "o_noise = minuit_process(nll_decay)\n",
    "showIminuitResult((\"tau\",\"V\",\"deltaM\"), o_noise)\n"
   ]
  },
  {
   "cell_type": "markdown",
   "id": "7e4a489c",
   "metadata": {},
   "source": [
    "Printing results, then comparing with previous results from part 1 (10k events) to get the bias."
   ]
  },
  {
   "cell_type": "code",
   "execution_count": 42,
   "id": "3b8943d8",
   "metadata": {},
   "outputs": [
    {
     "name": "stdout",
     "output_type": "stream",
     "text": [
      "f = 0.01\n",
      "KEY   -   Value Name : Value(Expected statistical precision/error)\n",
      "\n",
      "Statistical Errors for 100000 events without noise\n",
      "Lifetime parameter (Tau) : 1.49973(0.01546)\n",
      "Matter/A-Matter asymm parameter (V) : 0.118856(0.01418)\n",
      "Mass difference parameter (deltaM) : 19.9094(0.05473)\n",
      "\n",
      "\n",
      "Statistical Errors for 100000 events with noise\n",
      "Lifetime parameter (Tau) : 1.49908(0.01545)\n",
      "Matter/A-Matter asymm parameter (V) : 0.110949(0.01419)\n",
      "Mass difference parameter (deltaM) : 19.893(0.06094)\n",
      "\n",
      "\n",
      "Bias produced by the gaussian error:\n",
      "Lifetime parameter bias (Tau) : 0.0006439\n",
      "Matter/A-Matter asymm parameter (V) : 0.007907\n",
      "Mass difference parameter (deltaM) : 0.01644\n"
     ]
    }
   ],
   "source": [
    "print(\"f = 0.01\")\n",
    "# {:.2} is significant digits (rounded to two)\n",
    "print(\"KEY   -   Value Name : Value(Expected statistical precision/error)\\n\")\n",
    "\n",
    "print(\"Statistical Errors for 100000 events without noise\")\n",
    "print(\"Lifetime parameter (Tau) : {:.6}({:.4})\".format(o.values[\"tau\"],o.errors[\"tau\"]))\n",
    "print(\"Matter/A-Matter asymm parameter (V) : {:.6}({:.4})\".format(o.values[\"V\"],o.errors[\"V\"]))\n",
    "print(\"Mass difference parameter (deltaM) : {:.6}({:.4})\".format(o.values[\"deltaM\"],o.errors[\"deltaM\"]))\n",
    "print(\"\")\n",
    "print(\"\")\n",
    "\n",
    "print(\"Statistical Errors for 100000 events with noise\")\n",
    "print(\"Lifetime parameter (Tau) : {:.6}({:.4})\".format(o_noise.values[\"tau\"],o_noise.errors[\"tau\"]))\n",
    "print(\"Matter/A-Matter asymm parameter (V) : {:.6}({:.4})\".format(o_noise.values[\"V\"],o_noise.errors[\"V\"]))\n",
    "print(\"Mass difference parameter (deltaM) : {:.6}({:.4})\".format(o_noise.values[\"deltaM\"],o_noise.errors[\"deltaM\"]))\n",
    "print(\"\")\n",
    "print(\"\")\n",
    "print(\"Bias produced by the gaussian error:\")\n",
    "# subtract the initial 10,000 event fit values from these new ones\n",
    "print(\"Lifetime parameter bias (Tau) : {:.4}\".format((o.values[\"tau\"]-o_noise.values[\"tau\"])))\n",
    "print(\"Matter/A-Matter asymm parameter (V) : {:.4}\".format((o.values[\"V\"]-o_noise.values[\"V\"])))\n",
    "print(\"Mass difference parameter (deltaM) : {:.4}\".format((o.values[\"deltaM\"]-o_noise.values[\"deltaM\"])))"
   ]
  },
  {
   "cell_type": "markdown",
   "id": "7b687641",
   "metadata": {},
   "source": [
    "So we can see here the bias produced due to the introduction of the gaussian error into our data production, but not our fitting. The bias produced here is very small, most likely due to the very small amount of gaussian noise we are adding. It is also more prevalent in the parameters V and $\\Delta M$ which are characteristic of the sinusoidal component of the original function. This sinusoidal component is significantly 'blurred' in our data due to this noise and so I expect the next dataset to be even more biased away from the expected values. The bias is then demonstrated to be minimal when compared to the statistical errors for V and $\\Delta M$.\n",
    "\n",
    "Now onto f = 0.03, generating the new data:"
   ]
  },
  {
   "cell_type": "code",
   "execution_count": 43,
   "id": "5a6246ef",
   "metadata": {},
   "outputs": [
    {
     "data": {
      "image/png": "[encoded data removed]",
      "text/plain": [
       "<Figure size 432x288 with 1 Axes>"
      ]
     },
     "metadata": {
      "needs_background": "light"
     },
     "output_type": "display_data"
    },
    {
     "data": {
      "image/png": "[encoded data removed]",
      "text/plain": [
       "<Figure size 432x288 with 1 Axes>"
      ]
     },
     "metadata": {
      "needs_background": "light"
     },
     "output_type": "display_data"
    }
   ],
   "source": [
    "# Generate new data with our box_sim_gauss function, f = 0.03\n",
    "pdf_list = box_sim_gauss(10000, tau, V, deltaM, 10)\n",
    "pdf_list_noise = noise_adder(pdf_list, 0.03)\n",
    "# plot histograms\n",
    "plot_hist(\"Histogram of 100000 generated X->D decays\", pdf_list)\n",
    "plot_hist(\"Histogram of 100000 generated X->D decays with gaussian error f = 0.01\", pdf_list_noise)\n",
    "\n"
   ]
  },
  {
   "cell_type": "code",
   "execution_count": 33,
   "id": "512c152e",
   "metadata": {},
   "outputs": [
    {
     "name": "stdout",
     "output_type": "stream",
     "text": [
      "\t tau             :  \t   1.5020  +/-    0.0155\n",
      "\t V               :  \t   0.0853  +/-    0.0142\n",
      "\t deltaM          :  \t  20.0254  +/-    0.0924\n",
      "\n",
      "\n"
     ]
    }
   ],
   "source": [
    "# Apply minuit and show results\n",
    "p = minuit_process(nll_decay)\n",
    "showIminuitResult((\"tau\",\"V\",\"deltaM\"), p)\n"
   ]
  },
  {
   "cell_type": "code",
   "execution_count": 34,
   "id": "0d31fcf9",
   "metadata": {},
   "outputs": [
    {
     "name": "stdout",
     "output_type": "stream",
     "text": [
      "\t tau             :  \t   1.5000  +/-    0.0155\n",
      "\t V               :  \t   0.0440  +/-    0.0141\n",
      "\t deltaM          :  \t  19.9387  +/-    0.1496\n",
      "\n",
      "\n"
     ]
    }
   ],
   "source": [
    "# Apply minuit and show results for gaussian error data\n",
    "# reset the pdf_list\n",
    "pdf_list = pdf_list_noise\n",
    "p_noise = minuit_process(nll_decay)\n",
    "showIminuitResult((\"tau\",\"V\",\"deltaM\"), p_noise)\n"
   ]
  },
  {
   "cell_type": "code",
   "execution_count": 35,
   "id": "3862ad27",
   "metadata": {},
   "outputs": [
    {
     "name": "stdout",
     "output_type": "stream",
     "text": [
      "f = 0.03\n",
      "KEY   -   Value Name : Value(Expected statistical precision/error)\n",
      "\n",
      "Statistical Errors for 100000 events without noise\n",
      "Lifetime parameter (Tau) : 1.502(0.01548)\n",
      "Matter/A-Matter asymm parameter (V) : 0.0853365(0.01415)\n",
      "Mass difference parameter (deltaM) : 20.0254(0.09235)\n",
      "\n",
      "\n",
      "Statistical Errors for 100000 events with noise\n",
      "Lifetime parameter (Tau) : 1.49999(0.01546)\n",
      "Matter/A-Matter asymm parameter (V) : 0.0439713(0.0141)\n",
      "Mass difference parameter (deltaM) : 19.9387(0.1496)\n",
      "\n",
      "\n",
      "Bias produced by the gaussian error:\n",
      "Lifetime parameter bias (Tau) : 0.002008\n",
      "Matter/A-Matter asymm parameter (V) : 0.04137\n",
      "Mass difference parameter (deltaM) : 0.0867\n"
     ]
    }
   ],
   "source": [
    "print(\"f = 0.03\")\n",
    "# {:.2} is significant digits (rounded to two)\n",
    "print(\"KEY   -   Value Name : Value(Expected statistical precision/error)\\n\")\n",
    "\n",
    "print(\"Statistical Errors for 100000 events without noise\")\n",
    "print(\"Lifetime parameter (Tau) : {:.6}({:.4})\".format(p.values[\"tau\"],p.errors[\"tau\"]))\n",
    "print(\"Matter/A-Matter asymm parameter (V) : {:.6}({:.4})\".format(p.values[\"V\"],p.errors[\"V\"]))\n",
    "print(\"Mass difference parameter (deltaM) : {:.6}({:.4})\".format(p.values[\"deltaM\"],p.errors[\"deltaM\"]))\n",
    "print(\"\")\n",
    "print(\"\")\n",
    "\n",
    "print(\"Statistical Errors for 100000 events with noise\")\n",
    "print(\"Lifetime parameter (Tau) : {:.6}({:.4})\".format(p_noise.values[\"tau\"],p_noise.errors[\"tau\"]))\n",
    "print(\"Matter/A-Matter asymm parameter (V) : {:.6}({:.4})\".format(p_noise.values[\"V\"],p_noise.errors[\"V\"]))\n",
    "print(\"Mass difference parameter (deltaM) : {:.6}({:.4})\".format(p_noise.values[\"deltaM\"],p_noise.errors[\"deltaM\"]))\n",
    "print(\"\")\n",
    "print(\"\")\n",
    "print(\"Bias produced by the gaussian error:\")\n",
    "# subtract the initial 10,000 event fit values from these new ones\n",
    "print(\"Lifetime parameter bias (Tau) : {:.4}\".format((p.values[\"tau\"]-p_noise.values[\"tau\"])))\n",
    "print(\"Matter/A-Matter asymm parameter (V) : {:.4}\".format((p.values[\"V\"]-p_noise.values[\"V\"])))\n",
    "print(\"Mass difference parameter (deltaM) : {:.4}\".format((p.values[\"deltaM\"]-p_noise.values[\"deltaM\"])))"
   ]
  },
  {
   "cell_type": "markdown",
   "id": "604297b6",
   "metadata": {},
   "source": [
    "Comparing these bias values to the ones from earlier, we can see that the tau bias is similar to previous values, and is significantly less than the statistical noise from our noisy fit. The V and $\\Delta M$ bias on the otherhand are significantly larger than their statistical error, and this is reflected in the fact that they are significantly large in comparison to the statistical errors from the noisy fit.\n",
    "\n",
    "Looking at the graph above, it is clear why this is the case. The V and $\\Delta M$ parameters are defined by the sinusoidal components in the original function, and the gaussian noise almost wipes them out entirely, making it very difficult for our fitting process to determine their values with great accuracy.\n",
    "\n",
    "Now to compile the data altogether (after some deprecated code)"
   ]
  },
  {
   "cell_type": "code",
   "execution_count": 30,
   "id": "9eb1617c",
   "metadata": {
    "scrolled": true
   },
   "outputs": [],
   "source": [
    "\n",
    "# DEPRECATED CODE\n",
    "\n",
    "# {:.2} is significant digits (rounded to two)\n",
    "#print(\"Statistical Errors for 100000 events\")\n",
    "#print(\"KEY   -   Value Name : Value(Expected statistical precision/error)\\n\")\n",
    "#print(\"Lifetime parameter (Tau) : {:.4}({:.2})\".format(p.values[\"tau\"],p.errors[\"tau\"]))\n",
    "#print(\"Matter/A-Matter asymm parameter (V) : {:.4}({:.2})\".format(p.values[\"V\"],p.errors[\"V\"]))\n",
    "#print(\"Mass difference parameter (deltaM) : {:.4}({:.2})\".format(p.values[\"deltaM\"],p.errors[\"deltaM\"]))\n",
    "#print(\"\")\n",
    "#print(\"Bias produced by the gaussian error:\")\n",
    "## subtract the initial 10,000 event fit errors from these new ones\n",
    "#print(\"Lifetime parameter bias (Tau) : {:.4}\".format(abs(p.values[\"tau\"]-m.values[\"tau\"])))\n",
    "#print(\"Matter/A-Matter asymm parameter (V) : {:.4}\".format(abs(p.errors[\"V\"]-m.values[\"V\"])))\n",
    "#print(\"Mass difference parameter (deltaM) : {:.4}\".format(abs(p.values[\"deltaM\"]-m.values[\"deltaM\"])))"
   ]
  },
  {
   "cell_type": "markdown",
   "id": "2f58a40f",
   "metadata": {},
   "source": [
    "And then lets compare biases from the 0.01 and 0.03 fractions:"
   ]
  },
  {
   "cell_type": "code",
   "execution_count": 44,
   "id": "32c9d083",
   "metadata": {},
   "outputs": [
    {
     "name": "stdout",
     "output_type": "stream",
     "text": [
      "FRACTION 0.01 BIAS RESULTS W/ ERRORS\n",
      "Lifetime parameter bias (Tau) : 0.0006439\n",
      "Matter/A-Matter asymm parameter (V) : 0.007907\n",
      "Mass difference parameter (deltaM) : 0.01644\n",
      "\n",
      "Statistical Errors\n",
      "Lifetime parameter (Tau) : (0.015)\n",
      "Matter/A-Matter asymm parameter (V) : (0.014)\n",
      "Mass difference parameter (deltaM) : (0.061)\n",
      "\n",
      "\n",
      "FRACTION 0.03 BIAS RESULTS\n",
      "Lifetime parameter bias (Tau) : 0.002008\n",
      "Matter/A-Matter asymm parameter (V) : 0.04137\n",
      "Mass difference parameter (deltaM) : 0.0867\n",
      "\n",
      "Statistical Errors\n",
      "Lifetime parameter (Tau) : (0.015)\n",
      "Matter/A-Matter asymm parameter (V) : (0.014)\n",
      "Mass difference parameter (deltaM) : (0.15)\n"
     ]
    }
   ],
   "source": [
    "print(\"FRACTION 0.01 BIAS RESULTS W/ ERRORS\")\n",
    "print(\"Lifetime parameter bias (Tau) : {:.4}\".format((o.values[\"tau\"]-o_noise.values[\"tau\"])))\n",
    "print(\"Matter/A-Matter asymm parameter (V) : {:.4}\".format((o.values[\"V\"]-o_noise.values[\"V\"])))\n",
    "print(\"Mass difference parameter (deltaM) : {:.4}\".format((o.values[\"deltaM\"]-o_noise.values[\"deltaM\"])))\n",
    "print(\"\")\n",
    "print(\"Statistical Errors\")\n",
    "print(\"Lifetime parameter (Tau) : ({:.2})\".format(o_noise.errors[\"tau\"]))\n",
    "print(\"Matter/A-Matter asymm parameter (V) : ({:.2})\".format(o_noise.errors[\"V\"]))\n",
    "print(\"Mass difference parameter (deltaM) : ({:.2})\".format(o_noise.errors[\"deltaM\"]))\n",
    "print(\"\")\n",
    "print(\"\")\n",
    "print(\"FRACTION 0.03 BIAS RESULTS\")\n",
    "print(\"Lifetime parameter bias (Tau) : {:.4}\".format((p.values[\"tau\"]-p_noise.values[\"tau\"])))\n",
    "print(\"Matter/A-Matter asymm parameter (V) : {:.4}\".format((p.values[\"V\"]-p_noise.values[\"V\"])))\n",
    "print(\"Mass difference parameter (deltaM) : {:.4}\".format((p.values[\"deltaM\"]-p_noise.values[\"deltaM\"])))\n",
    "print(\"\")\n",
    "print(\"Statistical Errors\")\n",
    "print(\"Lifetime parameter (Tau) : ({:.2})\".format(p_noise.errors[\"tau\"]))\n",
    "print(\"Matter/A-Matter asymm parameter (V) : ({:.2})\".format(p_noise.errors[\"V\"]))\n",
    "print(\"Mass difference parameter (deltaM) : ({:.2})\".format(p_noise.errors[\"deltaM\"]))"
   ]
  },
  {
   "cell_type": "markdown",
   "id": "54a2535b",
   "metadata": {},
   "source": [
    "So as we can see here, as we increase the fraction of gaussian noise in our data, the bias increases for our M/AM and mass difference parameters. This is understandable considering the importance of the sinusoidal component of the PDF to their fitting. Even our Tau bias increases by a factor of 10, but this is still small when compared to the statistical error. The V and $\\Delta M$ parameters are now significant in relation to their fit's statistical error, and so it is clear here that there is a relevant bias shifting our results from the nominal values.\n",
    "\n",
    "But the data we generate is random by nature, so these biases will change on a run-by-run basis. So if we do many simulations of this same process and obtain the biases from them, we can determine an 'average bias' and a consequent error on the bias. This will be useful for solidifying our results further. This is a much better method than using the minuit statistical error, as this is purely the error on the fit, rather than the error in our new data.\n",
    "\n",
    "So, to make the process automatic, need to create little functional loops that will create new data, fit it and output the biases as we need them:"
   ]
  },
  {
   "cell_type": "code",
   "execution_count": 17,
   "id": "de4e7e50",
   "metadata": {},
   "outputs": [],
   "source": [
    "def collate_bias_components(pdf_list):\n",
    "    mini = minuit_process(nll_decay)\n",
    "    print(mini)\n",
    "\n",
    "    errs = mini.errors\n",
    "    vals = mini.values\n",
    "\n",
    "    # data\n",
    "    tau_list.append(vals[\"tau\"])\n",
    "    V_list.append(vals[\"V\"])\n",
    "    deltaM_list.append(vals[\"deltaM\"])\n",
    "\n",
    "    # errors\n",
    "    tau_prec_list.append(errs[\"tau\"])\n",
    "    V_prec_list.append(errs[\"V\"])\n",
    "    deltaM_prec_list.append(errs[\"deltaM\"])\n",
    "    \n",
    "    return tau_list, V_list, deltaM_list, tau_prec_list, V_prec_list, deltaM_prec_list"
   ]
  },
  {
   "cell_type": "code",
   "execution_count": 22,
   "id": "b2e0beec",
   "metadata": {},
   "outputs": [],
   "source": [
    "# Method for calculating bias average and its  \n",
    "def bias_average(fraction, iterations):\n",
    "    # create list for each parameter\n",
    "    tau_list = []\n",
    "    V_list = []\n",
    "    deltaM_list = []\n",
    "    tau_prec_list = []\n",
    "    V_prec_list = []\n",
    "    deltaM_prec_list =[]\n",
    "    \n",
    "    # create loop, 10000 events per each simulation\n",
    "    for i in range(iterations):\n",
    "        # collect date\n",
    "        del pdf_list\n",
    "        pdf_list = box_sim_gauss(10000, tau, V, deltaM, 10)\n",
    "        pdf_list_noise = noise_adder(pdf_list, fraction)\n",
    "        # fit and collect\n",
    "        tau_list, V_list, deltaM_list, tau_prec_list, V_prec_list, deltaM_prec_list = collate_bias_components(pdf_list)    \n",
    "    \n",
    "    # Calculate the standard averages for these parameters and their errors\n",
    "    tau_average = np.mean(tau_list)\n",
    "    V_average = np.mean(V_list)\n",
    "    deltaM_average = np.mean(deltaM_list)\n",
    "    \n",
    "    # standard averages of the statistical uncertainty (from minuit). Unsure whether to use this or not yet, but being calculated.\n",
    "    tau_prec_average = np.mean(tau_prec_list)\n",
    "    V_prec_average = np.mean(V_prec_list)\n",
    "    deltaM_prec_average = np.mean(deltaM_prec_list)  \n",
    "    \n",
    "    # take standard error on these values, which will be used as standard error on our bias\n",
    "    events_sqrt = np.sqrt(len(tau_list))\n",
    "    tau_std = np.std(tau_list)/events_sqrt\n",
    "    V_std = np.std(V_list)/events_sqrt\n",
    "    deltaM_std = np.std(deltaM_list)/events_sqrt\n",
    "    \n",
    "    # calculate biases against average values from part 1 10,000 event run\n",
    "    tau_bias = (tau_average - m.values[\"tau\"])\n",
    "    V_bias = (V_average - m.values[\"V\"])\n",
    "    deltaM_bias = (deltaM_average - m.values[\"deltaM\"])\n",
    "    \n",
    "    # returning ALL the values, so that we can determine which ones are useful.\n",
    "    return tau_average, V_average, deltaM_average, tau_bias, V_bias, deltaM_bias, tau_std,  V_std, deltaM_std, tau_prec_average, V_prec_average, deltaM_prec_average\n",
    "    \n",
    "\n",
    "    "
   ]
  },
  {
   "cell_type": "markdown",
   "id": "94cf860c",
   "metadata": {},
   "source": [
    "### The function above didnt work, it appears to be because it decides to pull the pdf_list from a previous list rather than the one produced one line before, BUT if you try and remove this pdf_list from within the function it doesnt recognise it as existing.\n",
    "\n",
    "This was clearly the same issue that I was experiencing in part 1 (that I have now removed from the part). The sad and simple solution is that I need to pull the process out of the function, then it works perfectly. Be careful when running this next section of code as it will take a while.\n",
    "\n",
    "Running 100 simulations for each of the 10k events, for each of the fractions and pulling out the bias and other relevant statistical information"
   ]
  },
  {
   "cell_type": "code",
   "execution_count": 23,
   "id": "5cfc99a3",
   "metadata": {},
   "outputs": [],
   "source": [
    "# defining the print system first.\n",
    "# lots of data...\n",
    "# fully dependent on correct formatting in the next section, very obtuse to read but it works.\n",
    "\n",
    "def print_bias_results(results):\n",
    "    print(\"NO NOISE AVERAGE RESULTS:\\n\")\n",
    "    print(\"TAU Value: {:.4}, Statistical Error: {:.4}, Standard Error: {:.4}\\n\".format(results[0][0], results[0][3], results[0][6]))\n",
    "    print(\"V Value: {:.4}, Statistical Error: {:.4}, Standard Error: {:.4}\\n\".format(results[0][1], results[0][4], results[0][7]))\n",
    "    print(\"deltaM Value: {:.4}, Statistical Error: {:.4}, Standard Error: {:.4}\\n\".format(results[0][2], results[0][5], results[0][8]))\n",
    "    print(\"\")\n",
    "    print(\"\")\n",
    "    print(\"NOISE AVERAGE RESULTS:\\n\")\n",
    "    print(\"TAU Value: {:.4}, Statistical Error: {:.4}, Standard Error: {:.4}\\n\".format(results[1][0], results[1][3], results[1][6]))\n",
    "    print(\"V Value: {:.4}, Statistical Error: {:.4}, Standard Error: {:.4}\\n\".format(results[1][1], results[1][4], results[1][7]))\n",
    "    print(\"deltaM Value: {:.4}, Statistical Error: {:.4},~ Standard Error: {:.4}\\n\".format(results[1][2], results[1][5], results[1][8]))\n",
    "    print(\"\")\n",
    "    print(\"\")\n",
    "    print(\"BIAS AVERAGE RESULTS:\\n\")\n",
    "    print(\"TAU bias: {:.4}, Standard Error: {:.4}\".format(results[2][0],results[2][3]))\n",
    "    print(\"V bias: {:.4}, Standard Error: {:.4}\".format(results[2][1],results[2][4]))\n",
    "    print(\"deltaM bias: {:.4}, Standard Error: {:.4}\".format(results[2][2],results[2][5]))"
   ]
  },
  {
   "cell_type": "markdown",
   "id": "ee9c9521",
   "metadata": {},
   "source": [
    "## Be careful! this section runs the simulation 100 times for each fraction! So it will take a long time to run."
   ]
  },
  {
   "cell_type": "code",
   "execution_count": 24,
   "id": "fec3cfa3",
   "metadata": {
    "scrolled": false
   },
   "outputs": [
    {
     "name": "stdout",
     "output_type": "stream",
     "text": [
      "0% complete\n",
      "10% complete\n",
      "20% complete\n"
     ]
    },
    {
     "name": "stderr",
     "output_type": "stream",
     "text": [
      "C:\\Users\\johnw\\anaconda3\\envs\\daml\\lib\\site-packages\\ipykernel_launcher.py:8: RuntimeWarning: overflow encountered in exp\n",
      "  \n",
      "C:\\Users\\johnw\\anaconda3\\envs\\daml\\lib\\site-packages\\ipykernel_launcher.py:9: RuntimeWarning: invalid value encountered in double_scalars\n",
      "  if __name__ == '__main__':\n"
     ]
    },
    {
     "name": "stdout",
     "output_type": "stream",
     "text": [
      "30% complete\n",
      "40% complete\n",
      "50% complete\n",
      "60% complete\n",
      "70% complete\n",
      "80% complete\n",
      "90% complete\n",
      "Fraction 0.01 Results:\n",
      "\n",
      "NO NOISE AVERAGE RESULTS:\n",
      "\n",
      "TAU Value: 1.499, Statistical Error: 0.01545, Standard Error: 0.001462\n",
      "\n",
      "V Value: 0.09442, Statistical Error: 0.01418, Standard Error: 0.002341\n",
      "\n",
      "deltaM Value: 20.02, Statistical Error: 0.08833, Standard Error: 0.06317\n",
      "\n",
      "\n",
      "\n",
      "NOISE AVERAGE RESULTS:\n",
      "\n",
      "TAU Value: 1.498, Statistical Error: 0.01544, Standard Error: 0.001466\n",
      "\n",
      "V Value: 0.08161, Statistical Error: 0.01451, Standard Error: 0.002882\n",
      "\n",
      "deltaM Value: 19.85, Statistical Error: 0.2941,~ Standard Error: 0.1871\n",
      "\n",
      "\n",
      "\n",
      "BIAS AVERAGE RESULTS:\n",
      "\n",
      "TAU bias: 0.000621, Standard Error: 0.0001295\n",
      "V bias: 0.01281, Standard Error: 0.002493\n",
      "deltaM bias: 0.1684, Standard Error: 0.1811\n",
      "==========================\n",
      "0% complete\n",
      "10% complete\n",
      "20% complete\n",
      "30% complete\n",
      "40% complete\n",
      "50% complete\n",
      "60% complete\n",
      "70% complete\n",
      "80% complete\n",
      "90% complete\n",
      "Fraction 0.03 Results:\n",
      "\n",
      "NO NOISE AVERAGE RESULTS:\n",
      "\n",
      "TAU Value: 1.499, Statistical Error: 0.01546, Standard Error: 0.001542\n",
      "\n",
      "V Value: 0.09369, Statistical Error: 0.01431, Standard Error: 0.002532\n",
      "\n",
      "deltaM Value: 19.96, Statistical Error: 0.0918, Standard Error: 0.1866\n",
      "\n",
      "\n",
      "\n",
      "NOISE AVERAGE RESULTS:\n",
      "\n",
      "TAU Value: 1.496, Statistical Error: 0.01435, Standard Error: 0.001548\n",
      "\n",
      "V Value: 0.03466, Statistical Error: 0.02006, Standard Error: 0.002229\n",
      "\n",
      "deltaM Value: 20.05, Statistical Error: 1.797,~ Standard Error: 0.1526\n",
      "\n",
      "\n",
      "\n",
      "BIAS AVERAGE RESULTS:\n",
      "\n",
      "TAU bias: 0.003145, Standard Error: 0.0001692\n",
      "V bias: 0.05903, Standard Error: 0.003185\n",
      "deltaM bias: -0.08974, Standard Error: 0.236\n",
      "==========================\n"
     ]
    }
   ],
   "source": [
    "# defining the relavent lists beforehand\n",
    "fractions = [0.01, 0.03]\n",
    "simulation_runs = []\n",
    "sim_titles = [\"Fraction 0.01 Results:\\n\", \"Fraction 0.03 Results:\\n\"]\n",
    "\n",
    "# list of two fractions\n",
    "for j in range(2):\n",
    "    # create list for each parameter\n",
    "    \n",
    "    # biases\n",
    "    tau_bias = []\n",
    "    V_bias = []\n",
    "    deltaM_bias = []\n",
    "    \n",
    "    # noiseless data\n",
    "    tau_list = []\n",
    "    V_list = []\n",
    "    deltaM_list = []\n",
    "    tau_prec_list = []\n",
    "    V_prec_list = []\n",
    "    deltaM_prec_list =[]\n",
    "    \n",
    "    # noisy data\n",
    "    tau_list_noise = []\n",
    "    V_list_noise = []\n",
    "    deltaM_list_noise = []\n",
    "    tau_prec_list_noise = []\n",
    "    V_prec_list_noise = []\n",
    "    deltaM_prec_list_noise =[]\n",
    "    \n",
    "\n",
    "    # create loop, 10000 events per each simulation, 100 sims for each\n",
    "    for i in range(100):\n",
    "\n",
    "        # generate the data, but only use noiseless data first\n",
    "        pdf_list = box_sim_gauss(10000, tau, V, deltaM, 10)\n",
    "        pdf_list_noise = noise_adder(pdf_list, fractions[j])\n",
    "        # create minuit object and fit to original data\n",
    "        mini = minuit_process(nll_decay)\n",
    "\n",
    "        errs = mini.errors\n",
    "        vals = mini.values\n",
    "\n",
    "        # data\n",
    "        tau_list.append(vals[\"tau\"])\n",
    "        V_list.append(vals[\"V\"])\n",
    "        deltaM_list.append(vals[\"deltaM\"])\n",
    "\n",
    "        # errors\n",
    "        tau_prec_list.append(errs[\"tau\"])\n",
    "        V_prec_list.append(errs[\"V\"])\n",
    "        deltaM_prec_list.append(errs[\"deltaM\"])\n",
    "        \n",
    "        # then add noise data and fit for that instead\n",
    "        pdf_list = pdf_list_noise\n",
    "        \n",
    "        mini2 = minuit_process(nll_decay)\n",
    "        \n",
    "        errs2 = mini2.errors\n",
    "        vals2 = mini2.values\n",
    "        \n",
    "        # data\n",
    "        tau_list_noise.append(vals2[\"tau\"])\n",
    "        V_list_noise.append(vals2[\"V\"])\n",
    "        deltaM_list_noise.append(vals2[\"deltaM\"])\n",
    "\n",
    "        # errors\n",
    "        tau_prec_list_noise.append(errs2[\"tau\"])\n",
    "        V_prec_list_noise.append(errs2[\"V\"])\n",
    "        deltaM_prec_list_noise.append(errs2[\"deltaM\"])\n",
    "        \n",
    "        \n",
    "        # calculate the systematic error and append to list\n",
    "        tau_bias.append((tau_list[i]-tau_list_noise[i]))\n",
    "        V_bias.append((V_list[i]-V_list_noise[i]))\n",
    "        deltaM_bias.append((deltaM_list[i]-deltaM_list_noise[i]))\n",
    "        \n",
    "        # testing\n",
    "        if (i%10==0):\n",
    "            print(str(i) + \"% complete\")\n",
    "\n",
    "    \n",
    "    # RUN 1 -> NO NOISE\n",
    "    \n",
    "    # Calculate the standard averages for these parameters and their errors\n",
    "    tau_average = np.mean(tau_list)\n",
    "    V_average = np.mean(V_list)\n",
    "    deltaM_average = np.mean(deltaM_list)\n",
    "\n",
    "    # standard averages of the statistical uncertainty (from minuit). Unsure whether to use this or not yet, but being calculated.\n",
    "    tau_prec_average = np.mean(tau_prec_list)\n",
    "    V_prec_average = np.mean(V_prec_list)\n",
    "    deltaM_prec_average = np.mean(deltaM_prec_list)  \n",
    "\n",
    "    # take standard error on these values, which will be used as standard error on our bias\n",
    "    events_sqrt = np.sqrt(len(tau_list))\n",
    "    tau_std = np.std(tau_list)/events_sqrt\n",
    "    V_std = np.std(V_list)/events_sqrt\n",
    "    deltaM_std = np.std(deltaM_list)/events_sqrt\n",
    "\n",
    "    \n",
    "    \n",
    "    \n",
    "    # RUN 2 -> NOISE\n",
    "    \n",
    "    # Calculate the standard averages for these parameters and their errors\n",
    "    tau_average_noise = np.mean(tau_list_noise)\n",
    "    V_average_noise = np.mean(V_list_noise)\n",
    "    deltaM_average_noise = np.mean(deltaM_list_noise)\n",
    "\n",
    "    # standard averages of the statistical uncertainty (from minuit). Unsure whether to use this or not yet, but being calculated.\n",
    "    tau_prec_average_noise = np.mean(tau_prec_list_noise)\n",
    "    V_prec_average_noise = np.mean(V_prec_list_noise)\n",
    "    deltaM_prec_average_noise = np.mean(deltaM_prec_list_noise)  \n",
    "\n",
    "    # take standard error on these values, which will be used as standard error on our bias\n",
    "    events_sqrt = np.sqrt(len(tau_list_noise))\n",
    "    tau_std_noise = np.std(tau_list_noise)/events_sqrt\n",
    "    V_std_noise = np.std(V_list_noise)/events_sqrt\n",
    "    deltaM_std_noise = np.std(deltaM_list_noise)/events_sqrt\n",
    "    \n",
    "    \n",
    "    \n",
    "    \n",
    "    \n",
    "    # calculate biases against average values from part 1 10,000 event run\n",
    "    tau_bias_average = np.mean(tau_bias)\n",
    "    V_bias_average = np.mean(V_bias)\n",
    "    deltaM_bias_average = np.mean(deltaM_bias)\n",
    "    \n",
    "    # take standard error on the bias values, which will be used as standard error on our bias\n",
    "    events_sqrt = np.sqrt(len(tau_bias))\n",
    "    tau_bias_std = np.std(tau_bias)/events_sqrt\n",
    "    V_bias_std = np.std(V_bias)/events_sqrt\n",
    "    deltaM_bias_std = np.std(deltaM_bias)/events_sqrt\n",
    "    \n",
    "    \n",
    "    \n",
    "    # save and print the data\n",
    "    # format is RUN 1-> AVERAGES OF DATA: AVERAGES OF STATISTICAL ERRORS: STD OF DATA\n",
    "    #           RUN 2-> AVERAGES OF NOISY DATA: AVERAGES OF NOISY STATISTICAL ERRORS: STD OF NOISY DATA\n",
    "    #           BIAS AND STD OF BIAS\n",
    "    data_run_1 = tau_average, V_average, deltaM_average, tau_prec_average, V_prec_average, deltaM_prec_average, tau_std,  V_std, deltaM_std\n",
    "    data_run_2 = tau_average_noise, V_average_noise, deltaM_average_noise, tau_prec_average_noise, V_prec_average_noise, deltaM_prec_average_noise, tau_std_noise, V_std_noise, deltaM_std_noise\n",
    "    data_bias = tau_bias_average, V_bias_average, deltaM_bias_average, tau_bias_std, V_bias_std, deltaM_bias_std\n",
    "    \n",
    "    # add to data list\n",
    "    data = []\n",
    "    data.append(data_run_1)\n",
    "    data.append(data_run_2)\n",
    "    data.append(data_bias)\n",
    "    \n",
    "    \n",
    "    simulation_runs.append([data])\n",
    "    \n",
    "    print(sim_titles[j])\n",
    "    print_bias_results(data)\n",
    "    print(\"==========================\")\n"
   ]
  },
  {
   "cell_type": "markdown",
   "id": "2bfe3cb5",
   "metadata": {},
   "source": [
    "So comparing our biases to one another, its clear that the V bias increases with larger gaussian noise, as our (f=0.03) bias are significantly larger than the (f=0.01) bias. Even so, the standard error on the bias is similar for both, which implies that there is a constant bias produced that is shifted further from the true value, but has a similar distribution for both fractions. For our $\\Delta M$ biases, the bias averages stayed relatively consistent across both average runs, which makes sense as the $\\Delta M$ defined the 'period' of our sinusoidal functions, and so even when scrambled, the period is still more likely to be fitted adequately. The V moreso controls the amplitude of our sinusoidal component and so this is harder to pick out when the data is scrambled by noise.\n",
    "\n",
    "Comparing the bias results to the statistical errors for the noisy fits we can see that for the (f=0.01) run our tau bias is insignificant when compared to the statistical error (0.015>0.0007982), which isn't too surprising and is mirrored in the (f=0.03) section. This has been explained many times previously, as the tau being reliant on the exponential shape of the graph, rather than the sinusoidal components of the initial function makes the noise effect less significant for our fitting.\n",
    "\n",
    "Our V bias for (f=0.01) is significant here, with it being larger than the statistical error, or within the same factor. This demonstrates how significant this bias is on our model fitting and how under-represented it is in the statistical error (would normally get systematic to produce a total error).\n",
    "\n",
    "For (f=0.03), the significance of of our V bias is even greater, which is to be expected as the sinusoidal component of the function is further 'blurred' by our gaussian noise. This bias is once again significantly large when compared to the statistical error from the fitting, and are now significantly larger when compared to the (f=0.01) fitting.\n",
    "\n",
    "The $\\Delta M$ bias changes very little between runs and is less than the size of our statistical errors. It also has a significantly large standard error, which implies that there is a much larger spread in our deltaM values than the average bias, implying that the bias is not significant.\n",
    "\n",
    "Even our tau bias increases, although only marginally, from (f=0.01) to (f=0.03)\n",
    "\n",
    "So this demonstrates the importance of considering the bias in a dataset with unknown random noise, and compares our biases to their fit's statistical precision (which is understated in both of these cases).\n"
   ]
  },
  {
   "cell_type": "markdown",
   "id": "98d151f4",
   "metadata": {},
   "source": [
    "## Part 3: Estimating a systematic error due to time acceptance\n",
    "\n",
    "Measuring decay-time is thought to exhibit a decay-time acceptance of $a(t) = (1+st)$ with precision of $s = 0 \\pm 0.03$.\n",
    "\n",
    "Determine a suitable systematic error to assign to the measurement of each of the parameters due to this limited knowledge of a(t) and in each case compare this systematic error to the expected statistical precision.\n",
    "\n",
    "This will be done with method 2 from lecture 11.\n",
    "\n",
    "So we will generate 1 set of data with no noise and no time acceptance, and fit it with our PDF but with the decay-time acceptance function included, and many different values of s (within a gaussian distribution around $\\pm$0.03). This should give a gaussian distribution of bias values for our parameters which we can then use to calculate a new systematic error.\n",
    "\n",
    "So first, write new PDF and NLL"
   ]
  },
  {
   "cell_type": "code",
   "execution_count": 1,
   "id": "3cb041a5",
   "metadata": {},
   "outputs": [],
   "source": [
    "# define normalised probability density function\n",
    "\n",
    "def decay_pdf_s(t, tau, V, deltaM, s):\n",
    "    # not doing the full numerical integration here, will use scipy.integrate.quad\n",
    "    func = lambda x: (1+V*np.sin(deltaM*x))*np.exp(-x/tau)*(1+s*x)\n",
    "    norm = 1/(integrate.quad(func,0,10))[0]\n",
    "    # apply normalisation to pdf and return it\n",
    "    pdf_val = norm*func(t)\n",
    "    return pdf_val\n",
    "\n",
    "# NLL of above PDF with s inclusion\n",
    "\n",
    "def nll_decay_s(tau, V, deltaM, s):\n",
    "    \n",
    "    # Take data, will need to define this before calling the function, which will be done if you run through the notebook linearly\n",
    "    x = np.array(pdf_list)\n",
    "    \n",
    "    # calculate the pdf value, already normalised\n",
    "    y = decay_pdf_s(x, tau, V, deltaM, s)\n",
    "    \n",
    "    # limit y so that is cant be zero here\n",
    "    y = [10e-4 if y[i] <= 0 else y[i] for i in range(len(y))]\n",
    "    \n",
    "    # take log of y\n",
    "    y_log = np.log(y)\n",
    "    \n",
    "    # take negative sum\n",
    "    nll_sum = -np.sum(y_log)\n",
    "    \n",
    "    return nll_sum"
   ]
  },
  {
   "cell_type": "code",
   "execution_count": 8,
   "id": "c80eb68f",
   "metadata": {},
   "outputs": [
    {
     "data": {
      "image/png": "[encoded data removed]",
      "text/plain": [
       "<Figure size 432x288 with 1 Axes>"
      ]
     },
     "metadata": {
      "needs_background": "light"
     },
     "output_type": "display_data"
    }
   ],
   "source": [
    "# Visualise the function (and to check its correct)\n",
    "x_coord = np.linspace(0,10,num=1000)\n",
    "y_coord = decay_pdf_s(x_coord, tau, V, deltaM, 0.01)\n",
    "\n",
    "plt.plot(x_coord,y_coord)\n",
    "plt.show()"
   ]
  },
  {
   "cell_type": "markdown",
   "id": "574bbe1e",
   "metadata": {},
   "source": [
    "So now we generate new data, and will fit it with respect to different values of s. Here we just demonstrate with two values of s, then we'll do it over a loop with random values of s within the gaussian error of $\\pm0.03$"
   ]
  },
  {
   "cell_type": "code",
   "execution_count": 15,
   "id": "72039514",
   "metadata": {},
   "outputs": [],
   "source": [
    "# Run sim with upperlimit of 10, to create a starter 'PDF' for the \n",
    "pdf_list = box_sim(10000, tau, V, deltaM, 10)"
   ]
  },
  {
   "cell_type": "code",
   "execution_count": 16,
   "id": "34ad4ee4",
   "metadata": {},
   "outputs": [
    {
     "name": "stdout",
     "output_type": "stream",
     "text": [
      "s = 0 results\n",
      "\n",
      "\t tau             :  \t   1.5190  +/-    0.0157\n",
      "\t V               :  \t   0.1216  +/-    0.0142\n",
      "\t deltaM          :  \t  19.9978  +/-    0.0503\n",
      "\n",
      "\n",
      "\n",
      "s = 0.03 results\n",
      "\n",
      "\t tau             :  \t   1.4576  +/-    0.0145\n",
      "\t V               :  \t   0.1217  +/-    0.0142\n",
      "\t deltaM          :  \t  19.9977  +/-    0.0503\n",
      "\n",
      "\n"
     ]
    }
   ],
   "source": [
    "# Create a minuit fit for s = 0\n",
    "\n",
    "s = 0\n",
    "m = Minuit(nll_decay_s, tau = 1, V = 0.5, deltaM = 21, s = s)\n",
    "# Set errors\n",
    "m.errors = [1,1,2, 0.03]\n",
    "# Define for NLL\n",
    "m.errordef = 0.5\n",
    "# Set limits\n",
    "m.limits = [[0,3], [0,2], [10,30], [-0.5, 0.5]]\n",
    "\n",
    "# fix s\n",
    "m.fixed = [False, False, False, True]\n",
    "# Fit and return fit\n",
    "result_no_s = m.migrad()\n",
    "\n",
    "print(\"s = 0 results\\n\")\n",
    "showIminuitResult((\"tau\",\"V\",\"deltaM\"), m)\n",
    "print(\"\")\n",
    "\n",
    "# Same again but with 0.03\n",
    "s = 0.03\n",
    "n = Minuit(nll_decay_s, tau = 1, V = 0.5, deltaM = 21, s = s)\n",
    "# Set errors\n",
    "n.errors = [1,1,2, 0.03]\n",
    "# Define for NLL\n",
    "n.errordef = 0.5\n",
    "# Set limits\n",
    "n.limits = [[0,3], [0,2], [10,30], [-0.5, 0.5]]\n",
    "\n",
    "# fix s\n",
    "n.fixed = [False, False, False, True]\n",
    "# Fit and return fit\n",
    "result_s = n.migrad()\n",
    "\n",
    "print(\"s = 0.03 results\\n\")\n",
    "showIminuitResult((\"tau\",\"V\",\"deltaM\"), n)\n",
    "\n",
    "\n",
    "\n",
    "\n",
    "\n",
    "# Define s beforehand\n",
    "#s = 0\n",
    "#norm_fit = minuit_process(nll_decay_s)\n",
    "#showIminuitResult((\"tau\",\"V\",\"deltaM\"), norm_fit)\n",
    "\n",
    "# 1 sigma from s mean\n",
    "#s = 0.03 \n",
    "#time_fit = minuit_process(nll_decay_s)\n",
    "#showIminuitResult((\"tau\",\"V\",\"deltaM\"), time_fit)"
   ]
  },
  {
   "cell_type": "markdown",
   "id": "4333078c",
   "metadata": {},
   "source": [
    "Now lets pull the bias out and the statistical errors:"
   ]
  },
  {
   "cell_type": "code",
   "execution_count": 17,
   "id": "b14f7f08",
   "metadata": {},
   "outputs": [
    {
     "name": "stdout",
     "output_type": "stream",
     "text": [
      "Bias for parameters between s = 0 and s = 0.03\n",
      "\n",
      "Tau bias: 0.06143, Statistical error: 0.01568\n",
      "V bias: -9.684e-05, Statistical error: 0.01415\n",
      "deltaM bias: 5.343e-05, Statistical error: 0.05029\n"
     ]
    }
   ],
   "source": [
    "print(\"Bias for parameters between s = 0 and s = 0.03\")\n",
    "print(\"\")\n",
    "print(\"Tau bias: {:.4}, Statistical error: {:.4}\".format(result_no_s.values[\"tau\"]-result_s.values[\"tau\"],result_no_s.errors[\"tau\"]))\n",
    "print(\"V bias: {:.4}, Statistical error: {:.4}\".format((result_no_s.values[\"V\"]-result_s.values[\"V\"]),result_no_s.errors[\"V\"]))\n",
    "print(\"deltaM bias: {:.4}, Statistical error: {:.4}\".format((result_no_s.values[\"deltaM\"]-result_s.values[\"deltaM\"]),result_no_s.errors[\"deltaM\"]))"
   ]
  },
  {
   "cell_type": "markdown",
   "id": "09e94b51",
   "metadata": {},
   "source": [
    "So as we can see here, the only bias that is significant compared to the statistical error is the tau bias, which is to be expected, as the increase in s has an adverse effect on the exponential shape of the PDF as shown here:\n",
    "\n",
    "Plotting with s=0"
   ]
  },
  {
   "cell_type": "code",
   "execution_count": 48,
   "id": "48a111b8",
   "metadata": {},
   "outputs": [
    {
     "data": {
      "image/png": "[encoded data removed]",
      "text/plain": [
       "<Figure size 432x288 with 1 Axes>"
      ]
     },
     "metadata": {
      "needs_background": "light"
     },
     "output_type": "display_data"
    }
   ],
   "source": [
    "# Visualise the function (and to check its correct)\n",
    "x_coord = np.linspace(0,10,num=1000)\n",
    "y_coord = decay_pdf_s(x_coords, tau, V, deltaM, 0.01)\n",
    "\n",
    "plt.plot(x_coord,y_coord)\n",
    "plt.show()"
   ]
  },
  {
   "cell_type": "markdown",
   "id": "dd64e275",
   "metadata": {},
   "source": [
    "Plotting with s=1"
   ]
  },
  {
   "cell_type": "code",
   "execution_count": 49,
   "id": "4b5c9080",
   "metadata": {},
   "outputs": [
    {
     "data": {
      "image/png": "[encoded data removed]",
      "text/plain": [
       "<Figure size 432x288 with 1 Axes>"
      ]
     },
     "metadata": {
      "needs_background": "light"
     },
     "output_type": "display_data"
    }
   ],
   "source": [
    "# Visualise the function (and to check its correct)\n",
    "x_coord = np.linspace(0,10,num=1000)\n",
    "y_coord = decay_pdf_s(x_coords, tau, V, deltaM, 1)\n",
    "\n",
    "plt.plot(x_coord,y_coord)\n",
    "plt.show()"
   ]
  },
  {
   "cell_type": "markdown",
   "id": "23b603de",
   "metadata": {},
   "source": [
    "As is clear here, the exponential shape of the graph is a affected by this change in s more so than the sinusoidal component of the PDF.\n",
    "\n",
    "So now we'll be collecting s values across the a gaussian range using the error $\\Delta s = 0.03$, and doing so 100 times and fitting these new pdfs to the data. Then we're taking the differences of these fits when compared to the initial (s=0) fit, and using those differences to determine the gaussian 'bias'. The width of which will give us our systematic error"
   ]
  },
  {
   "cell_type": "code",
   "execution_count": 50,
   "id": "f6b1ae8b",
   "metadata": {},
   "outputs": [],
   "source": [
    "# Generate new data\n",
    "pdf_list = box_sim(10000, tau, V, deltaM, 10)"
   ]
  },
  {
   "cell_type": "code",
   "execution_count": 59,
   "id": "706bf2ed",
   "metadata": {},
   "outputs": [],
   "source": [
    "# Fit with s = 0 (original pdf)\n",
    "s = 0\n",
    "m = Minuit(nll_decay_s, tau = 1, V = 0.5, deltaM = 21, s = s)\n",
    "# Set errors\n",
    "m.errors = [1,1,2, 0.03]\n",
    "# Define for NLL\n",
    "m.errordef = 0.5\n",
    "# Set limits\n",
    "m.limits = [[0,3], [0,2], [10,30], [-0.5, 0.5]]\n",
    "\n",
    "# fix s\n",
    "m.fixed = [False, False, False, True]\n",
    "# Fit and return fit\n",
    "result_no_s = m.migrad()\n",
    "\n",
    "tau_no_s = result_no_s.values[\"tau\"]\n",
    "V_no_s = result_no_s.values[\"V\"]\n",
    "deltaM_no_s = result_no_s.values[\"deltaM\"]\n",
    "\n",
    "tau_errors_no_s = result_no_s.errors[\"tau\"]\n",
    "V_errors_no_s = result_no_s.errors[\"V\"]\n",
    "deltaM_errors_no_s = result_no_s.errors[\"deltaM\"]\n",
    "\n",
    "\n",
    "# Create lists for the bias values\n",
    "# Only taking the bias values here, will calculate standard error afterwards\n",
    "tau_s = []\n",
    "V_s = []\n",
    "deltaM_s = []\n",
    "\n",
    "\n",
    "# Create loop for the different s values, 100 simulations\n",
    "for q in range(100):\n",
    "    \n",
    "    # determine s, then minimise with it.\n",
    "    # reusing the gaussian function determined earlier\n",
    "    s = gaussian(0, 0.03)\n",
    "    \n",
    "    n = Minuit(nll_decay_s, tau = 1, V = 0.5, deltaM = 21, s = s)\n",
    "    # Set errors\n",
    "    n.errors = [1,1,2, 0.03]\n",
    "    # Define for NLL\n",
    "    n.errordef = 0.5\n",
    "    # Set limits\n",
    "    n.limits = [[0,3], [0,2], [10,30], [-0.5, 0.5]]\n",
    "\n",
    "    # fix s\n",
    "    n.fixed = [False, False, False, True]\n",
    "    # Fit and return fit\n",
    "    result_s = n.migrad()\n",
    "    \n",
    "    tau_s.append(result_s.values[\"tau\"])\n",
    "    V_s.append(result_s.values[\"V\"])\n",
    "    deltaM_s.append(result_s.values[\"deltaM\"])\n",
    "\n",
    "# Calculate the systematic uncertainties\n",
    "tau_s_bias = np.array(tau_s) - tau_no_s\n",
    "V_s_bias = np.array(V_s) - V_no_s\n",
    "deltaM_s_bias = np.array(deltaM_s) - deltaM_no_s\n",
    "    \n",
    "# Calculate average systematic error and std\n",
    "tau_s_bias_average = np.average(tau_s_bias)\n",
    "V_s_bias_average = np.average(V_s_bias)\n",
    "deltaM_s_bias_average = np.average(deltaM_s_bias)\n",
    "\n",
    "s_events = len(tau_s_bias)\n",
    "tau_s_bias_stder = np.std(tau_s_bias)/np.sqrt(s_events)\n",
    "V_s_bias_stder = np.std(V_s_bias)/np.sqrt(s_events)\n",
    "deltaM_s_bias_stder = np.std(deltaM_s_bias)/np.sqrt(s_events)\n",
    "    \n"
   ]
  },
  {
   "cell_type": "code",
   "execution_count": 52,
   "id": "48299cc9",
   "metadata": {},
   "outputs": [],
   "source": [
    "# Plot the histograms of each\n",
    "# defining the plotting function used throughout the code\n",
    "def plot_hist_count(title, pdf_list):\n",
    "    # Print histogram of pdf_list and describe the results\n",
    "    plt.title(title)\n",
    "    plt.xlabel(\"Offset from expected value\")\n",
    "    plt.ylabel(\"Counts\")\n",
    "    plt.hist(pdf_list, bins = 50, density = True)\n",
    "    plt.show()\n"
   ]
  },
  {
   "cell_type": "code",
   "execution_count": 58,
   "id": "0edde996",
   "metadata": {},
   "outputs": [
    {
     "name": "stdout",
     "output_type": "stream",
     "text": [
      "Systematic Uncertainty for parameters averaged across 100 runs\n",
      "\n",
      "Tau average bias: 0.02292, Statistical error of initial fit: 0.01547, Standard deviation on Bias: 0.07818\n",
      "V average bias: 0.0001478, Statistical error of initial fit: 0.01416, Standard deviation on Bias: 0.0003297\n",
      "deltaM average bias: -8.942e-05, Statistical error of initial fit: 0.07075, Standard deviation on Bias: 0.0003188\n"
     ]
    }
   ],
   "source": [
    "# Plot the results:\n",
    "\n",
    "print(\"Systematic Uncertainty for parameters averaged across 100 runs\")\n",
    "print(\"\")\n",
    "print(\"Tau average bias: {:.4}, Statistical error of initial fit: {:.4}, Standard deviation on Bias: {:.4}\".format(tau_s_bias_average, tau_errors_no_s,np.std(tau_s_bias)))\n",
    "print(\"V average bias: {:.4}, Statistical error of initial fit: {:.4}, Standard deviation on Bias: {:.4}\".format(V_s_bias_average, V_errors_no_s,np.std(V_s_bias)))\n",
    "print(\"deltaM average bias: {:.4}, Statistical error of initial fit: {:.4}, Standard deviation on Bias: {:.4}\".format(deltaM_s_bias_average, deltaM_errors_no_s, np.std(deltaM_s_bias)))"
   ]
  },
  {
   "cell_type": "markdown",
   "id": "4a48272e",
   "metadata": {},
   "source": [
    "And plot the gaussians of this average bias:"
   ]
  },
  {
   "cell_type": "code",
   "execution_count": 56,
   "id": "3480880d",
   "metadata": {},
   "outputs": [
    {
     "data": {
      "image/png": "[encoded data removed]",
      "text/plain": [
       "<Figure size 432x288 with 1 Axes>"
      ]
     },
     "metadata": {
      "needs_background": "light"
     },
     "output_type": "display_data"
    },
    {
     "data": {
      "image/png": "[encoded data removed]",
      "text/plain": [
       "<Figure size 432x288 with 1 Axes>"
      ]
     },
     "metadata": {
      "needs_background": "light"
     },
     "output_type": "display_data"
    },
    {
     "data": {
      "image/png": "[encoded data removed]",
      "text/plain": [
       "<Figure size 432x288 with 1 Axes>"
      ]
     },
     "metadata": {
      "needs_background": "light"
     },
     "output_type": "display_data"
    }
   ],
   "source": [
    "# Plot the distributions of the biases\n",
    "plot_hist_count(\"Tau bias averages\", tau_s_bias)    \n",
    "\n",
    "plot_hist_count(\"V bias averages\", V_s_bias)        \n",
    "\n",
    "plot_hist_count(\"deltaM bias averages\", deltaM_s_bias)        \n"
   ]
  },
  {
   "cell_type": "markdown",
   "id": "15ec6934",
   "metadata": {},
   "source": [
    "So as we can see here, the tau systematic error (standard deviation) for 100 runs is larger than the statistical error on our initial fit of the data and our part 1 results. This demonstrates the need for a significant systematic error in our tau values, as our bias shifts are values for tau an average of 0.02 (in this run) in the positive direction, with much larger deviations possible. We should consider the standard deviation across our bias values, as this will give us the error on the bias itself and consequently provide a good value for our systematic error. In this run it is shown above as 0.07818, which is significantly larger than our average bias, but would ensure our tau value is within 3 $\\sigma$ of the true value for most of our biased results. So I believe this value would be a good choice for our systematic error, which demonstrates that our systematic error is significantly larger than our statistical error (as can be seen on the printout above: 0.078 > 0.015)\n",
    "\n",
    "For the V and deltaM values, we don't need to consider the bias and systematic uncertainty, as the bias values are significantly smaller than the statistical errors and the standard deviation here is significantly smaller than the standard deviation results from part 1, which suggests that the inclusion of (1+st) has had very little effect on the functions ability to fit them correctly. This is further demonstrated in the graphs above, as the biases give very skinny gaussians for our V and deltaM values.\n",
    "\n",
    "The V constantly being positive is peculiar, which as it implies that the V value is always overestimated. I'm not entirely sure why this is the case, as V defines the amplitude of the sine wave. There is most likely a reason for this, but I cannot find a conclusive reason for this to be the case."
   ]
  },
  {
   "cell_type": "markdown",
   "id": "30bc9fbf",
   "metadata": {},
   "source": [
    "## Graveyard of text\n",
    "#### This is text from earlier. It has been added in for possible use later, but it will not be implemented in any significant way, and isnt worth reading.\n",
    "\n",
    "Bias increases between the 0.01 -> 0.03 values, but the difference is a lot more significant for the V and $\\Delta M$ bias, as these are more affected by the loss of information around the sinusoidal components of the PDFs.\n",
    "\n",
    "Considering these biases with the minuit error shows for the tau values that the bias is significant in relation to the statistical error, and so would have to be considered when determining a total error.\n",
    "\n",
    "For our V bias, minuit's statistical error is slightly larger than our bias for f(0.01) and smaller for f(0.03) across the averages. This demonstrates that the larger the noise, the more significant the bias is on our results and the harder minuit finds to fit it accurately (minuit error goes up by a factor of 5 between the runs).\n",
    "\n",
    "For our $\\Delta M$ value, the f(0.03) bias is larger by a factor of 10, which is still quite small considering that the true value of $\\Delta M$ is 20 and we achieve 19.97 and 20.23 respectively. This still demonstrates that with more noise, our fitting model has more difficulty accurately matching the data and \n",
    "\n",
    "(found by taking the standard deviation of the averages, and dividing by the number of events) shows that the fitting is "
   ]
  },
  {
   "cell_type": "code",
   "execution_count": null,
   "id": "7efb566d",
   "metadata": {},
   "outputs": [],
   "source": []
  }
 ],
 "metadata": {
  "kernelspec": {
   "display_name": "Python 3 (ipykernel)",
   "language": "python",
   "name": "python3"
  },
  "language_info": {
   "codemirror_mode": {
    "name": "ipython",
    "version": 3
   },
   "file_extension": ".py",
   "mimetype": "text/x-python",
   "name": "python",
   "nbconvert_exporter": "python",
   "pygments_lexer": "ipython3",
   "version": "3.7.10"
  }
 },
 "nbformat": 4,
 "nbformat_minor": 5
}
