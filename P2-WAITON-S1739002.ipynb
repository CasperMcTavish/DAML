{
 "cells": [
  {
   "cell_type": "markdown",
   "id": "a9894f62",
   "metadata": {},
   "source": [
    "# DAML Project 2\n",
    "\n",
    "Importing relevant libraries and useful functions (from notes)"
   ]
  },
  {
   "cell_type": "code",
   "execution_count": 1,
   "id": "4e40152e",
   "metadata": {},
   "outputs": [],
   "source": [
    "import numpy as np\n",
    "import matplotlib.pyplot as plt\n",
    "import sys\n",
    "from iminuit import Minuit\n",
    "import scipy"
   ]
  },
  {
   "cell_type": "code",
   "execution_count": 2,
   "id": "2b2a0c1c",
   "metadata": {},
   "outputs": [],
   "source": [
    "# Taken from the notes from two weeks ago to show iminuit results\n",
    "def showIminuitResult( paramNames, theMinuit ):\n",
    "    \n",
    "    #averageList = {}\n",
    "\n",
    "    fstr = \"{0:8.4f}\"\n",
    "    for pn in paramNames :\n",
    "        val = theMinuit.values[pn]\n",
    "        err = theMinuit.errors[pn]\n",
    "        print('\\t','{:15s}'.format(pn), ':  \\t', fstr.format(val), ' +/- ', fstr.format(err))\n",
    "    print('\\n')"
   ]
  },
  {
   "cell_type": "markdown",
   "id": "31616ef5",
   "metadata": {},
   "source": [
    "## Part 1: Estimating statisical precision\n",
    "\n",
    "Use the method of pseudo-experiments (toy Monte Carlo) to determine the expected statistical\n",
    "precision with which one could measure each of the parameters with (i) 10,000 events and (ii)\n",
    "100,000 events. Assume perfect detector-resolution/perfect time measurements.\n",
    "\n",
    "The equation given for the relevant decay X -> D has the following PDF:\n",
    "P proportional to (1 + Vsin(deltaM * t)) * exp(-t/tau) \n",
    "\n",
    "Can just make P = RHS and determine normalisation factor. Do this within a range of 0 to 10, rather than 1 to infinity, as the exponential component makes results beyond 10 mostly irrelevant (and the normalisation becomes a bit more difficult).\n",
    "\n",
    "We need to build up the montecarlo simulation method to allow for precision determination in each of the parameters, tau, V and deltaM."
   ]
  },
  {
   "cell_type": "code",
   "execution_count": 3,
   "id": "ef10aa97",
   "metadata": {},
   "outputs": [],
   "source": [
    "# Setting nominal values\n",
    "tau = 1.5\n",
    "V = 0.1\n",
    "deltaM = 20.0"
   ]
  },
  {
   "cell_type": "code",
   "execution_count": 4,
   "id": "3df98fdb",
   "metadata": {},
   "outputs": [],
   "source": [
    "# define normalised probability density function\n",
    "\n",
    "def decay_pdf(t, tau, V, deltaM):\n",
    "    # calculated normalisation from range 0 to 10 for our probability equation\n",
    "    # broke it up into parts, because otherwise it looks like a mess, and is really hard to read\n",
    "    numerator = deltaM**2 * tau**2 + 1\n",
    "    outer_denom = tau* np.exp(-10/tau)\n",
    "    inner_denom = (deltaM**2 * tau**2 + V*deltaM*tau + 1)*np.exp(10/tau) - deltaM**2*tau**2 - V*deltaM*np.cos(10*deltaM)-V*np.sin(10*deltaM)-1\n",
    "    norm = numerator/(outer_denom*inner_denom)\n",
    "    # apply normalisation to pdf and return it\n",
    "    pdf_val = norm*(1+V*np.sin(deltaM*t))*np.exp(-t/tau)\n",
    "    return pdf_val"
   ]
  },
  {
   "cell_type": "code",
   "execution_count": 5,
   "id": "3445fec6",
   "metadata": {},
   "outputs": [
    {
     "data": {
      "image/png": "[encoded data removed]",
      "text/plain": [
       "<Figure size 432x288 with 1 Axes>"
      ]
     },
     "metadata": {
      "needs_background": "light"
     },
     "output_type": "display_data"
    }
   ],
   "source": [
    "# Visualise the function (and to check its correct)\n",
    "x_coords = np.linspace(0,10,num=1000)\n",
    "y_coords = decay_pdf(x_coords, tau, V, deltaM)\n",
    "\n",
    "plt.plot(x_coords,y_coords)\n",
    "plt.show()"
   ]
  },
  {
   "cell_type": "markdown",
   "id": "e7c79e9c",
   "metadata": {},
   "source": [
    "Plugged directly into desmos as well, looks exactly like this with the correct parameters.\n",
    "\n",
    "Now create a box method for our PDF to create a random distribution of our function:"
   ]
  },
  {
   "cell_type": "code",
   "execution_count": 6,
   "id": "6d9cddbe",
   "metadata": {},
   "outputs": [],
   "source": [
    "# Create a simulation function that scales to whatever value of values are needed, between 0 and upper limit\n",
    "def box_sim(runs, tau, V, deltaM, upperlim):\n",
    "        # Create list of pdf results\n",
    "    pdf_list = []\n",
    "        # Create values for upper and lower limits required by the box random generator\n",
    "    l_limit = 0\n",
    "    h_limit = 1\n",
    "        # find f_max by taking exponent at maximum and multiplying by 1.1\n",
    "        # 1.1 chosen arbitrarily as it makes it larger than max value of f\n",
    "    f_max = decay_pdf(0,tau, V, deltaM) * 1.1\n",
    "\n",
    "        # Create N random muon decays across 10 microseconds\n",
    "    while (len(pdf_list) < runs):\n",
    "            # generate random number within our pdf range scale between 0 and our upperlimit (of 10)\n",
    "        x1 = np.random.uniform(low = l_limit, high = h_limit*upperlim)\n",
    "            # Apply our pdf\n",
    "        y1 = decay_pdf(x1,tau, V, deltaM)\n",
    "            # generate second random number scale between 0 and our f_max\n",
    "        y2 = np.random.uniform(low = l_limit, high = h_limit*f_max)\n",
    "\n",
    "            # Check if y2 < y1. If so, add to list\n",
    "        if (y2 < y1):\n",
    "            pdf_list.append(x1)\n",
    "        else:\n",
    "            continue;\n",
    "            \n",
    "    return pdf_list\n",
    "   \n",
    "        \n",
    "\n"
   ]
  },
  {
   "cell_type": "markdown",
   "id": "34c3cabf",
   "metadata": {},
   "source": [
    "Define the nll function for our PDF, and use minuit to fit our pdf function to our box-method data. The number of events will change the statistical precision given, but the statistical uncertainty given by minuit will give us the expected statistical precision we can measure each of our parameters with."
   ]
  },
  {
   "cell_type": "code",
   "execution_count": 7,
   "id": "506afd2a",
   "metadata": {},
   "outputs": [],
   "source": [
    "def nll_decay(tau, V, deltaM):\n",
    "    \n",
    "    # Take data, will need to define this before calling the function, which will be done if you run through the notebook linearly\n",
    "    x = np.array(pdf_list)\n",
    "    \n",
    "    # calculate the pdf value, already normalised\n",
    "    y = decay_pdf(x, tau, V, deltaM)\n",
    "    \n",
    "    # take log of y\n",
    "    y_log = np.log(y)\n",
    "    \n",
    "    # take negative sum\n",
    "    nll = -np.sum(y_log)\n",
    "    \n",
    "    return nll"
   ]
  },
  {
   "cell_type": "markdown",
   "id": "46a07d24",
   "metadata": {},
   "source": [
    "Generating 10,000 event PDF data"
   ]
  },
  {
   "cell_type": "code",
   "execution_count": 8,
   "id": "36baf241",
   "metadata": {},
   "outputs": [
    {
     "data": {
      "image/png": "[encoded data removed]",
      "text/plain": [
       "<Figure size 432x288 with 1 Axes>"
      ]
     },
     "metadata": {
      "needs_background": "light"
     },
     "output_type": "display_data"
    }
   ],
   "source": [
    "# Run sim with upperlimit of 10, to create a starter 'PDF' for the \n",
    "pdf_list = box_sim(10000, tau, V, deltaM, 10)\n",
    "\n",
    "# Print histogram of pdf_list and describe the results\n",
    "plt.title(\"Histogram of 10000 generated X->D decays.\")\n",
    "plt.xlabel(\"Time (no unit)\")\n",
    "plt.ylabel(\"Density\")\n",
    "plt.hist(pdf_list, bins = 200, density = True)\n",
    "plt.show()\n",
    "\n"
   ]
  },
  {
   "cell_type": "markdown",
   "id": "25cd2a5e",
   "metadata": {},
   "source": [
    "Now to use minuit with the nll to determine the parameters from this PDF:"
   ]
  },
  {
   "cell_type": "code",
   "execution_count": 9,
   "id": "dadbbc6a",
   "metadata": {},
   "outputs": [],
   "source": [
    "# Create minuit object\n",
    "m = Minuit(nll_decay, tau = 1, V = 0.5, deltaM = 21)\n",
    "# Set errors\n",
    "m.errors = [0.25,0.5,2]\n",
    "# Define for NLL\n",
    "m.errordef = 0.5\n",
    "# Set limits\n",
    "m.limits = [[0,3], [0,2], [10,30]]\n",
    "\n"
   ]
  },
  {
   "cell_type": "code",
   "execution_count": 10,
   "id": "32186ea8",
   "metadata": {},
   "outputs": [],
   "source": [
    "# Fit and show results\n",
    "result = m.migrad()"
   ]
  },
  {
   "cell_type": "code",
   "execution_count": 11,
   "id": "eafe3f2a",
   "metadata": {},
   "outputs": [
    {
     "name": "stdout",
     "output_type": "stream",
     "text": [
      "\t tau             :  \t   1.5146  +/-    0.0156\n",
      "\t V               :  \t   0.0839  +/-    0.0142\n",
      "\t deltaM          :  \t  19.9968  +/-    0.0748\n",
      "\n",
      "\n"
     ]
    }
   ],
   "source": [
    "showIminuitResult((\"tau\",\"V\",\"deltaM\"), m)"
   ]
  },
  {
   "cell_type": "markdown",
   "id": "b788d9b8",
   "metadata": {},
   "source": [
    "And giving the statistical precision for our main parameters:"
   ]
  },
  {
   "cell_type": "code",
   "execution_count": 12,
   "id": "9fb44b5e",
   "metadata": {},
   "outputs": [
    {
     "name": "stdout",
     "output_type": "stream",
     "text": [
      "Statistical Errors for 10000 events\n",
      "KEY   -   Value Name : Value(Expected statistical precision/error)\n",
      "\n",
      "Lifetime parameter (Tau) : 1.515(0.016)\n",
      "Matter/A-Matter asymm parameter (V) : 0.0839(0.014)\n",
      "Mass difference parameter (deltaM) : 20.0(0.075)\n"
     ]
    }
   ],
   "source": [
    "# Reformatting this\n",
    "\n",
    "# {:.2} is significant digits (rounded to two)\n",
    "print(\"Statistical Errors for 10000 events\")\n",
    "print(\"KEY   -   Value Name : Value(Expected statistical precision/error)\\n\")\n",
    "print(\"Lifetime parameter (Tau) : {:.4}({:.2})\".format(m.values[\"tau\"],m.errors[\"tau\"]))\n",
    "print(\"Matter/A-Matter asymm parameter (V) : {:.4}({:.2})\".format(m.values[\"V\"],m.errors[\"V\"]))\n",
    "print(\"Mass difference parameter (deltaM) : {:.4}({:.2})\".format(m.values[\"deltaM\"],m.errors[\"deltaM\"]))\n",
    "\n"
   ]
  },
  {
   "cell_type": "markdown",
   "id": "4cca2a77",
   "metadata": {},
   "source": [
    "This shows the statistical precision of our 10000 event run for our three parameters (the brackets are the statistical precision).\n",
    "\n",
    "Our true fit values are quite close to the true values as well, within 2 sigma (on this run at least).\n",
    "\n",
    "Now to do the same for 100000 events"
   ]
  },
  {
   "cell_type": "code",
   "execution_count": 13,
   "id": "22832a1f",
   "metadata": {},
   "outputs": [
    {
     "data": {
      "image/png": "[encoded data removed]",
      "text/plain": [
       "<Figure size 432x288 with 1 Axes>"
      ]
     },
     "metadata": {
      "needs_background": "light"
     },
     "output_type": "display_data"
    }
   ],
   "source": [
    "# 100,000 events\n",
    "# Run sim with upperlimit of 10, to create a starter 'PDF' for the \n",
    "pdf_list = box_sim(100000, tau, V, deltaM, 10)\n",
    "\n",
    "# Print histogram of pdf_list and describe the results\n",
    "plt.title(\"Histogram of 100000 generated X->D decays.\")\n",
    "plt.xlabel(\"Time (no unit)\")\n",
    "plt.ylabel(\"Density\")\n",
    "plt.hist(pdf_list, bins = 200, density = True)\n",
    "plt.show()\n",
    "\n"
   ]
  },
  {
   "cell_type": "code",
   "execution_count": 14,
   "id": "6ca12cfd",
   "metadata": {},
   "outputs": [],
   "source": [
    "# Create minuit object\n",
    "n = Minuit(nll_decay, tau = 1, V = 0.5, deltaM = 21)\n",
    "# Set errors\n",
    "n.errors = [0.25,0.5,2]\n",
    "# Define for NLL\n",
    "n.errordef = 0.5\n",
    "# Set limits\n",
    "n.limits = [[0,3], [0,2], [10,30]]\n",
    "\n"
   ]
  },
  {
   "cell_type": "code",
   "execution_count": 15,
   "id": "37dd60f4",
   "metadata": {},
   "outputs": [],
   "source": [
    "# Fit and show results\n",
    "result = n.migrad()"
   ]
  },
  {
   "cell_type": "code",
   "execution_count": 16,
   "id": "691df64b",
   "metadata": {},
   "outputs": [
    {
     "name": "stdout",
     "output_type": "stream",
     "text": [
      "\t tau             :  \t   1.4932  +/-    0.0049\n",
      "\t V               :  \t   0.0951  +/-    0.0045\n",
      "\t deltaM          :  \t  20.0517  +/-    0.0242\n",
      "\n",
      "\n"
     ]
    }
   ],
   "source": [
    "showIminuitResult((\"tau\",\"V\",\"deltaM\"), n)"
   ]
  },
  {
   "cell_type": "markdown",
   "id": "81831f3c",
   "metadata": {},
   "source": [
    "And giving the statistical precision for our main parameters:"
   ]
  },
  {
   "cell_type": "code",
   "execution_count": 17,
   "id": "327f02eb",
   "metadata": {},
   "outputs": [
    {
     "name": "stdout",
     "output_type": "stream",
     "text": [
      "Statistical Errors for 100000 events\n",
      "KEY   -   Value Name : Value(Expected statistical precision/error)\n",
      "\n",
      "Lifetime parameter (Tau) : 1.493(0.0049)\n",
      "Matter/A-Matter asymm parameter (V) : 0.09514(0.0045)\n",
      "Mass difference parameter (deltaM) : 20.05(0.024)\n"
     ]
    }
   ],
   "source": [
    "# Reformatting this\n",
    "\n",
    "# {:.2} is significant digits (rounded to two)\n",
    "print(\"Statistical Errors for 100000 events\")\n",
    "print(\"KEY   -   Value Name : Value(Expected statistical precision/error)\\n\")\n",
    "print(\"Lifetime parameter (Tau) : {:.4}({:.2})\".format(n.values[\"tau\"],n.errors[\"tau\"]))\n",
    "print(\"Matter/A-Matter asymm parameter (V) : {:.4}({:.2})\".format(n.values[\"V\"],n.errors[\"V\"]))\n",
    "print(\"Mass difference parameter (deltaM) : {:.4}({:.2})\".format(n.values[\"deltaM\"],n.errors[\"deltaM\"]))\n"
   ]
  },
  {
   "cell_type": "markdown",
   "id": "6fef6362",
   "metadata": {},
   "source": [
    "So comparing the 10,000 and 100,000 statistical precision:"
   ]
  },
  {
   "cell_type": "code",
   "execution_count": 18,
   "id": "67a92013",
   "metadata": {},
   "outputs": [
    {
     "name": "stdout",
     "output_type": "stream",
     "text": [
      "Statistical precision for 10,000 and 100,000\n",
      "Tau (10,000): 0.016       Tau (100,000): 0.0049\n",
      "V (10,000): 0.014         V (100,000): 0.0045\n",
      "deltaM (10,000): 0.075    deltaM (100,000): 0.024\n"
     ]
    }
   ],
   "source": [
    "print(\"Statistical precision for 10,000 and 100,000\")\n",
    "print(\"Tau (10,000): {:.2}       Tau (100,000): {:.2}\".format(m.errors[\"tau\"],n.errors[\"tau\"]))\n",
    "print(\"V (10,000): {:.2}         V (100,000): {:.2}\".format(m.errors[\"V\"],n.errors[\"V\"]))\n",
    "print(\"deltaM (10,000): {:.2}    deltaM (100,000): {:.2}\".format(m.errors[\"deltaM\"],n.errors[\"deltaM\"]))"
   ]
  },
  {
   "cell_type": "markdown",
   "id": "707660cc",
   "metadata": {},
   "source": [
    "So we can see here (understandably) that the more events we include, the better the statistical precision (the smaller the uncertainty given by the statistical error inherent in our data distribution)."
   ]
  },
  {
   "cell_type": "markdown",
   "id": "433a0421",
   "metadata": {},
   "source": [
    "## Part 2: Estimating possible bias due to time resolution\n",
    "\n",
    "Decay time is measured with random error with standard deviation of $\\sigma = f\\times \\tau$ where f is some fraction.\n",
    "\n",
    "If true decay time is $t_{true}$, then it is actually measured as t where t is distributed around $t_{true}$ with Gaussian probability distribution and standard deviation $\\sigma$\n",
    "\n",
    "So first task is determining the bias introduced to the measurement of each of the parameters when the data is subject to the resolution effect, but this is not included in the PDF used for fitting the parameters.\n",
    "\n",
    "So rewrite the box method including this gaussian time dependence:"
   ]
  },
  {
   "cell_type": "code",
   "execution_count": 21,
   "id": "218d21ce",
   "metadata": {},
   "outputs": [],
   "source": [
    "# gets a value around a certain mu within the gaussian distribution\n",
    "def gaussian(mu, sig):\n",
    "    value = np.random.normal(mu, sig, 1)\n",
    "    return value[0]\n",
    "    \n",
    "\n",
    "# Create a simulation function that scales to whatever value of values are needed, between 0 and upper limit\n",
    "def box_sim_gauss(runs, tau, V, deltaM, upperlim, fraction):\n",
    "        # Create list of pdf results\n",
    "    pdf_list = []\n",
    "        # Create values for upper and lower limits required by the box random generator\n",
    "    l_limit = 0\n",
    "    h_limit = 1\n",
    "        # find f_max by taking exponent at maximum and multiplying by 1.1\n",
    "        # 1.1 chosen arbitrarily as it makes it larger than max value of f\n",
    "    f_max = decay_pdf(0,tau, V, deltaM) * 1.1\n",
    "\n",
    "        # Create N random muon decays across 10 microseconds\n",
    "    while (len(pdf_list) < runs):\n",
    "            # generate random number within our pdf range scale between 0 and our upperlimit (of 10)\n",
    "        x1 = np.random.uniform(low = l_limit, high = h_limit*upperlim)\n",
    "            # Apply our pdf\n",
    "        y1 = decay_pdf(x1,tau, V, deltaM)\n",
    "            # generate second random number scale between 0 and our f_max\n",
    "        y2 = np.random.uniform(low = l_limit, high = h_limit*f_max)\n",
    "\n",
    "            # Check if y2 < y1. If so, add to list. Include time acceptance resolution stuff here\n",
    "        if (y2 < y1):\n",
    "            \n",
    "            # find sigma\n",
    "            sigma = fraction * tau\n",
    "            # find point around x1 (the mu) within sigma\n",
    "            x1 = gaussian(x1, sigma)\n",
    "            \n",
    "            pdf_list.append(x1)\n",
    "        else:\n",
    "            continue;\n",
    "            \n",
    "    return pdf_list\n",
    "   \n",
    "        \n"
   ]
  },
  {
   "cell_type": "markdown",
   "id": "73323b60",
   "metadata": {},
   "source": [
    "Generating new data for our f = 0.01 values"
   ]
  },
  {
   "cell_type": "code",
   "execution_count": 27,
   "id": "fd6fc5d5",
   "metadata": {},
   "outputs": [
    {
     "data": {
      "image/png": "[encoded data removed]",
      "text/plain": [
       "<Figure size 432x288 with 1 Axes>"
      ]
     },
     "metadata": {
      "needs_background": "light"
     },
     "output_type": "display_data"
    }
   ],
   "source": [
    "# Generate new data with our box_sim_gauss function, f = 0.01\n",
    "pdf_list = box_sim_gauss(10000, tau, V, deltaM, 10, 0.01)\n",
    "\n",
    "# Print histogram of pdf_list and describe the results\n",
    "plt.title(\"Histogram of 100000 generated X->D decays with gaussian error\")\n",
    "plt.xlabel(\"Time (no unit)\")\n",
    "plt.ylabel(\"Density\")\n",
    "plt.hist(pdf_list, bins = 200, density = True)\n",
    "plt.show()\n"
   ]
  },
  {
   "cell_type": "markdown",
   "id": "f26f56d5",
   "metadata": {},
   "source": [
    "Fit using our previous NLL function and minuit"
   ]
  },
  {
   "cell_type": "code",
   "execution_count": 28,
   "id": "a8e65bee",
   "metadata": {},
   "outputs": [],
   "source": [
    "# Create minuit object\n",
    "o = Minuit(nll_decay, tau = 1, V = 0.5, deltaM = 21)\n",
    "# Set errors\n",
    "o.errors = [0.25,0.5,2]\n",
    "# Define for NLL\n",
    "o.errordef = 0.5\n",
    "# Set limits\n",
    "o.limits = [[0,3], [0,2], [10,30]]\n",
    "\n"
   ]
  },
  {
   "cell_type": "code",
   "execution_count": 29,
   "id": "cd137cc3",
   "metadata": {},
   "outputs": [],
   "source": [
    "# Fit and show results\n",
    "result = o.migrad()"
   ]
  },
  {
   "cell_type": "markdown",
   "id": "c1526a4b",
   "metadata": {},
   "source": [
    "Printing results, then comparing with previous results to get the bias."
   ]
  },
  {
   "cell_type": "code",
   "execution_count": 32,
   "id": "83fee5ad",
   "metadata": {},
   "outputs": [
    {
     "name": "stdout",
     "output_type": "stream",
     "text": [
      "Statistical Errors for 100000 events\n",
      "KEY   -   Value Name : Value(Expected statistical precision/error)\n",
      "\n",
      "Lifetime parameter (Tau) : 1.5(0.015)\n",
      "Matter/A-Matter asymm parameter (V) : 0.08504(0.014)\n",
      "Mass difference parameter (deltaM) : 20.07(0.098)\n",
      "\n",
      "Bias produced by the gaussian error:\n",
      "Lifetime parameter bias (Tau) : 0.01488\n",
      "Matter/A-Matter asymm parameter (V) : 0.001136\n",
      "Mass difference parameter (deltaM) : 0.07591\n"
     ]
    }
   ],
   "source": [
    "\n",
    "# {:.2} is significant digits (rounded to two)\n",
    "print(\"Statistical Errors for 100000 events\")\n",
    "print(\"KEY   -   Value Name : Value(Expected statistical precision/error)\\n\")\n",
    "print(\"Lifetime parameter (Tau) : {:.4}({:.2})\".format(o.values[\"tau\"],o.errors[\"tau\"]))\n",
    "print(\"Matter/A-Matter asymm parameter (V) : {:.4}({:.2})\".format(o.values[\"V\"],o.errors[\"V\"]))\n",
    "print(\"Mass difference parameter (deltaM) : {:.4}({:.2})\".format(o.values[\"deltaM\"],o.errors[\"deltaM\"]))\n",
    "print(\"\")\n",
    "print(\"Bias produced by the gaussian error:\")\n",
    "# subtract the initial 10,000 event fit values from these new ones\n",
    "print(\"Lifetime parameter bias (Tau) : {:.4}\".format(abs(o.values[\"tau\"]-m.values[\"tau\"])))\n",
    "print(\"Matter/A-Matter asymm parameter (V) : {:.4}\".format(abs(o.values[\"V\"]-m.values[\"V\"])))\n",
    "print(\"Mass difference parameter (deltaM) : {:.4}\".format(abs(o.values[\"deltaM\"]-m.values[\"deltaM\"])))"
   ]
  },
  {
   "cell_type": "markdown",
   "id": "66db2ce4",
   "metadata": {},
   "source": [
    "So we can see here the bias produced due to the introduction of the gaussian error into our data production, but not our fitting. The bias produced by the gaussian errors in our data production is less than the statistical error from the fitting, but not by a lot. It's within the same factor of all the statistical errors\n",
    "\n",
    "No onto f = 0.03, generating the new data:"
   ]
  },
  {
   "cell_type": "code",
   "execution_count": 39,
   "id": "c92fea52",
   "metadata": {},
   "outputs": [
    {
     "data": {
      "image/png": "[encoded data removed]",
      "text/plain": [
       "<Figure size 432x288 with 1 Axes>"
      ]
     },
     "metadata": {
      "needs_background": "light"
     },
     "output_type": "display_data"
    }
   ],
   "source": [
    "# Generate new data with our box_sim_gauss function, f = 0.03\n",
    "pdf_list = box_sim_gauss(10000, tau, V, deltaM, 10, 0.03)\n",
    "\n",
    "# Print histogram of pdf_list and describe the results\n",
    "plt.title(\"Histogram of 100000 generated X->D decays with gaussian error\")\n",
    "plt.xlabel(\"Time (no unit)\")\n",
    "plt.ylabel(\"Density\")\n",
    "plt.hist(pdf_list, bins = 200, density = True)\n",
    "plt.show()\n"
   ]
  },
  {
   "cell_type": "code",
   "execution_count": 40,
   "id": "5c4d278e",
   "metadata": {},
   "outputs": [],
   "source": [
    "# Create minuit object\n",
    "p = Minuit(nll_decay, tau = 1, V = 0.5, deltaM = 21)\n",
    "# Set errors\n",
    "p.errors = [0.25,0.5,2]\n",
    "# Define for NLL\n",
    "p.errordef = 0.5\n",
    "# Set limits\n",
    "p.limits = [[0,3], [0,2], [10,30]]\n",
    "\n"
   ]
  },
  {
   "cell_type": "code",
   "execution_count": 41,
   "id": "3bd8d231",
   "metadata": {},
   "outputs": [],
   "source": [
    "# Fit and show results\n",
    "result = p.migrad()"
   ]
  },
  {
   "cell_type": "code",
   "execution_count": 42,
   "id": "44d4104c",
   "metadata": {},
   "outputs": [
    {
     "name": "stdout",
     "output_type": "stream",
     "text": [
      "Statistical Errors for 100000 events\n",
      "KEY   -   Value Name : Value(Expected statistical precision/error)\n",
      "\n",
      "Lifetime parameter (Tau) : 1.509(0.016)\n",
      "Matter/A-Matter asymm parameter (V) : 0.03599(0.014)\n",
      "Mass difference parameter (deltaM) : 20.18(0.12)\n",
      "\n",
      "Bias produced by the gaussian error:\n",
      "Lifetime parameter bias (Tau) : 0.005947\n",
      "Matter/A-Matter asymm parameter (V) : 0.06971\n",
      "Mass difference parameter (deltaM) : 0.1849\n"
     ]
    }
   ],
   "source": [
    "\n",
    "# {:.2} is significant digits (rounded to two)\n",
    "print(\"Statistical Errors for 100000 events\")\n",
    "print(\"KEY   -   Value Name : Value(Expected statistical precision/error)\\n\")\n",
    "print(\"Lifetime parameter (Tau) : {:.4}({:.2})\".format(p.values[\"tau\"],p.errors[\"tau\"]))\n",
    "print(\"Matter/A-Matter asymm parameter (V) : {:.4}({:.2})\".format(p.values[\"V\"],p.errors[\"V\"]))\n",
    "print(\"Mass difference parameter (deltaM) : {:.4}({:.2})\".format(p.values[\"deltaM\"],p.errors[\"deltaM\"]))\n",
    "print(\"\")\n",
    "print(\"Bias produced by the gaussian error:\")\n",
    "# subtract the initial 10,000 event fit errors from these new ones\n",
    "print(\"Lifetime parameter bias (Tau) : {:.4}\".format(abs(p.values[\"tau\"]-m.values[\"tau\"])))\n",
    "print(\"Matter/A-Matter asymm parameter (V) : {:.4}\".format(abs(p.errors[\"V\"]-m.values[\"V\"])))\n",
    "print(\"Mass difference parameter (deltaM) : {:.4}\".format(abs(p.values[\"deltaM\"]-m.values[\"deltaM\"])))"
   ]
  },
  {
   "cell_type": "markdown",
   "id": "34d94018",
   "metadata": {},
   "source": [
    "The lifetime parameter bias is insignificant when compared to the statistical error here (0.016 > 0.00597), but for our M/AM and mass difference parameters this is no longer the case. \n",
    "\n",
    "Looking at the graph above, it is clear why this is the case. These parameters are defined by the sinusoidal components in the original function, and the gaussian noise almost wipes them out entirely, making it very difficult for our fitting process to determine their values with great accuracy.\n",
    "\n",
    "So in this case here, we can see that the bias produced by the gaussian error is significant when compared to the statistical precisions of the fit, and are even larger in the cases of the M/AM and mass difference parameters for a fraction of f = 0.03."
   ]
  },
  {
   "cell_type": "code",
   "execution_count": null,
   "id": "28eabdc8",
   "metadata": {},
   "outputs": [],
   "source": []
  },
  {
   "cell_type": "code",
   "execution_count": null,
   "id": "113ac5b1",
   "metadata": {},
   "outputs": [],
   "source": []
  },
  {
   "cell_type": "code",
   "execution_count": null,
   "id": "b3e97cf0",
   "metadata": {},
   "outputs": [],
   "source": []
  },
  {
   "cell_type": "code",
   "execution_count": null,
   "id": "70c75d22",
   "metadata": {},
   "outputs": [],
   "source": []
  },
  {
   "cell_type": "code",
   "execution_count": null,
   "id": "649c2042",
   "metadata": {},
   "outputs": [],
   "source": []
  },
  {
   "cell_type": "code",
   "execution_count": 63,
   "id": "d32f4e40",
   "metadata": {},
   "outputs": [],
   "source": [
    "# Repeat the whole experiment 500 times and calculate the estimate of tau for each\n",
    "# This cell isn't used\n",
    "\n",
    "def iterator(iterations, tau, V, deltaM):\n",
    "        # Tau esimate array\n",
    "    tau_est = []\n",
    "    V_est = []\n",
    "    deltaM_est = []\n",
    "\n",
    "    for i in range(iterations):\n",
    "            # Run simulation\n",
    "        pdf_list = box_sim(1000, tau, V, deltaM, 10)\n",
    "            # Append to list important characteristics from graph\n",
    "        tau_est.append(np.mean(pdf_list))\n",
    "        \n",
    "        if (i%100 == 0):\n",
    "            print(i)\n",
    "    return tau_est\n"
   ]
  },
  {
   "cell_type": "code",
   "execution_count": 67,
   "id": "ce454b4b",
   "metadata": {},
   "outputs": [
    {
     "name": "stdout",
     "output_type": "stream",
     "text": [
      "0\n",
      "100\n",
      "200\n",
      "300\n",
      "400\n"
     ]
    },
    {
     "ename": "KeyboardInterrupt",
     "evalue": "",
     "output_type": "error",
     "traceback": [
      "\u001b[1;31m---------------------------------------------------------------------------\u001b[0m",
      "\u001b[1;31mKeyboardInterrupt\u001b[0m                         Traceback (most recent call last)",
      "\u001b[1;32m~\\AppData\\Local\\Temp/ipykernel_7204/1895280100.py\u001b[0m in \u001b[0;36m<module>\u001b[1;34m\u001b[0m\n\u001b[1;32m----> 1\u001b[1;33m \u001b[0mtau_list\u001b[0m \u001b[1;33m=\u001b[0m \u001b[0miterator\u001b[0m\u001b[1;33m(\u001b[0m\u001b[1;36m10000\u001b[0m\u001b[1;33m,\u001b[0m \u001b[0mtau\u001b[0m\u001b[1;33m,\u001b[0m \u001b[0mV\u001b[0m\u001b[1;33m,\u001b[0m \u001b[0mdeltaM\u001b[0m\u001b[1;33m)\u001b[0m\u001b[1;33m\u001b[0m\u001b[1;33m\u001b[0m\u001b[0m\n\u001b[0m",
      "\u001b[1;32m~\\AppData\\Local\\Temp/ipykernel_7204/3527657753.py\u001b[0m in \u001b[0;36miterator\u001b[1;34m(iterations, tau, V, deltaM)\u001b[0m\n\u001b[0;32m     10\u001b[0m     \u001b[1;32mfor\u001b[0m \u001b[0mi\u001b[0m \u001b[1;32min\u001b[0m \u001b[0mrange\u001b[0m\u001b[1;33m(\u001b[0m\u001b[0miterations\u001b[0m\u001b[1;33m)\u001b[0m\u001b[1;33m:\u001b[0m\u001b[1;33m\u001b[0m\u001b[1;33m\u001b[0m\u001b[0m\n\u001b[0;32m     11\u001b[0m             \u001b[1;31m# Run simulation\u001b[0m\u001b[1;33m\u001b[0m\u001b[1;33m\u001b[0m\u001b[1;33m\u001b[0m\u001b[0m\n\u001b[1;32m---> 12\u001b[1;33m         \u001b[0mpdf_list\u001b[0m \u001b[1;33m=\u001b[0m \u001b[0mbox_sim\u001b[0m\u001b[1;33m(\u001b[0m\u001b[1;36m1000\u001b[0m\u001b[1;33m,\u001b[0m \u001b[0mtau\u001b[0m\u001b[1;33m,\u001b[0m \u001b[0mV\u001b[0m\u001b[1;33m,\u001b[0m \u001b[0mdeltaM\u001b[0m\u001b[1;33m,\u001b[0m \u001b[1;36m10\u001b[0m\u001b[1;33m)\u001b[0m\u001b[1;33m\u001b[0m\u001b[1;33m\u001b[0m\u001b[0m\n\u001b[0m\u001b[0;32m     13\u001b[0m             \u001b[1;31m# Append to list important characteristics from graph\u001b[0m\u001b[1;33m\u001b[0m\u001b[1;33m\u001b[0m\u001b[1;33m\u001b[0m\u001b[0m\n\u001b[0;32m     14\u001b[0m         \u001b[0mtau_est\u001b[0m\u001b[1;33m.\u001b[0m\u001b[0mappend\u001b[0m\u001b[1;33m(\u001b[0m\u001b[0mnp\u001b[0m\u001b[1;33m.\u001b[0m\u001b[0mmean\u001b[0m\u001b[1;33m(\u001b[0m\u001b[0mpdf_list\u001b[0m\u001b[1;33m)\u001b[0m\u001b[1;33m)\u001b[0m\u001b[1;33m\u001b[0m\u001b[1;33m\u001b[0m\u001b[0m\n",
      "\u001b[1;32m~\\AppData\\Local\\Temp/ipykernel_7204/1375029136.py\u001b[0m in \u001b[0;36mbox_sim\u001b[1;34m(runs, tau, V, deltaM, upperlim)\u001b[0m\n\u001b[0;32m     20\u001b[0m \u001b[1;33m\u001b[0m\u001b[0m\n\u001b[0;32m     21\u001b[0m             \u001b[1;31m# Check if y2 < y1. If so, add to list\u001b[0m\u001b[1;33m\u001b[0m\u001b[1;33m\u001b[0m\u001b[1;33m\u001b[0m\u001b[0m\n\u001b[1;32m---> 22\u001b[1;33m         \u001b[1;32mif\u001b[0m \u001b[1;33m(\u001b[0m\u001b[0my2\u001b[0m \u001b[1;33m<\u001b[0m \u001b[0my1\u001b[0m\u001b[1;33m)\u001b[0m\u001b[1;33m:\u001b[0m\u001b[1;33m\u001b[0m\u001b[1;33m\u001b[0m\u001b[0m\n\u001b[0m\u001b[0;32m     23\u001b[0m             \u001b[0mpdf_list\u001b[0m\u001b[1;33m.\u001b[0m\u001b[0mappend\u001b[0m\u001b[1;33m(\u001b[0m\u001b[0mx1\u001b[0m\u001b[1;33m)\u001b[0m\u001b[1;33m\u001b[0m\u001b[1;33m\u001b[0m\u001b[0m\n\u001b[0;32m     24\u001b[0m         \u001b[1;32melse\u001b[0m\u001b[1;33m:\u001b[0m\u001b[1;33m\u001b[0m\u001b[1;33m\u001b[0m\u001b[0m\n",
      "\u001b[1;31mKeyboardInterrupt\u001b[0m: "
     ]
    }
   ],
   "source": [
    "tau_list = iterator(10000, tau, V, deltaM)"
   ]
  },
  {
   "cell_type": "code",
   "execution_count": 66,
   "id": "13d18a26",
   "metadata": {},
   "outputs": [
    {
     "data": {
      "image/png": "[encoded data removed]",
      "text/plain": [
       "<Figure size 432x288 with 1 Axes>"
      ]
     },
     "metadata": {
      "needs_background": "light"
     },
     "output_type": "display_data"
    }
   ],
   "source": [
    "# Plot \n",
    "plt.title(\"Histogram of Tau estimates for 1000 experiments.\")\n",
    "plt.xlabel(\"Microseconds\")\n",
    "plt.ylabel(\"Density\")\n",
    "plt.hist(tau_list, bins = 30, density = True)\n",
    "plt.show()"
   ]
  },
  {
   "cell_type": "code",
   "execution_count": null,
   "id": "c690bd28",
   "metadata": {},
   "outputs": [],
   "source": []
  }
 ],
 "metadata": {
  "kernelspec": {
   "display_name": "Python 3 (ipykernel)",
   "language": "python",
   "name": "python3"
  },
  "language_info": {
   "codemirror_mode": {
    "name": "ipython",
    "version": 3
   },
   "file_extension": ".py",
   "mimetype": "text/x-python",
   "name": "python",
   "nbconvert_exporter": "python",
   "pygments_lexer": "ipython3",
   "version": "3.7.11"
  }
 },
 "nbformat": 4,
 "nbformat_minor": 5
}
